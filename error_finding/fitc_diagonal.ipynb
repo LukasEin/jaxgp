{
 "cells": [
  {
   "cell_type": "code",
   "execution_count": 2,
   "metadata": {},
   "outputs": [],
   "source": [
    "import jax.numpy as jnp\n",
    "import jax.scipy as jsp\n",
    "from jax import random\n",
    "import jax\n",
    "\n",
    "from typing import NamedTuple\n",
    "\n",
    "from jaxgp.covar import sparse_covariance_matrix, SparseCovar\n",
    "from jaxgp.kernels import RBF\n",
    "from jaxgp.utils import *"
   ]
  },
  {
   "cell_type": "code",
   "execution_count": 3,
   "metadata": {},
   "outputs": [
    {
     "name": "stderr",
     "output_type": "stream",
     "text": [
      "WARNING:jax._src.lib.xla_bridge:No GPU/TPU found, falling back to CPU. (Set TF_CPP_MIN_LOG_LEVEL=0 and rerun for more info.)\n"
     ]
    }
   ],
   "source": [
    "def fun(x, noise=0.0, key = random.PRNGKey(0)):\n",
    "    return (x[:,0]**2 + x[:,1] - 11)**2 / 800.0 + (x[:,0] + x[:,1]**2 -7)**2 / 800.0 + random.normal(key,(len(x),), dtype=jnp.float32)*noise\n",
    "\n",
    "def grad(x, noise=0.0, key = random.PRNGKey(0)):\n",
    "    dx1 = 4 * (x[:,0]**2 + x[:,1] - 11) * x[:,0] + 2 * (x[:,0] + x[:,1]**2 -7)\n",
    "    dx2 = 2 * (x[:,0]**2 + x[:,1] - 11) + 4 * (x[:,0] + x[:,1]**2 -7) * x[:,1]\n",
    "\n",
    "    return jnp.vstack((dx1, dx2)).T / 800.0 + random.normal(key,x.shape, dtype=jnp.float32)*noise"
   ]
  },
  {
   "cell_type": "code",
   "execution_count": 4,
   "metadata": {},
   "outputs": [],
   "source": [
    "class SparseCovar(NamedTuple):\n",
    "    k_nn: jnp.ndarray\n",
    "    k_mn: jnp.ndarray\n",
    "    k_ref: jnp.ndarray\n",
    "    diag: jnp.ndarray\n",
    "\n",
    "def comparison(X_split, X_ref, noise, kernel, params) -> SparseCovar:\n",
    "    KF = CovMatrixFF(X_split[0], X_split[0], kernel, params)\n",
    "    KD = CovMatrixFD(X_split[0], X_split[1], kernel, params)\n",
    "    KDD = CovMatrixDD(X_split[1], X_split[1], kernel, params)\n",
    "\n",
    "    K_NN = jnp.vstack((jnp.hstack((KF,KD)), \n",
    "                       jnp.hstack((KD.T,KDD))))\n",
    "    # calculates the covariance between the training points and the reference points\n",
    "    KF = CovMatrixFF(X_ref, X_split[0], kernel, params)\n",
    "    KD = CovMatrixFD(X_ref, X_split[1], kernel, params)\n",
    "    \n",
    "    K_MN = jnp.hstack((KF,KD))\n",
    "    \n",
    "    # calculates the covariance between each pair of reference points\n",
    "    K_ref = CovMatrixFF(X_ref, X_ref, kernel, params)\n",
    "    diag = jnp.diag_indices(len(K_ref))\n",
    "\n",
    "    # added small positive diagonal to make the matrix positive definite\n",
    "    K_ref = K_ref.at[diag].add(1e-4)\n",
    "    K_ref, _ = jsp.linalg.cho_factor(K_ref)\n",
    "\n",
    "    # FITC\n",
    "    # ---------------------------------------------------------------------------\n",
    "    func = jax.vmap(lambda v: kernel.eval(v, v, params), in_axes=(0))(X_split[0])\n",
    "    der = jnp.ravel(jax.vmap(lambda v: jnp.diag(kernel.jac(v, v, params)), in_axes=(0))(X_split[1]))\n",
    "    full_diag = jnp.hstack((func, der))\n",
    "    sparse_diag = jax.vmap(lambda A, x: x.T@jsp.linalg.cho_solve((A, False),x), in_axes=(None, 0))(K_ref, K_MN.T)    \n",
    "    fitc_diag = (full_diag - sparse_diag) + noise**2\n",
    "\n",
    "    return SparseCovar(K_NN, K_MN, K_ref, fitc_diag)"
   ]
  },
  {
   "cell_type": "code",
   "execution_count": 5,
   "metadata": {},
   "outputs": [],
   "source": [
    "# Interval bounds from which to choose the data points\n",
    "bounds = jnp.array([-5.0, 5.0])\n",
    "\n",
    "# How many function and derivative observations should be chosen\n",
    "num_f_vals = 1\n",
    "num_d_vals = 1000\n",
    "\n",
    "# initial seed for the pseudo random key generation\n",
    "seed = 0\n",
    "\n",
    "# create new keys and randomly sample the above interval for training features\n",
    "key, subkey = random.split(random.PRNGKey(seed))\n",
    "x_func = random.uniform(subkey, (num_f_vals, 2), minval=bounds[0], maxval=bounds[1])\n",
    "key, subkey = random.split(key)\n",
    "x_der = random.uniform(subkey, (num_d_vals,2), minval=bounds[0], maxval=bounds[1])\n",
    "\n",
    "# noise with which to sample the training labels\n",
    "noise = 0.02\n",
    "key, subkey = random.split(key)\n",
    "y_func = fun(x_func,noise, subkey)\n",
    "key, subkey = random.split(key)\n",
    "y_der = grad(x_der, noise, subkey)\n",
    "\n",
    "num_ref_points = (num_d_vals + num_f_vals) // 10\n",
    "key, subkey = random.split(key)\n",
    "X_ref_rand = random.permutation(subkey, jnp.vstack((x_der,x_func)))[:num_ref_points]\n",
    "# this grid has fewer points. It has N points, where N is the largest perfect square smaller than num_ref_points\n",
    "X_ref_even = jnp.array(jnp.meshgrid(jnp.linspace(*bounds, round(jnp.sqrt(num_ref_points))),jnp.linspace(*bounds, round(jnp.sqrt(num_ref_points))))).reshape(2,-1).T\n",
    "\n",
    "X_split = [x_func,x_der]\n",
    "Y_train = jnp.hstack((y_func, y_der.reshape(-1)))\n",
    "\n",
    "kernel = RBF()\n",
    "# an RBF kernel has per default 2 parameters\n",
    "init_kernel_params = jnp.ones(2)*jnp.log(2)"
   ]
  },
  {
   "cell_type": "code",
   "execution_count": 6,
   "metadata": {},
   "outputs": [],
   "source": [
    "# X_ref = X_ref_rand\n",
    "X_ref = X_ref_even\n",
    "\n",
    "covar_module = sparse_covariance_matrix(X_split, Y_train, X_ref, noise, kernel, init_kernel_params)\n",
    "compare_module = comparison(X_split, X_ref, noise, kernel, init_kernel_params)"
   ]
  },
  {
   "cell_type": "code",
   "execution_count": 7,
   "metadata": {},
   "outputs": [],
   "source": [
    "fitc_diag = covar_module.diag\n",
    "\n",
    "approx = compare_module.k_mn.T@jsp.linalg.cho_solve((compare_module.k_ref, False), compare_module.k_mn)\n",
    "full = compare_module.k_nn\n",
    "\n",
    "diag = jnp.diag(full - approx) + noise**2"
   ]
  },
  {
   "cell_type": "code",
   "execution_count": 8,
   "metadata": {},
   "outputs": [
    {
     "name": "stdout",
     "output_type": "stream",
     "text": [
      "Checking if diagonal is correct:\n",
      "True\n",
      "1.1920929e-07\n"
     ]
    }
   ],
   "source": [
    "print(\"Checking if diagonal is correct:\")\n",
    "print(jnp.allclose(fitc_diag, diag))\n",
    "print(jnp.max(jnp.abs(diag-fitc_diag)))"
   ]
  }
 ],
 "metadata": {
  "kernelspec": {
   "display_name": "gpr",
   "language": "python",
   "name": "python3"
  },
  "language_info": {
   "codemirror_mode": {
    "name": "ipython",
    "version": 3
   },
   "file_extension": ".py",
   "mimetype": "text/x-python",
   "name": "python",
   "nbconvert_exporter": "python",
   "pygments_lexer": "ipython3",
   "version": "3.9.16"
  },
  "orig_nbformat": 4
 },
 "nbformat": 4,
 "nbformat_minor": 2
}
