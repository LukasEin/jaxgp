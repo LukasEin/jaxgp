{
 "cells": [
  {
   "cell_type": "code",
   "execution_count": 1,
   "metadata": {},
   "outputs": [],
   "source": [
    "import jax.numpy as jnp\n",
    "import jax.scipy as jsp\n",
    "from jax import random\n",
    "import jax\n",
    "\n",
    "from jaxgp.covar import sparse_covariance_matrix\n",
    "from jaxgp.utils import *\n",
    "from jaxgp.kernels import RBF"
   ]
  },
  {
   "cell_type": "code",
   "execution_count": 2,
   "metadata": {},
   "outputs": [
    {
     "name": "stderr",
     "output_type": "stream",
     "text": [
      "WARNING:jax._src.lib.xla_bridge:No GPU/TPU found, falling back to CPU. (Set TF_CPP_MIN_LOG_LEVEL=0 and rerun for more info.)\n"
     ]
    }
   ],
   "source": [
    "def fun(x, noise=0.0, key = random.PRNGKey(0)):\n",
    "    return (x[:,0]**2 + x[:,1] - 11)**2 / 800.0 + (x[:,0] + x[:,1]**2 -7)**2 / 800.0 + random.normal(key,(len(x),), dtype=jnp.float32)*noise\n",
    "\n",
    "def grad(x, noise=0.0, key = random.PRNGKey(0)):\n",
    "    dx1 = 4 * (x[:,0]**2 + x[:,1] - 11) * x[:,0] + 2 * (x[:,0] + x[:,1]**2 -7)\n",
    "    dx2 = 2 * (x[:,0]**2 + x[:,1] - 11) + 4 * (x[:,0] + x[:,1]**2 -7) * x[:,1]\n",
    "\n",
    "    return jnp.vstack((dx1, dx2)).T / 800.0 + random.normal(key,x.shape, dtype=jnp.float32)*noise"
   ]
  },
  {
   "cell_type": "code",
   "execution_count": 3,
   "metadata": {},
   "outputs": [],
   "source": [
    "def sparse_kernelNegativeLogLikelyhood(kernel_params, X_split, Y_data, X_ref, noise, kernel) -> float:\n",
    "    '''Negative log Likelyhood for sparse GPR (PPA). Y_data ~ N(0,[id*s**2 + K_MN.T@K_MM**(-1)@K_MN]) which is the same as for Nystrom approximation.\n",
    "    kernel_params are the first arguments in order to minimize this function w.r.t. those variables.\n",
    "\n",
    "    Parameters\n",
    "    ----------\n",
    "    kernel_params : ndarray\n",
    "        kernel parameters. Function can be optimized w.r.t to these parameters\n",
    "    X_split : list[ndarray]\n",
    "        List of ndarrays: [function_evals(n_samples_f, n_features), dx1_evals(n_samples_dx1, n_features), ..., dxn_featrues_evals(n_samples_dxn_features, n_features)]\n",
    "    Y_data : ndarray\n",
    "        ndarray of shape (n_samples,) s.t. n_samples = sum(n_samples_i) in X_split. Corresponding labels to the samples in X_split\n",
    "    X_ref : ndarray\n",
    "        ndarray of shape (n_referencepoints, n_features). Reference points onto which the whole input dataset is projected.\n",
    "    noise : Union[ndarray, float]\n",
    "        either scalar or ndarray of shape (len(X_split),). If scalar, the same value is added along the diagonal. \n",
    "        Else each value is added to the corresponding diagonal block coming from X_split\n",
    "        ndarray is not supported yet!!!\n",
    "    kernel : derived class from BaseKernel\n",
    "        Kernel that describes the covariance between input points.\n",
    "\n",
    "    Returns\n",
    "    -------\n",
    "    float\n",
    "        Negative Log Likelyhood estimate for PPA\n",
    "    '''\n",
    "    covar_module = sparse_covariance_matrix(X_split, Y_data, X_ref, noise, kernel, kernel_params)\n",
    "\n",
    "    # Logdet calculations\n",
    "    K_ref_diag = jnp.diag(covar_module.k_ref)\n",
    "    logdet_K_ref = 2*jnp.sum(jnp.log(K_ref_diag))\n",
    "    K_inv_diag = jnp.diag(covar_module.k_inv)\n",
    "    logdet_K_inv = 2*jnp.sum(jnp.log(K_inv_diag))\n",
    "    logdet_fitc = jnp.sum(jnp.log(covar_module.diag))\n",
    "\n",
    "    # Fit calculation\n",
    "    fit_1 = Y_data@(Y_data / covar_module.diag)\n",
    "    fit_2 = covar_module.proj_labs@jsp.linalg.cho_solve((covar_module.k_inv, False), covar_module.proj_labs)\n",
    "    fit = fit_1 - fit_2\n",
    "\n",
    "    nlle = 0.5*(logdet_fitc + logdet_K_inv + logdet_K_ref + fit + len(Y_data)*jnp.log(2*jnp.pi))\n",
    "    \n",
    "    return logdet_fitc, logdet_K_ref, logdet_K_inv, fit_1, fit_2, covar_module"
   ]
  },
  {
   "cell_type": "code",
   "execution_count": 4,
   "metadata": {},
   "outputs": [],
   "source": [
    "# Interval bounds from which to choose the data points\n",
    "bounds = jnp.array([-5.0, 5.0])\n",
    "\n",
    "# How many function and derivative observations should be chosen\n",
    "num_f_vals = 1\n",
    "num_d_vals = 1000\n",
    "\n",
    "# initial seed for the pseudo random key generation\n",
    "seed = 0\n",
    "\n",
    "# create new keys and randomly sample the above interval for training features\n",
    "key, subkey = random.split(random.PRNGKey(seed))\n",
    "x_func = random.uniform(subkey, (num_f_vals, 2), minval=bounds[0], maxval=bounds[1])\n",
    "key, subkey = random.split(key)\n",
    "x_der = random.uniform(subkey, (num_d_vals,2), minval=bounds[0], maxval=bounds[1])\n",
    "\n",
    "# noise with which to sample the training labels\n",
    "noise = 0.02\n",
    "key, subkey = random.split(key)\n",
    "y_func = fun(x_func,noise, subkey)\n",
    "key, subkey = random.split(key)\n",
    "y_der = grad(x_der, noise, subkey)\n",
    "\n",
    "num_ref_points = (num_d_vals + num_f_vals) // 10\n",
    "key, subkey = random.split(key)\n",
    "X_ref_rand = random.permutation(subkey, jnp.vstack((x_der,x_func)))[:num_ref_points]\n",
    "# this grid has fewer points. It has N points, where N is the largest perfect square smaller than num_ref_points\n",
    "X_ref_even = jnp.array(jnp.meshgrid(jnp.linspace(*bounds, round(jnp.sqrt(num_ref_points))),jnp.linspace(*bounds, round(jnp.sqrt(num_ref_points))))).reshape(2,-1).T\n",
    "\n",
    "X_split = [x_func,x_der]\n",
    "Y_train = jnp.hstack((y_func, y_der.reshape(-1)))\n",
    "\n",
    "kernel = RBF()\n",
    "# an RBF kernel has per default 2 parameters\n",
    "# init_kernel_params = jnp.ones(2)*jnp.log(2)\n",
    "init_kernel_params = jnp.array([1.0, 1.0])"
   ]
  },
  {
   "cell_type": "code",
   "execution_count": 5,
   "metadata": {},
   "outputs": [],
   "source": [
    "# X_ref = X_ref_rand\n",
    "X_ref = X_ref_even\n",
    "\n",
    "lml = lambda x: jax.jit(sparse_kernelNegativeLogLikelyhood)(x, X_split, Y_train, X_ref, noise, kernel)"
   ]
  },
  {
   "cell_type": "code",
   "execution_count": 6,
   "metadata": {},
   "outputs": [
    {
     "ename": "AttributeError",
     "evalue": "'SparseCovar' object has no attribute 'k_ref'",
     "output_type": "error",
     "traceback": [
      "\u001b[0;31m---------------------------------------------------------------------------\u001b[0m",
      "\u001b[0;31mAttributeError\u001b[0m                            Traceback (most recent call last)",
      "Cell \u001b[0;32mIn[6], line 4\u001b[0m\n\u001b[1;32m      1\u001b[0m ls \u001b[39m=\u001b[39m jnp\u001b[39m.\u001b[39mlinspace(\u001b[39m0.95\u001b[39m, \u001b[39m0.96\u001b[39m, \u001b[39m100\u001b[39m)\n\u001b[1;32m      3\u001b[0m \u001b[39mfor\u001b[39;00m scale \u001b[39min\u001b[39;00m ls:\n\u001b[0;32m----> 4\u001b[0m     \u001b[39mprint\u001b[39m(\u001b[39mf\u001b[39m\u001b[39m\"\u001b[39m\u001b[39mls=\u001b[39m\u001b[39m{\u001b[39;00mscale\u001b[39m:\u001b[39;00m\u001b[39m.3f\u001b[39m\u001b[39m}\u001b[39;00m\u001b[39m -> lml=\u001b[39m\u001b[39m{\u001b[39;00mlml(jnp\u001b[39m.\u001b[39marray([\u001b[39m1.0\u001b[39m, scale]))[\u001b[39m-\u001b[39m\u001b[39m2\u001b[39m]\u001b[39m:\u001b[39;00m\u001b[39m.03f\u001b[39m\u001b[39m}\u001b[39;00m\u001b[39m\"\u001b[39m)\n",
      "Cell \u001b[0;32mIn[5], line 4\u001b[0m, in \u001b[0;36m<lambda>\u001b[0;34m(x)\u001b[0m\n\u001b[1;32m      1\u001b[0m \u001b[39m# X_ref = X_ref_rand\u001b[39;00m\n\u001b[1;32m      2\u001b[0m X_ref \u001b[39m=\u001b[39m X_ref_even\n\u001b[0;32m----> 4\u001b[0m lml \u001b[39m=\u001b[39m \u001b[39mlambda\u001b[39;00m x: jax\u001b[39m.\u001b[39;49mjit(sparse_kernelNegativeLogLikelyhood)(x, X_split, Y_train, X_ref, noise, kernel)\n",
      "    \u001b[0;31m[... skipping hidden 11 frame]\u001b[0m\n",
      "Cell \u001b[0;32mIn[3], line 30\u001b[0m, in \u001b[0;36msparse_kernelNegativeLogLikelyhood\u001b[0;34m(kernel_params, X_split, Y_data, X_ref, noise, kernel)\u001b[0m\n\u001b[1;32m     27\u001b[0m covar_module \u001b[39m=\u001b[39m sparse_covariance_matrix(X_split, Y_data, X_ref, noise, kernel, kernel_params)\n\u001b[1;32m     29\u001b[0m \u001b[39m# Logdet calculations\u001b[39;00m\n\u001b[0;32m---> 30\u001b[0m K_ref_diag \u001b[39m=\u001b[39m jnp\u001b[39m.\u001b[39mdiag(covar_module\u001b[39m.\u001b[39;49mk_ref)\n\u001b[1;32m     31\u001b[0m logdet_K_ref \u001b[39m=\u001b[39m \u001b[39m2\u001b[39m\u001b[39m*\u001b[39mjnp\u001b[39m.\u001b[39msum(jnp\u001b[39m.\u001b[39mlog(K_ref_diag))\n\u001b[1;32m     32\u001b[0m K_inv_diag \u001b[39m=\u001b[39m jnp\u001b[39m.\u001b[39mdiag(covar_module\u001b[39m.\u001b[39mk_inv)\n",
      "\u001b[0;31mAttributeError\u001b[0m: 'SparseCovar' object has no attribute 'k_ref'"
     ]
    }
   ],
   "source": [
    "ls = jnp.linspace(0.95, 0.96, 100)\n",
    "\n",
    "for scale in ls:\n",
    "    print(f\"ls={scale:.3f} -> lml={lml(jnp.array([1.0, scale]))[-2]:.03f}\")"
   ]
  },
  {
   "cell_type": "code",
   "execution_count": null,
   "metadata": {},
   "outputs": [],
   "source": [
    "res = lml(init_kernel_params)"
   ]
  },
  {
   "cell_type": "code",
   "execution_count": null,
   "metadata": {},
   "outputs": [],
   "source": [
    "covar = res[-1]"
   ]
  },
  {
   "cell_type": "code",
   "execution_count": null,
   "metadata": {},
   "outputs": [],
   "source": [
    "for elem in covar:\n",
    "    print(jnp.mean(jnp.isnan(elem)))"
   ]
  },
  {
   "cell_type": "code",
   "execution_count": null,
   "metadata": {},
   "outputs": [],
   "source": []
  }
 ],
 "metadata": {
  "kernelspec": {
   "display_name": "gpr",
   "language": "python",
   "name": "python3"
  },
  "language_info": {
   "codemirror_mode": {
    "name": "ipython",
    "version": 3
   },
   "file_extension": ".py",
   "mimetype": "text/x-python",
   "name": "python",
   "nbconvert_exporter": "python",
   "pygments_lexer": "ipython3",
   "version": "3.9.16"
  },
  "orig_nbformat": 4
 },
 "nbformat": 4,
 "nbformat_minor": 2
}
