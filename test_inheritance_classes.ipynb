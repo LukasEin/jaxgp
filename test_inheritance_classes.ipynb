{
 "cells": [
  {
   "cell_type": "code",
   "execution_count": 28,
   "metadata": {},
   "outputs": [],
   "source": [
    "from jax import grad\n",
    "import jax.numpy as jnp"
   ]
  },
  {
   "cell_type": "code",
   "execution_count": 29,
   "metadata": {},
   "outputs": [],
   "source": [
    "x = jnp.arange(100).reshape(50,2)\n",
    "splits_1 = (5, 13, 27, 33, 47)\n",
    "splits_2 = jnp.array((5, 8, 14, 6, 14, 3))\n",
    "\n",
    "sum_splits = [jnp.sum(splits_2[:i+1]) for i,_ in enumerate(splits_2[1:])]"
   ]
  },
  {
   "cell_type": "code",
   "execution_count": 30,
   "metadata": {},
   "outputs": [
    {
     "name": "stdout",
     "output_type": "stream",
     "text": [
      "[DeviceArray([[0, 1],\n",
      "             [2, 3],\n",
      "             [4, 5],\n",
      "             [6, 7],\n",
      "             [8, 9]], dtype=int32), DeviceArray([[10, 11],\n",
      "             [12, 13],\n",
      "             [14, 15],\n",
      "             [16, 17],\n",
      "             [18, 19],\n",
      "             [20, 21],\n",
      "             [22, 23],\n",
      "             [24, 25]], dtype=int32), DeviceArray([[26, 27],\n",
      "             [28, 29],\n",
      "             [30, 31],\n",
      "             [32, 33],\n",
      "             [34, 35],\n",
      "             [36, 37],\n",
      "             [38, 39],\n",
      "             [40, 41],\n",
      "             [42, 43],\n",
      "             [44, 45],\n",
      "             [46, 47],\n",
      "             [48, 49],\n",
      "             [50, 51],\n",
      "             [52, 53]], dtype=int32), DeviceArray([[54, 55],\n",
      "             [56, 57],\n",
      "             [58, 59],\n",
      "             [60, 61],\n",
      "             [62, 63],\n",
      "             [64, 65]], dtype=int32), DeviceArray([[66, 67],\n",
      "             [68, 69],\n",
      "             [70, 71],\n",
      "             [72, 73],\n",
      "             [74, 75],\n",
      "             [76, 77],\n",
      "             [78, 79],\n",
      "             [80, 81],\n",
      "             [82, 83],\n",
      "             [84, 85],\n",
      "             [86, 87],\n",
      "             [88, 89],\n",
      "             [90, 91],\n",
      "             [92, 93]], dtype=int32), DeviceArray([[94, 95],\n",
      "             [96, 97],\n",
      "             [98, 99]], dtype=int32)]\n",
      "[DeviceArray([[0, 1],\n",
      "             [2, 3],\n",
      "             [4, 5],\n",
      "             [6, 7],\n",
      "             [8, 9]], dtype=int32), DeviceArray([[10, 11],\n",
      "             [12, 13],\n",
      "             [14, 15],\n",
      "             [16, 17],\n",
      "             [18, 19],\n",
      "             [20, 21],\n",
      "             [22, 23],\n",
      "             [24, 25]], dtype=int32), DeviceArray([[26, 27],\n",
      "             [28, 29],\n",
      "             [30, 31],\n",
      "             [32, 33],\n",
      "             [34, 35],\n",
      "             [36, 37],\n",
      "             [38, 39],\n",
      "             [40, 41],\n",
      "             [42, 43],\n",
      "             [44, 45],\n",
      "             [46, 47],\n",
      "             [48, 49],\n",
      "             [50, 51],\n",
      "             [52, 53]], dtype=int32), DeviceArray([[54, 55],\n",
      "             [56, 57],\n",
      "             [58, 59],\n",
      "             [60, 61],\n",
      "             [62, 63],\n",
      "             [64, 65]], dtype=int32), DeviceArray([[66, 67],\n",
      "             [68, 69],\n",
      "             [70, 71],\n",
      "             [72, 73],\n",
      "             [74, 75],\n",
      "             [76, 77],\n",
      "             [78, 79],\n",
      "             [80, 81],\n",
      "             [82, 83],\n",
      "             [84, 85],\n",
      "             [86, 87],\n",
      "             [88, 89],\n",
      "             [90, 91],\n",
      "             [92, 93]], dtype=int32), DeviceArray([[94, 95],\n",
      "             [96, 97],\n",
      "             [98, 99]], dtype=int32)]\n"
     ]
    }
   ],
   "source": [
    "print(jnp.split(x,splits_1))\n",
    "print(jnp.split(x,sum_splits))"
   ]
  },
  {
   "cell_type": "code",
   "execution_count": null,
   "metadata": {},
   "outputs": [],
   "source": []
  }
 ],
 "metadata": {
  "kernelspec": {
   "display_name": "gpr",
   "language": "python",
   "name": "python3"
  },
  "language_info": {
   "codemirror_mode": {
    "name": "ipython",
    "version": 3
   },
   "file_extension": ".py",
   "mimetype": "text/x-python",
   "name": "python",
   "nbconvert_exporter": "python",
   "pygments_lexer": "ipython3",
   "version": "3.9.16"
  },
  "orig_nbformat": 4
 },
 "nbformat": 4,
 "nbformat_minor": 2
}
