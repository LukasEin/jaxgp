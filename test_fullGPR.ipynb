{
 "cells": [
  {
   "cell_type": "code",
   "execution_count": 3,
   "metadata": {},
   "outputs": [],
   "source": [
    "from gaussian_process.regression import ExactGPR\n",
    "from gaussian_process.kernels import RBF\n",
    "import jax.numpy as jnp\n",
    "import jax\n",
    "import matplotlib.pyplot as plt"
   ]
  },
  {
   "cell_type": "code",
   "execution_count": 4,
   "metadata": {},
   "outputs": [],
   "source": [
    "# model = GaussianProcessRegressor(RBF(),1,(1,))"
   ]
  },
  {
   "cell_type": "code",
   "execution_count": 5,
   "metadata": {},
   "outputs": [],
   "source": [
    "# X_data = jnp.ones((2,2))\n",
    "# Y_data = jnp.ones((2,2))\n",
    "\n",
    "# model.fit(X_data,Y_data)"
   ]
  },
  {
   "cell_type": "code",
   "execution_count": 6,
   "metadata": {},
   "outputs": [],
   "source": [
    "# X = jnp.zeros((1,2))\n",
    "# model.predict(X,True)"
   ]
  },
  {
   "cell_type": "code",
   "execution_count": 7,
   "metadata": {},
   "outputs": [],
   "source": [
    "# a = jnp.arange(10,dtype=jnp.float32) // 3\n",
    "# a = a.astype(jnp.int32)"
   ]
  },
  {
   "cell_type": "code",
   "execution_count": 8,
   "metadata": {},
   "outputs": [],
   "source": [
    "# a.dtype"
   ]
  },
  {
   "cell_type": "code",
   "execution_count": 9,
   "metadata": {},
   "outputs": [],
   "source": [
    "from jax import vmap\n",
    "from functools import partial\n",
    "from gaussian_process.kernels import RBF\n",
    "from jax.scipy.linalg import solve"
   ]
  },
  {
   "cell_type": "code",
   "execution_count": 10,
   "metadata": {},
   "outputs": [],
   "source": [
    "X = jnp.arange(5,dtype=jnp.float32).reshape(-1,1)\n",
    "Y = jnp.arange(5,dtype=jnp.float32).reshape(-1,1)"
   ]
  },
  {
   "cell_type": "code",
   "execution_count": 11,
   "metadata": {},
   "outputs": [],
   "source": [
    "class Test:\n",
    "    def __init__(self) -> None:\n",
    "        self.kernel = RBF()\n",
    "\n",
    "    @partial(vmap, in_axes=(None,0,None,None))\n",
    "    @partial(vmap, in_axes=(None,None,0,None))\n",
    "    def f(self,x,y,index):\n",
    "        return self.kernel.eval_dx2(x,y,index)"
   ]
  },
  {
   "cell_type": "code",
   "execution_count": 12,
   "metadata": {},
   "outputs": [
    {
     "name": "stdout",
     "output_type": "stream",
     "text": [
      "[[ 0.         -0.60653067 -0.27067056 -0.03332699 -0.00134185]\n",
      " [ 0.60653067  0.         -0.60653067 -0.27067056 -0.03332699]\n",
      " [ 0.27067056  0.60653067  0.         -0.60653067 -0.27067056]\n",
      " [ 0.03332699  0.27067056  0.60653067  0.         -0.60653067]\n",
      " [ 0.00134185  0.03332699  0.27067056  0.60653067  0.        ]]\n"
     ]
    }
   ],
   "source": [
    "T = Test()\n",
    "print(T.f(X,X,0))"
   ]
  },
  {
   "cell_type": "code",
   "execution_count": 13,
   "metadata": {},
   "outputs": [],
   "source": [
    "x = jnp.arange(20).reshape(4,5)\n",
    "A = jnp.eye(5)*2"
   ]
  },
  {
   "cell_type": "code",
   "execution_count": 14,
   "metadata": {},
   "outputs": [],
   "source": [
    "@partial(vmap, in_axes=(None,0))\n",
    "def f(A,x):\n",
    "    # A = jnp.eye(5)*2\n",
    "    return x@solve(A,x)"
   ]
  },
  {
   "cell_type": "code",
   "execution_count": 15,
   "metadata": {},
   "outputs": [
    {
     "name": "stdout",
     "output_type": "stream",
     "text": [
      "[ 15.  127.5 365.  727.5]\n"
     ]
    }
   ],
   "source": [
    "print(f(A,x))"
   ]
  },
  {
   "cell_type": "code",
   "execution_count": 16,
   "metadata": {},
   "outputs": [
    {
     "name": "stdout",
     "output_type": "stream",
     "text": [
      "[[ 0  1  2  3  4]\n",
      " [ 5  6  7  8  9]\n",
      " [10 11 12 13 14]\n",
      " [15 16 17 18 19]]\n"
     ]
    }
   ],
   "source": [
    "print(x)"
   ]
  },
  {
   "cell_type": "code",
   "execution_count": 17,
   "metadata": {},
   "outputs": [],
   "source": [
    "test = []\n",
    "for elem in x:\n",
    "    test.append(jnp.sum(elem**2))\n",
    "test = jnp.array(test)"
   ]
  },
  {
   "cell_type": "code",
   "execution_count": 18,
   "metadata": {},
   "outputs": [
    {
     "name": "stdout",
     "output_type": "stream",
     "text": [
      "[ 15.  127.5 365.  727.5]\n"
     ]
    }
   ],
   "source": [
    "print(test/2)"
   ]
  },
  {
   "cell_type": "code",
   "execution_count": 29,
   "metadata": {},
   "outputs": [
    {
     "data": {
      "text/plain": [
       "[<matplotlib.lines.Line2D at 0x7fc788137b80>]"
      ]
     },
     "execution_count": 29,
     "metadata": {},
     "output_type": "execute_result"
    },
    {
     "data": {
      "image/png": "[encoded data removed]",
      "text/plain": [
       "<Figure size 640x480 with 1 Axes>"
      ]
     },
     "metadata": {},
     "output_type": "display_data"
    }
   ],
   "source": [
    "X = jnp.linspace(-1,1,101)\n",
    "Y = X**4 - 0.8*X**2 + 0.1*X\n",
    "\n",
    "plt.plot(X,Y)"
   ]
  },
  {
   "cell_type": "code",
   "execution_count": null,
   "metadata": {},
   "outputs": [],
   "source": []
  }
 ],
 "metadata": {
  "kernelspec": {
   "display_name": "gpr",
   "language": "python",
   "name": "python3"
  },
  "language_info": {
   "codemirror_mode": {
    "name": "ipython",
    "version": 3
   },
   "file_extension": ".py",
   "mimetype": "text/x-python",
   "name": "python",
   "nbconvert_exporter": "python",
   "pygments_lexer": "ipython3",
   "version": "3.9.16"
  },
  "orig_nbformat": 4
 },
 "nbformat": 4,
 "nbformat_minor": 2
}
