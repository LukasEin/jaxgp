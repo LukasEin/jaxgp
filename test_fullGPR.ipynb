{
 "cells": [
  {
   "cell_type": "code",
   "execution_count": 1,
   "metadata": {},
   "outputs": [
    {
     "name": "stderr",
     "output_type": "stream",
     "text": [
      "WARNING:jax._src.lib.xla_bridge:No GPU/TPU found, falling back to CPU. (Set TF_CPP_MIN_LOG_LEVEL=0 and rerun for more info.)\n"
     ]
    }
   ],
   "source": [
    "from gaussian_process.regression import GaussianProcessRegressor\n",
    "from gaussian_process.kernels import RBF\n",
    "import jax.numpy as jnp\n",
    "import jax\n",
    "import matplotlib.pyplot as plt"
   ]
  },
  {
   "cell_type": "code",
   "execution_count": 2,
   "metadata": {},
   "outputs": [],
   "source": [
    "# model = GaussianProcessRegressor(RBF(),1,(1,))"
   ]
  },
  {
   "cell_type": "code",
   "execution_count": 3,
   "metadata": {},
   "outputs": [],
   "source": [
    "# X_data = jnp.ones((2,2))\n",
    "# Y_data = jnp.ones((2,2))\n",
    "\n",
    "# model.fit(X_data,Y_data)"
   ]
  },
  {
   "cell_type": "code",
   "execution_count": 4,
   "metadata": {},
   "outputs": [],
   "source": [
    "# X = jnp.zeros((1,2))\n",
    "# model.predict(X,True)"
   ]
  },
  {
   "cell_type": "code",
   "execution_count": 5,
   "metadata": {},
   "outputs": [],
   "source": [
    "# a = jnp.arange(10,dtype=jnp.float32) // 3\n",
    "# a = a.astype(jnp.int32)"
   ]
  },
  {
   "cell_type": "code",
   "execution_count": 6,
   "metadata": {},
   "outputs": [],
   "source": [
    "# a.dtype"
   ]
  },
  {
   "cell_type": "code",
   "execution_count": 7,
   "metadata": {},
   "outputs": [],
   "source": [
    "from jax import vmap\n",
    "from functools import partial\n",
    "@partial(vmap, in_axes=(0,None))\n",
    "@partial(vmap, in_axes=(None,0))\n",
    "def f(x,y):\n",
    "    return jnp.dot(x-y,x-y)"
   ]
  },
  {
   "cell_type": "code",
   "execution_count": 8,
   "metadata": {},
   "outputs": [
    {
     "name": "stdout",
     "output_type": "stream",
     "text": [
      "[[0.]\n",
      " [1.]\n",
      " [2.]\n",
      " [3.]\n",
      " [4.]]\n",
      "[[0.]\n",
      " [1.]\n",
      " [2.]\n",
      " [3.]\n",
      " [4.]]\n",
      "[[ 0.  1.  4.  9. 16.]\n",
      " [ 1.  0.  1.  4.  9.]\n",
      " [ 4.  1.  0.  1.  4.]\n",
      " [ 9.  4.  1.  0.  1.]\n",
      " [16.  9.  4.  1.  0.]]\n"
     ]
    }
   ],
   "source": [
    "X = jnp.arange(5,dtype=jnp.float32).reshape(-1,1)\n",
    "Y = jnp.arange(5,dtype=jnp.float32).reshape(-1,1)\n",
    "print(X)\n",
    "print(Y)\n",
    "print(f(X,Y))"
   ]
  },
  {
   "cell_type": "code",
   "execution_count": 7,
   "metadata": {},
   "outputs": [],
   "source": [
    "from gaussian_process.kernels import RBF"
   ]
  },
  {
   "cell_type": "code",
   "execution_count": 8,
   "metadata": {},
   "outputs": [
    {
     "ename": "NameError",
     "evalue": "name 'partial' is not defined",
     "output_type": "error",
     "traceback": [
      "\u001b[0;31m---------------------------------------------------------------------------\u001b[0m",
      "\u001b[0;31mNameError\u001b[0m                                 Traceback (most recent call last)",
      "Cell \u001b[0;32mIn[8], line 1\u001b[0m\n\u001b[0;32m----> 1\u001b[0m \u001b[39mclass\u001b[39;00m \u001b[39mTest\u001b[39;00m:\n\u001b[1;32m      2\u001b[0m     \u001b[39mdef\u001b[39;00m \u001b[39m__init__\u001b[39m(\u001b[39mself\u001b[39m) \u001b[39m-\u001b[39m\u001b[39m>\u001b[39m \u001b[39mNone\u001b[39;00m:\n\u001b[1;32m      3\u001b[0m         \u001b[39mself\u001b[39m\u001b[39m.\u001b[39mkernel \u001b[39m=\u001b[39m RBF()\n",
      "Cell \u001b[0;32mIn[8], line 5\u001b[0m, in \u001b[0;36mTest\u001b[0;34m()\u001b[0m\n\u001b[1;32m      2\u001b[0m \u001b[39mdef\u001b[39;00m \u001b[39m__init__\u001b[39m(\u001b[39mself\u001b[39m) \u001b[39m-\u001b[39m\u001b[39m>\u001b[39m \u001b[39mNone\u001b[39;00m:\n\u001b[1;32m      3\u001b[0m     \u001b[39mself\u001b[39m\u001b[39m.\u001b[39mkernel \u001b[39m=\u001b[39m RBF()\n\u001b[0;32m----> 5\u001b[0m \u001b[39m@partial\u001b[39m(vmap, in_axes\u001b[39m=\u001b[39m(\u001b[39mNone\u001b[39;00m,\u001b[39m0\u001b[39m,\u001b[39mNone\u001b[39;00m,\u001b[39mNone\u001b[39;00m))\n\u001b[1;32m      6\u001b[0m \u001b[39m@partial\u001b[39m(vmap, in_axes\u001b[39m=\u001b[39m(\u001b[39mNone\u001b[39;00m,\u001b[39mNone\u001b[39;00m,\u001b[39m0\u001b[39m,\u001b[39mNone\u001b[39;00m))\n\u001b[1;32m      7\u001b[0m \u001b[39mdef\u001b[39;00m \u001b[39mf\u001b[39m(\u001b[39mself\u001b[39m,x,y,index):\n\u001b[1;32m      8\u001b[0m     \u001b[39mreturn\u001b[39;00m \u001b[39mself\u001b[39m\u001b[39m.\u001b[39mkernel\u001b[39m.\u001b[39meval_dx2(x,y,index)\n",
      "\u001b[0;31mNameError\u001b[0m: name 'partial' is not defined"
     ]
    }
   ],
   "source": [
    "class Test:\n",
    "    def __init__(self) -> None:\n",
    "        self.kernel = RBF()\n",
    "\n",
    "    @partial(vmap, in_axes=(None,0,None,None))\n",
    "    @partial(vmap, in_axes=(None,None,0,None))\n",
    "    def f(self,x,y,index):\n",
    "        return self.kernel.eval_dx2(x,y,index)"
   ]
  },
  {
   "cell_type": "code",
   "execution_count": null,
   "metadata": {},
   "outputs": [
    {
     "name": "stdout",
     "output_type": "stream",
     "text": [
      "[[ 0.         -0.60653067 -0.27067056 -0.03332699 -0.00134185]\n",
      " [ 0.60653067  0.         -0.60653067 -0.27067056 -0.03332699]\n",
      " [ 0.27067056  0.60653067  0.         -0.60653067 -0.27067056]\n",
      " [ 0.03332699  0.27067056  0.60653067  0.         -0.60653067]\n",
      " [ 0.00134185  0.03332699  0.27067056  0.60653067  0.        ]]\n"
     ]
    }
   ],
   "source": [
    "T = Test()\n",
    "print(T.f(X,X,0))"
   ]
  },
  {
   "cell_type": "code",
   "execution_count": 9,
   "metadata": {},
   "outputs": [],
   "source": [
    "\n",
    "x = jnp.arange(20).reshape(4,5)"
   ]
  },
  {
   "cell_type": "code",
   "execution_count": null,
   "metadata": {},
   "outputs": [],
   "source": [
    "def f(x):\n",
    "    A = jnp.arange(25).reshape(5,5)\n",
    "    return x@A@x.T"
   ]
  },
  {
   "cell_type": "code",
   "execution_count": 10,
   "metadata": {},
   "outputs": [
    {
     "data": {
      "text/plain": [
       "DeviceArray([[ 1800,  6050, 10300, 14550],\n",
       "             [ 5050, 16800, 28550, 40300],\n",
       "             [ 8300, 27550, 46800, 66050],\n",
       "             [11550, 38300, 65050, 91800]], dtype=int32)"
      ]
     },
     "execution_count": 10,
     "metadata": {},
     "output_type": "execute_result"
    }
   ],
   "source": []
  },
  {
   "cell_type": "code",
   "execution_count": null,
   "metadata": {},
   "outputs": [],
   "source": []
  }
 ],
 "metadata": {
  "kernelspec": {
   "display_name": "gpr",
   "language": "python",
   "name": "python3"
  },
  "language_info": {
   "codemirror_mode": {
    "name": "ipython",
    "version": 3
   },
   "file_extension": ".py",
   "mimetype": "text/x-python",
   "name": "python",
   "nbconvert_exporter": "python",
   "pygments_lexer": "ipython3",
   "version": "3.9.16"
  },
  "orig_nbformat": 4
 },
 "nbformat": 4,
 "nbformat_minor": 2
}
