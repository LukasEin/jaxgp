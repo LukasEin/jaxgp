{
 "cells": [
  {
   "cell_type": "code",
   "execution_count": 12,
   "metadata": {},
   "outputs": [],
   "source": [
    "from gaussian_process.regression import GaussianProcessRegressor\n",
    "from gaussian_process.kernels import RBF\n",
    "import jax.numpy as jnp\n",
    "import jax\n",
    "import matplotlib.pyplot as plt"
   ]
  },
  {
   "cell_type": "code",
   "execution_count": 13,
   "metadata": {},
   "outputs": [],
   "source": [
    "# model = GaussianProcessRegressor(RBF(),1,(1,))"
   ]
  },
  {
   "cell_type": "code",
   "execution_count": 14,
   "metadata": {},
   "outputs": [],
   "source": [
    "# X_data = jnp.ones((2,2))\n",
    "# Y_data = jnp.ones((2,2))\n",
    "\n",
    "# model.fit(X_data,Y_data)"
   ]
  },
  {
   "cell_type": "code",
   "execution_count": 15,
   "metadata": {},
   "outputs": [],
   "source": [
    "# X = jnp.zeros((1,2))\n",
    "# model.predict(X,True)"
   ]
  },
  {
   "cell_type": "code",
   "execution_count": 16,
   "metadata": {},
   "outputs": [],
   "source": [
    "# a = jnp.arange(10,dtype=jnp.float32) // 3\n",
    "# a = a.astype(jnp.int32)"
   ]
  },
  {
   "cell_type": "code",
   "execution_count": 17,
   "metadata": {},
   "outputs": [],
   "source": [
    "# a.dtype"
   ]
  },
  {
   "cell_type": "code",
   "execution_count": 18,
   "metadata": {},
   "outputs": [],
   "source": [
    "from jax import vmap\n",
    "from functools import partial\n",
    "@partial(vmap, in_axes=(0,None))\n",
    "@partial(vmap, in_axes=(None,0))\n",
    "def f(x,y):\n",
    "    return jnp.dot(x-y,x-y)"
   ]
  },
  {
   "cell_type": "code",
   "execution_count": 19,
   "metadata": {},
   "outputs": [
    {
     "name": "stdout",
     "output_type": "stream",
     "text": [
      "[[0.]\n",
      " [1.]\n",
      " [2.]\n",
      " [3.]\n",
      " [4.]]\n",
      "[[0.]\n",
      " [1.]\n",
      " [2.]\n",
      " [3.]\n",
      " [4.]]\n",
      "[[ 0.  1.  4.  9. 16.]\n",
      " [ 1.  0.  1.  4.  9.]\n",
      " [ 4.  1.  0.  1.  4.]\n",
      " [ 9.  4.  1.  0.  1.]\n",
      " [16.  9.  4.  1.  0.]]\n"
     ]
    }
   ],
   "source": [
    "X = jnp.arange(5,dtype=jnp.float32).reshape(-1,1)\n",
    "Y = jnp.arange(5,dtype=jnp.float32).reshape(-1,1)\n",
    "print(X)\n",
    "print(Y)\n",
    "print(f(X,Y))"
   ]
  },
  {
   "cell_type": "code",
   "execution_count": 20,
   "metadata": {},
   "outputs": [],
   "source": [
    "from gaussian_process.kernels import RBF"
   ]
  },
  {
   "cell_type": "code",
   "execution_count": 21,
   "metadata": {},
   "outputs": [],
   "source": [
    "class Test:\n",
    "    def __init__(self) -> None:\n",
    "        self.kernel = RBF()\n",
    "\n",
    "    @partial(vmap, in_axes=(None,0,None,None))\n",
    "    @partial(vmap, in_axes=(None,None,0,None))\n",
    "    def f(self,x,y,index):\n",
    "        return self.kernel.eval_dx2(x,y,index)"
   ]
  },
  {
   "cell_type": "code",
   "execution_count": 22,
   "metadata": {},
   "outputs": [
    {
     "name": "stdout",
     "output_type": "stream",
     "text": [
      "[[ 0.         -0.60653067 -0.27067056 -0.03332699 -0.00134185]\n",
      " [ 0.60653067  0.         -0.60653067 -0.27067056 -0.03332699]\n",
      " [ 0.27067056  0.60653067  0.         -0.60653067 -0.27067056]\n",
      " [ 0.03332699  0.27067056  0.60653067  0.         -0.60653067]\n",
      " [ 0.00134185  0.03332699  0.27067056  0.60653067  0.        ]]\n"
     ]
    }
   ],
   "source": [
    "T = Test()\n",
    "print(T.f(X,X,0))"
   ]
  },
  {
   "cell_type": "code",
   "execution_count": null,
   "metadata": {},
   "outputs": [],
   "source": []
  }
 ],
 "metadata": {
  "kernelspec": {
   "display_name": "gpr",
   "language": "python",
   "name": "python3"
  },
  "language_info": {
   "codemirror_mode": {
    "name": "ipython",
    "version": 3
   },
   "file_extension": ".py",
   "mimetype": "text/x-python",
   "name": "python",
   "nbconvert_exporter": "python",
   "pygments_lexer": "ipython3",
   "version": "3.9.16"
  },
  "orig_nbformat": 4
 },
 "nbformat": 4,
 "nbformat_minor": 2
}
