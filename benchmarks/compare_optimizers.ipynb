{
 "cells": [
  {
   "cell_type": "code",
   "execution_count": null,
   "metadata": {},
   "outputs": [],
   "source": [
    "import jax.numpy as jnp\n",
    "import matplotlib.pyplot as plt\n",
    "from jaxgp.tests import testfunctions, optimizertesting"
   ]
  },
  {
   "cell_type": "code",
   "execution_count": null,
   "metadata": {},
   "outputs": [],
   "source": [
    "def sin(x):\n",
    "    return jnp.sin(2*x[0] + x[1])"
   ]
  },
  {
   "cell_type": "code",
   "execution_count": null,
   "metadata": {},
   "outputs": [],
   "source": [
    "names = [\"franke\", \"himmelblau\", \"easom\", \"ackley\", \"sin\"]\n",
    "\n",
    "optimizers = [\"L-BFGS-B\", \"TNC\", \"SLSQP\"]#, \"Nelder-Mead\", \"Powell\", \"trust-constr\"]\n",
    "\n",
    "functions = [testfunctions.franke, testfunctions.himmelblau, testfunctions.easom, testfunctions.ackley, testfunctions.sin2d]\n",
    "\n",
    "ranges = [(jnp.array([0.0,1.0]), jnp.array([0.0,1.0])), \n",
    "          (jnp.array([-5.0,5.0]), jnp.array([-5.0,5.0])),\n",
    "          (jnp.array([-10.0,10.0]), jnp.array([-10.0,10.0])),\n",
    "          (jnp.array([-5.0,5.0]), jnp.array([-5.0,5.0])),\n",
    "          (jnp.array([0.0,2*jnp.pi]), jnp.array([0.0,2*jnp.pi]))]\n",
    "\n",
    "num_gridpoints = jnp.array([100,100])"
   ]
  },
  {
   "cell_type": "code",
   "execution_count": null,
   "metadata": {},
   "outputs": [],
   "source": [
    "with open(\"compare_optimizers.txt\", mode=\"w\") as f:\n",
    "    optimizertesting.compare_optimizer_data(functions, ranges, names, optimizers, num_gridpoints, \"./prediction_files\", f.write)"
   ]
  },
  {
   "cell_type": "code",
   "execution_count": null,
   "metadata": {},
   "outputs": [],
   "source": [
    "colors = [[\"red\", \"magenta\", \"crimson\", \"darkviolet\", \"chocolate\"], \n",
    "          [\"blue\", \"dodgerblue\", \"cyan\", \"navy\", \"deepskyblue\"], \n",
    "          [\"green\", \"lime\", \"darkgreen\", \"springgreen\", \"darkolivegreen\"]]\n",
    "markers = [\"o\", \"x\", \"+\"]\n",
    "step = 3\n",
    "\n",
    "fig, axes = plt.subplots(2,3, figsize=(15,10))\n",
    "axes[1][2].set_visible(False)\n",
    "\n",
    "axes[1][0].set_position([0.24,0.125,0.228,0.343])\n",
    "axes[1][1].set_position([0.55,0.125,0.228,0.343])\n",
    "\n",
    "for i,name in enumerate(names):\n",
    "    (j,k) = i // 3, i % 3\n",
    "\n",
    "    for optimizer, colortype, marker in zip(optimizers, colors, markers):\n",
    "        losses = jnp.load(f\"./prediction_files/{name}losses{optimizer}.npz\")\n",
    "        for ind,(loss, color) in enumerate(zip(losses.values(), colortype)):\n",
    "            loss = jnp.exp(-loss)\n",
    "            if i == 1: step = 6\n",
    "            else: step = 3\n",
    "            ran = jnp.arange(1,len(loss)+1,step)\n",
    "            if ind == 0:\n",
    "                axes[j,k].plot(ran,loss[::step], color=color, marker=marker, ls=\"--\",lw=0.5,label=f\"{optimizer}\")\n",
    "            else:\n",
    "                axes[j,k].plot(ran,loss[::step], color=color, marker=marker, ls=\"--\",lw=0.5)\n",
    "      \n",
    "    axes[j,k].set_title(name)\n",
    "    axes[j,k].set_xlabel(\"iterations\")\n",
    "    if k == 0:\n",
    "        axes[j,k].set_ylabel(\"maximum likelyhood\")\n",
    "    axes[j,k].legend()\n",
    "    axes[j,k].grid()\n",
    "\n",
    "fig.savefig(\"losses.png\")"
   ]
  },
  {
   "cell_type": "code",
   "execution_count": null,
   "metadata": {},
   "outputs": [],
   "source": [
    "for i,(name, fun, ran) in enumerate(zip(names, functions, ranges)):\n",
    "    _, Y = optimizertesting.create_training_data_2D(0, num_gridpoints, ran, 0.0, fun)\n",
    "    Y = Y[:,0].reshape(*num_gridpoints)\n",
    "    X1 = jnp.linspace(*ran[0], num_gridpoints[0])\n",
    "    X2 = jnp.linspace(*ran[1], num_gridpoints[1])\n",
    "\n",
    "    fig = plt.figure()\n",
    "    ax = plt.axes(projection='3d')\n",
    "    ax.contour3D(X1, X2, Y, 50, cmap='viridis')\n",
    "    ax.set_title(name)\n",
    "    ax.set_xlabel(\"x\")\n",
    "    ax.set_ylabel(\"y\")\n",
    "    ax.set_zlabel(\"f(x,y)\")\n",
    "\n",
    "    fig.savefig(f\"{name}plot.png\")"
   ]
  },
  {
   "cell_type": "code",
   "execution_count": null,
   "metadata": {},
   "outputs": [],
   "source": [
    "fig, axes = plt.subplots(2,3, figsize=(15,8.5))\n",
    "\n",
    "axes[1][2].set_visible(False)\n",
    "\n",
    "axes[1][0].set_position([0.24,0.125,0.228,0.343])\n",
    "axes[1][1].set_position([0.55,0.125,0.228,0.343])\n",
    "\n",
    "for i,(name, fun, ran) in enumerate(zip(names, functions, ranges)):\n",
    "    _, Y = optimizertesting.create_training_data_2D(0, num_gridpoints, ran, 0.0, fun)\n",
    "    Y = Y[:,0].reshape(*num_gridpoints)\n",
    "    X1 = jnp.linspace(*ran[0], num_gridpoints[0])\n",
    "    X2 = jnp.linspace(*ran[1], num_gridpoints[1])\n",
    "\n",
    "    (j,k) = i // 3, i % 3\n",
    "    im = axes[j,k].pcolormesh(X1, X2, Y)\n",
    "    fig.colorbar(im, ax=axes[j, k])\n",
    "\n",
    "    axes[j,k].set_title(name)\n",
    "    "
   ]
  },
  {
   "cell_type": "code",
   "execution_count": null,
   "metadata": {},
   "outputs": [],
   "source": [
    "X, Y = optimizertesting.create_training_data_2D(0, num_gridpoints, ranges[0], 0.0, testfunctions.franke)\n",
    "Y = Y[:,0]\n",
    "\n",
    "means = jnp.load(\"./prediction_files/himmelblaumeansTNC.npz\")\n",
    "stds = jnp.load(\"./prediction_files/himmelblaustdsTNC.npz\")"
   ]
  },
  {
   "cell_type": "code",
   "execution_count": null,
   "metadata": {},
   "outputs": [],
   "source": [
    "plt.pcolormesh(Y.reshape(100,100))\n",
    "plt.colorbar()"
   ]
  },
  {
   "cell_type": "code",
   "execution_count": null,
   "metadata": {},
   "outputs": [],
   "source": [
    "plt.pcolormesh(means[\"arr_3\"].reshape(100,100))\n",
    "plt.colorbar()"
   ]
  },
  {
   "cell_type": "code",
   "execution_count": null,
   "metadata": {},
   "outputs": [],
   "source": [
    "plt.pcolormesh(stds[\"arr_3\"].reshape(100,100))\n",
    "plt.colorbar()"
   ]
  },
  {
   "cell_type": "code",
   "execution_count": null,
   "metadata": {},
   "outputs": [],
   "source": [
    "losses = jnp.load(\"./prediction_files/sinlossesL-BFGS-B.npz\")"
   ]
  },
  {
   "cell_type": "code",
   "execution_count": null,
   "metadata": {},
   "outputs": [],
   "source": [
    "mins = []\n",
    "for i,loss in enumerate(losses.values()):\n",
    "    mins.append(jnp.min(loss))\n",
    "\n",
    "min = jnp.min(jnp.array(mins))\n",
    "\n",
    "for i,loss in enumerate(losses.values()):\n",
    "    plt.scatter(jnp.arange(1,len(loss)+1),loss-min, label=i+1)\n",
    "\n",
    "plt.legend()\n",
    "plt.grid()\n",
    "plt.yscale(\"log\")"
   ]
  },
  {
   "cell_type": "code",
   "execution_count": null,
   "metadata": {},
   "outputs": [],
   "source": []
  }
 ],
 "metadata": {
  "kernelspec": {
   "display_name": "gpr",
   "language": "python",
   "name": "python3"
  },
  "language_info": {
   "codemirror_mode": {
    "name": "ipython",
    "version": 3
   },
   "file_extension": ".py",
   "mimetype": "text/x-python",
   "name": "python",
   "nbconvert_exporter": "python",
   "pygments_lexer": "ipython3",
   "version": "3.9.16"
  },
  "orig_nbformat": 4
 },
 "nbformat": 4,
 "nbformat_minor": 2
}
