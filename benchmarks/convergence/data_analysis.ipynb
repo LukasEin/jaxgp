{
 "cells": [
  {
   "cell_type": "code",
   "execution_count": null,
   "metadata": {},
   "outputs": [],
   "source": [
    "import jax.numpy as jnp\n",
    "\n",
    "import pandas as pd\n",
    "\n",
    "import make_df\n",
    "\n",
    "import matplotlib.pyplot as plt"
   ]
  },
  {
   "cell_type": "code",
   "execution_count": null,
   "metadata": {},
   "outputs": [],
   "source": [
    "def fun(x):\n",
    "    return (x[:,0]**2 + x[:,1] - 11)**2 / 800.0 + (x[:,0] + x[:,1]**2 -7)**2 / 800.0"
   ]
  },
  {
   "cell_type": "code",
   "execution_count": null,
   "metadata": {},
   "outputs": [],
   "source": [
    "# sparsification\n",
    "sparse = True\n",
    "subset_size = 0.02\n",
    "sparse_dict = {0.1: \"log_sparse_0_1\", 0.02: \"log_sparse_0_02\", 0.3: \"log_sparse_0_3\"}\n",
    "\n",
    "if sparse:\n",
    "    # directory where to save stuff\n",
    "    in_dir = f\"./sparse/{sparse_dict[subset_size]}\"\n",
    "    # How many derivative observations should be chosen\n",
    "    list_d_vals = [200, 400, 800, 1500, 2000, 3000]\n",
    "    # optimizer type\n",
    "    optimizers = [\"L-BFGS-B\", \"TNC\", \"SLSQP\"]\n",
    "else:\n",
    "    # directory where to save stuff\n",
    "    in_dir = \"./full\"\n",
    "    # How many derivative observations should be chosen\n",
    "    list_d_vals = [5, 20, 50, 100, 200, 400, 800]\n",
    "    # optimizer type\n",
    "    optimizers = [\"L-BFGS-B\", \"TNC\", \"SLSQP\"]\n",
    "\n",
    "# name of the function\n",
    "name = \"him\"\n",
    "\n",
    "# How many function observations should be chosen\n",
    "list_f_vals = [1, 5, 20, 50]\n",
    "\n",
    "# optimizer type\n",
    "iters_per_optimmizer = 10\n",
    "\n",
    "# Grid on which to evaluate the function\n",
    "bounds = jnp.array([[-5.0, -5.0], [5.0, 5.0]])\n",
    "eval_grid = jnp.linspace(bounds[0], bounds[1],100).T\n",
    "eval_grid = jnp.array(jnp.meshgrid(*eval_grid)).reshape(2,-1).T"
   ]
  },
  {
   "cell_type": "code",
   "execution_count": null,
   "metadata": {},
   "outputs": [],
   "source": [
    "data = make_df.make_df(list_f_vals, list_d_vals, optimizers, in_dir, name, sparse, subset_size, fun, eval_grid)"
   ]
  },
  {
   "cell_type": "code",
   "execution_count": null,
   "metadata": {},
   "outputs": [],
   "source": [
    "data.head(5)"
   ]
  },
  {
   "cell_type": "code",
   "execution_count": null,
   "metadata": {},
   "outputs": [],
   "source": [
    "colors = [\"b\", \"r\", \"g\", \"cyan\"]\n",
    "\n",
    "fig, ax = plt.subplots(1, 3, figsize=(15, 5), sharey=True)\n",
    "\n",
    "for i, optimizer in enumerate(optimizers):\n",
    "    opt_data = data[data[\"opt\"] == optimizer]\n",
    "    for c,f in zip(colors, opt_data[\"f\"].unique()):\n",
    "        temp = opt_data[opt_data[\"f\"] == f]\n",
    "        dvals = temp[\"d\"]\n",
    "\n",
    "        mean_mse = temp[\"mean_mse\"]\n",
    "        min_mse = temp[\"min_mse\"]\n",
    "        max_mse = temp[\"max_mse\"]\n",
    "        ax[i].plot(dvals, mean_mse, color=c, ls=\"--\", marker=\"x\", label=f\"#f-vals = {f}\")\n",
    "        ax[i].fill_between(dvals, min_mse.tolist(), max_mse.tolist(), color=c, alpha=0.2)\n",
    "        ax[i].set_yscale(\"log\")\n",
    "        ax[i].set_xscale(\"log\")\n",
    "\n",
    "\n",
    "    ax[i].grid()\n",
    "    ax[i].legend()\n",
    "    ax[i].set_xlabel(\"#d-vals\")\n",
    "    ax[i].set_title(optimizer)\n",
    "\n",
    "ax[0].set_ylabel(\"MSE\")"
   ]
  },
  {
   "cell_type": "code",
   "execution_count": null,
   "metadata": {},
   "outputs": [],
   "source": [
    "colors = [\"b\", \"r\", \"g\", \"cyan\"]\n",
    "\n",
    "fig, ax = plt.subplots(1, 3, figsize=(15, 5), sharey=True)\n",
    "\n",
    "for i, optimizer in enumerate(optimizers):\n",
    "    opt_data = data[data[\"opt\"] == optimizer]\n",
    "    for c,f in zip(colors, opt_data[\"f\"].unique()):\n",
    "        temp = opt_data[opt_data[\"f\"] == f]\n",
    "        dvals = temp[\"d\"]\n",
    "\n",
    "        mean_tic = temp[\"mean_tic\"]\n",
    "        min_tic = temp[\"min_tic\"]\n",
    "        max_tic = temp[\"max_tic\"]\n",
    "        ax[i].plot(dvals, mean_tic, color=c, ls=\"--\", marker=\"x\", label=f\"#f-vals = {f}\")\n",
    "        ax[i].fill_between(dvals, min_tic.tolist(), max_tic.tolist(), color=c, alpha=0.2)\n",
    "\n",
    "\n",
    "    ax[i].grid()\n",
    "    ax[i].legend()\n",
    "    ax[i].set_xlabel(\"#d-vals\")\n",
    "    ax[i].set_title(optimizer)\n",
    "ax[0].set_ylabel(\"% Y inside conf.-interval\")"
   ]
  }
 ],
 "metadata": {
  "kernelspec": {
   "display_name": "gpr",
   "language": "python",
   "name": "python3"
  },
  "language_info": {
   "codemirror_mode": {
    "name": "ipython",
    "version": 3
   },
   "file_extension": ".py",
   "mimetype": "text/x-python",
   "name": "python",
   "nbconvert_exporter": "python",
   "pygments_lexer": "ipython3",
   "version": "3.9.16"
  },
  "orig_nbformat": 4
 },
 "nbformat": 4,
 "nbformat_minor": 2
}
