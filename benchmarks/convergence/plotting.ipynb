{
 "cells": [
  {
   "cell_type": "code",
   "execution_count": 152,
   "metadata": {},
   "outputs": [],
   "source": [
    "import jax.numpy as jnp\n",
    "\n",
    "import make_df\n",
    "\n",
    "import matplotlib.pyplot as plt\n",
    "import matplotlib as mpl"
   ]
  },
  {
   "cell_type": "code",
   "execution_count": 153,
   "metadata": {},
   "outputs": [],
   "source": [
    "def fun(x):\n",
    "    return (x[:,0]**2 + x[:,1] - 11)**2 / 800.0 + (x[:,0] + x[:,1]**2 -7)**2 / 800.0"
   ]
  },
  {
   "cell_type": "code",
   "execution_count": 154,
   "metadata": {},
   "outputs": [],
   "source": [
    "# sparsification\n",
    "sparse = True\n",
    "mode = \"optim\"\n",
    "subset_size = 0.02\n",
    "sparse_dict = {0.1: \"log_sparse_0_1\", 0.02: \"log_sparse_0_02\", 0.3: \"log_sparse_0_3\", 0.005: \"log_sparse_0_005\"}\n",
    "\n",
    "if sparse:\n",
    "    # directory where to save stuff\n",
    "    in_dir = f\"./sparse/{mode}/{sparse_dict[subset_size]}\"\n",
    "\n",
    "    # How many derivative observations should be chosen\n",
    "    list_d_vals = [200, 400, 800, 1500, 2000, 3000]\n",
    "else:\n",
    "    # directory where to save stuff\n",
    "    in_dir = \"./full\"\n",
    "    # How many derivative observations should be chosen\n",
    "    list_d_vals = [5, 20, 50, 100, 200, 400, 800]\n",
    "\n",
    "\n",
    "# optimizer type\n",
    "optimizers = [\"L-BFGS-B\", \"TNC\", \"SLSQP\"]\n",
    "\n",
    "# name of the function\n",
    "name = \"him\"\n",
    "\n",
    "# How many function observations should be chosen\n",
    "list_f_vals = [1, 5, 20, 50]\n",
    "\n",
    "# Grid on which to evaluate the function\n",
    "bounds = jnp.array([[-5.0, -5.0], [5.0, 5.0]])\n",
    "eval_grid = jnp.linspace(bounds[0], bounds[1],100).T\n",
    "eval_grid = jnp.array(jnp.meshgrid(*eval_grid)).reshape(2,-1).T"
   ]
  },
  {
   "cell_type": "code",
   "execution_count": null,
   "metadata": {},
   "outputs": [],
   "source": [
    "def cti(x):\n",
    "    return x/2.54"
   ]
  },
  {
   "cell_type": "code",
   "execution_count": 155,
   "metadata": {},
   "outputs": [],
   "source": [
    "def data_full():\n",
    "    in_dir = f\"./full/log_full\"\n",
    "    data = make_df.make_df(list_f_vals, list_d_vals, optimizers, in_dir, name, False, sparse, fun, eval_grid)\n",
    "    opt_data = data[data[\"opt\"] == optimizers[0]]\n",
    "\n",
    "    median_mse = []\n",
    "    mean_mse = []\n",
    "    std_mse = []\n",
    "    min_mse = []\n",
    "    max_mse = []\n",
    "\n",
    "    for f in opt_data[\"f\"].unique():\n",
    "        temp = opt_data[opt_data[\"f\"] == f]\n",
    "\n",
    "        median_mse.append(list(temp[\"median_mse\"]))\n",
    "        mean_mse.append(list(temp[\"mean_mse\"]))\n",
    "        std_mse.append(list(temp[\"std_mse\"]))\n",
    "        min_mse.append(list(temp[\"min_mse\"]))\n",
    "        max_mse.append(list(temp[\"max_mse\"]))\n",
    "\n",
    "    return jnp.array(median_mse), jnp.array(mean_mse), jnp.array(std_mse), jnp.array(min_mse), jnp.array(max_mse)"
   ]
  },
  {
   "cell_type": "code",
   "execution_count": 196,
   "metadata": {},
   "outputs": [],
   "source": [
    "mode_list = [\"optim\", \"rand\", \"even\"]\n",
    "optimizers = [\"SLSQP\"]\n",
    "\n",
    "sparse_list = [0.02, 0.1, 0.3]\n",
    "\n",
    "list_f_vals = [1, 5, 20, 50]\n",
    "list_d_vals = [200, 400, 800, 1500, 2000, 3000]\n",
    "\n",
    "colors = [\"r\", \"g\", \"b\"]"
   ]
  },
  {
   "attachments": {},
   "cell_type": "markdown",
   "metadata": {},
   "source": [
    "## Compare different sparsifications"
   ]
  },
  {
   "cell_type": "code",
   "execution_count": 197,
   "metadata": {},
   "outputs": [],
   "source": [
    "def data_different_sparse():\n",
    "    medians = []\n",
    "    means = []\n",
    "    stds = []\n",
    "    mins = []\n",
    "    maxs = []\n",
    "\n",
    "    for sparse in sparse_list:\n",
    "        in_dir = f\"./sparse/{mode}/{sparse_dict[sparse]}\"\n",
    "        data = make_df.make_df(list_f_vals, list_d_vals, optimizers, in_dir, name, True, sparse, fun, eval_grid)\n",
    "        opt_data = data[data[\"opt\"] == optimizers[0]]\n",
    "\n",
    "        median_mse = []\n",
    "        mean_mse = []\n",
    "        std_mse = []\n",
    "        min_mse = []\n",
    "        max_mse = []\n",
    "\n",
    "        for f in opt_data[\"f\"].unique():\n",
    "            temp = opt_data[opt_data[\"f\"] == f]\n",
    "\n",
    "            median_mse.append(list(temp[\"median_mse\"]))\n",
    "            mean_mse.append(list(temp[\"mean_mse\"]))\n",
    "            std_mse.append(list(temp[\"std_mse\"]))\n",
    "            min_mse.append(list(temp[\"min_mse\"]))\n",
    "            max_mse.append(list(temp[\"max_mse\"]))\n",
    "\n",
    "        medians.append(median_mse)\n",
    "        means.append(mean_mse)\n",
    "        stds.append(std_mse)\n",
    "        mins.append(min_mse)\n",
    "        maxs.append(max_mse)\n",
    "\n",
    "    return jnp.array(medians), jnp.array(means), jnp.array(stds), jnp.array(mins), jnp.array(maxs)\n",
    "    # shape (sparse_types, n_f, n_d)"
   ]
  },
  {
   "attachments": {},
   "cell_type": "markdown",
   "metadata": {},
   "source": [
    "### Different plots for different $N_f$"
   ]
  },
  {
   "cell_type": "code",
   "execution_count": 198,
   "metadata": {},
   "outputs": [],
   "source": [
    "for mode in mode_list:    \n",
    "    median_mse_sparse, mean_mse_sparse, std_mse_sparse, min_mse_sparse, max_mse_sparse = data_different_sparse()\n",
    "    median_mse_full, mean_mse_full, std_mse_full, min_mse_full, max_mse_full = data_full()\n",
    "\n",
    "    plt.rcParams.update({'font.size': 8})\n",
    "\n",
    "    for i, f in enumerate(list_f_vals):\n",
    "        fig, ax = plt.subplots(1,1, figsize=(cti(8),cti(6)))\n",
    "\n",
    "        for j,(c, s) in enumerate(zip(colors, sparse_list)):\n",
    "            # mean_mse = mean_mse_sparse[j,i]\n",
    "            median_mse = median_mse_sparse[j,i]\n",
    "            # std_mse = std_mse_sparse[j,i]\n",
    "            min_mse = min_mse_sparse[j,i]\n",
    "            max_mse = max_mse_sparse[j,i]\n",
    "\n",
    "            ax.plot(list_d_vals, median_mse, color=c, ls=\"--\", marker=\"x\", label=f\"sp={s}\")\n",
    "            ax.fill_between(list_d_vals, min_mse, max_mse, alpha=0.2, color=c)\n",
    "        \n",
    "        # ax.plot(list_d_vals, mean_mse_full[i], color=\"magenta\", ls=\"--\", marker=\"x\", label=f\"full\")\n",
    "        # ax.fill_between(list_d_vals, min_mse_full[i], max_mse_full[i], alpha=0.3, color=\"magenta\")\n",
    "\n",
    "        ax.set_yscale(\"log\")\n",
    "        ax.set_xscale(\"log\")\n",
    "        ax.set_ylim((8e-5,2e1))\n",
    "\n",
    "        ax.legend()\n",
    "        ax.grid()\n",
    "\n",
    "        ax.set_xlabel(\"$N_g$\")\n",
    "        ax.set_ylabel(\"$\\Omega$\")\n",
    "\n",
    "        ax.set_xticks([200,400,800,1600])\n",
    "        ax.set_xticklabels([200,400,800,1600])\n",
    "\n",
    "        plt.tight_layout()\n",
    "        plt.close()\n",
    "        fig.savefig(f\"./plots/f{f}_{mode}.pdf\")\n",
    "        # fig.savefig(f\"./plots/f{f}_{mode}.png\", transparent=True)"
   ]
  },
  {
   "attachments": {},
   "cell_type": "markdown",
   "metadata": {},
   "source": [
    "### Different plots for different $N_g$"
   ]
  },
  {
   "cell_type": "code",
   "execution_count": 193,
   "metadata": {},
   "outputs": [],
   "source": [
    "# plt.rcParams.update({'font.size': 14})\n",
    "\n",
    "# for i, d in enumerate(list_d_vals):\n",
    "#     fig, ax = plt.subplots(1,1, figsize=(8,6))\n",
    "\n",
    "#     for j,(c, s) in enumerate(zip(colors, sparse_list)):\n",
    "#         median_mse = median_mse_sparse[j,:,i]\n",
    "#         min_mse = min_mse_sparse[j,:,i]\n",
    "#         max_mse = max_mse_sparse[j,:,i]\n",
    "\n",
    "#         ax.plot(list_f_vals, median_mse, color=c, ls=\"--\", marker=\"x\", label=f\"sp={s}\")\n",
    "#         ax.fill_between(list_f_vals, min_mse, max_mse, alpha=0.2, color=c)\n",
    "    \n",
    "#     ax.plot(list_f_vals, mean_mse_full[:,i], color=\"magenta\", ls=\"--\", marker=\"x\", label=f\"full\")\n",
    "#     ax.fill_between(list_f_vals, min_mse_full[:,i], max_mse_full[:,i], alpha=0.3, color=\"magenta\")\n",
    "\n",
    "#     ax.set_yscale(\"log\")\n",
    "#     ax.set_xscale(\"log\")\n",
    "#     ax.set_ylim((8e-5,2e1))\n",
    "\n",
    "#     ax.legend()\n",
    "#     ax.grid()\n",
    "\n",
    "#     ax.set_xlabel(\"$N_g$\")\n",
    "#     ax.set_ylabel(\"$\\Omega$\")\n",
    "\n",
    "#     ax.set_xticks([1,2,4,8,16,32])\n",
    "#     ax.set_xticklabels([1,2,4,8,16,32])\n",
    "\n",
    "#     plt.close()\n",
    "\n",
    "#     fig.savefig(f\"./plots/d{d}_{mode}.pdf\")\n",
    "#     # fig.savefig(f\"./plots/d{d}_{mode}.png\", transparent=True)"
   ]
  },
  {
   "attachments": {},
   "cell_type": "markdown",
   "metadata": {},
   "source": [
    "## Compare different sparse methods"
   ]
  },
  {
   "cell_type": "code",
   "execution_count": 163,
   "metadata": {},
   "outputs": [],
   "source": [
    "def data_different_mode():\n",
    "    medians = []\n",
    "    means = []\n",
    "    stds = []\n",
    "    mins = []\n",
    "    maxs = []\n",
    "\n",
    "    for mode in mode_list:\n",
    "        in_dir = f\"./sparse/{mode}/{sparse_dict[sparse]}\"\n",
    "        data = make_df.make_df(list_f_vals, list_d_vals, optimizers, in_dir, name, True, sparse, fun, eval_grid)\n",
    "        opt_data = data[data[\"opt\"] == optimizers[0]]\n",
    "\n",
    "        median_mse = []\n",
    "        mean_mse = []\n",
    "        std_mse = []\n",
    "        min_mse = []\n",
    "        max_mse = []\n",
    "\n",
    "        for f in opt_data[\"f\"].unique():\n",
    "            temp = opt_data[opt_data[\"f\"] == f]\n",
    "\n",
    "            median_mse.append(list(temp[\"median_mse\"]))\n",
    "            mean_mse.append(list(temp[\"mean_mse\"]))\n",
    "            std_mse.append(list(temp[\"std_mse\"]))\n",
    "            min_mse.append(list(temp[\"min_mse\"]))\n",
    "            max_mse.append(list(temp[\"max_mse\"]))\n",
    "\n",
    "        medians.append(median_mse)\n",
    "        means.append(mean_mse)\n",
    "        stds.append(std_mse)\n",
    "        mins.append(min_mse)\n",
    "        maxs.append(max_mse)\n",
    "\n",
    "    return jnp.array(medians), jnp.array(means), jnp.array(stds), jnp.array(mins), jnp.array(maxs)"
   ]
  },
  {
   "cell_type": "code",
   "execution_count": 199,
   "metadata": {},
   "outputs": [],
   "source": [
    "for sparse in sparse_list:\n",
    "    median_mse_sparse, mean_mse_sparse, std_mse_sparse, min_mse_sparse, max_mse_sparse = data_different_mode()\n",
    "    median_mse_full, mean_mse_full, std_mse_full, min_mse_full, max_mse_full = data_full()\n",
    "\n",
    "    plt.rcParams.update({'font.size': 8})\n",
    "\n",
    "    for i, f in enumerate(list_f_vals):\n",
    "        fig, ax = plt.subplots(1,1, figsize=(cti(8),cti(6)))\n",
    "\n",
    "        for j,(c, m) in enumerate(zip(colors, mode_list)):\n",
    "            # mean_mse = mean_mse_sparse[j,i]\n",
    "            median_mse = median_mse_sparse[j,i]\n",
    "            # std_mse = std_mse_sparse[j,i]\n",
    "            min_mse = min_mse_sparse[j,i]\n",
    "            max_mse = max_mse_sparse[j,i]\n",
    "\n",
    "            ax.plot(list_d_vals, median_mse, color=c, ls=\"--\", marker=\"x\", label=f\"mode={m}\")\n",
    "            ax.fill_between(list_d_vals, min_mse, max_mse, alpha=0.2, color=c)\n",
    "        \n",
    "        # ax.plot(list_d_vals, mean_mse_full[i], color=\"magenta\", ls=\"--\", marker=\"x\", label=f\"full\")\n",
    "        # ax.fill_between(list_d_vals, min_mse_full[i], max_mse_full[i], alpha=0.3, color=\"magenta\")\n",
    "\n",
    "        ax.set_yscale(\"log\")\n",
    "        ax.set_xscale(\"log\")\n",
    "        ax.set_ylim((8e-5,2e1))\n",
    "\n",
    "        ax.legend()\n",
    "        ax.grid()\n",
    "\n",
    "        ax.set_xlabel(\"$N_g$\")\n",
    "        ax.set_ylabel(\"$\\Omega$\")\n",
    "\n",
    "        ax.set_xticks([200,400,800,1600])\n",
    "        ax.set_xticklabels([200,400,800,1600])\n",
    "\n",
    "        plt.tight_layout()\n",
    "        plt.close()\n",
    "        fig.savefig(f\"./plots/f{f}_{sparse}.pdf\")\n",
    "        # fig.savefig(f\"./plots/f{f}_{mode}.png\", transparent=True)"
   ]
  },
  {
   "attachments": {},
   "cell_type": "markdown",
   "metadata": {},
   "source": [
    "# Compare sparse total"
   ]
  },
  {
   "cell_type": "code",
   "execution_count": 166,
   "metadata": {},
   "outputs": [],
   "source": [
    "mode_list = [\"rand\", \"even\", \"optim\"]\n",
    "optimizers = [\"SLSQP\"]\n",
    "\n",
    "sparse_list = [0.02, 0.1, 0.3]\n",
    "\n",
    "list_f_vals = [1, 5, 20, 50]\n",
    "list_d_vals = [200, 400, 800, 1500, 2000, 3000]\n",
    "\n",
    "colors = [\"r\", \"g\", \"b\"]"
   ]
  },
  {
   "cell_type": "code",
   "execution_count": 167,
   "metadata": {},
   "outputs": [],
   "source": [
    "def data_sparse():\n",
    "    medians = []\n",
    "\n",
    "    for mode in mode_list:\n",
    "        m_mode = []\n",
    "        for sparse in sparse_list:\n",
    "            in_dir = f\"./sparse/{mode}/{sparse_dict[sparse]}\"\n",
    "            data = make_df.make_df(list_f_vals, list_d_vals, optimizers, in_dir, name, True, sparse, fun, eval_grid)\n",
    "            opt_data = data[data[\"opt\"] == optimizers[0]]\n",
    "\n",
    "            m_sparse = []\n",
    "\n",
    "            for f in opt_data[\"f\"].unique():\n",
    "                temp = opt_data[opt_data[\"f\"] == f]\n",
    "\n",
    "                m_sparse.append(list(temp[\"median_mse\"]))\n",
    "\n",
    "            m_mode.append(m_sparse)\n",
    "        medians.append(m_mode)\n",
    "\n",
    "    return jnp.array(medians)\n",
    "    # shape = (modes, sparse, N_f, N_g)"
   ]
  },
  {
   "cell_type": "code",
   "execution_count": 168,
   "metadata": {},
   "outputs": [],
   "source": [
    "median_mse_sparse = data_sparse()"
   ]
  },
  {
   "cell_type": "code",
   "execution_count": 169,
   "metadata": {},
   "outputs": [
    {
     "name": "stdout",
     "output_type": "stream",
     "text": [
      "(3, 3, 4, 6)\n"
     ]
    }
   ],
   "source": [
    "print(median_mse_sparse.shape)"
   ]
  },
  {
   "attachments": {},
   "cell_type": "markdown",
   "metadata": {},
   "source": [
    "# Compare Full"
   ]
  },
  {
   "cell_type": "code",
   "execution_count": 170,
   "metadata": {},
   "outputs": [],
   "source": [
    "median_mse_full, mean_mse_full, std_mse_full, min_mse_full, max_mse_full = data_full()"
   ]
  },
  {
   "cell_type": "code",
   "execution_count": 171,
   "metadata": {},
   "outputs": [],
   "source": [
    "median_mse_full = jnp.log(median_mse_full)\n",
    "\n",
    "minimum = float(jnp.min(median_mse_full))\n",
    "maximum = float(jnp.max(median_mse_full))\n",
    "\n",
    "\n",
    "cmap = mpl.colormaps['viridis']\n",
    "norm = mpl.colors.Normalize(vmin=minimum, vmax=maximum)"
   ]
  },
  {
   "cell_type": "code",
   "execution_count": 172,
   "metadata": {},
   "outputs": [
    {
     "data": {
      "image/png": "[encoded data removed]",
      "text/plain": [
       "<Figure size 640x480 with 2 Axes>"
      ]
     },
     "metadata": {},
     "output_type": "display_data"
    }
   ],
   "source": [
    "fig, ax = plt.subplots(1,1)\n",
    "\n",
    "# for i, d in enumerate(list_d_vals):\n",
    "#     for j, f in enumerate(list_f_vals):\n",
    "#         ax.scatter(d, f, c=median_mse_full[j,i], cmap=cmap, norm=norm)\n",
    "\n",
    "ax.contourf(list_d_vals, list_f_vals, median_mse_full)\n",
    "fig.colorbar(mpl.cm.ScalarMappable(cmap=cmap, norm=norm), ax=ax)\n",
    "\n",
    "plt.xscale(\"log\")\n",
    "plt.yscale(\"log\")"
   ]
  },
  {
   "cell_type": "code",
   "execution_count": 173,
   "metadata": {},
   "outputs": [
    {
     "data": {
      "text/plain": [
       "<matplotlib.colorbar.Colorbar at 0x7f7e2314e490>"
      ]
     },
     "execution_count": 173,
     "metadata": {},
     "output_type": "execute_result"
    },
    {
     "data": {
      "image/png": "[encoded data removed]",
      "text/plain": [
       "<Figure size 640x480 with 2 Axes>"
      ]
     },
     "metadata": {},
     "output_type": "display_data"
    }
   ],
   "source": [
    "x = [1,2,3]\n",
    "y = [2,3,4]\n",
    "c = [0.05, 0.2, 0.13]\n",
    "\n",
    "slevels = [0.1, 0.02, 0.3]\n",
    "\n",
    "cmap = mpl.colormaps['viridis']\n",
    "norm = mpl.colors.Normalize(vmin=min(slevels), vmax=max(slevels))\n",
    "\n",
    "fig, ax = plt.subplots(1,1)\n",
    "\n",
    "ax.scatter(x, y, c=c, cmap=cmap, norm=norm)\n",
    "\n",
    "fig.colorbar(mpl.cm.ScalarMappable(cmap=cmap, norm=norm), ax=ax)"
   ]
  },
  {
   "cell_type": "code",
   "execution_count": null,
   "metadata": {},
   "outputs": [],
   "source": []
  }
 ],
 "metadata": {
  "kernelspec": {
   "display_name": "gpr",
   "language": "python",
   "name": "python3"
  },
  "language_info": {
   "codemirror_mode": {
    "name": "ipython",
    "version": 3
   },
   "file_extension": ".py",
   "mimetype": "text/x-python",
   "name": "python",
   "nbconvert_exporter": "python",
   "pygments_lexer": "ipython3",
   "version": "3.9.16"
  },
  "orig_nbformat": 4
 },
 "nbformat": 4,
 "nbformat_minor": 2
}
