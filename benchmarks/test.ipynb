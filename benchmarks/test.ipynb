{
 "cells": [
  {
   "cell_type": "code",
   "execution_count": 56,
   "metadata": {},
   "outputs": [],
   "source": [
    "import jax.numpy as jnp\n",
    "from jax import vmap\n",
    "\n",
    "from jaxgp.utils import CovMatrixDD, CovMatrixFD, CovMatrixFF\n",
    "from jaxgp.kernels import RBF"
   ]
  },
  {
   "cell_type": "code",
   "execution_count": 57,
   "metadata": {},
   "outputs": [],
   "source": [
    "x1 = jnp.zeros((5,1))\n",
    "x2 = jnp.zeros((5,2))\n",
    "x3 = jnp.zeros((5,3))\n",
    "x4 = jnp.zeros((5,4))\n",
    "\n",
    "params = jnp.array((1.0, 1.0))\n",
    "kernel = RBF()"
   ]
  },
  {
   "cell_type": "code",
   "execution_count": 58,
   "metadata": {},
   "outputs": [
    {
     "name": "stdout",
     "output_type": "stream",
     "text": [
      "(5, 5) (5, 5) (5, 5) (5, 5)\n"
     ]
    }
   ],
   "source": [
    "ff1d = CovMatrixFF(x1, x1, kernel,params)\n",
    "ff2d = CovMatrixFF(x2, x2, kernel,params)\n",
    "ff3d = CovMatrixFF(x3, x3, kernel,params)\n",
    "ff4d = CovMatrixFF(x4, x4, kernel,params)\n",
    "\n",
    "print(ff1d.shape, ff2d.shape, ff3d.shape, ff4d.shape)"
   ]
  },
  {
   "cell_type": "code",
   "execution_count": 59,
   "metadata": {},
   "outputs": [
    {
     "name": "stdout",
     "output_type": "stream",
     "text": [
      "(5, 5) (5, 10) (5, 15) (5, 20)\n",
      "(5, 5) (5, 10) (5, 15) (5, 20)\n"
     ]
    }
   ],
   "source": [
    "fd1d = CovMatrixFD(x1, x1, kernel,params)\n",
    "fd2d = CovMatrixFD(x2, x2, kernel,params)\n",
    "fd3d = CovMatrixFD(x3, x3, kernel,params)\n",
    "fd4d = CovMatrixFD(x4, x4, kernel,params)\n",
    "\n",
    "print(fd1d.shape, fd2d.shape, fd3d.shape, fd4d.shape)\n",
    "\n",
    "fd1d = vmap(jnp.ravel, in_axes=0)(CovMatrixFD(x1, x1, kernel,params))\n",
    "fd2d = vmap(jnp.ravel, in_axes=0)(CovMatrixFD(x2, x2, kernel,params))\n",
    "fd3d = vmap(jnp.ravel, in_axes=0)(CovMatrixFD(x3, x3, kernel,params))\n",
    "fd4d = vmap(jnp.ravel, in_axes=0)(CovMatrixFD(x4, x4, kernel,params))\n",
    "\n",
    "print(fd1d.shape, fd2d.shape, fd3d.shape, fd4d.shape)"
   ]
  },
  {
   "cell_type": "code",
   "execution_count": 60,
   "metadata": {},
   "outputs": [
    {
     "name": "stdout",
     "output_type": "stream",
     "text": [
      "(5, 5) (10, 10) (15, 15) (20, 20)\n",
      "(25,) (100,) (225,) (400,)\n"
     ]
    }
   ],
   "source": [
    "dd1d = CovMatrixDD(x1, x1, kernel,params)\n",
    "dd2d = CovMatrixDD(x2, x2, kernel,params)\n",
    "dd3d = CovMatrixDD(x3, x3, kernel,params)\n",
    "dd4d = CovMatrixDD(x4, x4, kernel,params)\n",
    "\n",
    "print(dd1d.shape, dd2d.shape, dd3d.shape, dd4d.shape)\n",
    "\n",
    "dd1d = jnp.hstack(jnp.hstack((*CovMatrixDD(x1, x1, kernel, params),)))\n",
    "dd2d = jnp.hstack(jnp.hstack((*CovMatrixDD(x2, x2, kernel, params),)))\n",
    "dd3d = jnp.hstack(jnp.hstack((*CovMatrixDD(x3, x3, kernel, params),)))\n",
    "dd4d = jnp.hstack(jnp.hstack((*CovMatrixDD(x4, x4, kernel, params),)))\n",
    "\n",
    "print(dd1d.shape, dd2d.shape, dd3d.shape, dd4d.shape)"
   ]
  },
  {
   "attachments": {},
   "cell_type": "markdown",
   "metadata": {},
   "source": [
    "## Creating the training data set\n",
    "\n",
    "`jax.numpy` has almost the same usage as the standard `numpy` package, with the caveat that `jax.ndarray` is an immutable type, meaning that no inplace changes can be made. For creating training data this should however not be an issue."
   ]
  },
  {
   "cell_type": "code",
   "execution_count": 61,
   "metadata": {},
   "outputs": [],
   "source": [
    "import jax.numpy as jnp\n",
    "from jax import random"
   ]
  },
  {
   "attachments": {},
   "cell_type": "markdown",
   "metadata": {},
   "source": [
    "We will model a simple sin function:"
   ]
  },
  {
   "cell_type": "code",
   "execution_count": 62,
   "metadata": {},
   "outputs": [],
   "source": [
    "# true function is a noisy lennard jones potential\n",
    "def sin(x, noise=0.0, key = random.PRNGKey(0)):\n",
    "    return jnp.sin(x) + random.normal(key,x.shape, dtype=jnp.float32)*noise\n",
    "\n",
    "def cos(x, noise=0.0, key = random.PRNGKey(0)):\n",
    "    return jnp.cos(x) + random.normal(key,x.shape, dtype=jnp.float32)*noise"
   ]
  },
  {
   "attachments": {},
   "cell_type": "markdown",
   "metadata": {},
   "source": [
    "To define the training data we first need to define boundaries to choose the datapoints from. Then, random points are chosen in this interval. `random.split` creates a new subkey from the previous key to get a new sudo-random sample from the uniform distribution."
   ]
  },
  {
   "cell_type": "code",
   "execution_count": 63,
   "metadata": {},
   "outputs": [],
   "source": [
    "# Interval bounds from which to choose the data points\n",
    "bounds = jnp.array([0.0, 2*jnp.pi])\n",
    "\n",
    "# How many function and derivative observations should be chosen\n",
    "num_f_vals = (5,)\n",
    "num_d_vals = (10,)\n",
    "\n",
    "# initial seed for the pseudo random key generation\n",
    "seed = 0\n",
    "\n",
    "# create new keys and randomly sample the above interval for training features\n",
    "key, subkey = random.split(random.PRNGKey(seed))\n",
    "x_func = random.uniform(subkey, num_f_vals, minval=bounds[0], maxval=bounds[1])\n",
    "key, subkey = random.split(key)\n",
    "x_der = random.uniform(subkey, num_d_vals, minval=bounds[0], maxval=bounds[1])\n",
    "\n",
    "# noise with which to sample the training labels\n",
    "noise = 0.1\n",
    "key, subkey = random.split(key)\n",
    "y_func = sin(x_func,noise, subkey)\n",
    "key, subkey = random.split(key)\n",
    "y_der = cos(x_der, noise, subkey)"
   ]
  },
  {
   "attachments": {},
   "cell_type": "markdown",
   "metadata": {},
   "source": [
    "The GPR framework needs as input for training a tuple of arrays `X_split` of which contains a set of points where the function is sampled and a set of points where the gradient is sampled. Both array in `X_split` is of shape `(n_samples_i, N)`. `X_split` should be ordered as follows: the first array represents the datapoints for the function observations and the second array represents the gradient of the function. `Y_train` should just be an array of shape `(n_samples_function + n_samples_gradient,)`."
   ]
  },
  {
   "cell_type": "code",
   "execution_count": 64,
   "metadata": {},
   "outputs": [],
   "source": [
    "# reshaping needs to be done the get the arrays in the form (n_samples_i, N)\n",
    "X_split = [x_func.reshape(-1,1),x_der.reshape(-1,1)]\n",
    "\n",
    "Y_train = (y_func, y_der) # jnp.hstack((y_func, y_der))"
   ]
  },
  {
   "cell_type": "code",
   "execution_count": 65,
   "metadata": {},
   "outputs": [
    {
     "name": "stdout",
     "output_type": "stream",
     "text": [
      "(10, 1)\n"
     ]
    }
   ],
   "source": [
    "print(X_split[1].shape)"
   ]
  },
  {
   "attachments": {},
   "cell_type": "markdown",
   "metadata": {},
   "source": [
    "### Defining the Kernel and its initial parameters\n",
    "\n",
    "The kernels can be found in `jaxgp.kernels`. Currently implemented are `RBF`, `Linear`, and `Periodic` kernels. When in doubt what kernel to use, go with an `RBF` kernel."
   ]
  },
  {
   "cell_type": "code",
   "execution_count": 66,
   "metadata": {},
   "outputs": [],
   "source": [
    "from jaxgp.kernels import RBF\n",
    "\n",
    "kernel = RBF()\n",
    "# an RBF kernel has per default 2 parameters\n",
    "init_kernel_params = jnp.array([2.0, 2.0])"
   ]
  },
  {
   "cell_type": "code",
   "execution_count": 67,
   "metadata": {},
   "outputs": [],
   "source": [
    "# from jaxgp.bayesopt import BayesOpt, upper_confidence_bound\n",
    "\n",
    "# rand = 3\n",
    "# bounds = jnp.array([0.0,2*jnp.pi])\n",
    "# eval_func = lambda x: (cos(x, noise, key), True)\n",
    "# explore_param = 5\n",
    "# grid = jnp.linspace(0,2*jnp.pi,200)\n",
    "# extra_args = (rand, bounds, eval_func, explore_param, grid.reshape(-1,1))\n",
    "\n",
    "# model = BayesOpt(X_split, Y_train, kernel, init_kernel_params, noise, upper_confidence_bound, extra_args)"
   ]
  },
  {
   "cell_type": "code",
   "execution_count": 68,
   "metadata": {},
   "outputs": [],
   "source": [
    "# model.run(10)"
   ]
  },
  {
   "cell_type": "code",
   "execution_count": 69,
   "metadata": {},
   "outputs": [],
   "source": [
    "# X_split = model.X_split\n",
    "# Y_train = jnp.hstack(model.Y_train)"
   ]
  },
  {
   "cell_type": "code",
   "execution_count": 70,
   "metadata": {},
   "outputs": [],
   "source": [
    "# from jaxgp.regression import ExactGPR\n",
    "\n",
    "# model = ExactGPR(kernel, init_kernel_params, noise, \"L-BFGS-B\")\n",
    "# model.train(X_split, Y_train)\n",
    "\n",
    "# predict_grid = jnp.linspace(*bounds, 200)\n",
    "# means, stds = model.eval(predict_grid.reshape(-1,1))"
   ]
  },
  {
   "cell_type": "code",
   "execution_count": 71,
   "metadata": {},
   "outputs": [],
   "source": [
    "# import matplotlib.pyplot as plt\n",
    "\n",
    "# plt.plot(predict_grid, means, label=\"prediction\")\n",
    "# plt.fill_between(predict_grid, means-stds, means+stds, alpha=0.5)\n",
    "\n",
    "# plt.plot(predict_grid, sin(predict_grid), c=\"gray\", ls=\"--\",label=\"true function\")\n",
    "\n",
    "# plt.scatter(x_func, y_func, c=\"r\", label=\"function eval\")\n",
    "# for i,x in enumerate(X_split[1]): \n",
    "#     if i == 0:\n",
    "#         plt.axvline(x, c=\"r\", lw=0.8, ls=\"--\", label=\"deriv positions\")\n",
    "#     else:\n",
    "#         plt.axvline(x, c=\"r\", lw=0.8, ls=\"--\")\n",
    "\n",
    "# plt.grid()\n",
    "# plt.legend()"
   ]
  },
  {
   "attachments": {},
   "cell_type": "markdown",
   "metadata": {},
   "source": [
    "# no grad"
   ]
  },
  {
   "cell_type": "code",
   "execution_count": 72,
   "metadata": {},
   "outputs": [],
   "source": [
    "X_train = x_func.reshape(-1,1)\n",
    "Y_train = y_func\n",
    "\n",
    "grid = jnp.linspace(0,2*jnp.pi,200)"
   ]
  },
  {
   "cell_type": "code",
   "execution_count": 73,
   "metadata": {},
   "outputs": [],
   "source": [
    "from jaxgp.regression import ExactGPRnograd"
   ]
  },
  {
   "cell_type": "code",
   "execution_count": 74,
   "metadata": {},
   "outputs": [],
   "source": [
    "model = ExactGPRnograd(kernel, init_kernel_params, noise)"
   ]
  },
  {
   "cell_type": "code",
   "execution_count": 75,
   "metadata": {},
   "outputs": [
    {
     "name": "stdout",
     "output_type": "stream",
     "text": [
      "OptStep(params=DeviceArray([0.37741235, 0.77466524], dtype=float32), state=ScipyMinimizeInfo(fun_val=DeviceArray(2.861927, dtype=float32, weak_type=True), success=True, status=0, iter_num=12))\n"
     ]
    }
   ],
   "source": [
    "model.train(X_train, Y_train)"
   ]
  },
  {
   "cell_type": "code",
   "execution_count": 76,
   "metadata": {},
   "outputs": [],
   "source": [
    "means, stds = model.eval(grid.reshape(-1,1))"
   ]
  },
  {
   "cell_type": "code",
   "execution_count": 77,
   "metadata": {},
   "outputs": [
    {
     "data": {
      "text/plain": [
       "<matplotlib.collections.PathCollection at 0x7fa348cd4520>"
      ]
     },
     "execution_count": 77,
     "metadata": {},
     "output_type": "execute_result"
    },
    {
     "data": {
      "image/png": "[encoded data removed]",
      "text/plain": [
       "<Figure size 640x480 with 1 Axes>"
      ]
     },
     "metadata": {},
     "output_type": "display_data"
    }
   ],
   "source": [
    "import matplotlib.pyplot as plt\n",
    "\n",
    "plt.plot(grid, means)\n",
    "plt.fill_between(grid, means-stds, means+stds, alpha=0.5)\n",
    "plt.plot(grid, sin(grid), \"r--\")\n",
    "plt.scatter(X_train, Y_train,c=\"r\")"
   ]
  },
  {
   "cell_type": "code",
   "execution_count": null,
   "metadata": {},
   "outputs": [],
   "source": []
  }
 ],
 "metadata": {
  "kernelspec": {
   "display_name": "gpr",
   "language": "python",
   "name": "python3"
  },
  "language_info": {
   "codemirror_mode": {
    "name": "ipython",
    "version": 3
   },
   "file_extension": ".py",
   "mimetype": "text/x-python",
   "name": "python",
   "nbconvert_exporter": "python",
   "pygments_lexer": "ipython3",
   "version": "3.9.16"
  },
  "orig_nbformat": 4
 },
 "nbformat": 4,
 "nbformat_minor": 2
}
