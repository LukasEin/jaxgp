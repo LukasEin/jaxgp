{
 "cells": [
  {
   "cell_type": "code",
   "execution_count": 170,
   "metadata": {},
   "outputs": [],
   "source": [
    "from jaxgp.kernels import RBF\n",
    "from jaxgp.regression import ExactGPRGrad, ExactGPR\n",
    "from jaxgp.utils import Logger\n",
    "\n",
    "import jax.numpy as jnp\n",
    "import numpy as onp\n",
    "\n",
    "import matplotlib.pyplot as plt\n",
    "\n",
    "import LJ_gp"
   ]
  },
  {
   "cell_type": "code",
   "execution_count": 171,
   "metadata": {},
   "outputs": [],
   "source": [
    "Temp = 1.2\n",
    "N_A = 6.02214076e23\n",
    "\n",
    "flag_box = [\"AA\",\"AB\",\"BB\"]\n",
    "data = onp.loadtxt(\"./LJ_S0_data_sum.txt\") # 7 columns: X_A S_AA S_AA_err S_AB S_AB_err S_BB S_BB_err\n",
    "\n",
    "# Rename every var\n",
    "# mol frac of A paricles \n",
    "X_A  = data[:,0] \n",
    "# X_A = N_A/(N_A + N_B), where N_A is the number of partilce A, N_B is the number of partilce B; \n",
    "# also, X_A = c_A/C_all, as mentioned below though;\n",
    "# N_A + N_B = 23328 in this dataset;\n",
    "\n",
    "# for the structure factor S, save the data as a (2, N) array, the first coloumn is the value, while the second one is its error. \n",
    "S_AA = data[:,1]\n",
    "S_AA_err = data[:,2]\n",
    "S_AB = data[:,3]\n",
    "S_AB_err = data[:,4]\n",
    "S_BB = data[:,5]\n",
    "S_BB_err = data[:,6]\n",
    "\n",
    "#compute the concentrition\n",
    "vol_list = ['46740.536', '46702.929', '46940.069', '46777.225', '46868.228', '46810.31', '47000.639', '46841.816', '46963.354', '46963.354', '47068.412', '47096.167', '47135.511', '47109.139', '47192.731', '47216.936', '47328.919', '47378.922', '47148.088', '47378.351', '47316.911']\n",
    "vol_sys = jnp.array(list((map(float, vol_list))))\n",
    "c_all = jnp.array((1/N_A*23328)/(vol_sys*1e-27)/100) #23328, the total number of toms in the system\n",
    "c_A_mol_L = jnp.array((X_A/N_A*23328)/(vol_sys*1e-27)/100)\n",
    "c_B_mol_L = c_all - c_A_mol_L\n",
    "\n",
    "# plt.errorbar(X_A, S_AA[:,0], S_AA[:,1], ls=\"\", marker=\"o\", label=\"$S_{AA}$\")\n",
    "# plt.errorbar(X_A, S_AB[:,0], S_AB[:,1], ls=\"\", marker=\"o\", label=\"$S_{AB}$\")\n",
    "# plt.errorbar(X_A, S_BB[:,0], S_BB[:,1], ls=\"\", marker=\"o\", label=\"$S_{BB}$\")\n",
    "# plt.ylabel(\"$S_0$\")  \n",
    "# plt.xlabel(\"$X_{A}$\") \n",
    "\n",
    "# plt.legend()\n",
    "# plt.show()"
   ]
  },
  {
   "cell_type": "code",
   "execution_count": 172,
   "metadata": {},
   "outputs": [
    {
     "name": "stdout",
     "output_type": "stream",
     "text": [
      "0.0025987553134474454\n",
      "0.0021247715393592336\n",
      "0.0025912547332879667\n"
     ]
    }
   ],
   "source": [
    "print(LJ_gp.mean_err(S_AA_err))\n",
    "print(LJ_gp.mean_err(S_AB_err))\n",
    "print(LJ_gp.mean_err(S_BB_err))"
   ]
  },
  {
   "cell_type": "code",
   "execution_count": 173,
   "metadata": {},
   "outputs": [],
   "source": [
    "def integrand_normal(ca, cb, saa, sab):\n",
    "    term = 1. / (saa - sab*jnp.sqrt(ca/cb)) - 1\n",
    "    return term / ca\n",
    "\n",
    "def integrand_log(ca, cb, saa, sab):\n",
    "    return 1. / (saa - sab*jnp.sqrt(ca/cb)) - 1"
   ]
  },
  {
   "cell_type": "code",
   "execution_count": 174,
   "metadata": {},
   "outputs": [],
   "source": [
    "saa = jnp.array(S_AA)[1:-1]\n",
    "sab = jnp.array(S_AB)[1:-1]\n",
    "sbb = jnp.array(S_BB)[1:-1]\n",
    "ca = c_A_mol_L[1:-1]\n",
    "cb = c_B_mol_L[1:-1]"
   ]
  },
  {
   "cell_type": "code",
   "execution_count": 175,
   "metadata": {},
   "outputs": [],
   "source": [
    "from jaxgp import Optimizer\n",
    "\n",
    "# kernel = RBF(len(ca)+1)\n",
    "kernel = RBF()\n",
    "# noise = jnp.ones((19,))*2.5e-3\n",
    "noise = jnp.ones((19,))*1e-2\n",
    "noise = jnp.hstack((jnp.zeros(1), noise))\n",
    "\n",
    "optimizer = Optimizer.SLSQP\n",
    "\n",
    "logger_A = Logger()\n",
    "logger_B = Logger()"
   ]
  },
  {
   "attachments": {},
   "cell_type": "markdown",
   "metadata": {},
   "source": [
    "## Predict $\\mu_A^{ex}$"
   ]
  },
  {
   "cell_type": "code",
   "execution_count": 176,
   "metadata": {},
   "outputs": [],
   "source": [
    "# X_train = (jnp.zeros((1,1)), ca.reshape(-1,1))\n",
    "# Y_train = integrand_normal(ca, cb, saa, sab)*Temp\n",
    "# Y_train = jnp.hstack((jnp.zeros(1), Y_train))\n",
    "\n",
    "X_train = (jnp.zeros((1,1)), jnp.log(ca).reshape(-1,1))\n",
    "Y_train = integrand_log(ca, cb, saa, sab)*Temp\n",
    "Y_train = jnp.hstack((jnp.zeros(1), Y_train))"
   ]
  },
  {
   "cell_type": "code",
   "execution_count": 177,
   "metadata": {},
   "outputs": [
    {
     "data": {
      "text/plain": [
       "DeviceArray(0.01059072, dtype=float32)"
      ]
     },
     "execution_count": 177,
     "metadata": {},
     "output_type": "execute_result"
    }
   ],
   "source": [
    "jnp.std(Y_train)"
   ]
  },
  {
   "cell_type": "code",
   "execution_count": 178,
   "metadata": {},
   "outputs": [],
   "source": [
    "model = ExactGPR(kernel, noise=noise, logger=logger_A, optimize_method=optimizer)"
   ]
  },
  {
   "cell_type": "code",
   "execution_count": 179,
   "metadata": {},
   "outputs": [
    {
     "name": "stdout",
     "output_type": "stream",
     "text": [
      "True\n"
     ]
    }
   ],
   "source": [
    "model.train(X_train, Y_train)"
   ]
  },
  {
   "cell_type": "code",
   "execution_count": 180,
   "metadata": {},
   "outputs": [],
   "source": [
    "eval_grid = jnp.log(ca)\n",
    "\n",
    "mean, std = model.eval(eval_grid.reshape(-1,1))\n",
    "mu_a = mean.reshape(-1)\n",
    "mu_a_err = std.reshape(-1)"
   ]
  },
  {
   "attachments": {},
   "cell_type": "markdown",
   "metadata": {},
   "source": [
    "## Predict $\\mu_B^{ex}$"
   ]
  },
  {
   "cell_type": "code",
   "execution_count": 181,
   "metadata": {},
   "outputs": [],
   "source": [
    "# X_train = (jnp.zeros((1,1)), cb.reshape(-1,1))\n",
    "# Y_train = integrand_normal(cb, ca, sbb, sab)*Temp\n",
    "# Y_train = jnp.hstack((jnp.zeros(1), Y_train))\n",
    "\n",
    "X_train = (jnp.zeros((1,1)), jnp.log(cb).reshape(-1,1))\n",
    "Y_train = integrand_log(cb, ca, sbb, sab)*Temp\n",
    "Y_train = jnp.hstack((jnp.zeros(1), Y_train))"
   ]
  },
  {
   "cell_type": "code",
   "execution_count": 182,
   "metadata": {},
   "outputs": [],
   "source": [
    "model = ExactGPR(kernel, noise=noise, logger=logger_B, optimize_method=optimizer)"
   ]
  },
  {
   "cell_type": "code",
   "execution_count": 183,
   "metadata": {},
   "outputs": [
    {
     "name": "stdout",
     "output_type": "stream",
     "text": [
      "True\n"
     ]
    }
   ],
   "source": [
    "model.train(X_train, Y_train)"
   ]
  },
  {
   "cell_type": "code",
   "execution_count": 184,
   "metadata": {},
   "outputs": [],
   "source": [
    "eval_grid = jnp.log(cb)\n",
    "\n",
    "mean, std = model.eval(eval_grid.reshape(-1,1))\n",
    "mu_b = mean.reshape(-1)\n",
    "mu_b_err = std.reshape(-1)"
   ]
  },
  {
   "cell_type": "code",
   "execution_count": 185,
   "metadata": {},
   "outputs": [
    {
     "data": {
      "text/plain": [
       "Text(0, 0.5, '$\\\\mu^{ex}$')"
      ]
     },
     "execution_count": 185,
     "metadata": {},
     "output_type": "execute_result"
    },
    {
     "data": {
      "image/png": "[encoded data removed]",
      "text/plain": [
       "<Figure size 640x480 with 1 Axes>"
      ]
     },
     "metadata": {},
     "output_type": "display_data"
    }
   ],
   "source": [
    "plt.plot(X_A[1:-1], mu_a, c=\"b\", label=\"Particle A\")\n",
    "plt.fill_between(X_A[1:-1], mu_a-mu_a_err, mu_a+mu_a_err, alpha=0.2)\n",
    "\n",
    "plt.plot(X_A[1:-1], mu_b, c=\"r\", label=\"Particle B\")\n",
    "plt.fill_between(X_A[1:-1], mu_b-mu_b_err, mu_b+mu_b_err, alpha=0.2)\n",
    "\n",
    "plt.grid()\n",
    "plt.legend()\n",
    "\n",
    "plt.xlabel(\"$X_A$\")\n",
    "plt.ylabel(\"$\\mu^{ex}$\")"
   ]
  },
  {
   "cell_type": "code",
   "execution_count": 186,
   "metadata": {},
   "outputs": [
    {
     "data": {
      "text/plain": [
       "[DeviceArray([0.6931472, 0.6931472], dtype=float32),\n",
       " DeviceArray([0.3470297, 2.5047562], dtype=float32),\n",
       " DeviceArray([1.000000e-03, 2.723451e+00], dtype=float32),\n",
       " DeviceArray([1.0000003e-03, 2.7345674e+00], dtype=float32),\n",
       " DeviceArray([1.0000000e-03, 2.7886744e+00], dtype=float32),\n",
       " DeviceArray([1.000000e-03, 3.024747e+00], dtype=float32),\n",
       " DeviceArray([1.0000000e-03, 3.2312803e+00], dtype=float32),\n",
       " DeviceArray([1.0000000e-03, 3.2966328e+00], dtype=float32),\n",
       " DeviceArray([1.000000e-03, 3.309201e+00], dtype=float32),\n",
       " DeviceArray([1.000000e-03, 3.309201e+00], dtype=float32)]"
      ]
     },
     "execution_count": 186,
     "metadata": {},
     "output_type": "execute_result"
    }
   ],
   "source": [
    "logger_A.iters_list"
   ]
  },
  {
   "cell_type": "code",
   "execution_count": 187,
   "metadata": {},
   "outputs": [
    {
     "data": {
      "text/plain": [
       "[DeviceArray([0.6931472, 0.6931472], dtype=float32),\n",
       " DeviceArray([0.3415659, 2.5884566], dtype=float32),\n",
       " DeviceArray([1.0000000e-03, 2.7796264e+00], dtype=float32),\n",
       " DeviceArray([1.0000000e-03, 2.7905662e+00], dtype=float32),\n",
       " DeviceArray([1.000001e-03, 2.844299e+00], dtype=float32),\n",
       " DeviceArray([1.0000000e-03, 3.0904467e+00], dtype=float32),\n",
       " DeviceArray([1.0000006e-03, 3.5732837e+00], dtype=float32),\n",
       " DeviceArray([1.0000000e-03, 3.8395593e+00], dtype=float32),\n",
       " DeviceArray([1.0000000e-03, 3.9984899e+00], dtype=float32),\n",
       " DeviceArray([1.000000e-03, 4.053519e+00], dtype=float32),\n",
       " DeviceArray([1.000000e-03, 4.053519e+00], dtype=float32)]"
      ]
     },
     "execution_count": 187,
     "metadata": {},
     "output_type": "execute_result"
    }
   ],
   "source": [
    "logger_B.iters_list"
   ]
  },
  {
   "cell_type": "code",
   "execution_count": 188,
   "metadata": {},
   "outputs": [],
   "source": [
    "jnp.savez(\"gp_predict_LJ.npz\", mu_a=mu_a, mu_a_err=mu_a_err, mu_b=mu_b, mu_b_err=mu_b_err)"
   ]
  }
 ],
 "metadata": {
  "kernelspec": {
   "display_name": "gpr",
   "language": "python",
   "name": "python3"
  },
  "language_info": {
   "codemirror_mode": {
    "name": "ipython",
    "version": 3
   },
   "file_extension": ".py",
   "mimetype": "text/x-python",
   "name": "python",
   "nbconvert_exporter": "python",
   "pygments_lexer": "ipython3",
   "version": "3.9.16"
  },
  "orig_nbformat": 4
 },
 "nbformat": 4,
 "nbformat_minor": 2
}
