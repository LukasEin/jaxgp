{
 "cells": [
  {
   "cell_type": "code",
   "execution_count": 41,
   "metadata": {},
   "outputs": [],
   "source": [
    "from jaxgp.kernels import RBF\n",
    "from jaxgp.regression import ExactGPRGrad, ExactGPR\n",
    "from jaxgp.utils import Logger\n",
    "\n",
    "import jax.numpy as jnp\n",
    "import numpy as onp\n",
    "\n",
    "import matplotlib.pyplot as plt"
   ]
  },
  {
   "cell_type": "code",
   "execution_count": 42,
   "metadata": {},
   "outputs": [],
   "source": [
    "kbT = 2.4943387854\n",
    "N_A = 6.02214076e23\n",
    "\n",
    "flag_box = [\"AA\",\"AB\",\"BB\"]\n",
    "data = onp.loadtxt(\"./NaCl_in_water_data.txt\") # 7 columns: X_A S_AA S_AA_err S_AB S_AB_err S_BB S_BB_err\n",
    "\n",
    "C_A  = data[:,0]\n",
    "C_A_ratio = data[:,1]\n",
    "\n",
    "M = data[:,2]\n",
    "\n",
    "# for the structure factor S, save the data as a (2, N) array, the first coloumn is the value, while the second one is its error. \n",
    "S_AA = data[:,3]\n",
    "S_AA_err = data[:,4]\n",
    "S_AB = data[:,5]\n",
    "S_AB_err = data[:,6]"
   ]
  },
  {
   "cell_type": "code",
   "execution_count": 43,
   "metadata": {},
   "outputs": [],
   "source": [
    "def integrand_normal(ca, ratio, saa, sab):\n",
    "    term = 1. / (saa - sab*jnp.sqrt(ratio)) - 1\n",
    "    return term / ca\n",
    "\n",
    "def integrand_log(ca, ratio, saa, sab):\n",
    "    return 1. / (saa - sab*jnp.sqrt(ratio)) - 1"
   ]
  },
  {
   "cell_type": "code",
   "execution_count": 44,
   "metadata": {},
   "outputs": [],
   "source": [
    "saa = jnp.array(S_AA)\n",
    "sab = jnp.array(S_AB)\n",
    "ca = jnp.array(C_A)\n",
    "ratio = jnp.array(C_A_ratio)"
   ]
  },
  {
   "cell_type": "code",
   "execution_count": 45,
   "metadata": {},
   "outputs": [],
   "source": [
    "from jaxgp import Optimizer\n",
    "\n",
    "kernel = RBF(len(ca)+1)\n",
    "# kernel = RBF()\n",
    "noise = jnp.ones((len(ca),))*5e-1\n",
    "noise = jnp.hstack((jnp.zeros(1), noise))\n",
    "# noise = 5e-1\n",
    "optimizer = Optimizer.LBFGSB\n",
    "\n",
    "logger = Logger()"
   ]
  },
  {
   "attachments": {},
   "cell_type": "markdown",
   "metadata": {},
   "source": [
    "## Predict $\\mu_A^{ex}$"
   ]
  },
  {
   "cell_type": "code",
   "execution_count": 46,
   "metadata": {},
   "outputs": [],
   "source": [
    "# X_train = (jnp.zeros((1,1)), ca.reshape(-1,1))\n",
    "# Y_train = integrand_normal(ca, ratio, saa, sab)*kbT\n",
    "# Y_train = jnp.hstack((jnp.zeros(1), Y_train))\n",
    "\n",
    "X_train = (jnp.ones((1,1))*(-2), jnp.log(ca).reshape(-1,1))\n",
    "Y_train = integrand_log(ca, ratio, saa, sab)*kbT\n",
    "Y_train = jnp.hstack((jnp.zeros(1), Y_train))"
   ]
  },
  {
   "cell_type": "code",
   "execution_count": 47,
   "metadata": {},
   "outputs": [
    {
     "name": "stdout",
     "output_type": "stream",
     "text": [
      "(1, 1) (50, 1)\n"
     ]
    }
   ],
   "source": [
    "print(X_train[0].shape, X_train[1].shape)"
   ]
  },
  {
   "cell_type": "code",
   "execution_count": 48,
   "metadata": {},
   "outputs": [],
   "source": [
    "model = ExactGPR(kernel, noise=noise, logger=logger, optimize_method=optimizer)\n",
    "# model = ExactGPR(kernel, logger=logger, optimize_method=optimizer, optimize_noise=True)"
   ]
  },
  {
   "cell_type": "code",
   "execution_count": 49,
   "metadata": {},
   "outputs": [
    {
     "name": "stdout",
     "output_type": "stream",
     "text": [
      "True\n"
     ]
    }
   ],
   "source": [
    "model.train(X_train, Y_train)"
   ]
  },
  {
   "cell_type": "code",
   "execution_count": 50,
   "metadata": {},
   "outputs": [],
   "source": [
    "# model.kernel_params = jnp.ones_like(model.kernel_params)"
   ]
  },
  {
   "cell_type": "code",
   "execution_count": 51,
   "metadata": {},
   "outputs": [],
   "source": [
    "eval_grid = jnp.log(jnp.sort(ca))\n",
    "\n",
    "mean, std = model.eval(eval_grid.reshape(-1,1))\n",
    "mu_a = mean.reshape(-1)\n",
    "mu_a_err = std.reshape(-1)"
   ]
  },
  {
   "cell_type": "code",
   "execution_count": 52,
   "metadata": {},
   "outputs": [
    {
     "data": {
      "text/plain": [
       "Text(0, 0.5, '$\\\\mu^{ex}$')"
      ]
     },
     "execution_count": 52,
     "metadata": {},
     "output_type": "execute_result"
    },
    {
     "data": {
      "image/png": "[encoded data removed]",
      "text/plain": [
       "<Figure size 640x480 with 1 Axes>"
      ]
     },
     "metadata": {},
     "output_type": "display_data"
    }
   ],
   "source": [
    "plt.plot(jnp.sort(M), mu_a, c=\"b\", label=\"Particle A\")\n",
    "plt.fill_between(jnp.sort(M), mu_a-mu_a_err, mu_a+mu_a_err, alpha=0.2)\n",
    "\n",
    "plt.grid()\n",
    "plt.legend()\n",
    "\n",
    "plt.xlabel(\"$X_A$\")\n",
    "plt.ylabel(\"$\\mu^{ex}$\")"
   ]
  },
  {
   "cell_type": "code",
   "execution_count": 53,
   "metadata": {},
   "outputs": [],
   "source": [
    "jnp.savez(\"gp_predict_nacl.npz\", mu_a=mu_a, mu_a_err=mu_a_err)"
   ]
  },
  {
   "cell_type": "code",
   "execution_count": null,
   "metadata": {},
   "outputs": [],
   "source": []
  }
 ],
 "metadata": {
  "kernelspec": {
   "display_name": "gpr",
   "language": "python",
   "name": "python3"
  },
  "language_info": {
   "codemirror_mode": {
    "name": "ipython",
    "version": 3
   },
   "file_extension": ".py",
   "mimetype": "text/x-python",
   "name": "python",
   "nbconvert_exporter": "python",
   "pygments_lexer": "ipython3",
   "version": "3.9.16"
  },
  "orig_nbformat": 4
 },
 "nbformat": 4,
 "nbformat_minor": 2
}
