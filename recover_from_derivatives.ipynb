{
 "cells": [
  {
   "cell_type": "code",
   "execution_count": 109,
   "metadata": {},
   "outputs": [],
   "source": [
    "import numpy as np\n",
    "import matplotlib.pyplot as plt\n",
    "from scipy.linalg import solve"
   ]
  },
  {
   "cell_type": "code",
   "execution_count": 110,
   "metadata": {},
   "outputs": [],
   "source": [
    "def RBF(x1,x2,*,length_scale=1.0):\n",
    "    return np.exp(-0.5/length_scale**2 * (x1-x2)**2)\n",
    "\n",
    "def dRBF(x1,x2,*,length_scale=1.0):\n",
    "    return -(x1-x2)/length_scale**2 * RBF(x1,x2,length_scale=length_scale)\n",
    "\n",
    "def ddRBF(x1,x2,*,length_scale=1.0):\n",
    "    return (1 - (x1-x2)**2 / length_scale**2) / length_scale**2 * RBF(x1,x2,length_scale=length_scale)\n",
    "\n",
    "def covMatrix(reference_points,data_points,*,length_scale=1.0):\n",
    "    xs,ys = np.meshgrid(data_points,reference_points,sparse=True)\n",
    "    mat = RBF(xs,ys,length_scale=length_scale)\n",
    "    \n",
    "    return mat\n",
    "\n",
    "def dcovMatrix(reference_points,data_points,*,length_scale=1.0):\n",
    "    xs,ys = np.meshgrid(data_points,reference_points,sparse=True)\n",
    "    mat = dRBF(xs,ys,length_scale=length_scale)\n",
    "    \n",
    "    return mat\n",
    "\n",
    "def ddcovMatrix(reference_points,data_points,*,length_scale=1.0):\n",
    "    xs,ys = np.meshgrid(data_points,reference_points,sparse=True)\n",
    "    mat = ddRBF(xs,ys,length_scale=length_scale)\n",
    "    \n",
    "    return mat\n",
    "\n",
    "def sigmaMatrix(sigma_sq,*,size=0):\n",
    "    if np.isscalar(sigma_sq):\n",
    "        return np.eye(size) / sigma_sq\n",
    "    \n",
    "    return np.diag(1 / sigma_sq)"
   ]
  },
  {
   "cell_type": "code",
   "execution_count": 111,
   "metadata": {},
   "outputs": [],
   "source": [
    "def func(x,noise=0.0):\n",
    "    return np.sin(x) + noise*np.random.randn(*x.shape)\n",
    "\n",
    "def grad_func(x,noise=0.0):\n",
    "    return np.cos(x) + noise*np.random.randn(*x.shape)"
   ]
  },
  {
   "attachments": {},
   "cell_type": "markdown",
   "metadata": {},
   "source": [
    "## Sparse GPR"
   ]
  },
  {
   "cell_type": "code",
   "execution_count": 112,
   "metadata": {},
   "outputs": [],
   "source": [
    "# bounds = np.array([0.0, np.pi])\n",
    "\n",
    "# noise = 0.1\n",
    "\n",
    "# length_scale = 1.0\n",
    "\n",
    "# num_reference_points = 10\n",
    "# referencegrid = np.linspace(*bounds,num_reference_points)\n",
    "\n",
    "# num_datapoints = 15\n",
    "# datagrid = np.random.uniform(*bounds,num_datapoints)\n",
    "# data_values = func(datagrid,noise)\n",
    "# derivative_values = grad_func(datagrid,noise)\n",
    "\n",
    "# num_gridpoints = 101\n",
    "# grid = np.linspace(*bounds,num_gridpoints)"
   ]
  },
  {
   "cell_type": "code",
   "execution_count": 113,
   "metadata": {},
   "outputs": [],
   "source": [
    "# K_MM = covMatrix(reference_points=referencegrid,data_points=referencegrid,length_scale=length_scale)\n",
    "# K_MN = covMatrix(reference_points=referencegrid,data_points=datagrid,length_scale=length_scale)\n",
    "# DK_MN = dcovMatrix(reference_points=referencegrid,data_points=datagrid,length_scale=length_scale)\n",
    "# LK = np.concatenate((K_MN,DK_MN),axis=1)\n",
    "\n",
    "# S_big = sigmaMatrix(noise**2,size=2*num_datapoints)\n",
    "# S_small = sigmaMatrix(noise**2,size=num_datapoints)\n",
    "# values = np.concatenate((data_values,derivative_values))"
   ]
  },
  {
   "cell_type": "code",
   "execution_count": 114,
   "metadata": {},
   "outputs": [],
   "source": [
    "# matrix = K_MM + LK@S_big@LK.T\n",
    "# vector = LK@S_big@values\n",
    "# # vector = LK@values\n",
    "# coeff_mix = solve(matrix,vector)\n",
    "\n",
    "# matrix = K_MM + DK_MN@S_small@DK_MN.T\n",
    "# vector = DK_MN@S_small@derivative_values\n",
    "# # vector = DK_MN@derivative_values\n",
    "# coeff_der = solve(matrix,vector)\n",
    "\n",
    "# matrix = K_MM + K_MN@S_small@K_MN.T\n",
    "# vector = K_MN@S_small@data_values\n",
    "# # vector = K_MN@data_values\n",
    "# coeff_val = solve(matrix,vector)\n",
    "\n",
    "# pred_mix = [coeff_mix@RBF(x,referencegrid) for x in grid]\n",
    "# pred_der = [coeff_der@RBF(x,referencegrid) for x in grid]\n",
    "# pred_val = [coeff_val@RBF(x,referencegrid) for x in grid]"
   ]
  },
  {
   "cell_type": "code",
   "execution_count": 115,
   "metadata": {},
   "outputs": [],
   "source": [
    "# f, ax = plt.subplots(1,3,figsize=(15, 5))\n",
    "# for i in range(3):\n",
    "#     ax[i].plot(grid,func(grid),\"k--\",label=\"true\")\n",
    "#     ax[i].vlines(referencegrid,0,1,ls=\"--\",colors=\"grey\",lw=0.5,transform=ax[i].get_xaxis_transform(),label=\"ref grid\")\n",
    "#     ax[i].grid()\n",
    "#     ax[i].scatter(datagrid,data_values,c=\"r\")\n",
    "# ax[0].plot(grid,pred_mix,c=\"b\",label=\"mixed\")\n",
    "# ax[1].plot(grid,pred_der,c=\"b\",label=\"derivatives\")\n",
    "# ax[2].plot(grid,pred_val,c=\"b\",label=\"func_evals\")\n",
    "# ax[0].set_title(\"derivatives + function evals\")\n",
    "# ax[1].set_title(\"derivatives\")\n",
    "# ax[2].set_title(\"function evals\")"
   ]
  },
  {
   "attachments": {},
   "cell_type": "markdown",
   "metadata": {},
   "source": [
    "## Full GPR for 1 function value and N derivative values"
   ]
  },
  {
   "cell_type": "code",
   "execution_count": 116,
   "metadata": {},
   "outputs": [],
   "source": [
    "# bounds = np.array([0.0, np.pi])\n",
    "\n",
    "# noise = 0.05\n",
    "\n",
    "# length_scale = 1.0\n",
    "\n",
    "# num_derivpoints = 5\n",
    "# derivgrid = np.linspace(*bounds,num_derivpoints)\n",
    "# derivative_values = grad_func(derivgrid,noise)\n",
    "# num_datapoints = 3\n",
    "# datagrid = np.linspace(*bounds,num_datapoints)\n",
    "# data_values = func(datagrid,noise)\n",
    "\n",
    "# fullgrid = np.zeros(num_datapoints+num_derivpoints)\n",
    "# full_values = np.zeros(num_datapoints+num_derivpoints)\n",
    "# fullgrid[:num_datapoints] = datagrid\n",
    "# fullgrid[num_datapoints:] = derivgrid\n",
    "# full_values[:num_datapoints] = data_values\n",
    "# full_values[num_datapoints:] = derivative_values\n",
    "\n",
    "# num_gridpoints = 101\n",
    "# grid = np.linspace(*bounds,num_gridpoints)"
   ]
  },
  {
   "cell_type": "code",
   "execution_count": 117,
   "metadata": {},
   "outputs": [],
   "source": [
    "# KV = covMatrix(fullgrid[:num_datapoints],fullgrid[:num_datapoints],length_scale=length_scale)\n",
    "# KD = ddcovMatrix(fullgrid[num_datapoints:],fullgrid[num_datapoints:],length_scale=length_scale)\n",
    "# KM = dcovMatrix(fullgrid[:num_datapoints],fullgrid[num_datapoints:],length_scale=length_scale)\n",
    "\n",
    "# K_NN = np.zeros((num_datapoints+num_derivpoints,)*2)\n",
    "# K_NN[:num_datapoints,:num_datapoints] = KV\n",
    "# K_NN[num_datapoints:,num_datapoints:] = KD\n",
    "# K_NN[:num_datapoints,num_datapoints:] = KM\n",
    "# K_NN[num_datapoints:,:num_datapoints] = KM.T"
   ]
  },
  {
   "cell_type": "code",
   "execution_count": 118,
   "metadata": {},
   "outputs": [],
   "source": [
    "# invert_mat = K_NN + np.eye(num_datapoints+num_derivpoints)*noise**2\n",
    "# pred_coeff = solve(invert_mat,full_values)\n",
    "\n",
    "# prediction = np.zeros_like(grid)\n",
    "# vars = np.zeros_like(grid)\n",
    "\n",
    "# k_vec = np.zeros(num_datapoints+num_derivpoints)\n",
    "\n",
    "# for i,x in enumerate(grid):\n",
    "#     k_vec[:num_datapoints] = RBF(datagrid,x)\n",
    "#     k_vec[num_datapoints:] = dRBF(derivgrid,x)\n",
    "\n",
    "#     prediction[i] = pred_coeff@k_vec\n",
    "#     vars[i] = RBF(x,x) + noise**2 - k_vec@solve(invert_mat,k_vec)"
   ]
  },
  {
   "attachments": {},
   "cell_type": "markdown",
   "metadata": {},
   "source": [
    "derivgrid must be in first position since the measured values are those from derivatives and dRBF was defined as the derivative w.r. to the first argument!!!"
   ]
  },
  {
   "cell_type": "code",
   "execution_count": 119,
   "metadata": {},
   "outputs": [],
   "source": [
    "# def slope(x,xref,yref,grad):\n",
    "#     return grad*(x-xref) + yref"
   ]
  },
  {
   "cell_type": "code",
   "execution_count": 120,
   "metadata": {},
   "outputs": [],
   "source": [
    "# stds = np.sqrt(vars)\n",
    "\n",
    "# plt.plot(grid,prediction,\"b\",label=\"prediction\")\n",
    "# plt.fill_between(grid,prediction-2*stds,prediction+2*stds,alpha=0.5,color=\"b\",label=\"95% conf\")\n",
    "# plt.scatter(datagrid,data_values,color=\"r\")\n",
    "# for xref in derivgrid:\n",
    "#     slope_range = np.linspace(xref-0.2,xref+0.2,5)\n",
    "#     plt.plot(slope_range,slope(slope_range,xref,func(xref),grad_func(xref)),\"r\")\n",
    "#     plt.scatter(xref,func(xref),s=80,facecolors=\"none\",edgecolors=\"r\")\n",
    "# plt.plot(grid,func(grid),\"r--\",label=\"true func\")\n",
    "# plt.grid()\n",
    "# plt.legend()"
   ]
  },
  {
   "attachments": {},
   "cell_type": "markdown",
   "metadata": {},
   "source": [
    "## Sparse GPR with class"
   ]
  },
  {
   "attachments": {},
   "cell_type": "markdown",
   "metadata": {},
   "source": [
    "### class"
   ]
  },
  {
   "cell_type": "code",
   "execution_count": 121,
   "metadata": {},
   "outputs": [],
   "source": [
    "class sparseGPR:\n",
    "    def __init__(self,kernel,num_datapoints=None,num_derivpoints=None,X_ref=None,noise=1e-5) -> None:\n",
    "        self.kernel = kernel\n",
    "\n",
    "        self.num_datapoints = num_datapoints\n",
    "        self.num_derivpoints = num_derivpoints\n",
    "\n",
    "        # X_ref must be given for now!!!!!\n",
    "        if X_ref is None:\n",
    "            raise ValueError(\"X_ref can't be None!\")\n",
    "        self.X_ref = X_ref\n",
    "        self.num_referencepoints = len(X_ref)\n",
    "        self.K_MM = self._create_covMatrix(self.X_ref,self.X_ref,self.kernel.eval)\n",
    "\n",
    "        self.noise = noise\n",
    "        self.regress_coeff = None\n",
    "        self.fit_vector = None\n",
    "        self.fit_matrix = None\n",
    "\n",
    "    def fit(self,X_data,Y_data) -> None:\n",
    "        '''\n",
    "            X_data ... (datapoint_1, ..., datapoint_N1, derivpoint_1, ..., derivpoint_N2)\n",
    "            Y_data ... same shape as X_data\n",
    "            \n",
    "            for now X_ref must be given!!!!\n",
    "        '''\n",
    "        X_func = X_data[:self.num_datapoints]\n",
    "        X_deriv = X_data[self.num_datapoints:]\n",
    "        \n",
    "        K_func = self._create_covMatrix(self.X_ref,X_func,self.kernel.eval)\n",
    "        K_deriv = self._create_covMatrix(self.X_ref,X_deriv,self.kernel.dx2)\n",
    "        K_MN = np.concatenate((K_func,K_deriv),axis=0)\n",
    "\n",
    "        print(K_func.shape,K_deriv.shape,K_MN.shape,sep=\"\\n\\n\")\n",
    "\n",
    "        self.fit_matrix = self.K_MM + K_MN.T@K_MN / self.noise**2\n",
    "        self.fit_vector = K_MN.T@Y_data / self.noise**2\n",
    "\n",
    "    def predict(self,X, return_std=False):\n",
    "        '''\n",
    "            for now X_ref must be given in self.fit!!!\n",
    "        '''\n",
    "        if self.fit_matrix is None or self.fit_vector is None:\n",
    "            raise ValueError(\"GPR not correctly fitted!\")\n",
    "        if self.X_ref is None:\n",
    "            raise ValueError(\"X_ref can't be None!\")\n",
    "        \n",
    "        ref_vectors = self._create_covMatrix(self.X_ref,X,self.kernel.eval).T\n",
    "        X_cov = self.kernel.eval(X,X)\n",
    "\n",
    "        means = ref_vectors.T@solve(self.fit_matrix,self.fit_vector)\n",
    "\n",
    "        if return_std:\n",
    "            stds = np.sqrt(X_cov + self.noise**2 - ref_vectors.T@solve(self.K_MM + self.fit_matrix,ref_vectors))\n",
    "            return means, stds\n",
    "        \n",
    "        return means\n",
    "    \n",
    "    def _create_covMatrix(self, reference_points, data_points, kernel):\n",
    "        xs,ys = np.meshgrid(reference_points,data_points,sparse=True)\n",
    "        mat = kernel(xs,ys)\n",
    "        \n",
    "        return mat\n",
    "\n",
    "class RBF:\n",
    "    def __init__(self,length_scale=1.0,coeff=1.0):\n",
    "        self.length_scale = length_scale\n",
    "        self.coeff = coeff\n",
    "\n",
    "    def eval(self,x1,x2):\n",
    "        return self.coeff*np.exp(-0.5/self.length_scale**2 * (x1-x2)**2)\n",
    "    \n",
    "    def dx2(self,x1,x2):\n",
    "        return (x1-x2)/self.length_scale**2 * self.eval(x1,x2)\n",
    "    \n",
    "    def ddx1x2(self,x1,x2):\n",
    "        return (1 - (x1-x2)**2 / self.length_scale**2) / self.length_scale**2 * self.eval(x1,x2)"
   ]
  },
  {
   "attachments": {},
   "cell_type": "markdown",
   "metadata": {},
   "source": [
    "### calc"
   ]
  },
  {
   "cell_type": "code",
   "execution_count": 122,
   "metadata": {},
   "outputs": [],
   "source": [
    "# import gaussian_process_regression as gpr"
   ]
  },
  {
   "cell_type": "code",
   "execution_count": 123,
   "metadata": {},
   "outputs": [],
   "source": [
    "bounds = np.array([0.0, np.pi])\n",
    "\n",
    "noise = 0.1\n",
    "\n",
    "length_scale = 1.0\n",
    "\n",
    "num_datapoints = 15\n",
    "datagrid = np.linspace(*bounds,num_datapoints)\n",
    "data_values = func(datagrid,noise)\n",
    "derivative_values = grad_func(datagrid,noise)\n",
    "\n",
    "X_data = np.concatenate((datagrid,datagrid))\n",
    "Y_data = np.concatenate((data_values,derivative_values))\n",
    "\n",
    "referencegrid = datagrid\n",
    "\n",
    "num_gridpoints = 101\n",
    "grid = np.linspace(*bounds,num_gridpoints)\n",
    "\n",
    "kernel = RBF()\n",
    "model = sparseGPR(kernel,num_datapoints,num_datapoints,referencegrid,noise)"
   ]
  },
  {
   "cell_type": "code",
   "execution_count": 124,
   "metadata": {},
   "outputs": [
    {
     "name": "stdout",
     "output_type": "stream",
     "text": [
      "(30,)\n",
      "(30,)\n"
     ]
    }
   ],
   "source": [
    "print(X_data.shape)\n",
    "print(Y_data.shape)"
   ]
  },
  {
   "cell_type": "code",
   "execution_count": 125,
   "metadata": {},
   "outputs": [
    {
     "name": "stdout",
     "output_type": "stream",
     "text": [
      "(15, 15)\n",
      "\n",
      "(15, 15)\n",
      "\n",
      "(30, 15)\n"
     ]
    }
   ],
   "source": [
    "model.fit(X_data,Y_data)"
   ]
  },
  {
   "cell_type": "code",
   "execution_count": 126,
   "metadata": {},
   "outputs": [
    {
     "name": "stderr",
     "output_type": "stream",
     "text": [
      "C:\\Users\\lukas\\AppData\\Local\\Temp\\ipykernel_8320\\843409950.py:51: LinAlgWarning: Ill-conditioned matrix (rcond=2.68163e-17): result may not be accurate.\n",
      "  means = ref_vectors.T@solve(self.fit_matrix,self.fit_vector)\n",
      "C:\\Users\\lukas\\AppData\\Local\\Temp\\ipykernel_8320\\843409950.py:54: LinAlgWarning: Ill-conditioned matrix (rcond=4.14739e-17): result may not be accurate.\n",
      "  stds = np.sqrt(X_cov + self.noise**2 - ref_vectors.T@solve(self.K_MM + self.fit_matrix,ref_vectors))\n"
     ]
    }
   ],
   "source": [
    "# print(model.fit_matrix.shape)\n",
    "(means, stds) = model.predict(grid,True)"
   ]
  },
  {
   "cell_type": "code",
   "execution_count": 129,
   "metadata": {},
   "outputs": [
    {
     "name": "stdout",
     "output_type": "stream",
     "text": [
      "(101,) (101, 101)\n"
     ]
    },
    {
     "ename": "ValueError",
     "evalue": "'y1' is not 1-dimensional",
     "output_type": "error",
     "traceback": [
      "\u001b[1;31m---------------------------------------------------------------------------\u001b[0m",
      "\u001b[1;31mValueError\u001b[0m                                Traceback (most recent call last)",
      "Cell \u001b[1;32mIn[129], line 3\u001b[0m\n\u001b[0;32m      1\u001b[0m plt\u001b[39m.\u001b[39mplot(grid,means)\n\u001b[0;32m      2\u001b[0m \u001b[39mprint\u001b[39m(means\u001b[39m.\u001b[39mshape,stds\u001b[39m.\u001b[39mshape)\n\u001b[1;32m----> 3\u001b[0m plt\u001b[39m.\u001b[39;49mfill_between(grid,means\u001b[39m-\u001b[39;49mstds,means\u001b[39m+\u001b[39;49mstds)\n",
      "File \u001b[1;32md:\\anaconda3\\envs\\bayesopt\\lib\\site-packages\\matplotlib\\pyplot.py:2571\u001b[0m, in \u001b[0;36mfill_between\u001b[1;34m(x, y1, y2, where, interpolate, step, data, **kwargs)\u001b[0m\n\u001b[0;32m   2567\u001b[0m \u001b[39m@_copy_docstring_and_deprecators\u001b[39m(Axes\u001b[39m.\u001b[39mfill_between)\n\u001b[0;32m   2568\u001b[0m \u001b[39mdef\u001b[39;00m \u001b[39mfill_between\u001b[39m(\n\u001b[0;32m   2569\u001b[0m         x, y1, y2\u001b[39m=\u001b[39m\u001b[39m0\u001b[39m, where\u001b[39m=\u001b[39m\u001b[39mNone\u001b[39;00m, interpolate\u001b[39m=\u001b[39m\u001b[39mFalse\u001b[39;00m, step\u001b[39m=\u001b[39m\u001b[39mNone\u001b[39;00m, \u001b[39m*\u001b[39m,\n\u001b[0;32m   2570\u001b[0m         data\u001b[39m=\u001b[39m\u001b[39mNone\u001b[39;00m, \u001b[39m*\u001b[39m\u001b[39m*\u001b[39mkwargs):\n\u001b[1;32m-> 2571\u001b[0m     \u001b[39mreturn\u001b[39;00m gca()\u001b[39m.\u001b[39mfill_between(\n\u001b[0;32m   2572\u001b[0m         x, y1, y2\u001b[39m=\u001b[39my2, where\u001b[39m=\u001b[39mwhere, interpolate\u001b[39m=\u001b[39minterpolate, step\u001b[39m=\u001b[39mstep,\n\u001b[0;32m   2573\u001b[0m         \u001b[39m*\u001b[39m\u001b[39m*\u001b[39m({\u001b[39m\"\u001b[39m\u001b[39mdata\u001b[39m\u001b[39m\"\u001b[39m: data} \u001b[39mif\u001b[39;00m data \u001b[39mis\u001b[39;00m \u001b[39mnot\u001b[39;00m \u001b[39mNone\u001b[39;00m \u001b[39melse\u001b[39;00m {}), \u001b[39m*\u001b[39m\u001b[39m*\u001b[39mkwargs)\n",
      "File \u001b[1;32md:\\anaconda3\\envs\\bayesopt\\lib\\site-packages\\matplotlib\\__init__.py:1442\u001b[0m, in \u001b[0;36m_preprocess_data.<locals>.inner\u001b[1;34m(ax, data, *args, **kwargs)\u001b[0m\n\u001b[0;32m   1439\u001b[0m \u001b[39m@functools\u001b[39m\u001b[39m.\u001b[39mwraps(func)\n\u001b[0;32m   1440\u001b[0m \u001b[39mdef\u001b[39;00m \u001b[39minner\u001b[39m(ax, \u001b[39m*\u001b[39margs, data\u001b[39m=\u001b[39m\u001b[39mNone\u001b[39;00m, \u001b[39m*\u001b[39m\u001b[39m*\u001b[39mkwargs):\n\u001b[0;32m   1441\u001b[0m     \u001b[39mif\u001b[39;00m data \u001b[39mis\u001b[39;00m \u001b[39mNone\u001b[39;00m:\n\u001b[1;32m-> 1442\u001b[0m         \u001b[39mreturn\u001b[39;00m func(ax, \u001b[39m*\u001b[39m\u001b[39mmap\u001b[39m(sanitize_sequence, args), \u001b[39m*\u001b[39m\u001b[39m*\u001b[39mkwargs)\n\u001b[0;32m   1444\u001b[0m     bound \u001b[39m=\u001b[39m new_sig\u001b[39m.\u001b[39mbind(ax, \u001b[39m*\u001b[39margs, \u001b[39m*\u001b[39m\u001b[39m*\u001b[39mkwargs)\n\u001b[0;32m   1445\u001b[0m     auto_label \u001b[39m=\u001b[39m (bound\u001b[39m.\u001b[39marguments\u001b[39m.\u001b[39mget(label_namer)\n\u001b[0;32m   1446\u001b[0m                   \u001b[39mor\u001b[39;00m bound\u001b[39m.\u001b[39mkwargs\u001b[39m.\u001b[39mget(label_namer))\n",
      "File \u001b[1;32md:\\anaconda3\\envs\\bayesopt\\lib\\site-packages\\matplotlib\\axes\\_axes.py:5431\u001b[0m, in \u001b[0;36mAxes.fill_between\u001b[1;34m(self, x, y1, y2, where, interpolate, step, **kwargs)\u001b[0m\n\u001b[0;32m   5429\u001b[0m \u001b[39mdef\u001b[39;00m \u001b[39mfill_between\u001b[39m(\u001b[39mself\u001b[39m, x, y1, y2\u001b[39m=\u001b[39m\u001b[39m0\u001b[39m, where\u001b[39m=\u001b[39m\u001b[39mNone\u001b[39;00m, interpolate\u001b[39m=\u001b[39m\u001b[39mFalse\u001b[39;00m,\n\u001b[0;32m   5430\u001b[0m                  step\u001b[39m=\u001b[39m\u001b[39mNone\u001b[39;00m, \u001b[39m*\u001b[39m\u001b[39m*\u001b[39mkwargs):\n\u001b[1;32m-> 5431\u001b[0m     \u001b[39mreturn\u001b[39;00m \u001b[39mself\u001b[39m\u001b[39m.\u001b[39m_fill_between_x_or_y(\n\u001b[0;32m   5432\u001b[0m         \u001b[39m\"\u001b[39m\u001b[39mx\u001b[39m\u001b[39m\"\u001b[39m, x, y1, y2,\n\u001b[0;32m   5433\u001b[0m         where\u001b[39m=\u001b[39mwhere, interpolate\u001b[39m=\u001b[39minterpolate, step\u001b[39m=\u001b[39mstep, \u001b[39m*\u001b[39m\u001b[39m*\u001b[39mkwargs)\n",
      "File \u001b[1;32md:\\anaconda3\\envs\\bayesopt\\lib\\site-packages\\matplotlib\\axes\\_axes.py:5343\u001b[0m, in \u001b[0;36mAxes._fill_between_x_or_y\u001b[1;34m(self, ind_dir, ind, dep1, dep2, where, interpolate, step, **kwargs)\u001b[0m\n\u001b[0;32m   5340\u001b[0m \u001b[39mfor\u001b[39;00m name, array \u001b[39min\u001b[39;00m [\n\u001b[0;32m   5341\u001b[0m         (ind_dir, ind), (\u001b[39mf\u001b[39m\u001b[39m\"\u001b[39m\u001b[39m{\u001b[39;00mdep_dir\u001b[39m}\u001b[39;00m\u001b[39m1\u001b[39m\u001b[39m\"\u001b[39m, dep1), (\u001b[39mf\u001b[39m\u001b[39m\"\u001b[39m\u001b[39m{\u001b[39;00mdep_dir\u001b[39m}\u001b[39;00m\u001b[39m2\u001b[39m\u001b[39m\"\u001b[39m, dep2)]:\n\u001b[0;32m   5342\u001b[0m     \u001b[39mif\u001b[39;00m array\u001b[39m.\u001b[39mndim \u001b[39m>\u001b[39m \u001b[39m1\u001b[39m:\n\u001b[1;32m-> 5343\u001b[0m         \u001b[39mraise\u001b[39;00m \u001b[39mValueError\u001b[39;00m(\u001b[39mf\u001b[39m\u001b[39m\"\u001b[39m\u001b[39m{\u001b[39;00mname\u001b[39m!r}\u001b[39;00m\u001b[39m is not 1-dimensional\u001b[39m\u001b[39m\"\u001b[39m)\n\u001b[0;32m   5345\u001b[0m \u001b[39mif\u001b[39;00m where \u001b[39mis\u001b[39;00m \u001b[39mNone\u001b[39;00m:\n\u001b[0;32m   5346\u001b[0m     where \u001b[39m=\u001b[39m \u001b[39mTrue\u001b[39;00m\n",
      "\u001b[1;31mValueError\u001b[0m: 'y1' is not 1-dimensional"
     ]
    },
    {
     "data": {
      "image/png": "[encoded data removed]",
      "text/plain": [
       "<Figure size 640x480 with 1 Axes>"
      ]
     },
     "metadata": {},
     "output_type": "display_data"
    }
   ],
   "source": [
    "plt.plot(grid,means)\n",
    "print(means.shape,stds.shape)\n",
    "plt.fill_between(grid,means-stds,means+stds)"
   ]
  },
  {
   "cell_type": "code",
   "execution_count": null,
   "metadata": {},
   "outputs": [],
   "source": []
  }
 ],
 "metadata": {
  "kernelspec": {
   "display_name": "bayesopt",
   "language": "python",
   "name": "python3"
  },
  "language_info": {
   "codemirror_mode": {
    "name": "ipython",
    "version": 3
   },
   "file_extension": ".py",
   "mimetype": "text/x-python",
   "name": "python",
   "nbconvert_exporter": "python",
   "pygments_lexer": "ipython3",
   "version": "3.9.16"
  },
  "orig_nbformat": 4
 },
 "nbformat": 4,
 "nbformat_minor": 2
}
