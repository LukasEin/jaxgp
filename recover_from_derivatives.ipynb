{
 "cells": [
  {
   "cell_type": "code",
   "execution_count": 1042,
   "metadata": {},
   "outputs": [],
   "source": [
    "import numpy as np\n",
    "import matplotlib.pyplot as plt\n",
    "from scipy.linalg import solve"
   ]
  },
  {
   "cell_type": "code",
   "execution_count": 1043,
   "metadata": {},
   "outputs": [],
   "source": [
    "def RBF(x1,x2,*,length_scale=1.0):\n",
    "    return np.exp(-0.5/length_scale**2 * (x1-x2)**2)\n",
    "\n",
    "def dRBF(x1,x2,*,length_scale=1.0):\n",
    "    return -(x1-x2)/length_scale**2 * RBF(x1,x2,length_scale=length_scale)\n",
    "\n",
    "def ddRBF(x1,x2,*,length_scale=1.0):\n",
    "    return (1 - (x1-x2)**2 / length_scale**2) / length_scale**2 * RBF(x1,x2,length_scale=length_scale)\n",
    "\n",
    "def covMatrix(reference_points,data_points,*,length_scale=1.0):\n",
    "    xs,ys = np.meshgrid(data_points,reference_points,sparse=True)\n",
    "    mat = RBF(xs,ys,length_scale=length_scale)\n",
    "    \n",
    "    return mat\n",
    "\n",
    "def dcovMatrix(reference_points,data_points,*,length_scale=1.0):\n",
    "    xs,ys = np.meshgrid(data_points,reference_points,sparse=True)\n",
    "    mat = dRBF(xs,ys,length_scale=length_scale)\n",
    "    \n",
    "    return mat\n",
    "\n",
    "def ddcovMatrix(reference_points,data_points,*,length_scale=1.0):\n",
    "    xs,ys = np.meshgrid(data_points,reference_points,sparse=True)\n",
    "    mat = ddRBF(xs,ys,length_scale=length_scale)\n",
    "    \n",
    "    return mat\n",
    "\n",
    "def sigmaMatrix(sigma_sq,*,size=0):\n",
    "    if np.isscalar(sigma_sq):\n",
    "        return np.eye(size) / sigma_sq\n",
    "    \n",
    "    return np.diag(1 / sigma_sq)"
   ]
  },
  {
   "cell_type": "code",
   "execution_count": 1044,
   "metadata": {},
   "outputs": [],
   "source": [
    "def func(x,noise=0.0):\n",
    "    return np.sin(x) + noise*np.random.randn(*x.shape)\n",
    "\n",
    "def grad_func(x,noise=0.0):\n",
    "    return np.cos(x) + noise*np.random.randn(*x.shape)"
   ]
  },
  {
   "attachments": {},
   "cell_type": "markdown",
   "metadata": {},
   "source": [
    "## Sparse GPR"
   ]
  },
  {
   "cell_type": "code",
   "execution_count": 1045,
   "metadata": {},
   "outputs": [],
   "source": [
    "# bounds = np.array([0.0, np.pi])\n",
    "\n",
    "# noise = 0.1\n",
    "\n",
    "# length_scale = 1.0\n",
    "\n",
    "# num_reference_points = 10\n",
    "# referencegrid = np.linspace(*bounds,num_reference_points)\n",
    "\n",
    "# num_datapoints = 15\n",
    "# datagrid = np.random.uniform(*bounds,num_datapoints)\n",
    "# data_values = func(datagrid,noise)\n",
    "# derivative_values = grad_func(datagrid,noise)\n",
    "\n",
    "# num_gridpoints = 101\n",
    "# grid = np.linspace(*bounds,num_gridpoints)"
   ]
  },
  {
   "cell_type": "code",
   "execution_count": 1046,
   "metadata": {},
   "outputs": [],
   "source": [
    "# K_MM = covMatrix(reference_points=referencegrid,data_points=referencegrid,length_scale=length_scale)\n",
    "# K_MN = covMatrix(reference_points=referencegrid,data_points=datagrid,length_scale=length_scale)\n",
    "# DK_MN = dcovMatrix(reference_points=referencegrid,data_points=datagrid,length_scale=length_scale)\n",
    "# LK = np.concatenate((K_MN,DK_MN),axis=1)\n",
    "\n",
    "# S_big = sigmaMatrix(noise**2,size=2*num_datapoints)\n",
    "# S_small = sigmaMatrix(noise**2,size=num_datapoints)\n",
    "# values = np.concatenate((data_values,derivative_values))"
   ]
  },
  {
   "cell_type": "code",
   "execution_count": 1047,
   "metadata": {},
   "outputs": [],
   "source": [
    "# matrix = K_MM + LK@S_big@LK.T\n",
    "# vector = LK@S_big@values\n",
    "# # vector = LK@values\n",
    "# coeff_mix = solve(matrix,vector)\n",
    "\n",
    "# matrix = K_MM + DK_MN@S_small@DK_MN.T\n",
    "# vector = DK_MN@S_small@derivative_values\n",
    "# # vector = DK_MN@derivative_values\n",
    "# coeff_der = solve(matrix,vector)\n",
    "\n",
    "# matrix = K_MM + K_MN@S_small@K_MN.T\n",
    "# vector = K_MN@S_small@data_values\n",
    "# # vector = K_MN@data_values\n",
    "# coeff_val = solve(matrix,vector)\n",
    "\n",
    "# pred_mix = [coeff_mix@RBF(x,referencegrid) for x in grid]\n",
    "# pred_der = [coeff_der@RBF(x,referencegrid) for x in grid]\n",
    "# pred_val = [coeff_val@RBF(x,referencegrid) for x in grid]"
   ]
  },
  {
   "cell_type": "code",
   "execution_count": 1048,
   "metadata": {},
   "outputs": [],
   "source": [
    "# f, ax = plt.subplots(1,3,figsize=(15, 5))\n",
    "# for i in range(3):\n",
    "#     ax[i].plot(grid,func(grid),\"k--\",label=\"true\")\n",
    "#     ax[i].vlines(referencegrid,0,1,ls=\"--\",colors=\"grey\",lw=0.5,transform=ax[i].get_xaxis_transform(),label=\"ref grid\")\n",
    "#     ax[i].grid()\n",
    "#     ax[i].scatter(datagrid,data_values,c=\"r\")\n",
    "# ax[0].plot(grid,pred_mix,c=\"b\",label=\"mixed\")\n",
    "# ax[1].plot(grid,pred_der,c=\"b\",label=\"derivatives\")\n",
    "# ax[2].plot(grid,pred_val,c=\"b\",label=\"func_evals\")\n",
    "# ax[0].set_title(\"derivatives + function evals\")\n",
    "# ax[1].set_title(\"derivatives\")\n",
    "# ax[2].set_title(\"function evals\")"
   ]
  },
  {
   "attachments": {},
   "cell_type": "markdown",
   "metadata": {},
   "source": [
    "## Full GPR for 1 function value and N derivative values"
   ]
  },
  {
   "cell_type": "code",
   "execution_count": 1049,
   "metadata": {},
   "outputs": [],
   "source": [
    "# bounds = np.array([0.0, np.pi])\n",
    "\n",
    "# noise = 0.05\n",
    "\n",
    "# length_scale = 1.0\n",
    "\n",
    "# num_derivpoints = 5\n",
    "# derivgrid = np.linspace(*bounds,num_derivpoints)\n",
    "# derivative_values = grad_func(derivgrid,noise)\n",
    "# num_datapoints = 3\n",
    "# datagrid = np.linspace(*bounds,num_datapoints)\n",
    "# data_values = func(datagrid,noise)\n",
    "\n",
    "# fullgrid = np.zeros(num_datapoints+num_derivpoints)\n",
    "# full_values = np.zeros(num_datapoints+num_derivpoints)\n",
    "# fullgrid[:num_datapoints] = datagrid\n",
    "# fullgrid[num_datapoints:] = derivgrid\n",
    "# full_values[:num_datapoints] = data_values\n",
    "# full_values[num_datapoints:] = derivative_values\n",
    "\n",
    "# num_gridpoints = 101\n",
    "# grid = np.linspace(*bounds,num_gridpoints)"
   ]
  },
  {
   "cell_type": "code",
   "execution_count": 1050,
   "metadata": {},
   "outputs": [],
   "source": [
    "# KV = covMatrix(fullgrid[:num_datapoints],fullgrid[:num_datapoints],length_scale=length_scale)\n",
    "# KD = ddcovMatrix(fullgrid[num_datapoints:],fullgrid[num_datapoints:],length_scale=length_scale)\n",
    "# KM = dcovMatrix(fullgrid[:num_datapoints],fullgrid[num_datapoints:],length_scale=length_scale)\n",
    "\n",
    "# K_NN = np.zeros((num_datapoints+num_derivpoints,)*2)\n",
    "# K_NN[:num_datapoints,:num_datapoints] = KV\n",
    "# K_NN[num_datapoints:,num_datapoints:] = KD\n",
    "# K_NN[:num_datapoints,num_datapoints:] = KM\n",
    "# K_NN[num_datapoints:,:num_datapoints] = KM.T"
   ]
  },
  {
   "cell_type": "code",
   "execution_count": 1051,
   "metadata": {},
   "outputs": [],
   "source": [
    "# invert_mat = K_NN + np.eye(num_datapoints+num_derivpoints)*noise**2\n",
    "# pred_coeff = solve(invert_mat,full_values)\n",
    "\n",
    "# prediction = np.zeros_like(grid)\n",
    "# vars = np.zeros_like(grid)\n",
    "\n",
    "# k_vec = np.zeros(num_datapoints+num_derivpoints)\n",
    "\n",
    "# for i,x in enumerate(grid):\n",
    "#     k_vec[:num_datapoints] = RBF(datagrid,x)\n",
    "#     k_vec[num_datapoints:] = dRBF(derivgrid,x)\n",
    "\n",
    "#     prediction[i] = pred_coeff@k_vec\n",
    "#     vars[i] = RBF(x,x) + noise**2 - k_vec@solve(invert_mat,k_vec)"
   ]
  },
  {
   "attachments": {},
   "cell_type": "markdown",
   "metadata": {},
   "source": [
    "derivgrid must be in first position since the measured values are those from derivatives and dRBF was defined as the derivative w.r. to the first argument!!!"
   ]
  },
  {
   "cell_type": "code",
   "execution_count": 1052,
   "metadata": {},
   "outputs": [],
   "source": [
    "# def slope(x,xref,yref,grad):\n",
    "#     return grad*(x-xref) + yref"
   ]
  },
  {
   "cell_type": "code",
   "execution_count": 1053,
   "metadata": {},
   "outputs": [],
   "source": [
    "# stds = np.sqrt(vars)\n",
    "\n",
    "# plt.plot(grid,prediction,\"b\",label=\"prediction\")\n",
    "# plt.fill_between(grid,prediction-2*stds,prediction+2*stds,alpha=0.5,color=\"b\",label=\"95% conf\")\n",
    "# plt.scatter(datagrid,data_values,color=\"r\")\n",
    "# for xref in derivgrid:\n",
    "#     slope_range = np.linspace(xref-0.2,xref+0.2,5)\n",
    "#     plt.plot(slope_range,slope(slope_range,xref,func(xref),grad_func(xref)),\"r\")\n",
    "#     plt.scatter(xref,func(xref),s=80,facecolors=\"none\",edgecolors=\"r\")\n",
    "# plt.plot(grid,func(grid),\"r--\",label=\"true func\")\n",
    "# plt.grid()\n",
    "# plt.legend()"
   ]
  },
  {
   "attachments": {},
   "cell_type": "markdown",
   "metadata": {},
   "source": [
    "## Sparse GPR with class"
   ]
  },
  {
   "attachments": {},
   "cell_type": "markdown",
   "metadata": {},
   "source": [
    "### class"
   ]
  },
  {
   "cell_type": "code",
   "execution_count": 1054,
   "metadata": {},
   "outputs": [],
   "source": [
    "class sparseGPR:\n",
    "    def __init__(self, kernel, num_datapoints=None, num_derivpoints=None, X_ref=None, *, sparse_method=\"ppa\", noise_var=1e-6) -> None:\n",
    "        self.kernel = kernel\n",
    "\n",
    "        self.num_datapoints = num_datapoints\n",
    "        self.num_derivpoints = num_derivpoints\n",
    "\n",
    "        # X_ref must be given for now!!!!!\n",
    "        if X_ref is None:\n",
    "            raise ValueError(\"X_ref can't be None!\")\n",
    "        self.X_ref = X_ref\n",
    "        self.num_referencepoints = len(X_ref)\n",
    "        self._K_ref = self._create_covMatrix(self.X_ref,self.X_ref,self.kernel.eval)\n",
    "\n",
    "        sparse_methods = [\"ppa\", \"sor\", \"ny\"]\n",
    "        if sparse_method not in sparse_methods:\n",
    "            raise ValueError(\"Unrecognized sparsification method chosen!\")\n",
    "        self.sparse_method = sparse_method\n",
    "\n",
    "        self.noise_var = noise_var\n",
    "        self._fit_vector = None\n",
    "        self._fit_matrix = None\n",
    "\n",
    "        self.X_data = None\n",
    "        self.Y_data = None\n",
    "\n",
    "    def fit(self, X_data, Y_data) -> None:\n",
    "        '''\n",
    "            X_data ... (datapoint_1, ..., datapoint_N1, derivpoint_1, ..., derivpoint_N2)\n",
    "            Y_data ... same shape as X_data\n",
    "            \n",
    "            for now X_ref must be given!!!!\n",
    "        '''\n",
    "        self.X_data = X_data\n",
    "        self.Y_data = Y_data\n",
    "\n",
    "        if self.sparse_method == \"ppa\" or self.sparse_method == \"sor\":\n",
    "            self._fit_PPA_SoR()\n",
    "        elif self.sparse_method == \"ny\":\n",
    "            self._fit_nystrom()\n",
    "        else:\n",
    "            raise ValueError(\"Unrecognized sprasification method chosen\")\n",
    "\n",
    "    def predict(self,X, return_std=False):\n",
    "        '''\n",
    "            for now X_ref must be given!!!\n",
    "        '''\n",
    "        if self.sparse_method == \"ppa\":\n",
    "            return self._predict_PPA(X,return_std)\n",
    "        elif self.sparse_method == \"sor\":\n",
    "            return self._predict_SoR(X,return_std)\n",
    "        elif self.sparse_method == \"ny\":\n",
    "            return self._predict_Ny(X,return_std)\n",
    "        \n",
    "        raise ValueError(\"Unrecognized sprasification method chosen\")\n",
    "    \n",
    "    def _fit_PPA_SoR(self) -> None:\n",
    "        '''\n",
    "            Fits the GPR based on the Projected Process Approximation and Subset of Regressors\n",
    "            The difference between the two methods lies in their predict function\n",
    "\n",
    "            X_data ...  (datapoint_1, ..., datapoint_N1, derivpoint_1, ..., derivpoint_N2)\n",
    "                        N1 must equal self.num_datapoints and N2 must equal self.num_derivpoints\n",
    "            Y_data ...  same shape as X_data\n",
    "        '''\n",
    "        X_func = self.X_data[:self.num_datapoints]\n",
    "        X_deriv = self.X_data[self.num_datapoints:]\n",
    "        \n",
    "        K_func = self._create_covMatrix(self.X_ref,X_func,self.kernel.eval)\n",
    "        K_deriv = self._create_covMatrix(self.X_ref,X_deriv,self.kernel.dx2)\n",
    "        K_MN = np.concatenate((K_func,K_deriv),axis=0).T\n",
    "\n",
    "        # added small positive diagonal to make the matrix positive definite\n",
    "        self._fit_matrix = self.noise_var * self._K_ref + K_MN@K_MN.T + np.eye(len(self.X_ref))*1e-10\n",
    "        self._fit_vector = K_MN@self.Y_data\n",
    "\n",
    "    def _fit_nystrom(self) -> None:\n",
    "        '''\n",
    "            Fits the GPR based on the Nystroem Method\n",
    "\n",
    "            X_data ...  (datapoint_1, ..., datapoint_N1, derivpoint_1, ..., derivpoint_N2)\n",
    "                        N1 must equal self.num_datapoints and N2 must equal self.num_derivpoints\n",
    "            Y_data ...  same shape as X_data\n",
    "        '''\n",
    "        X_func = self.X_data[:self.num_datapoints]\n",
    "        X_deriv = self.X_data[self.num_datapoints:]\n",
    "        \n",
    "        K_func = self._create_covMatrix(self.X_ref,X_func,self.kernel.eval)\n",
    "        K_deriv = self._create_covMatrix(self.X_ref,X_deriv,self.kernel.dx2)\n",
    "        K_MN = np.concatenate((K_func,K_deriv),axis=0).T\n",
    "\n",
    "        # added small positive diagonal to make the matrix positive definite\n",
    "        temp = self.noise_var * self._K_ref + K_MN@K_MN.T + np.eye(len(self.X_ref))*1e-10\n",
    "        self._fit_matrix = (np.eye(len(self.X_data)) - K_MN.T@solve(temp,K_MN)) / self.noise_var\n",
    "\n",
    "    def _predict_PPA(self, X, return_std=False):\n",
    "        '''\n",
    "            Calculates the posterior means and standard deviations for the Projected Process Approximation\n",
    "        '''\n",
    "        if self._fit_matrix is None or self._fit_vector is None:\n",
    "            raise ValueError(\"GPR not correctly fitted!\")\n",
    "        if self.X_ref is None:\n",
    "            raise ValueError(\"X_ref can't be None!\")\n",
    "        \n",
    "        ref_vectors = self._create_covMatrix(self.X_ref,X,self.kernel.eval)\n",
    "\n",
    "        means = ref_vectors@solve(self._fit_matrix,self._fit_vector)\n",
    "\n",
    "        if return_std:\n",
    "            X_cov = self.kernel.eval(X,X)\n",
    "            first_temp = np.array([k.T@solve(self._K_ref + np.eye(len(self.X_ref))*1e-10,k) for k in ref_vectors])\n",
    "            second_temp =  self.noise_var * np.array([k.T@solve(self._fit_matrix,k) for k in ref_vectors])\n",
    "            \n",
    "            stds = np.sqrt(X_cov - first_temp + second_temp)\n",
    "            \n",
    "            return means, stds\n",
    "        \n",
    "        return means\n",
    "\n",
    "    def _predict_SoR(self, X, return_std=False):\n",
    "        '''\n",
    "            Calculates the posterior means and standard deviations for the Subset of Regressors\n",
    "        '''\n",
    "        if self._fit_matrix is None or self._fit_vector is None:\n",
    "            raise ValueError(\"GPR not correctly fitted!\")\n",
    "        if self.X_ref is None:\n",
    "            raise ValueError(\"X_ref can't be None!\")\n",
    "        \n",
    "        ref_vectors = self._create_covMatrix(self.X_ref,X,self.kernel.eval)\n",
    "\n",
    "        means = ref_vectors@solve(self._fit_matrix,self._fit_vector)\n",
    "\n",
    "        if return_std:\n",
    "            vars =  self.noise_var * np.array([k.T@solve(self._fit_matrix,k) for k in ref_vectors])\n",
    "            stds = np.sqrt(vars)\n",
    "\n",
    "            return means, stds\n",
    "        \n",
    "        return means\n",
    "    \n",
    "    def _predict_Ny(self, X, return_std=False):\n",
    "        '''\n",
    "            Calculates the posterior means and standard deviations for the Subset of Regressors\n",
    "        '''\n",
    "        if self._fit_matrix is None:\n",
    "            raise ValueError(\"GPR not correctly fitted!\")\n",
    "        if self.X_ref is None:\n",
    "            raise ValueError(\"X_ref can't be None!\")\n",
    "        \n",
    "        data_vectors = self._create_covMatrix(X, self.X_data[:self.num_datapoints], self.kernel.eval)\n",
    "        deriv_vectors = self._create_covMatrix(X, self.X_data[self.num_datapoints:], self.kernel.dx2)\n",
    "        full_vectors = np.concatenate((data_vectors,deriv_vectors),axis=0).T\n",
    "\n",
    "        means = full_vectors@self._fit_matrix@self.Y_data\n",
    "\n",
    "        if return_std:\n",
    "            X_cov = self.kernel.eval(X,X)\n",
    "            temp = np.array([k.T@self._fit_matrix@k for k in full_vectors])\n",
    "            stds = np.sqrt(X_cov - temp)\n",
    "\n",
    "            return means, stds\n",
    "\n",
    "        return means\n",
    "        \n",
    "\n",
    "    def _create_covMatrix(self, reference_points, data_points, kernel):\n",
    "        xs,ys = np.meshgrid(reference_points,data_points,sparse=True)\n",
    "        mat = kernel(xs,ys)\n",
    "        \n",
    "        return mat\n",
    "\n",
    "class RBF:\n",
    "    def __init__(self,length_scale=1.0,coeff=1.0):\n",
    "        self.length_scale = length_scale\n",
    "        self.coeff = coeff\n",
    "\n",
    "    def eval(self,x1,x2):\n",
    "        return self.coeff*np.exp(-0.5/self.length_scale**2 * (x1-x2)**2)\n",
    "    \n",
    "    def dx2(self,x1,x2):\n",
    "        return (x1-x2)/self.length_scale**2 * self.eval(x1,x2)\n",
    "    \n",
    "    def ddx1x2(self,x1,x2):\n",
    "        return (1 - (x1-x2)**2 / self.length_scale**2) / self.length_scale**2 * self.eval(x1,x2)"
   ]
  },
  {
   "attachments": {},
   "cell_type": "markdown",
   "metadata": {},
   "source": [
    "### calc"
   ]
  },
  {
   "cell_type": "code",
   "execution_count": 1055,
   "metadata": {},
   "outputs": [],
   "source": [
    "# import gaussian_process_regression as gpr"
   ]
  },
  {
   "cell_type": "code",
   "execution_count": 1056,
   "metadata": {},
   "outputs": [],
   "source": [
    "bounds = np.array([0.0, np.pi])\n",
    "\n",
    "noise = 0.1\n",
    "\n",
    "length_scale = 1.0\n",
    "\n",
    "num_datapoints = 15\n",
    "datagrid = np.linspace(*bounds,num_datapoints)\n",
    "data_values = func(datagrid,noise)\n",
    "derivative_values = grad_func(datagrid,noise)\n",
    "\n",
    "X_data = np.concatenate((datagrid,datagrid))\n",
    "Y_data = np.concatenate((data_values,derivative_values))\n",
    "\n",
    "referencegrid = datagrid\n",
    "\n",
    "num_gridpoints = 101\n",
    "grid = np.linspace(*bounds,num_gridpoints)\n",
    "\n",
    "sparse_method = \"ppa\"\n",
    "\n",
    "kernel = RBF()\n",
    "model = sparseGPR(kernel,num_datapoints,num_datapoints,referencegrid,sparse_method=sparse_method,noise_var=noise**2)\n",
    "# model = sparseGPR(kernel,num_datapoints,0,referencegrid,noise)"
   ]
  },
  {
   "cell_type": "code",
   "execution_count": 1057,
   "metadata": {},
   "outputs": [],
   "source": [
    "model.fit(X_data,Y_data)\n",
    "# model.fit(datagrid,data_values)"
   ]
  },
  {
   "cell_type": "code",
   "execution_count": 1058,
   "metadata": {},
   "outputs": [],
   "source": [
    "(means, stds) = model.predict(grid,True)\n",
    "# means = model.predict(grid)"
   ]
  },
  {
   "cell_type": "code",
   "execution_count": 1059,
   "metadata": {},
   "outputs": [
    {
     "data": {
      "text/plain": [
       "<matplotlib.collections.PathCollection at 0x197d3c53250>"
      ]
     },
     "execution_count": 1059,
     "metadata": {},
     "output_type": "execute_result"
    },
    {
     "data": {
      "image/png": "[encoded data removed]",
      "text/plain": [
       "<Figure size 640x480 with 1 Axes>"
      ]
     },
     "metadata": {},
     "output_type": "display_data"
    }
   ],
   "source": [
    "plt.plot(grid,means)\n",
    "plt.fill_between(grid,means-stds,means+stds,alpha=0.5)\n",
    "plt.scatter(datagrid,data_values)"
   ]
  },
  {
   "cell_type": "code",
   "execution_count": null,
   "metadata": {},
   "outputs": [],
   "source": []
  }
 ],
 "metadata": {
  "kernelspec": {
   "display_name": "bayesopt",
   "language": "python",
   "name": "python3"
  },
  "language_info": {
   "codemirror_mode": {
    "name": "ipython",
    "version": 3
   },
   "file_extension": ".py",
   "mimetype": "text/x-python",
   "name": "python",
   "nbconvert_exporter": "python",
   "pygments_lexer": "ipython3",
   "version": "3.9.16"
  },
  "orig_nbformat": 4
 },
 "nbformat": 4,
 "nbformat_minor": 2
}
