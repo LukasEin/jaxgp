{
 "cells": [
  {
   "cell_type": "code",
   "execution_count": 3,
   "metadata": {},
   "outputs": [],
   "source": [
    "import jax.numpy as jnp\n",
    "import matplotlib.pyplot as plt\n",
    "import testfunctions"
   ]
  },
  {
   "cell_type": "code",
   "execution_count": 5,
   "metadata": {},
   "outputs": [],
   "source": [
    "def sin(x):\n",
    "    return jnp.sin(2*x[0] + x[1])"
   ]
  },
  {
   "cell_type": "code",
   "execution_count": 6,
   "metadata": {},
   "outputs": [
    {
     "name": "stderr",
     "output_type": "stream",
     "text": [
      "WARNING:jax._src.lib.xla_bridge:No GPU/TPU found, falling back to CPU. (Set TF_CPP_MIN_LOG_LEVEL=0 and rerun for more info.)\n"
     ]
    }
   ],
   "source": [
    "names = [\"franke\", \"himmelblau\", \"easom\", \"ackley\", \"sin\"]\n",
    "\n",
    "optimizers = [\"L-BFGS-B\", \"TNC\", \"SLSQP\"]\n",
    "\n",
    "functions = [testfunctions.franke, testfunctions.himmelblau, testfunctions.easom, testfunctions.ackley, sin]\n",
    "\n",
    "ranges = [(jnp.array([0.0,1.0]), jnp.array([0.0,1.0])), \n",
    "          (jnp.array([-5.0,5.0]), jnp.array([-5.0,5.0])),\n",
    "          (jnp.array([-10.0,10.0]), jnp.array([-10.0,10.0])),\n",
    "          (jnp.array([-5.0,5.0]), jnp.array([-5.0,5.0])),\n",
    "          (jnp.array([0.0,2*jnp.pi]), jnp.array([0.0,2*jnp.pi]))]\n",
    "\n",
    "\n",
    "num_gridpoints = jnp.array([100,100])"
   ]
  },
  {
   "cell_type": "code",
   "execution_count": 33,
   "metadata": {},
   "outputs": [],
   "source": [
    "def fun(Y, mean, std):\n",
    "    counts = jnp.where(jnp.abs(Y-mean) <= std, 0, 1)\n",
    "    return counts, jnp.sum(counts)"
   ]
  },
  {
   "cell_type": "code",
   "execution_count": 34,
   "metadata": {},
   "outputs": [],
   "source": [
    "X, Y = testfunctions.create_training_data_2D(0, num_gridpoints, ranges[-1], 0.0, sin)\n",
    "Y = Y[:,0]\n",
    "\n",
    "means = jnp.load(\"./prediction_files/sinmeansL-BFGS-B.npz\")\n",
    "stds = jnp.load(\"./prediction_files/sinstdL-BFGS-B.npz\")"
   ]
  },
  {
   "cell_type": "code",
   "execution_count": 35,
   "metadata": {},
   "outputs": [
    {
     "name": "stdout",
     "output_type": "stream",
     "text": [
      "arr_0 (10000,)\n",
      "arr_1 (10000,)\n",
      "arr_2 (10000,)\n",
      "arr_3 (10000,)\n",
      "arr_4 (10000,)\n"
     ]
    }
   ],
   "source": [
    "for name, arr in means.items():\n",
    "    print(name, arr.shape)\n"
   ]
  },
  {
   "cell_type": "code",
   "execution_count": 36,
   "metadata": {},
   "outputs": [],
   "source": [
    "counts, sum = fun(Y, means[\"arr_0\"], stds[\"arr_0\"])"
   ]
  },
  {
   "cell_type": "code",
   "execution_count": 39,
   "metadata": {},
   "outputs": [
    {
     "data": {
      "text/plain": [
       "<matplotlib.colorbar.Colorbar at 0x7f998806ae80>"
      ]
     },
     "execution_count": 39,
     "metadata": {},
     "output_type": "execute_result"
    },
    {
     "data": {
      "image/png": "[encoded data removed]",
      "text/plain": [
       "<Figure size 480x480 with 2 Axes>"
      ]
     },
     "metadata": {},
     "output_type": "display_data"
    }
   ],
   "source": [
    "plt.matshow(counts.reshape(100,100))\n",
    "plt.colorbar()"
   ]
  },
  {
   "cell_type": "code",
   "execution_count": null,
   "metadata": {},
   "outputs": [],
   "source": []
  }
 ],
 "metadata": {
  "kernelspec": {
   "display_name": "gpr",
   "language": "python",
   "name": "python3"
  },
  "language_info": {
   "codemirror_mode": {
    "name": "ipython",
    "version": 3
   },
   "file_extension": ".py",
   "mimetype": "text/x-python",
   "name": "python",
   "nbconvert_exporter": "python",
   "pygments_lexer": "ipython3",
   "version": "3.9.16"
  },
  "orig_nbformat": 4
 },
 "nbformat": 4,
 "nbformat_minor": 2
}
