{
 "cells": [
  {
   "cell_type": "code",
   "execution_count": 2,
   "metadata": {},
   "outputs": [],
   "source": [
    "import jax.numpy as jnp\n",
    "from jax import random\n",
    "import jax.scipy as jsp\n",
    "import jax\n",
    "\n",
    "from jaxgp.utils import CovMatrixDD, CovMatrixFD, CovMatrixFF, _build_xT_Ainv_x\n",
    "from jaxgp.kernels import RBF\n",
    "from jaxgp import covar\n",
    "\n",
    "import matplotlib.pyplot as plt"
   ]
  },
  {
   "cell_type": "code",
   "execution_count": 3,
   "metadata": {},
   "outputs": [
    {
     "name": "stderr",
     "output_type": "stream",
     "text": [
      "WARNING:jax._src.lib.xla_bridge:No GPU/TPU found, falling back to CPU. (Set TF_CPP_MIN_LOG_LEVEL=0 and rerun for more info.)\n"
     ]
    }
   ],
   "source": [
    "def fun(x, noise=0.0, key = random.PRNGKey(0)):\n",
    "    return (x[:,0]**2 + x[:,1] - 11)**2 / 800.0 + (x[:,0] + x[:,1]**2 -7)**2 / 800.0 + random.normal(key,(len(x),), dtype=jnp.float32)*noise\n",
    "\n",
    "def grad(x, noise=0.0, key = random.PRNGKey(0)):\n",
    "    dx1 = 4 * (x[:,0]**2 + x[:,1] - 11) * x[:,0] + 2 * (x[:,0] + x[:,1]**2 -7)\n",
    "    dx2 = 2 * (x[:,0]**2 + x[:,1] - 11) + 4 * (x[:,0] + x[:,1]**2 -7) * x[:,1]\n",
    "    return jnp.vstack((dx1, dx2)).T / 800.0 + random.normal(key,x.shape, dtype=jnp.float32)*noise"
   ]
  },
  {
   "cell_type": "code",
   "execution_count": 4,
   "metadata": {},
   "outputs": [],
   "source": [
    "# Interval bounds from which to choose the data points\n",
    "bounds = jnp.array([-5.0, 5.0])\n",
    "\n",
    "# How many function and derivative observations should be chosen\n",
    "num_f_vals = 10\n",
    "num_d_vals = 100\n",
    "num_ref_points = (num_d_vals + num_f_vals) // 5\n",
    "dim = 2\n",
    "\n",
    "# initial seed for the pseudo random key generation\n",
    "seed = 0\n",
    "\n",
    "# create new keys and randomly sample the above interval for training features\n",
    "key, subkey = random.split(random.PRNGKey(seed))\n",
    "x_func = random.uniform(subkey, (num_f_vals, dim), minval=bounds[0], maxval=bounds[1])\n",
    "key, subkey = random.split(key)\n",
    "x_der = random.uniform(subkey, (num_d_vals, dim), minval=bounds[0], maxval=bounds[1])\n",
    "key, subkey = random.split(key)\n",
    "X_ref = random.uniform(subkey, (num_ref_points, dim), minval=bounds[0], maxval=bounds[1])\n",
    "\n",
    "# noise with which to sample the training labels\n",
    "noise = 0.1\n",
    "key, subkey = random.split(key)\n",
    "y_func = fun(x_func,noise, subkey)\n",
    "key, subkey = random.split(key)\n",
    "y_der = grad(x_der, noise, subkey)\n",
    "\n",
    "\n",
    "kernel = RBF()\n",
    "# an RBF kernel has per default 2 parameters\n",
    "init_kernel_params = jnp.array([1.0, 1.0])"
   ]
  },
  {
   "cell_type": "code",
   "execution_count": 5,
   "metadata": {},
   "outputs": [],
   "source": [
    "X_split = (x_func, x_der)"
   ]
  },
  {
   "cell_type": "code",
   "execution_count": 6,
   "metadata": {},
   "outputs": [],
   "source": [
    "def sparse_covariance_matrix(X_split, X_ref, kernel, params):\n",
    "    KF = CovMatrixFF(X_ref, X_split[0], kernel, params)\n",
    "    KD = CovMatrixFD(X_ref, X_split[1], kernel, params)\n",
    "    \n",
    "    K_MN = jnp.hstack((KF,KD))\n",
    "\n",
    "    K_ref = CovMatrixFF(X_ref, X_ref, kernel, params)\n",
    "\n",
    "    return K_MN.T@jsp.linalg.cho_solve(jsp.linalg.cho_factor(K_ref), K_MN)\n",
    "\n",
    "def full_covariance_matrix(X_split, kernel, params):\n",
    "    KF = CovMatrixFF(X_split[0], X_split[0], kernel, params)\n",
    "    KD = CovMatrixFD(X_split[0], X_split[1], kernel, params)\n",
    "    KDD = CovMatrixDD(X_split[1], X_split[1], kernel, params)\n",
    "\n",
    "    K_NN = jnp.vstack((jnp.hstack((KF,KD)), \n",
    "                       jnp.hstack((KD.T,KDD))))\n",
    "\n",
    "    return K_NN"
   ]
  },
  {
   "cell_type": "code",
   "execution_count": 7,
   "metadata": {},
   "outputs": [],
   "source": [
    "def fitc_diag(X_split, X_ref, kernel, params):\n",
    "    KF = CovMatrixFF(X_ref, X_split[0], kernel, params)\n",
    "    KD = CovMatrixFD(X_ref, X_split[1], kernel, params)\n",
    "    \n",
    "    K_MN = jnp.hstack((KF,KD))\n",
    "\n",
    "    K_ref = CovMatrixFF(X_ref, X_ref, kernel, params)\n",
    "    func = jax.vmap(lambda v: kernel.eval(v, v, params), in_axes=(0))(X_split[0])\n",
    "    der = jnp.ravel(jax.vmap(lambda v: jnp.diag(kernel.jac(v, v, params)), in_axes=(0))(X_split[1]))\n",
    "    full_diag = jnp.hstack((func, der))\n",
    "    sparse_diag = _build_xT_Ainv_x(K_ref, K_MN.T)\n",
    "    L = (full_diag - sparse_diag)\n",
    "\n",
    "    return L"
   ]
  },
  {
   "cell_type": "code",
   "execution_count": 8,
   "metadata": {},
   "outputs": [],
   "source": [
    "full = full_covariance_matrix(X_split, kernel, init_kernel_params)\n",
    "sparse = sparse_covariance_matrix(X_split, X_ref, kernel, init_kernel_params)\n",
    "\n",
    "fitc = fitc_diag(X_split, X_ref, kernel, init_kernel_params)"
   ]
  },
  {
   "cell_type": "code",
   "execution_count": 9,
   "metadata": {},
   "outputs": [
    {
     "name": "stdout",
     "output_type": "stream",
     "text": [
      "(210, 210) (210, 210) (210,)\n"
     ]
    }
   ],
   "source": [
    "print(full.shape, sparse.shape, fitc.shape)"
   ]
  },
  {
   "cell_type": "code",
   "execution_count": 10,
   "metadata": {},
   "outputs": [
    {
     "name": "stdout",
     "output_type": "stream",
     "text": [
      "True\n"
     ]
    }
   ],
   "source": [
    "print(jnp.allclose(jnp.diag(full-sparse), fitc))"
   ]
  },
  {
   "cell_type": "code",
   "execution_count": 26,
   "metadata": {},
   "outputs": [],
   "source": [
    "_test = lambda A,x: jsp.linalg.cho_solve((A,False), x)\n",
    "test = jax.jit(_test)    "
   ]
  },
  {
   "cell_type": "code",
   "execution_count": 27,
   "metadata": {},
   "outputs": [],
   "source": [
    "key = jax.random.PRNGKey(0)\n",
    "_A = jax.random.uniform(key, shape=(10, 10))\n",
    "A = (_A + _A.T) / 2 + jnp.eye(*_A.shape)\n",
    "A_cho,_ = jsp.linalg.cho_factor(A)\n",
    "x = jax.random.uniform(key, shape=(10,))"
   ]
  },
  {
   "cell_type": "code",
   "execution_count": 28,
   "metadata": {},
   "outputs": [
    {
     "data": {
      "text/plain": [
       "DeviceArray([-0.7015892 ,  1.0962088 , -0.67026514, -0.07697594,\n",
       "              0.38710043, -0.18255392, -0.00859932,  0.11759639,\n",
       "              1.5120746 , -0.62241197], dtype=float32)"
      ]
     },
     "execution_count": 28,
     "metadata": {},
     "output_type": "execute_result"
    }
   ],
   "source": [
    "test(A_cho,x)"
   ]
  },
  {
   "cell_type": "code",
   "execution_count": 25,
   "metadata": {},
   "outputs": [
    {
     "data": {
      "text/plain": [
       "tuple"
      ]
     },
     "execution_count": 25,
     "metadata": {},
     "output_type": "execute_result"
    }
   ],
   "source": [
    "type(A_cho)"
   ]
  },
  {
   "cell_type": "code",
   "execution_count": null,
   "metadata": {},
   "outputs": [],
   "source": []
  }
 ],
 "metadata": {
  "kernelspec": {
   "display_name": "gpr",
   "language": "python",
   "name": "python3"
  },
  "language_info": {
   "codemirror_mode": {
    "name": "ipython",
    "version": 3
   },
   "file_extension": ".py",
   "mimetype": "text/x-python",
   "name": "python",
   "nbconvert_exporter": "python",
   "pygments_lexer": "ipython3",
   "version": "3.9.16"
  },
  "orig_nbformat": 4
 },
 "nbformat": 4,
 "nbformat_minor": 2
}
