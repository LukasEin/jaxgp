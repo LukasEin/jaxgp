{
 "cells": [
  {
   "cell_type": "code",
   "execution_count": 1,
   "metadata": {},
   "outputs": [],
   "source": [
    "import jax.numpy as jnp\n",
    "from jax import random, grad, vmap\n",
    "from functools import partial\n",
    "import matplotlib.pyplot as plt\n",
    "import jaxgp.regression as gpr\n",
    "from jaxgp.kernels import RBF, Linear, Constant\n",
    "import timeit\n",
    "import time"
   ]
  },
  {
   "attachments": {},
   "cell_type": "markdown",
   "metadata": {},
   "source": [
    "# Full GPR"
   ]
  },
  {
   "attachments": {},
   "cell_type": "markdown",
   "metadata": {},
   "source": [
    "## Benchmark memory of fitmatrix and fitvector"
   ]
  },
  {
   "attachments": {},
   "cell_type": "markdown",
   "metadata": {},
   "source": [
    "## Benchmarking with a constant function"
   ]
  },
  {
   "cell_type": "code",
   "execution_count": 2,
   "metadata": {},
   "outputs": [],
   "source": [
    "data_sizes = [100, 200, 500, 1000, 2000, 3000, 4000, 5000]\n",
    "\n",
    "kernel_1 = RBF()\n",
    "kernel_2 = Linear()"
   ]
  },
  {
   "attachments": {},
   "cell_type": "markdown",
   "metadata": {},
   "source": [
    "### Timing of the training"
   ]
  },
  {
   "cell_type": "code",
   "execution_count": 3,
   "metadata": {},
   "outputs": [],
   "source": [
    "# for elem in data_sizes:\n",
    "#     data_split = (elem, )\n",
    "\n",
    "#     X_data = jnp.linspace(0.0, 1.0, data_split[0]).reshape(-1,1)\n",
    "#     Y_data =jnp.ones(data_split[0]).reshape(-1)\n",
    "\n",
    "#     def test_RBF():\n",
    "#         model = gpr.ExactGPR(kernel=kernel_1, data_split=data_split, noise=0.1)\n",
    "#         model.train_regression()\n",
    "#         model(X_data=X_data, Y_data=Y_data)\n",
    "\n",
    "#     print(f\"N={elem}: {timeit.repeat(test_RBF, repeat=5, number=1)}\")"
   ]
  },
  {
   "attachments": {},
   "cell_type": "markdown",
   "metadata": {},
   "source": [
    "### Timing of eval with constant X_grid for different training sizes"
   ]
  },
  {
   "cell_type": "code",
   "execution_count": 4,
   "metadata": {},
   "outputs": [],
   "source": [
    "# X = jnp.linspace(0.2, 0.8, 5000).reshape(-1,1)\n",
    "\n",
    "# for elem in data_sizes:\n",
    "#     data_split = (elem, )\n",
    "\n",
    "#     X_data = jnp.linspace(0.0, 1.0, data_split[0]).reshape(-1,1)\n",
    "#     Y_data =jnp.ones(data_split[0]).reshape(-1)\n",
    "\n",
    "#     model = gpr.ExactGPR(kernel=kernel_1, data_split=data_split, noise=0.1)\n",
    "#     model.train_regression()\n",
    "#     model(X_data=X_data, Y_data=Y_data)\n",
    "#     model.eval()\n",
    "\n",
    "#     def test_RBF():\n",
    "#         model(X)\n",
    "\n",
    "\n",
    "#     print(f\"N={elem}: {timeit.repeat(test_RBF, repeat=5, number=1)}\")"
   ]
  },
  {
   "attachments": {},
   "cell_type": "markdown",
   "metadata": {},
   "source": [
    "# Sparse GPR"
   ]
  },
  {
   "attachments": {},
   "cell_type": "markdown",
   "metadata": {},
   "source": [
    "### Timing of the training"
   ]
  },
  {
   "cell_type": "code",
   "execution_count": 5,
   "metadata": {},
   "outputs": [],
   "source": [
    "# for elem in data_sizes:\n",
    "#     data_split = (elem, )\n",
    "\n",
    "#     X_data = jnp.linspace(0.0, 1.0, data_split[0]).reshape(-1,1)\n",
    "#     Y_data =jnp.ones(data_split[0]).reshape(-1,1)\n",
    "#     X_ref = jnp.linspace(0.0,1.0,data_split[0]//20).reshape(-1,1)\n",
    "\n",
    "#     def test_RBF():\n",
    "#         model = gpr.SparseGPR(kernel=kernel_1, data_split=data_split, X_ref=X_ref, noise=0.1)\n",
    "#         model.train(X_data=X_data, Y_data=Y_data)\n",
    "\n",
    "#     print(f\"N={elem}: {timeit.repeat(test_RBF, repeat=1, number=1)}\")"
   ]
  },
  {
   "cell_type": "code",
   "execution_count": null,
   "metadata": {},
   "outputs": [],
   "source": []
  },
  {
   "attachments": {},
   "cell_type": "markdown",
   "metadata": {},
   "source": [
    "# Try a weird function"
   ]
  },
  {
   "cell_type": "code",
   "execution_count": 6,
   "metadata": {},
   "outputs": [
    {
     "name": "stderr",
     "output_type": "stream",
     "text": [
      "WARNING:jax._src.lib.xla_bridge:No GPU/TPU found, falling back to CPU. (Set TF_CPP_MIN_LOG_LEVEL=0 and rerun for more info.)\n"
     ]
    }
   ],
   "source": [
    "key = random.PRNGKey(int(time.time()))\n",
    "\n",
    "def f(x, noise=0):\n",
    "    return jnp.sin(2*x**2 + 1/(x+0.5/jnp.pi))*x + noise*random.normal(key,x.shape)\n",
    "\n",
    "gradient = vmap(grad(f), in_axes=(0,None))\n",
    "\n",
    "def df(x, noise=0):\n",
    "    return gradient(x, noise) + noise*random.normal(key,x.shape)\n",
    "\n",
    "# def f(x, noise=0.0):\n",
    "#     temp = jnp.where(x<0, -x, x)\n",
    "#     return temp + noise*random.normal(key,x.shape)\n",
    "\n",
    "# def df(x, noise=0.0):\n",
    "#     temp = jnp.where(x<0, -1.0, 1.0)\n",
    "#     return temp + noise*random.normal(key,x.shape)"
   ]
  },
  {
   "cell_type": "code",
   "execution_count": 7,
   "metadata": {},
   "outputs": [],
   "source": [
    "bounds = jnp.array([0.0, jnp.pi])\n",
    "# bounds = jnp.array([-1.0, 1.0])\n",
    "\n",
    "noise = 0.1\n",
    "\n",
    "length_scale = 1.0\n",
    "\n",
    "num_datapoints = 2\n",
    "datagrid = jnp.linspace(*bounds,num_datapoints)\n",
    "data_values = f(datagrid,noise)\n",
    "num_derivpoints = (100,)\n",
    "# derivative_grid = jnp.linspace(*bounds,num_derivpoints[0])\n",
    "derivative_grid = random.uniform(key, num_derivpoints, minval=bounds[0], maxval=bounds[1])\n",
    "derivative_values = df(derivative_grid,noise)\n",
    "data_split = (num_datapoints, ) + num_derivpoints\n",
    "\n",
    "X_data = jnp.concatenate((datagrid,derivative_grid)).reshape(-1,1)\n",
    "Y_data = jnp.concatenate((data_values,derivative_values)).reshape(-1)\n",
    "\n",
    "num_referencepoints = 30\n",
    "# referencegrid = jnp.linspace(*bounds,num_referencepoints).reshape(-1,1)\n",
    "referencegrid = random.uniform(key, (num_referencepoints,), minval=bounds[0], maxval=bounds[1]).reshape(-1,1)\n",
    "\n",
    "num_gridpoints = 101\n",
    "grid = jnp.linspace(*bounds,num_gridpoints)\n",
    "\n",
    "kernel = Constant() * RBF()# + Linear()\n",
    "kernel_params = (length_scale, length_scale)#, 1.0, 1.0)"
   ]
  },
  {
   "cell_type": "code",
   "execution_count": 8,
   "metadata": {},
   "outputs": [
    {
     "ename": "NameError",
     "evalue": "name 'test' is not defined",
     "output_type": "error",
     "traceback": [
      "\u001b[0;31m---------------------------------------------------------------------------\u001b[0m",
      "\u001b[0;31mNameError\u001b[0m                                 Traceback (most recent call last)",
      "Cell \u001b[0;32mIn[8], line 13\u001b[0m\n\u001b[1;32m      1\u001b[0m \u001b[39m# model = gpr.ExactGPR(kernel,data_split,kernel_params,noise=noise)\u001b[39;00m\n\u001b[1;32m      2\u001b[0m \u001b[39m# model.train(X_data,Y_data)\u001b[39;00m\n\u001b[1;32m      3\u001b[0m \u001b[39m# (means_full, stds_full) = model.eval(grid.reshape(-1,1),True)\u001b[39;00m\n\u001b[0;32m   (...)\u001b[0m\n\u001b[1;32m     10\u001b[0m \u001b[39m# means_ppa = means_ppa.reshape(-1)\u001b[39;00m\n\u001b[1;32m     11\u001b[0m \u001b[39m# stds_ppa = stds_ppa.reshape(-1)\u001b[39;00m\n\u001b[0;32m---> 13\u001b[0m model \u001b[39m=\u001b[39m test\u001b[39m.\u001b[39mExactGPR(kernel,data_split,kernel_params,noise\u001b[39m=\u001b[39mnoise)\n\u001b[1;32m     14\u001b[0m model\u001b[39m.\u001b[39mtrain_regression()\n\u001b[1;32m     15\u001b[0m model(X_data,Y_data)\n",
      "\u001b[0;31mNameError\u001b[0m: name 'test' is not defined"
     ]
    }
   ],
   "source": [
    "# model = gpr.ExactGPR(kernel,data_split,kernel_params,noise=noise)\n",
    "# model.train(X_data,Y_data)\n",
    "# (means_full, stds_full) = model.eval(grid.reshape(-1,1),True)\n",
    "# means_full = means_full.reshape(-1)\n",
    "# stds_full = stds_full.reshape(-1)\n",
    "\n",
    "# model = gpr.SparseGPR(kernel,data_split,referencegrid,kernel_params,noise=noise)\n",
    "# model.train(X_data,Y_data)\n",
    "# (means_ppa, stds_ppa) = model.eval(grid.reshape(-1,1),True)\n",
    "# means_ppa = means_ppa.reshape(-1)\n",
    "# stds_ppa = stds_ppa.reshape(-1)\n",
    "\n",
    "model = gpr.ExactGPR(kernel,data_split,kernel_params,noise=noise)\n",
    "model.train_regression()\n",
    "model(X_data,Y_data)\n",
    "model.eval()\n",
    "means_full, stds_full = model(grid.reshape(-1,1))\n",
    "means_full = means_full.reshape(-1)\n",
    "stds_full = stds_full.reshape(-1)\n",
    "\n",
    "model = gpr.SparseGPR(kernel,data_split,referencegrid,kernel_params,noise=noise)\n",
    "model.train_regression()\n",
    "model(X_data,Y_data)\n",
    "model.eval()\n",
    "(means_ppa, stds_ppa) = model(grid.reshape(-1,1))\n",
    "means_ppa = means_ppa.reshape(-1)\n",
    "stds_ppa = stds_ppa.reshape(-1)"
   ]
  },
  {
   "cell_type": "code",
   "execution_count": null,
   "metadata": {},
   "outputs": [
    {
     "name": "stdout",
     "output_type": "stream",
     "text": [
      "[0.0108251  0.01042112 0.01166267 0.01178974 0.01149796 0.01131507\n",
      " 0.01130453 0.01138334 0.01140427 0.01143558 0.01141472 0.01139904\n",
      " 0.01142516 0.01141472 0.01138334 0.01134138 0.01127813 0.01126227\n",
      " 0.01125168 0.01124638 0.01126227 0.01127285 0.01127813 0.01124638\n",
      " 0.01119858 0.01123047 0.01124638 0.01124108 0.01123047 0.01125168\n",
      " 0.01125168 0.01124108 0.01122516 0.01125168 0.01123047 0.01124638\n",
      " 0.01123577 0.01121985 0.01120922 0.0112039  0.01120922 0.01122516\n",
      " 0.01121985 0.01121454 0.01121454 0.0112039  0.01122516 0.01121454\n",
      " 0.01121985 0.01119325 0.01119858 0.01117727 0.0112039  0.01119858\n",
      " 0.01119858 0.01119325 0.0112039  0.01117727 0.01121454 0.01117727\n",
      " 0.01117727 0.01116126 0.01114523 0.01114523 0.01119325 0.01122516\n",
      " 0.01119858 0.01115592 0.01110236 0.01105933 0.01106472 0.01106472\n",
      " 0.01109162 0.01108086 0.01107548 0.01107548 0.01106472 0.01105933\n",
      " 0.0110701  0.0110701  0.0110701  0.01104315 0.0110701  0.01106472\n",
      " 0.01105933 0.01105933 0.01106472 0.01106472 0.01106472 0.01104854\n",
      " 0.01103775 0.01105394 0.01105933 0.01105394 0.01104315 0.01102694\n",
      " 0.01101613 0.01104854 0.01112381 0.01101613 0.0108306 ]\n"
     ]
    }
   ],
   "source": [
    "print(stds_full)"
   ]
  },
  {
   "cell_type": "code",
   "execution_count": null,
   "metadata": {},
   "outputs": [
    {
     "data": {
      "text/plain": [
       "<matplotlib.legend.Legend at 0x7f66101bd130>"
      ]
     },
     "execution_count": 22,
     "metadata": {},
     "output_type": "execute_result"
    },
    {
     "data": {
      "image/png": "[encoded data removed]",
      "text/plain": [
       "<Figure size 640x480 with 1 Axes>"
      ]
     },
     "metadata": {},
     "output_type": "display_data"
    }
   ],
   "source": [
    "plt.plot(grid,means_full,label=\"full\")\n",
    "plt.fill_between(grid,means_full-2*stds_full,means_full+2*stds_full,alpha=0.5)\n",
    "plt.plot(grid,means_ppa,label=\"ppa\")\n",
    "plt.fill_between(grid,means_ppa-2*stds_ppa,means_ppa+2*stds_ppa,alpha=0.5)\n",
    "plt.plot(grid,f(grid,0.0),color=\"grey\",ls=\"--\",label=\"true function\")\n",
    "plt.scatter(datagrid,data_values,color=\"r\",label=\"function values\")\n",
    "plt.scatter(derivative_grid,jnp.zeros_like(derivative_grid),label=\"deriv points\")\n",
    "plt.scatter(referencegrid.reshape(-1), -jnp.ones_like(referencegrid.reshape(-1)), label=\"refpoints\")\n",
    "plt.grid()\n",
    "plt.legend()"
   ]
  },
  {
   "cell_type": "code",
   "execution_count": null,
   "metadata": {},
   "outputs": [],
   "source": []
  }
 ],
 "metadata": {
  "kernelspec": {
   "display_name": "gpr",
   "language": "python",
   "name": "python3"
  },
  "language_info": {
   "codemirror_mode": {
    "name": "ipython",
    "version": 3
   },
   "file_extension": ".py",
   "mimetype": "text/x-python",
   "name": "python",
   "nbconvert_exporter": "python",
   "pygments_lexer": "ipython3",
   "version": "3.9.16"
  },
  "orig_nbformat": 4,
  "vscode": {
   "interpreter": {
    "hash": "1a90d12dd581af7d907523d05bdf59ea67c3b279d13c5337e4bc203de8e309c7"
   }
  }
 },
 "nbformat": 4,
 "nbformat_minor": 2
}
