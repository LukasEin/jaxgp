{
 "cells": [
  {
   "cell_type": "code",
   "execution_count": 20,
   "metadata": {},
   "outputs": [],
   "source": [
    "import jax.numpy as jnp\n",
    "from jax import random, vmap, grad\n",
    "import matplotlib.pyplot as plt\n",
    "import jaxgp.regression as gpr\n",
    "from jaxgp.kernels import RBF, Linear\n",
    "import timeit\n",
    "import time"
   ]
  },
  {
   "attachments": {},
   "cell_type": "markdown",
   "metadata": {},
   "source": [
    "# Full GPR"
   ]
  },
  {
   "attachments": {},
   "cell_type": "markdown",
   "metadata": {},
   "source": [
    "## Benchmark memory of fitmatrix and fitvector"
   ]
  },
  {
   "attachments": {},
   "cell_type": "markdown",
   "metadata": {},
   "source": [
    "## Benchmarking with a constant function"
   ]
  },
  {
   "cell_type": "code",
   "execution_count": 21,
   "metadata": {},
   "outputs": [],
   "source": [
    "# data_sizes = [100, 200, 500, 1000, 2000, 3000, 4000, 5000]\n",
    "# # data_sizes = [6000, 7000, 8000, 10000]\n",
    "\n",
    "# kernel_1 = RBF()\n",
    "# kernel_2 = Linear()"
   ]
  },
  {
   "attachments": {},
   "cell_type": "markdown",
   "metadata": {},
   "source": [
    "### Timing of the training"
   ]
  },
  {
   "cell_type": "code",
   "execution_count": 22,
   "metadata": {},
   "outputs": [],
   "source": [
    "# for elem in data_sizes:\n",
    "#     data_split = (elem, )\n",
    "\n",
    "#     X_data = jnp.linspace(0.0, 1.0, data_split[0]).reshape(-1,1)\n",
    "#     Y_data =jnp.ones(data_split[0]).reshape(-1,1)\n",
    "\n",
    "#     def test_RBF():\n",
    "#         model = gpr.ExactGPR(kernel=kernel_1, data_split=data_split, noise=0.1)\n",
    "#         model.train(X_data=X_data, Y_data=Y_data)\n",
    "\n",
    "#     print(timeit.repeat(test_RBF, repeat=2, number=1))"
   ]
  },
  {
   "attachments": {},
   "cell_type": "markdown",
   "metadata": {},
   "source": [
    "### Timing of eval with constant X_grid for different training sizes"
   ]
  },
  {
   "cell_type": "code",
   "execution_count": 23,
   "metadata": {},
   "outputs": [],
   "source": [
    "# X = jnp.linspace(0.2, 0.8, 10000)\n",
    "\n",
    "# for elem in data_sizes:\n",
    "#     data_split = (elem, )\n",
    "\n",
    "#     X_data = jnp.linspace(0.0, 1.0, data_split[0]).reshape(-1,1)\n",
    "#     Y_data =jnp.ones(data_split[0]).reshape(-1,1)\n",
    "\n",
    "#     model = gpr.ExactGPR(kernel=kernel_1, data_split=data_split, noise=0.1)\n",
    "#     model.train(X_data=X_data, Y_data=Y_data)\n",
    "\n",
    "#     def test_RBF():\n",
    "#         model.eval(X, return_std=True)\n",
    "\n",
    "\n",
    "#     print(timeit.repeat(test_RBF, repeat=2, number=1))"
   ]
  },
  {
   "cell_type": "code",
   "execution_count": 24,
   "metadata": {},
   "outputs": [],
   "source": [
    "key = random.PRNGKey(int(time.time()))\n",
    "\n",
    "def f(x, noise=0):\n",
    "    return jnp.sin(2*x**2 + 1/(x+0.5/jnp.pi))*x + noise*random.normal(key,x.shape)\n",
    "\n",
    "gradient = vmap(grad(f), in_axes=(0,None))\n",
    "\n",
    "def df(x, noise=0):\n",
    "    return gradient(x, noise) + noise*random.normal(key,x.shape)\n",
    "\n",
    "# def f(x, noise=0.0):\n",
    "#     temp = jnp.where(x<0, -x, x)\n",
    "#     return temp + noise*random.normal(key,x.shape)\n",
    "\n",
    "# def df(x, noise=0.0):\n",
    "#     temp = jnp.where(x<0, -1.0, 1.0)\n",
    "#     return temp + noise*random.normal(key,x.shape)"
   ]
  },
  {
   "cell_type": "code",
   "execution_count": 25,
   "metadata": {},
   "outputs": [],
   "source": [
    "bounds = jnp.array([0.0, jnp.pi])\n",
    "# bounds = jnp.array([-1.0, 1.0])\n",
    "\n",
    "noise = 0.5\n",
    "\n",
    "length_scale = 1.0\n",
    "\n",
    "num_datapoints = 5\n",
    "datagrid = jnp.linspace(*bounds,num_datapoints)\n",
    "data_values = f(datagrid,noise)\n",
    "num_derivpoints = (50,)\n",
    "# derivative_grid = jnp.linspace(*bounds,num_derivpoints[0])\n",
    "derivative_grid = random.uniform(key, num_derivpoints, minval=bounds[0], maxval=bounds[1])\n",
    "derivative_values = df(derivative_grid,noise)\n",
    "data_split = (num_datapoints, ) + num_derivpoints\n",
    "\n",
    "X_data = jnp.concatenate((datagrid,derivative_grid)).reshape(-1,1)\n",
    "Y_data = jnp.concatenate((data_values,derivative_values)).reshape(-1)\n",
    "\n",
    "num_referencepoints = 30\n",
    "# referencegrid = jnp.linspace(*bounds,num_referencepoints).reshape(-1,1)\n",
    "referencegrid = random.uniform(key, (num_referencepoints,), minval=bounds[0], maxval=bounds[1]).reshape(-1,1)\n",
    "\n",
    "num_gridpoints = 101\n",
    "grid = jnp.linspace(*bounds,num_gridpoints)\n",
    "\n",
    "kernel = RBF()# + Linear()\n",
    "kernel_params = (length_scale, length_scale)#, 1.0, 1.0)"
   ]
  },
  {
   "cell_type": "code",
   "execution_count": 26,
   "metadata": {},
   "outputs": [
    {
     "ename": "ValueError",
     "evalue": "too many values to unpack (expected 2)",
     "output_type": "error",
     "traceback": [
      "\u001b[0;31m---------------------------------------------------------------------------\u001b[0m",
      "\u001b[0;31mValueError\u001b[0m                                Traceback (most recent call last)",
      "Cell \u001b[0;32mIn[26], line 3\u001b[0m\n\u001b[1;32m      1\u001b[0m model \u001b[39m=\u001b[39m gpr\u001b[39m.\u001b[39mExactGPR(kernel,data_split,kernel_params,noise\u001b[39m=\u001b[39mnoise)\n\u001b[1;32m      2\u001b[0m model\u001b[39m.\u001b[39mtrain(X_data,Y_data)\n\u001b[0;32m----> 3\u001b[0m means_full, stds_full \u001b[39m=\u001b[39m model\u001b[39m.\u001b[39meval(grid\u001b[39m.\u001b[39mreshape(\u001b[39m-\u001b[39m\u001b[39m1\u001b[39m,\u001b[39m1\u001b[39m))\n\u001b[1;32m      4\u001b[0m means_full \u001b[39m=\u001b[39m means_full\u001b[39m.\u001b[39mreshape(\u001b[39m-\u001b[39m\u001b[39m1\u001b[39m)\n\u001b[1;32m      5\u001b[0m stds_full \u001b[39m=\u001b[39m stds_full\u001b[39m.\u001b[39mreshape(\u001b[39m-\u001b[39m\u001b[39m1\u001b[39m)\n",
      "\u001b[0;31mValueError\u001b[0m: too many values to unpack (expected 2)"
     ]
    }
   ],
   "source": [
    "model = gpr.ExactGPR(kernel,data_split,kernel_params,noise=noise)\n",
    "model.train(X_data,Y_data)\n",
    "means_full, stds_full = model.eval(grid.reshape(-1,1), True)\n",
    "means_full = means_full.reshape(-1)\n",
    "stds_full = stds_full.reshape(-1)\n",
    "\n",
    "model = gpr.SparseGPR(kernel,data_split,referencegrid,kernel_params,noise=noise)\n",
    "model.train(X_data,Y_data)\n",
    "(means_ppa, stds_ppa) = model.eval(grid.reshape(-1,1), True)\n",
    "means_ppa = means_ppa.reshape(-1)\n",
    "stds_ppa = stds_ppa.reshape(-1)"
   ]
  },
  {
   "cell_type": "code",
   "execution_count": null,
   "metadata": {},
   "outputs": [],
   "source": [
    "print(stds_full)"
   ]
  },
  {
   "cell_type": "code",
   "execution_count": null,
   "metadata": {},
   "outputs": [],
   "source": [
    "plt.plot(grid,means_full,label=\"full\")\n",
    "plt.fill_between(grid,means_full-2*stds_full,means_full+2*stds_full,alpha=0.5)\n",
    "plt.plot(grid,means_ppa,label=\"ppa\")\n",
    "plt.fill_between(grid,means_ppa-2*stds_ppa,means_ppa+2*stds_ppa,alpha=0.5)\n",
    "plt.plot(grid,f(grid,0.0),color=\"grey\",ls=\"--\",label=\"true function\")\n",
    "plt.scatter(datagrid,data_values,color=\"r\",label=\"function values\")\n",
    "plt.scatter(derivative_grid,jnp.zeros_like(derivative_grid),label=\"deriv points\")\n",
    "plt.scatter(referencegrid.reshape(-1), -jnp.ones_like(referencegrid.reshape(-1)), label=\"refpoints\")\n",
    "plt.grid()\n",
    "plt.legend()"
   ]
  }
 ],
 "metadata": {
  "kernelspec": {
   "display_name": "gpr",
   "language": "python",
   "name": "python3"
  },
  "language_info": {
   "codemirror_mode": {
    "name": "ipython",
    "version": 3
   },
   "file_extension": ".py",
   "mimetype": "text/x-python",
   "name": "python",
   "nbconvert_exporter": "python",
   "pygments_lexer": "ipython3",
   "version": "3.9.16"
  },
  "orig_nbformat": 4,
  "vscode": {
   "interpreter": {
    "hash": "629a65123e392de0a2a0e2576e6c66cf1092871db922427f9f89d1487fe3a8bd"
   }
  }
 },
 "nbformat": 4,
 "nbformat_minor": 2
}
