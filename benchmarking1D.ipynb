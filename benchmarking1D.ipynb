{
 "cells": [
  {
   "cell_type": "code",
   "execution_count": 1,
   "metadata": {},
   "outputs": [],
   "source": [
    "import jax.numpy as jnp\n",
    "from jax import random, vmap, grad\n",
    "import matplotlib.pyplot as plt\n",
    "import jaxgp.regression as gpr\n",
    "from jaxgp.kernels import RBF, Linear\n",
    "import timeit\n",
    "import time"
   ]
  },
  {
   "attachments": {},
   "cell_type": "markdown",
   "metadata": {},
   "source": [
    "# Full GPR"
   ]
  },
  {
   "attachments": {},
   "cell_type": "markdown",
   "metadata": {},
   "source": [
    "## Benchmark memory of fitmatrix and fitvector"
   ]
  },
  {
   "attachments": {},
   "cell_type": "markdown",
   "metadata": {},
   "source": [
    "## Benchmarking with a constant function"
   ]
  },
  {
   "cell_type": "code",
   "execution_count": 2,
   "metadata": {},
   "outputs": [],
   "source": [
    "# data_sizes = [100, 200, 500, 1000, 2000, 3000, 4000, 5000]\n",
    "data_sizes = [1000, 2000, 3000, 4000, 5000]\n",
    "# data_sizes = [6000, 7000, 8000, 10000]\n",
    "\n",
    "kernel_1 = RBF()\n",
    "kernel_2 = Linear()"
   ]
  },
  {
   "attachments": {},
   "cell_type": "markdown",
   "metadata": {},
   "source": [
    "### Timing of the training"
   ]
  },
  {
   "cell_type": "code",
   "execution_count": 3,
   "metadata": {},
   "outputs": [
    {
     "name": "stderr",
     "output_type": "stream",
     "text": [
      "WARNING:jax._src.lib.xla_bridge:No GPU/TPU found, falling back to CPU. (Set TF_CPP_MIN_LOG_LEVEL=0 and rerun for more info.)\n"
     ]
    },
    {
     "name": "stdout",
     "output_type": "stream",
     "text": [
      "[0.7201361810002709, 0.5924616489992331]\n",
      "[1.5584626279996883, 1.5123590290004358]\n",
      "[6.884196322000207, 6.652402255000197]\n",
      "[14.772524468000483, 15.54146965200016]\n",
      "[13.90224262799893, 14.054777204000857]\n"
     ]
    }
   ],
   "source": [
    "for elem in data_sizes:\n",
    "    data_split = (elem, )\n",
    "\n",
    "    X_data = jnp.linspace(0.0, 1.0, data_split[0]).reshape(-1,1)\n",
    "    Y_data =jnp.ones(data_split[0]).reshape(-1,1)\n",
    "\n",
    "    def test_RBF():\n",
    "        model = gpr.ExactGPR(kernel=kernel_1, init_kernel_params=(1.0,), noise=0.1)\n",
    "        model.train(X_data=X_data, Y_data=Y_data, data_split=data_split)\n",
    "\n",
    "    print(timeit.repeat(test_RBF, repeat=2, number=1))"
   ]
  },
  {
   "attachments": {},
   "cell_type": "markdown",
   "metadata": {},
   "source": [
    "### Timing of eval with constant X_grid for different training sizes"
   ]
  },
  {
   "cell_type": "code",
   "execution_count": 5,
   "metadata": {},
   "outputs": [
    {
     "name": "stdout",
     "output_type": "stream",
     "text": [
      "[0.26241749499968137, 0.10273449899978004]\n",
      "[0.49140189200079476, 0.30600619400138385]\n",
      "[0.7896327590005967, 0.6194259459989553]\n",
      "[1.253992976000518, 1.068556479000108]\n",
      "[1.817534830999648, 1.933671733000665]\n"
     ]
    }
   ],
   "source": [
    "X = jnp.linspace(0.2, 0.8, 10000)\n",
    "\n",
    "for elem in data_sizes:\n",
    "    data_split = (elem, )\n",
    "\n",
    "    X_data = jnp.linspace(0.0, 1.0, data_split[0]).reshape(-1,1)\n",
    "    Y_data =jnp.ones(data_split[0]).reshape(-1,1)\n",
    "\n",
    "    model = gpr.ExactGPR(kernel=kernel_1, init_kernel_params=(1.0,), noise=0.1)\n",
    "    model.train(X_data=X_data, Y_data=Y_data, data_split=data_split)\n",
    "\n",
    "    def test_RBF():\n",
    "        model.eval(X)\n",
    "\n",
    "\n",
    "    print(timeit.repeat(test_RBF, repeat=2, number=1))"
   ]
  },
  {
   "attachments": {},
   "cell_type": "markdown",
   "metadata": {},
   "source": [
    "# Random functions to try"
   ]
  },
  {
   "cell_type": "code",
   "execution_count": null,
   "metadata": {},
   "outputs": [],
   "source": [
    "def plot_tangent(ax,x0, y0, dy0):\n",
    "    x = jnp.linspace(x0-0.1, x0+0.1,2)\n",
    "    tangent = dy0*(x - x0) + y0\n",
    "\n",
    "    ax.plot(x, tangent,ls=\"--\", color=\"red\")"
   ]
  },
  {
   "cell_type": "code",
   "execution_count": null,
   "metadata": {},
   "outputs": [],
   "source": [
    "key = random.PRNGKey(int(time.time()))"
   ]
  },
  {
   "cell_type": "code",
   "execution_count": null,
   "metadata": {},
   "outputs": [],
   "source": [
    "# bounds = jnp.array([0.0, jnp.pi])\n",
    "bounds = jnp.array([-1.0, 1.0])\n",
    "\n",
    "noise = 0.1\n",
    "\n",
    "length_scale = 1.0\n",
    "\n",
    "num_datapoints = 5\n",
    "datagrid = jnp.linspace(*bounds,num_datapoints)\n",
    "num_derivpoints = (10,)\n",
    "# derivative_grid = jnp.linspace(*bounds,num_derivpoints[0])\n",
    "derivative_grid = random.uniform(key, num_derivpoints, minval=bounds[0], maxval=bounds[1])\n",
    "data_split = (num_datapoints, ) + num_derivpoints\n",
    "\n",
    "X_data = jnp.concatenate((datagrid,derivative_grid)).reshape(-1,1)\n",
    "\n",
    "num_referencepoints = num_derivpoints[0] // 2\n",
    "permute = random.permutation(key, num_derivpoints[0])[:num_referencepoints]\n",
    "referencegrid = derivative_grid[permute]\n",
    "\n",
    "num_gridpoints = 101\n",
    "grid = jnp.linspace(*bounds,num_gridpoints)\n",
    "\n",
    "kernel = RBF()\n",
    "kernel_params = (length_scale,)#, 1.0, 1.0)"
   ]
  },
  {
   "cell_type": "code",
   "execution_count": null,
   "metadata": {},
   "outputs": [],
   "source": [
    "# def f(x, noise=0):\n",
    "#     return jnp.sin(2*x**2 + 1/(x+0.5/jnp.pi))*x + noise*random.normal(key,x.shape)\n",
    "\n",
    "# gradient = vmap(grad(f), in_axes=(0,None))\n",
    "\n",
    "# def df(x, noise=0):\n",
    "#     return gradient(x, noise) + noise*random.normal(key,x.shape)\n",
    "\n",
    "def f(x, noise=0.0):\n",
    "    temp = jnp.where(x<0, -jnp.sin(jnp.pi*x), jnp.cos(2*jnp.pi*x)-1.0)\n",
    "    return temp + noise*random.normal(key,x.shape)\n",
    "\n",
    "def df(x, noise=0.0):\n",
    "    temp = jnp.where(x<0, -jnp.pi*jnp.cos(jnp.pi*x), -2*jnp.pi*jnp.sin(2*jnp.pi*x))\n",
    "    return temp + noise*random.normal(key,x.shape)"
   ]
  },
  {
   "cell_type": "code",
   "execution_count": null,
   "metadata": {},
   "outputs": [],
   "source": [
    "data_values = f(datagrid,noise)\n",
    "derivative_values = df(derivative_grid,noise)\n",
    "Y_data = jnp.concatenate((data_values,derivative_values)).reshape(-1)"
   ]
  },
  {
   "cell_type": "code",
   "execution_count": null,
   "metadata": {},
   "outputs": [],
   "source": [
    "model = gpr.ExactGPR(kernel,data_split,kernel_params,noise=noise)\n",
    "model.train(X_data,Y_data)\n",
    "means_full, stds_full = model.eval(grid.reshape(-1,1))\n",
    "means_full = means_full.reshape(-1)\n",
    "stds_full = stds_full.reshape(-1)\n",
    "\n",
    "model = gpr.SparseGPR(kernel,data_split,referencegrid,kernel_params,noise=noise)\n",
    "model.train(X_data,Y_data)\n",
    "(means_ppa, stds_ppa) = model.eval(grid.reshape(-1,1))\n",
    "means_ppa = means_ppa.reshape(-1)\n",
    "stds_ppa = stds_ppa.reshape(-1)"
   ]
  },
  {
   "cell_type": "code",
   "execution_count": null,
   "metadata": {},
   "outputs": [],
   "source": [
    "# print(stds_full)"
   ]
  },
  {
   "cell_type": "code",
   "execution_count": null,
   "metadata": {},
   "outputs": [],
   "source": [
    "fig, ax = plt.subplots(1,2,figsize=(15,5), sharey=True)\n",
    "\n",
    "ax[0].plot(grid,means_full,label=\"full\")\n",
    "ax[0].fill_between(grid,means_full-2*stds_full,means_full+2*stds_full,alpha=0.5)\n",
    "ax[0].plot(grid,f(grid,0.0),color=\"grey\",ls=\"--\",label=\"true function\")\n",
    "ax[0].scatter(datagrid,data_values,color=\"r\",label=\"function values\")\n",
    "for i,point in enumerate(derivative_grid):\n",
    "    plot_tangent(ax[0],point, f(point), derivative_values[i])\n",
    "\n",
    "    \n",
    "ax[1].plot(grid,means_ppa,label=\"ppa\")\n",
    "ax[1].fill_between(grid,means_ppa-2*stds_ppa,means_ppa+2*stds_ppa,alpha=0.5)\n",
    "ax[1].plot(grid,f(grid,0.0),color=\"grey\",ls=\"--\",label=\"true function\")\n",
    "ax[1].scatter(datagrid,data_values,color=\"r\",label=\"function values\")\n",
    "for i,point in enumerate(derivative_grid):\n",
    "    plot_tangent(ax[1],point, f(point), derivative_values[i])\n",
    "ax[1].scatter(referencegrid.reshape(-1), -jnp.zeros_like(referencegrid.reshape(-1)), label=\"refpoints\")\n",
    "\n",
    "\n",
    "ax[0].grid()\n",
    "ax[1].grid()\n",
    "ax[0].legend()\n",
    "ax[1].legend()"
   ]
  },
  {
   "cell_type": "code",
   "execution_count": null,
   "metadata": {},
   "outputs": [],
   "source": []
  }
 ],
 "metadata": {
  "kernelspec": {
   "display_name": "gpr",
   "language": "python",
   "name": "python3"
  },
  "language_info": {
   "codemirror_mode": {
    "name": "ipython",
    "version": 3
   },
   "file_extension": ".py",
   "mimetype": "text/x-python",
   "name": "python",
   "nbconvert_exporter": "python",
   "pygments_lexer": "ipython3",
   "version": "3.9.16"
  },
  "orig_nbformat": 4,
  "vscode": {
   "interpreter": {
    "hash": "629a65123e392de0a2a0e2576e6c66cf1092871db922427f9f89d1487fe3a8bd"
   }
  }
 },
 "nbformat": 4,
 "nbformat_minor": 2
}
