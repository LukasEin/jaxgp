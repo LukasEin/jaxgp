{
 "cells": [
  {
   "attachments": {},
   "cell_type": "markdown",
   "metadata": {},
   "source": [
    "## Convergence behavior of the sparse GPR regressor\n",
    "\n",
    "The modelled function and its derivative were both evaluated at random datapoints and the MSE was then plotted for different numbers of function and derivative evaluations. Additionally, the procedure was done with different optimizers for the kernel parameters (`L-BFGS-B`, `SLSQP`)."
   ]
  },
  {
   "cell_type": "code",
   "execution_count": 2,
   "metadata": {},
   "outputs": [
    {
     "ename": "ModuleNotFoundError",
     "evalue": "No module named 'jaxgp'",
     "output_type": "error",
     "traceback": [
      "\u001b[0;31m---------------------------------------------------------------------------\u001b[0m",
      "\u001b[0;31mModuleNotFoundError\u001b[0m                       Traceback (most recent call last)",
      "Cell \u001b[0;32mIn[2], line 3\u001b[0m\n\u001b[1;32m      1\u001b[0m \u001b[39mimport\u001b[39;00m \u001b[39mjax\u001b[39;00m\u001b[39m.\u001b[39;00m\u001b[39mnumpy\u001b[39;00m \u001b[39mas\u001b[39;00m \u001b[39mjnp\u001b[39;00m\n\u001b[1;32m      2\u001b[0m \u001b[39mimport\u001b[39;00m \u001b[39mmatplotlib\u001b[39;00m\u001b[39m.\u001b[39;00m\u001b[39mpyplot\u001b[39;00m \u001b[39mas\u001b[39;00m \u001b[39mplt\u001b[39;00m\n\u001b[0;32m----> 3\u001b[0m \u001b[39mfrom\u001b[39;00m \u001b[39mjaxgp\u001b[39;00m\u001b[39m.\u001b[39;00m\u001b[39mtests\u001b[39;00m \u001b[39mimport\u001b[39;00m testfunctions, optimizertesting\n\u001b[1;32m      5\u001b[0m \u001b[39mfrom\u001b[39;00m \u001b[39mjaxgp\u001b[39;00m\u001b[39m.\u001b[39;00m\u001b[39mutils\u001b[39;00m \u001b[39mimport\u001b[39;00m Logger\n\u001b[1;32m      6\u001b[0m \u001b[39mfrom\u001b[39;00m \u001b[39mjaxgp\u001b[39;00m\u001b[39m.\u001b[39;00m\u001b[39mkernels\u001b[39;00m \u001b[39mimport\u001b[39;00m RBF\n",
      "\u001b[0;31mModuleNotFoundError\u001b[0m: No module named 'jaxgp'"
     ]
    }
   ],
   "source": [
    "import jax.numpy as jnp\n",
    "import matplotlib.pyplot as plt\n",
    "from jaxgp.tests import testfunctions, optimizertesting\n",
    "\n",
    "from jaxgp.utils import Logger\n",
    "from jaxgp.kernels import RBF"
   ]
  },
  {
   "cell_type": "code",
   "execution_count": null,
   "metadata": {},
   "outputs": [],
   "source": [
    "optimizers = [\"L-BFGS-B\", \"SLSQP\"]#, \"TNC\"\n",
    "fun = lambda x: testfunctions.himmelblau(x)/800.0\n",
    "num_gridpoints = jnp.array([100,100])\n",
    "ran = (jnp.array([-5.0,5.0]), jnp.array([-5.0,5.0]))\n",
    "\n",
    "in_dir = \"./data_files/different_number_of_datapoints/non-ext\"\n",
    "\n",
    "f_vals = [1, 5, 20, 50]\n",
    "d_vals = [5, 20, 50, 100, 200, 400, 800, 1500, 2000]"
   ]
  },
  {
   "cell_type": "code",
   "execution_count": 1,
   "metadata": {},
   "outputs": [
    {
     "ename": "NameError",
     "evalue": "name 'jnp' is not defined",
     "output_type": "error",
     "traceback": [
      "\u001b[0;31m---------------------------------------------------------------------------\u001b[0m",
      "\u001b[0;31mNameError\u001b[0m                                 Traceback (most recent call last)",
      "Cell \u001b[0;32mIn[1], line 3\u001b[0m\n\u001b[1;32m      1\u001b[0m optimizers \u001b[39m=\u001b[39m [\u001b[39m\"\u001b[39m\u001b[39mL-BFGS-B\u001b[39m\u001b[39m\"\u001b[39m, \u001b[39m\"\u001b[39m\u001b[39mSLSQP\u001b[39m\u001b[39m\"\u001b[39m]\u001b[39m#, \"TNC\"\u001b[39;00m\n\u001b[1;32m      2\u001b[0m fun \u001b[39m=\u001b[39m \u001b[39mlambda\u001b[39;00m x: testfunctions\u001b[39m.\u001b[39mhimmelblau(x)\u001b[39m/\u001b[39m\u001b[39m800.0\u001b[39m\n\u001b[0;32m----> 3\u001b[0m num_gridpoints \u001b[39m=\u001b[39m jnp\u001b[39m.\u001b[39marray([\u001b[39m100\u001b[39m,\u001b[39m100\u001b[39m])\n\u001b[1;32m      4\u001b[0m ran \u001b[39m=\u001b[39m (jnp\u001b[39m.\u001b[39marray([\u001b[39m-\u001b[39m\u001b[39m5.0\u001b[39m,\u001b[39m5.0\u001b[39m]), jnp\u001b[39m.\u001b[39marray([\u001b[39m-\u001b[39m\u001b[39m5.0\u001b[39m,\u001b[39m5.0\u001b[39m]))\n\u001b[1;32m      6\u001b[0m in_dir \u001b[39m=\u001b[39m \u001b[39m\"\u001b[39m\u001b[39m./data_files/different_number_of_datapoints/non-ext\u001b[39m\u001b[39m\"\u001b[39m\n",
      "\u001b[0;31mNameError\u001b[0m: name 'jnp' is not defined"
     ]
    }
   ],
   "source": [
    "optimizers = [\"L-BFGS-B\", \"SLSQP\"]#, \"TNC\"\n",
    "fun = lambda x: testfunctions.himmelblau(x)/800.0\n",
    "num_gridpoints = jnp.array([100,100])\n",
    "ran = (jnp.array([-5.0,5.0]), jnp.array([-5.0,5.0]))\n",
    "\n",
    "in_dir = \"./data_files/different_number_of_datapoints/non-ext\"\n",
    "\n",
    "noise = 0.1\n",
    "seed = 0\n",
    "\n",
    "f_vals = [1, 5, 20, 50]\n",
    "d_vals = [5, 20, 50, 100, 200, 400, 800, 1500, 2000]\n",
    "\n",
    "iters_per_optimizer = 5\n",
    "\n",
    "X_train, Y_train = optimizertesting.create_training_data_2D(seed, num_gridpoints, ran, noise, fun)"
   ]
  },
  {
   "cell_type": "code",
   "execution_count": null,
   "metadata": {},
   "outputs": [],
   "source": []
  }
 ],
 "metadata": {
  "kernelspec": {
   "display_name": "gpr",
   "language": "python",
   "name": "python3"
  },
  "language_info": {
   "codemirror_mode": {
    "name": "ipython",
    "version": 3
   },
   "file_extension": ".py",
   "mimetype": "text/x-python",
   "name": "python",
   "nbconvert_exporter": "python",
   "pygments_lexer": "ipython3",
   "version": "3.9.16"
  },
  "orig_nbformat": 4
 },
 "nbformat": 4,
 "nbformat_minor": 2
}
