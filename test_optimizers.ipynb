{
 "cells": [
  {
   "cell_type": "code",
   "execution_count": 121,
   "metadata": {},
   "outputs": [],
   "source": [
    "import jax.numpy as jnp\n",
    "from jax import random\n",
    "import matplotlib.pyplot as plt\n",
    "import jaxgp.regression as gpr\n",
    "from jaxgp.kernels import RBF, Linear\n",
    "import time\n",
    "\n",
    "import testfunctions\n",
    "from jaxgp.utils import Logger"
   ]
  },
  {
   "attachments": {},
   "cell_type": "markdown",
   "metadata": {},
   "source": [
    "### 1D"
   ]
  },
  {
   "cell_type": "code",
   "execution_count": 133,
   "metadata": {},
   "outputs": [],
   "source": [
    "from jax import vmap, jit, grad\n",
    "\n",
    "def f(x):\n",
    "    return jnp.exp(-x**2) + jnp.exp(-0.5*(x-0.5)**2)\n",
    "\n",
    "def df(x):\n",
    "    return -2*x*jnp.exp(-x**2) + -(x-0.5)*jnp.exp(-0.5*(x-0.5)**2)"
   ]
  },
  {
   "cell_type": "code",
   "execution_count": 135,
   "metadata": {},
   "outputs": [
    {
     "name": "stdout",
     "output_type": "stream",
     "text": [
      "(1000, 1) (1000, 2)\n"
     ]
    }
   ],
   "source": [
    "seed = 0\n",
    "\n",
    "noise = 0.1\n",
    "range = jnp.array([0.0, 1.0])\n",
    "num_datapoints = 1000\n",
    "X_train = jnp.linspace(*range, num_datapoints).reshape(-1,1)\n",
    "y = f(X_train)\n",
    "dy = df(X_train)\n",
    "Y_train = jnp.hstack((y, dy))\n",
    "\n",
    "print(X_train.shape, Y_train.shape)"
   ]
  },
  {
   "attachments": {},
   "cell_type": "markdown",
   "metadata": {},
   "source": [
    "### 2D"
   ]
  },
  {
   "cell_type": "code",
   "execution_count": 124,
   "metadata": {},
   "outputs": [],
   "source": [
    "def function(x):\n",
    "    return jnp.sin(2*x[0] + x[1])"
   ]
  },
  {
   "cell_type": "code",
   "execution_count": 125,
   "metadata": {},
   "outputs": [],
   "source": [
    "optimizers = [\"Nelder-Mead\", \"L-BFGS-B\", \"TNC\", \"SLSQP\", \"Powell\", \"trust-constr\"]\n",
    "\n",
    "seed = 0\n",
    "num_gridpoints = jnp.array([100,100])\n",
    "num_datapoints = jnp.prod(num_gridpoints)\n",
    "noise = 0.5\n",
    "ranges = (jnp.array([0,2*jnp.pi]),jnp.array([0,2*jnp.pi]))\n",
    "# fun = testfunctions.franke\n",
    "fun = function\n",
    "\n",
    "X_train, Y_train = testfunctions.create_training_data_2D(seed, num_gridpoints, ranges, noise, fun)\n",
    "# X_train, Y_train = make_unique(X_train, Y_train)\n",
    "\n",
    "iters_per_optimizer = 1\n",
    "\n",
    "# function_set_sizes = [1, 5, 10, 50, 100]\n",
    "function_set_sizes = [100,]\n",
    "# derivative_set_sizes = [10, 50, 100, 500, 1000, 2000, 5000]\n",
    "derivative_set_sizes = [100,]\n",
    "\n",
    "kernel = RBF()\n",
    "param_shape = (2,)\n",
    "param_bounds = (1e-3, 10.0)\n",
    "\n",
    "grids = jnp.linspace(0,2*jnp.pi,20)\n",
    "grid = jnp.array(jnp.meshgrid(grids, grids)).reshape(2,-1).T"
   ]
  },
  {
   "cell_type": "code",
   "execution_count": 126,
   "metadata": {},
   "outputs": [
    {
     "name": "stdout",
     "output_type": "stream",
     "text": [
      "OptStep(params=DeviceArray([1., 1.], dtype=float32), state=ScipyMinimizeInfo(fun_val=DeviceArray(nan, dtype=float32, weak_type=True), success=False, status=2, iter_num=0))\n"
     ]
    }
   ],
   "source": [
    "key = random.PRNGKey(int(time.time()))\n",
    "\n",
    "means = []\n",
    "stds = []\n",
    "\n",
    "for fun_vals in function_set_sizes:\n",
    "    for der_vals in derivative_set_sizes:\n",
    "        # logger for each pair of function vals and derivative vals\n",
    "        logger = Logger(f\"f{fun_vals}d{der_vals}\")\n",
    "\n",
    "        # X = X_train.reshape(100,100,2)\n",
    "        # Y = Y_train.reshape(100,100,3)\n",
    "\n",
    "        # X_fun = X[::10,::10].reshape(100,2)\n",
    "        # Y_fun = Y[::10,::10,0].reshape(-1)\n",
    "        # X_d1 = X[::10,::10].reshape(100,2)\n",
    "        # Y_d1 = Y[::10,::10,1].reshape(-1)\n",
    "        # X_d2 = X[::10,::10].reshape(100,2)\n",
    "        # Y_d2 = Y[::10,::10,2].reshape(-1)\n",
    "\n",
    "        key, subkey = random.split(key)\n",
    "        fun_perm = random.permutation(subkey, num_datapoints)[:fun_vals]\n",
    "        key, subkey = random.split(key)\n",
    "        d1_perm = random.permutation(subkey, num_datapoints)[:der_vals]\n",
    "        key, subkey = random.split(key)\n",
    "        d2_perm = random.permutation(subkey, num_datapoints)[:der_vals]\n",
    "\n",
    "        X_fun = X_train[fun_perm]\n",
    "        Y_fun = Y_train[fun_perm,0]\n",
    "        X_d1 = X_train[d1_perm]\n",
    "        Y_d1 = Y_train[d1_perm,1]\n",
    "        X_d2 = X_train[d2_perm]\n",
    "        Y_d2 = Y_train[d2_perm,2]\n",
    "\n",
    "        X = jnp.vstack((X_fun, X_d1, X_d2))\n",
    "        Y = jnp.hstack((Y_fun, Y_d1, Y_d2))\n",
    "        data_split = jnp.array([function_set_sizes, derivative_set_sizes, derivative_set_sizes])\n",
    "        # data_split = jnp.array([100, 100, 100])\n",
    "\n",
    "        # print(X.shape, Y.shape, data_split)\n",
    "        # print()\n",
    "\n",
    "        for i in range(iters_per_optimizer):\n",
    "            key, subkey = random.split(key)\n",
    "            init_params = random.uniform(subkey, param_shape, minval=param_bounds[0], maxval=param_bounds[1])\n",
    "            init_params = jnp.array([1.0, 1.0])\n",
    "\n",
    "            model = gpr.ExactGPR(kernel, init_params, noise)\n",
    "            model.train(X, Y, data_split=data_split)\n",
    "            m, s = model.eval(grid)\n",
    "            means.append(m)\n",
    "            stds.append(s)"
   ]
  },
  {
   "cell_type": "code",
   "execution_count": 127,
   "metadata": {},
   "outputs": [
    {
     "name": "stdout",
     "output_type": "stream",
     "text": [
      "[7814 9159 3406 5316  133 7195 6422 5190 2167 9251 3887 4262  167 5695\n",
      " 2328 8527 3387 1564  997 6007 6885 5993 1772 1477 3175 6992 1022 3897\n",
      " 8570 6292 5985 2139  229 2040 8385 4426 4260 8753 2126 4333 5556 3783\n",
      "  985 4275 1566 6936 8326 2909 4032 5978 2645 6722 1400 1260 3322 5918\n",
      " 5891 4844 1409 2861 7419 8391 1680 9530 3125 4342 3868 9258 7211 1928\n",
      " 7839 8749 9849  707 1177 3600 2353 2010 5176 8951 7032 5606 7383 7189\n",
      " 1212 4801 9343  309  238 2083 2338 5875 7504 7272 6882 9513 5006 1185\n",
      "  508 1366]\n",
      "[ 169 6098  303 4717 1896 2982  577 9045 7722 2908 9639 5722 7310 4841\n",
      " 6951 3836 4641 9386 5383 6283 2106 5768 1722  837 1397 2772 7477 2254\n",
      " 9945 1603 6028 6771 4160 1625 8629 8851 2556 6842 9540 8880 8966 5491\n",
      " 4582 8479 9616 1225 1029 7320 3794 5063 4556 2784 1620 4585 9827 1204\n",
      " 6272 4109  629 4016 9088 4351 9322 4823  254 6233 1561 1193 8219 1876\n",
      " 4157 3485 4189 2365 6785 4215   46 1012 6415 7816 1302 6086 4817   50\n",
      " 2945 1276 2813 3462  736 1145 2826 5509 1240 3801 5848 6896 4541 7906\n",
      " 8359 5125]\n",
      "[4334 7615 7743 5723 7992 8555 8043 1074 9859 3938 6795 1902 8473 8219\n",
      " 4712  789 7245 3116 1586 7843  527 5637 3633 9769 8730 2497 8708 5429\n",
      "  677 4670 3840  190 1436  383 2266 9306 6753 4866 6861 5305 2217  215\n",
      " 7661 3051 5825  922 1434 2610  391 7185 3477 6547 2647 8683 7423 7496\n",
      " 8491 8707 4693 8333 2239 5389 2935 9911  155 1476 5827 5552 1913 7761\n",
      " 8353 7004 7210 3317 2560 4231 7201 1966 7521  270 3181 9585 8006 4367\n",
      " 3483 9314  160 5907 6368 2975 4999 5614 5478 2191 3209 8801 3315 5806\n",
      " 2909  286]\n"
     ]
    }
   ],
   "source": [
    "print(fun_perm)\n",
    "print(d1_perm)\n",
    "print(d2_perm)"
   ]
  },
  {
   "cell_type": "code",
   "execution_count": 128,
   "metadata": {},
   "outputs": [
    {
     "data": {
      "text/plain": [
       "<matplotlib.collections.QuadMesh at 0x7fa641fe03a0>"
      ]
     },
     "execution_count": 128,
     "metadata": {},
     "output_type": "execute_result"
    },
    {
     "data": {
      "image/png": "[encoded data removed]",
      "text/plain": [
       "<Figure size 640x480 with 1 Axes>"
      ]
     },
     "metadata": {},
     "output_type": "display_data"
    }
   ],
   "source": [
    "mean = means[0].reshape(20,20)\n",
    "\n",
    "plt.pcolormesh(grids, grids, mean)"
   ]
  },
  {
   "attachments": {},
   "cell_type": "markdown",
   "metadata": {},
   "source": [
    "### tangent plotting helper"
   ]
  },
  {
   "cell_type": "code",
   "execution_count": 129,
   "metadata": {},
   "outputs": [],
   "source": [
    "def plot_tangent(ax,x0, y0, dy0):\n",
    "    x = jnp.linspace(x0-0.1, x0+0.1,2)\n",
    "    tangent = dy0*(x - x0) + y0\n",
    "\n",
    "    ax.plot(x, tangent,ls=\"--\", color=\"red\")"
   ]
  }
 ],
 "metadata": {
  "kernelspec": {
   "display_name": "gpr",
   "language": "python",
   "name": "python3"
  },
  "language_info": {
   "codemirror_mode": {
    "name": "ipython",
    "version": 3
   },
   "file_extension": ".py",
   "mimetype": "text/x-python",
   "name": "python",
   "nbconvert_exporter": "python",
   "pygments_lexer": "ipython3",
   "version": "3.9.16"
  },
  "orig_nbformat": 4
 },
 "nbformat": 4,
 "nbformat_minor": 2
}
