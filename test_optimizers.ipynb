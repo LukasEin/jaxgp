{
 "cells": [
  {
   "cell_type": "code",
   "execution_count": 1,
   "metadata": {},
   "outputs": [],
   "source": [
    "import jax.numpy as jnp\n",
    "from jax import random\n",
    "import matplotlib.pyplot as plt\n",
    "import jaxgp.regression as gpr\n",
    "from jaxgp.kernels import RBF, Linear\n",
    "import time\n",
    "\n",
    "from jaxgp.tests import testfunctions, optimizertesting\n",
    "from jaxgp.utils import Logger"
   ]
  },
  {
   "attachments": {},
   "cell_type": "markdown",
   "metadata": {},
   "source": [
    "### 1D"
   ]
  },
  {
   "cell_type": "code",
   "execution_count": 13,
   "metadata": {},
   "outputs": [],
   "source": [
    "# from jax import vmap, jit, grad\n",
    "# sigma = 0.15\n",
    "\n",
    "# def f(x):\n",
    "#     return jnp.exp(-(x / sigma)**2) + 0.5*jnp.exp(-0.5*((x-0.5) / sigma)**2)\n",
    "\n",
    "# def df(x):\n",
    "#     return (-2*x*jnp.exp(-(x / sigma)**2) + -0.5*(x-0.5)*jnp.exp(-0.5*((x-0.5) / sigma)**2))/(sigma**2)"
   ]
  },
  {
   "cell_type": "code",
   "execution_count": 14,
   "metadata": {},
   "outputs": [],
   "source": [
    "# seed = 0\n",
    "\n",
    "# noise = 0.1\n",
    "# ranges = jnp.array([0.0, 1.0])\n",
    "# num_datapoints = 1000\n",
    "# X_train = jnp.linspace(*ranges, num_datapoints).reshape(-1,1)\n",
    "# y = f(X_train)\n",
    "# dy = df(X_train)\n",
    "# Y_train = jnp.hstack((y, dy))\n",
    "\n",
    "# iters_per_optimizer = 1\n",
    "\n",
    "# function_set_sizes = [1,]\n",
    "# # derivative_set_sizes = [2,5,7,10,12,15,20, 100]\n",
    "# derivative_set_sizes = [10,]\n",
    "\n",
    "# kernel = RBF()\n",
    "# param_shape = (2,)\n",
    "# param_bounds = (1e-3, 10.0)\n",
    "\n",
    "# grid = jnp.linspace(0,1,100).reshape(-1,1)"
   ]
  },
  {
   "cell_type": "code",
   "execution_count": 15,
   "metadata": {},
   "outputs": [],
   "source": [
    "# # key = random.PRNGKey(int(time.time()))\n",
    "# key = random.PRNGKey(0)\n",
    "\n",
    "# means = []\n",
    "# stds = []\n",
    "\n",
    "# for fun_vals in function_set_sizes:\n",
    "#     for der_vals in derivative_set_sizes:\n",
    "#         # logger for each pair of function vals and derivative vals\n",
    "#         logger = Logger(f\"f{fun_vals}d{der_vals}\")\n",
    "\n",
    "#         key, subkey = random.split(key)\n",
    "#         fun_perm = random.permutation(subkey, num_datapoints)[:fun_vals]\n",
    "#         key, subkey = random.split(key)\n",
    "#         d1_perm = random.permutation(subkey, num_datapoints)[:der_vals]\n",
    "\n",
    "#         X_fun = X_train[fun_perm]\n",
    "#         Y_fun = Y_train[fun_perm,0]\n",
    "#         X_d1 = X_train[d1_perm]\n",
    "#         Y_d1 = Y_train[d1_perm,1]\n",
    "\n",
    "#         X = jnp.vstack((X_fun, X_d1))\n",
    "#         Y = jnp.hstack((Y_fun, Y_d1))\n",
    "#         data_split = jnp.array([fun_vals, der_vals])\n",
    "\n",
    "#         for i in range(iters_per_optimizer):\n",
    "#             key, subkey = random.split(key)\n",
    "#             init_params = random.uniform(subkey, param_shape, minval=param_bounds[0], maxval=param_bounds[1])\n",
    "#             logger.log(f\"# iter {i+1}: init params {init_params}\")\n",
    "\n",
    "#             model = gpr.ExactGPR(kernel, init_params, noise, logger=logger)\n",
    "#             model.train(X, Y, data_split=data_split)\n",
    "#             m, s = model.eval(grid)\n",
    "#             means.append(m)\n",
    "#             stds.append(s)"
   ]
  },
  {
   "cell_type": "code",
   "execution_count": 16,
   "metadata": {},
   "outputs": [],
   "source": [
    "# plt.plot(X_train, Y_train[:,0])\n",
    "# for der,mean in zip(derivative_set_sizes,means):\n",
    "#     plt.plot(grid, mean, label=f\"{der} der obs\")\n",
    "\n",
    "# plt.grid()\n",
    "# plt.legend()"
   ]
  },
  {
   "attachments": {},
   "cell_type": "markdown",
   "metadata": {},
   "source": [
    "### 2D"
   ]
  },
  {
   "cell_type": "code",
   "execution_count": 18,
   "metadata": {},
   "outputs": [],
   "source": [
    "optimizers = [\"L-BFGS-B\", \"TNC\", \"SLSQP\"]#, \"Nelder-Mead\", \"Powell\", \"trust-constr\"]\n",
    "\n",
    "seed = 0\n",
    "num_gridpoints = jnp.array([100,100])\n",
    "noise = 0.1\n",
    "\n",
    "iters_per_optimizer = 5\n",
    "\n",
    "num_f_vals = 20\n",
    "num_d_vals = 100\n",
    "\n",
    "kernel = RBF(3)\n",
    "param_shape = (3,)\n",
    "param_bounds = (1e-3, 10.0)\n",
    "\n",
    "names = [\"franke\", \"himmelblau\", \"easom\", \"ackley\", \"sin\"]\n",
    "\n",
    "functions = [testfunctions.franke, testfunctions.himmelblau, testfunctions.easom, testfunctions.ackley, testfunctions.sin2d]\n",
    "\n",
    "ranges = [(jnp.array([0.0,1.0]), jnp.array([0.0,1.0])), \n",
    "          (jnp.array([-5.0,5.0]), jnp.array([-5.0,5.0])),\n",
    "          (jnp.array([-10.0,10.0]), jnp.array([-10.0,10.0])),\n",
    "          (jnp.array([-5.0,5.0]), jnp.array([-5.0,5.0])),\n",
    "          (jnp.array([0.0,2*jnp.pi]), jnp.array([0.0,2*jnp.pi]))]"
   ]
  },
  {
   "cell_type": "code",
   "execution_count": null,
   "metadata": {},
   "outputs": [],
   "source": []
  },
  {
   "cell_type": "code",
   "execution_count": 19,
   "metadata": {},
   "outputs": [
    {
     "name": "stdout",
     "output_type": "stream",
     "text": [
      "Optimizer L-BFGS-B\n",
      "OptStep(params=DeviceArray([3.4470170e+00, 3.4372774e-03, 3.2955947e+00], dtype=float32), state=ScipyMinimizeInfo(fun_val=DeviceArray(0.04120548, dtype=float32, weak_type=True), success=False, status=2, iter_num=3))\n",
      "OptStep(params=DeviceArray([4.852865 , 3.0606432, 0.0094106], dtype=float32), state=ScipyMinimizeInfo(fun_val=DeviceArray(nan, dtype=float32, weak_type=True), success=False, status=2, iter_num=4))\n",
      "OptStep(params=DeviceArray([7.613104 , 8.64159  , 5.0780387], dtype=float32), state=ScipyMinimizeInfo(fun_val=DeviceArray(nan, dtype=float32, weak_type=True), success=False, status=2, iter_num=1))\n",
      "OptStep(params=DeviceArray([5.8078685e+00, 1.8793218e+00, 1.0000000e-03], dtype=float32), state=ScipyMinimizeInfo(fun_val=DeviceArray(0.04120548, dtype=float32, weak_type=True), success=False, status=2, iter_num=3))\n",
      "OptStep(params=DeviceArray([0.054658  , 0.16858527, 0.18628271], dtype=float32), state=ScipyMinimizeInfo(fun_val=DeviceArray(-0.00937389, dtype=float32, weak_type=True), success=True, status=0, iter_num=30))\n",
      "Optimizer TNC\n",
      "OptStep(params=DeviceArray([3.419262  , 0.21437126, 0.25288275], dtype=float32), state=ScipyMinimizeInfo(fun_val=DeviceArray(-0.00610506, dtype=float32, weak_type=True), success=True, status=1, iter_num=19))\n",
      "OptStep(params=DeviceArray([1.5934196, 8.034736 , 5.407342 ], dtype=float32), state=ScipyMinimizeInfo(fun_val=DeviceArray(0.49284753, dtype=float32, weak_type=True), success=False, status=4, iter_num=0))\n",
      "OptStep(params=DeviceArray([2.1204364, 8.296562 , 3.8172514], dtype=float32), state=ScipyMinimizeInfo(fun_val=DeviceArray(0.477745, dtype=float32, weak_type=True), success=False, status=4, iter_num=0))\n",
      "OptStep(params=DeviceArray([2.363034, 8.963166, 2.236376], dtype=float32), state=ScipyMinimizeInfo(fun_val=DeviceArray(0.39863, dtype=float32, weak_type=True), success=False, status=4, iter_num=0))\n",
      "OptStep(params=DeviceArray([1.4930158e+00, 8.9308643e+00, 5.6420020e-03], dtype=float32), state=ScipyMinimizeInfo(fun_val=DeviceArray(0.1548788, dtype=float32, weak_type=True), success=False, status=4, iter_num=1))\n",
      "Optimizer SLSQP\n"
     ]
    },
    {
     "name": "stderr",
     "output_type": "stream",
     "text": [
      "/home/lukas/programs/miniconda3/envs/gpr/lib/python3.9/site-packages/scipy/optimize/_optimize.py:353: RuntimeWarning: Values in x were outside bounds during a minimize step, clipping to bounds\n",
      "  warnings.warn(\"Values in x were outside bounds during a \"\n"
     ]
    },
    {
     "name": "stdout",
     "output_type": "stream",
     "text": [
      "OptStep(params=DeviceArray([7.2194009e+00, 3.1388154e+00, 1.0000000e-03], dtype=float32), state=ScipyMinimizeInfo(fun_val=DeviceArray(0.06334427, dtype=float32, weak_type=True), success=True, status=0, iter_num=16))\n",
      "OptStep(params=DeviceArray([9.621718  , 0.22480027, 0.29448816], dtype=float32), state=ScipyMinimizeInfo(fun_val=DeviceArray(-0.00562126, dtype=float32, weak_type=True), success=True, status=0, iter_num=5))\n"
     ]
    },
    {
     "name": "stderr",
     "output_type": "stream",
     "text": [
      "/home/lukas/programs/miniconda3/envs/gpr/lib/python3.9/site-packages/scipy/optimize/_optimize.py:353: RuntimeWarning: Values in x were outside bounds during a minimize step, clipping to bounds\n",
      "  warnings.warn(\"Values in x were outside bounds during a \"\n"
     ]
    },
    {
     "name": "stdout",
     "output_type": "stream",
     "text": [
      "OptStep(params=DeviceArray([9.062745  , 9.21687   , 0.12443336], dtype=float32), state=ScipyMinimizeInfo(fun_val=DeviceArray(0.20317098, dtype=float32, weak_type=True), success=True, status=0, iter_num=20))\n"
     ]
    },
    {
     "name": "stderr",
     "output_type": "stream",
     "text": [
      "/home/lukas/programs/miniconda3/envs/gpr/lib/python3.9/site-packages/scipy/optimize/_optimize.py:353: RuntimeWarning: Values in x were outside bounds during a minimize step, clipping to bounds\n",
      "  warnings.warn(\"Values in x were outside bounds during a \"\n"
     ]
    },
    {
     "name": "stdout",
     "output_type": "stream",
     "text": [
      "OptStep(params=DeviceArray([7.0362573e+00, 4.5591097e+00, 1.0384790e-03], dtype=float32), state=ScipyMinimizeInfo(fun_val=DeviceArray(nan, dtype=float32, weak_type=True), success=False, status=5, iter_num=9))\n"
     ]
    },
    {
     "name": "stderr",
     "output_type": "stream",
     "text": [
      "/home/lukas/programs/miniconda3/envs/gpr/lib/python3.9/site-packages/scipy/optimize/_optimize.py:353: RuntimeWarning: Values in x were outside bounds during a minimize step, clipping to bounds\n",
      "  warnings.warn(\"Values in x were outside bounds during a \"\n"
     ]
    },
    {
     "name": "stdout",
     "output_type": "stream",
     "text": [
      "OptStep(params=DeviceArray([7.6072702e+00, 5.5085268e+00, 1.3537814e-03], dtype=float32), state=ScipyMinimizeInfo(fun_val=DeviceArray(0.08193273, dtype=float32, weak_type=True), success=True, status=0, iter_num=9))\n",
      "Optimizer L-BFGS-B\n",
      "OptStep(params=DeviceArray([4.5974770e+04, 1.7813433e+00, 1.7397712e+00], dtype=float32), state=ScipyMinimizeInfo(fun_val=DeviceArray(0.02644118, dtype=float32, weak_type=True), success=True, status=0, iter_num=45))\n",
      "OptStep(params=DeviceArray([1.4960025e+04, 1.4150007e+00, 1.3618716e+00], dtype=float32), state=ScipyMinimizeInfo(fun_val=DeviceArray(0.0384546, dtype=float32, weak_type=True), success=True, status=0, iter_num=40))\n",
      "OptStep(params=DeviceArray([3.9594707e+04, 1.9188782e+00, 1.7220256e+00], dtype=float32), state=ScipyMinimizeInfo(fun_val=DeviceArray(0.02799315, dtype=float32, weak_type=True), success=True, status=0, iter_num=37))\n",
      "OptStep(params=DeviceArray([2.9822912e+04, 1.7217273e+00, 1.7739794e+00], dtype=float32), state=ScipyMinimizeInfo(fun_val=DeviceArray(0.03123533, dtype=float32, weak_type=True), success=True, status=0, iter_num=32))\n",
      "OptStep(params=DeviceArray([1.9008317e+05, 1.3646815e+00, 9.7573054e-01], dtype=float32), state=ScipyMinimizeInfo(fun_val=DeviceArray(1686.1862, dtype=float32, weak_type=True), success=False, status=2, iter_num=48))\n",
      "Optimizer TNC\n",
      "OptStep(params=DeviceArray([8.5626826e+03, 1.2935736e+00, 1.0843246e+00], dtype=float32), state=ScipyMinimizeInfo(fun_val=DeviceArray(0.04516714, dtype=float32, weak_type=True), success=True, status=1, iter_num=33))\n",
      "OptStep(params=DeviceArray([1.8492824e+04, 1.3821428e+00, 1.2616829e+00], dtype=float32), state=ScipyMinimizeInfo(fun_val=DeviceArray(0.03594556, dtype=float32, weak_type=True), success=True, status=1, iter_num=31))\n",
      "OptStep(params=DeviceArray([3.1964490e+03, 5.9488839e-01, 3.2392684e-01], dtype=float32), state=ScipyMinimizeInfo(fun_val=DeviceArray(0.06008182, dtype=float32, weak_type=True), success=True, status=1, iter_num=36))\n",
      "OptStep(params=DeviceArray([5.8932910e+03, 1.1520805e+00, 9.5310682e-01], dtype=float32), state=ScipyMinimizeInfo(fun_val=DeviceArray(0.05123411, dtype=float32, weak_type=True), success=True, status=1, iter_num=28))\n",
      "OptStep(params=DeviceArray([9.5137451e+02, 2.9328865e-01, 2.1985696e-01], dtype=float32), state=ScipyMinimizeInfo(fun_val=DeviceArray(0.06981073, dtype=float32, weak_type=True), success=True, status=1, iter_num=27))\n",
      "Optimizer SLSQP\n",
      "OptStep(params=DeviceArray([5.4109363e+04, 2.1474900e+00, 1.8688072e+00], dtype=float32), state=ScipyMinimizeInfo(fun_val=DeviceArray(0.02444899, dtype=float32, weak_type=True), success=True, status=0, iter_num=73))\n"
     ]
    },
    {
     "name": "stderr",
     "output_type": "stream",
     "text": [
      "/home/lukas/programs/miniconda3/envs/gpr/lib/python3.9/site-packages/scipy/optimize/_optimize.py:353: RuntimeWarning: Values in x were outside bounds during a minimize step, clipping to bounds\n",
      "  warnings.warn(\"Values in x were outside bounds during a \"\n"
     ]
    },
    {
     "name": "stdout",
     "output_type": "stream",
     "text": [
      "OptStep(params=DeviceArray([5.4326441e+04, 2.1410148e+00, 2.0517983e+00], dtype=float32), state=ScipyMinimizeInfo(fun_val=DeviceArray(0.02537092, dtype=float32, weak_type=True), success=True, status=0, iter_num=49))\n",
      "OptStep(params=DeviceArray([5.7613867e+04, 2.1647227e+00, 1.6945231e+00], dtype=float32), state=ScipyMinimizeInfo(fun_val=DeviceArray(0.02533889, dtype=float32, weak_type=True), success=True, status=0, iter_num=62))\n",
      "OptStep(params=DeviceArray([3.4772261e+03, 6.9429404e-01, 1.9717389e-01], dtype=float32), state=ScipyMinimizeInfo(fun_val=DeviceArray(0.06285886, dtype=float32, weak_type=True), success=True, status=0, iter_num=49))\n"
     ]
    },
    {
     "name": "stderr",
     "output_type": "stream",
     "text": [
      "/home/lukas/programs/miniconda3/envs/gpr/lib/python3.9/site-packages/scipy/optimize/_optimize.py:353: RuntimeWarning: Values in x were outside bounds during a minimize step, clipping to bounds\n",
      "  warnings.warn(\"Values in x were outside bounds during a \"\n"
     ]
    },
    {
     "name": "stdout",
     "output_type": "stream",
     "text": [
      "OptStep(params=DeviceArray([5.6558164e+04, 1.9015549e+00, 1.8510669e+00], dtype=float32), state=ScipyMinimizeInfo(fun_val=DeviceArray(0.02484203, dtype=float32, weak_type=True), success=True, status=0, iter_num=59))\n",
      "Optimizer L-BFGS-B\n",
      "OptStep(params=DeviceArray([1.0000000e-03, 1.8078594e+01, 1.4050544e+01], dtype=float32), state=ScipyMinimizeInfo(fun_val=DeviceArray(-0.01777602, dtype=float32, weak_type=True), success=True, status=0, iter_num=7))\n",
      "OptStep(params=DeviceArray([1.0000000e-03, 9.4393902e+00, 6.9908743e+00], dtype=float32), state=ScipyMinimizeInfo(fun_val=DeviceArray(-0.01777841, dtype=float32, weak_type=True), success=True, status=0, iter_num=7))\n",
      "OptStep(params=DeviceArray([1.0000000e-03, 1.0937326e+01, 6.3914599e+00], dtype=float32), state=ScipyMinimizeInfo(fun_val=DeviceArray(-0.01777956, dtype=float32, weak_type=True), success=True, status=0, iter_num=7))\n",
      "OptStep(params=DeviceArray([1.0000000e-03, 5.2541356e+00, 7.9779072e+00], dtype=float32), state=ScipyMinimizeInfo(fun_val=DeviceArray(-0.01777415, dtype=float32, weak_type=True), success=True, status=0, iter_num=3))\n",
      "OptStep(params=DeviceArray([0.00328453, 0.71246165, 1.3459449 ], dtype=float32), state=ScipyMinimizeInfo(fun_val=DeviceArray(-0.01835769, dtype=float32, weak_type=True), success=True, status=0, iter_num=38))\n",
      "Optimizer TNC\n",
      "OptStep(params=DeviceArray([2.8555358e-03, 7.0586567e+00, 7.6880002e+00], dtype=float32), state=ScipyMinimizeInfo(fun_val=DeviceArray(-0.01527326, dtype=float32, weak_type=True), success=True, status=1, iter_num=2))\n",
      "OptStep(params=DeviceArray([3.0388429e-03, 1.1317264e+01, 1.9701653e+01], dtype=float32), state=ScipyMinimizeInfo(fun_val=DeviceArray(-0.01525561, dtype=float32, weak_type=True), success=True, status=1, iter_num=3))\n",
      "OptStep(params=DeviceArray([2.709824e-03, 8.556144e+00, 1.559691e+01], dtype=float32), state=ScipyMinimizeInfo(fun_val=DeviceArray(-0.0152645, dtype=float32, weak_type=True), success=True, status=1, iter_num=4))\n",
      "OptStep(params=DeviceArray([2.7407673e-03, 8.3253040e+00, 8.4839792e+00], dtype=float32), state=ScipyMinimizeInfo(fun_val=DeviceArray(-0.01526715, dtype=float32, weak_type=True), success=True, status=1, iter_num=2))\n",
      "OptStep(params=DeviceArray([1.8738796e-03, 2.1511034e+01, 1.3263525e+01], dtype=float32), state=ScipyMinimizeInfo(fun_val=DeviceArray(-0.01523404, dtype=float32, weak_type=True), success=True, status=1, iter_num=2))\n",
      "Optimizer SLSQP\n",
      "OptStep(params=DeviceArray([6.754965 , 9.697391 , 7.6025257], dtype=float32), state=ScipyMinimizeInfo(fun_val=DeviceArray(-0.01630463, dtype=float32, weak_type=True), success=True, status=0, iter_num=1))\n"
     ]
    },
    {
     "name": "stderr",
     "output_type": "stream",
     "text": [
      "/home/lukas/programs/miniconda3/envs/gpr/lib/python3.9/site-packages/scipy/optimize/_optimize.py:353: RuntimeWarning: Values in x were outside bounds during a minimize step, clipping to bounds\n",
      "  warnings.warn(\"Values in x were outside bounds during a \"\n"
     ]
    },
    {
     "name": "stdout",
     "output_type": "stream",
     "text": [
      "OptStep(params=DeviceArray([1.0000000e-03, 1.9137666e+02, 2.1978125e+01], dtype=float32), state=ScipyMinimizeInfo(fun_val=DeviceArray(-0.01753219, dtype=float32, weak_type=True), success=True, status=0, iter_num=20))\n",
      "OptStep(params=DeviceArray([6.920517e-03, 3.037643e+00, 8.516461e+00], dtype=float32), state=ScipyMinimizeInfo(fun_val=DeviceArray(-0.01765677, dtype=float32, weak_type=True), success=True, status=0, iter_num=8))\n",
      "OptStep(params=DeviceArray([ 0.0138563,  7.8575034, 11.311414 ], dtype=float32), state=ScipyMinimizeInfo(fun_val=DeviceArray(-0.0176114, dtype=float32, weak_type=True), success=True, status=0, iter_num=15))\n",
      "OptStep(params=DeviceArray([4.568066 , 9.208293 , 4.2315516], dtype=float32), state=ScipyMinimizeInfo(fun_val=DeviceArray(-0.01589334, dtype=float32, weak_type=True), success=True, status=0, iter_num=1))\n",
      "Optimizer L-BFGS-B\n",
      "OptStep(params=DeviceArray([35.881165  ,  0.55907923,  0.61841625], dtype=float32), state=ScipyMinimizeInfo(fun_val=DeviceArray(0.02593165, dtype=float32, weak_type=True), success=True, status=0, iter_num=31))\n",
      "OptStep(params=DeviceArray([35.892986  ,  0.5591165 ,  0.61844105], dtype=float32), state=ScipyMinimizeInfo(fun_val=DeviceArray(0.02593161, dtype=float32, weak_type=True), success=True, status=0, iter_num=27))\n",
      "OptStep(params=DeviceArray([35.8792    ,  0.55903625,  0.61842704], dtype=float32), state=ScipyMinimizeInfo(fun_val=DeviceArray(0.02593164, dtype=float32, weak_type=True), success=True, status=0, iter_num=35))\n",
      "OptStep(params=DeviceArray([35.90181   ,  0.55928075,  0.6184266 ], dtype=float32), state=ScipyMinimizeInfo(fun_val=DeviceArray(0.02593158, dtype=float32, weak_type=True), success=True, status=0, iter_num=36))\n",
      "OptStep(params=DeviceArray([35.88915   ,  0.5590993 ,  0.61842614], dtype=float32), state=ScipyMinimizeInfo(fun_val=DeviceArray(0.02593159, dtype=float32, weak_type=True), success=True, status=0, iter_num=36))\n",
      "Optimizer TNC\n",
      "OptStep(params=DeviceArray([43.13181   ,  0.6102531 ,  0.68660206], dtype=float32), state=ScipyMinimizeInfo(fun_val=DeviceArray(0.02457307, dtype=float32, weak_type=True), success=True, status=1, iter_num=28))\n",
      "OptStep(params=DeviceArray([42.013657 ,  0.6054349,  0.6870047], dtype=float32), state=ScipyMinimizeInfo(fun_val=DeviceArray(0.02457365, dtype=float32, weak_type=True), success=True, status=1, iter_num=45))\n",
      "OptStep(params=DeviceArray([42.899242  ,  0.60736865,  0.6881236 ], dtype=float32), state=ScipyMinimizeInfo(fun_val=DeviceArray(0.02457305, dtype=float32, weak_type=True), success=True, status=1, iter_num=20))\n",
      "OptStep(params=DeviceArray([41.821358  ,  0.6050716 ,  0.68706167], dtype=float32), state=ScipyMinimizeInfo(fun_val=DeviceArray(0.02457397, dtype=float32, weak_type=True), success=True, status=1, iter_num=26))\n",
      "OptStep(params=DeviceArray([42.16971   ,  0.6061877 ,  0.68754756], dtype=float32), state=ScipyMinimizeInfo(fun_val=DeviceArray(0.02457362, dtype=float32, weak_type=True), success=True, status=1, iter_num=27))\n",
      "Optimizer SLSQP\n",
      "OptStep(params=DeviceArray([37.858574,  0.573889,  0.679856], dtype=float32), state=ScipyMinimizeInfo(fun_val=DeviceArray(0.02528458, dtype=float32, weak_type=True), success=True, status=0, iter_num=48))\n",
      "OptStep(params=DeviceArray([11.120141  ,  0.45442972,  0.50523007], dtype=float32), state=ScipyMinimizeInfo(fun_val=DeviceArray(0.02782897, dtype=float32, weak_type=True), success=True, status=0, iter_num=21))\n",
      "OptStep(params=DeviceArray([11.464037 ,  0.4663469,  0.5062343], dtype=float32), state=ScipyMinimizeInfo(fun_val=DeviceArray(0.02770389, dtype=float32, weak_type=True), success=True, status=0, iter_num=23))\n"
     ]
    },
    {
     "name": "stderr",
     "output_type": "stream",
     "text": [
      "/home/lukas/programs/miniconda3/envs/gpr/lib/python3.9/site-packages/scipy/optimize/_optimize.py:353: RuntimeWarning: Values in x were outside bounds during a minimize step, clipping to bounds\n",
      "  warnings.warn(\"Values in x were outside bounds during a \"\n"
     ]
    },
    {
     "name": "stdout",
     "output_type": "stream",
     "text": [
      "OptStep(params=DeviceArray([37.727367  ,  0.5745152 ,  0.67891794], dtype=float32), state=ScipyMinimizeInfo(fun_val=DeviceArray(0.02528484, dtype=float32, weak_type=True), success=True, status=0, iter_num=36))\n"
     ]
    },
    {
     "name": "stderr",
     "output_type": "stream",
     "text": [
      "/home/lukas/programs/miniconda3/envs/gpr/lib/python3.9/site-packages/scipy/optimize/_optimize.py:353: RuntimeWarning: Values in x were outside bounds during a minimize step, clipping to bounds\n",
      "  warnings.warn(\"Values in x were outside bounds during a \"\n"
     ]
    },
    {
     "name": "stdout",
     "output_type": "stream",
     "text": [
      "OptStep(params=DeviceArray([10.971128 ,  0.4688965,  0.4911654], dtype=float32), state=ScipyMinimizeInfo(fun_val=DeviceArray(0.02791846, dtype=float32, weak_type=True), success=True, status=0, iter_num=31))\n",
      "Optimizer L-BFGS-B\n",
      "OptStep(params=DeviceArray([8.780338 , 1.1745005, 2.151539 ], dtype=float32), state=ScipyMinimizeInfo(fun_val=DeviceArray(-0.0127355, dtype=float32, weak_type=True), success=True, status=0, iter_num=10))\n",
      "OptStep(params=DeviceArray([3.5295033, 1.0750915, 1.949005 ], dtype=float32), state=ScipyMinimizeInfo(fun_val=DeviceArray(-0.01284959, dtype=float32, weak_type=True), success=True, status=0, iter_num=36))\n",
      "OptStep(params=DeviceArray([3.5174818, 1.0734063, 1.9510517], dtype=float32), state=ScipyMinimizeInfo(fun_val=DeviceArray(-0.01284961, dtype=float32, weak_type=True), success=True, status=0, iter_num=20))\n",
      "OptStep(params=DeviceArray([5.4342446, 1.123    , 2.047586 ], dtype=float32), state=ScipyMinimizeInfo(fun_val=DeviceArray(-0.01282274, dtype=float32, weak_type=True), success=True, status=0, iter_num=13))\n",
      "OptStep(params=DeviceArray([4.005651 , 1.088396 , 1.9816198], dtype=float32), state=ScipyMinimizeInfo(fun_val=DeviceArray(-0.01284718, dtype=float32, weak_type=True), success=True, status=0, iter_num=14))\n",
      "Optimizer TNC\n",
      "OptStep(params=DeviceArray([3.812258 , 1.0335451, 2.018436 ], dtype=float32), state=ScipyMinimizeInfo(fun_val=DeviceArray(-0.01209095, dtype=float32, weak_type=True), success=True, status=1, iter_num=15))\n",
      "OptStep(params=DeviceArray([3.2970889, 1.0181395, 1.9746517], dtype=float32), state=ScipyMinimizeInfo(fun_val=DeviceArray(-0.01209374, dtype=float32, weak_type=True), success=True, status=1, iter_num=15))\n",
      "OptStep(params=DeviceArray([3.7939672, 1.031745 , 2.0300534], dtype=float32), state=ScipyMinimizeInfo(fun_val=DeviceArray(-0.01209071, dtype=float32, weak_type=True), success=True, status=1, iter_num=30))\n",
      "OptStep(params=DeviceArray([3.2786531, 1.0162866, 1.978868 ], dtype=float32), state=ScipyMinimizeInfo(fun_val=DeviceArray(-0.01209379, dtype=float32, weak_type=True), success=True, status=1, iter_num=22))\n",
      "OptStep(params=DeviceArray([3.3616374, 1.0196228, 1.9840806], dtype=float32), state=ScipyMinimizeInfo(fun_val=DeviceArray(-0.01209372, dtype=float32, weak_type=True), success=True, status=1, iter_num=10))\n",
      "Optimizer SLSQP\n",
      "OptStep(params=DeviceArray([3.534693 , 1.0618683, 1.942081 ], dtype=float32), state=ScipyMinimizeInfo(fun_val=DeviceArray(-0.01176692, dtype=float32, weak_type=True), success=True, status=0, iter_num=12))\n",
      "OptStep(params=DeviceArray([6.845146 , 1.1267211, 2.0930648], dtype=float32), state=ScipyMinimizeInfo(fun_val=DeviceArray(-0.01166563, dtype=float32, weak_type=True), success=True, status=0, iter_num=27))\n",
      "OptStep(params=DeviceArray([9.326562 , 1.1705062, 2.1379485], dtype=float32), state=ScipyMinimizeInfo(fun_val=DeviceArray(-0.0115823, dtype=float32, weak_type=True), success=True, status=0, iter_num=24))\n"
     ]
    },
    {
     "name": "stderr",
     "output_type": "stream",
     "text": [
      "/home/lukas/programs/miniconda3/envs/gpr/lib/python3.9/site-packages/scipy/optimize/_optimize.py:353: RuntimeWarning: Values in x were outside bounds during a minimize step, clipping to bounds\n",
      "  warnings.warn(\"Values in x were outside bounds during a \"\n"
     ]
    },
    {
     "name": "stdout",
     "output_type": "stream",
     "text": [
      "OptStep(params=DeviceArray([4.364044 , 1.0404484, 2.09354  ], dtype=float32), state=ScipyMinimizeInfo(fun_val=DeviceArray(-0.01172265, dtype=float32, weak_type=True), success=True, status=0, iter_num=8))\n",
      "OptStep(params=DeviceArray([3.1055763, 1.0402701, 1.9282653], dtype=float32), state=ScipyMinimizeInfo(fun_val=DeviceArray(-0.01177331, dtype=float32, weak_type=True), success=True, status=0, iter_num=21))\n"
     ]
    }
   ],
   "source": [
    "log_dict = {}\n",
    "\n",
    "names = [\"franke\", \"himmelblau\", \"easom\", \"ackley\", \"sin\"]\n",
    "functions = [testfunctions.franke, testfunctions.himmelblau, testfunctions.easom, testfunctions.ackley, testfunctions.sin2d]\n",
    "ranges = [(jnp.array([0.0,1.0]), jnp.array([0.0,1.0])), \n",
    "          (jnp.array([-5.0,5.0]), jnp.array([-5.0,5.0])),\n",
    "          (jnp.array([-10.0,10.0]), jnp.array([-10.0,10.0])),\n",
    "          (jnp.array([-5.0,5.0]), jnp.array([-5.0,5.0])),\n",
    "          (jnp.array([0.0,2*jnp.pi]), jnp.array([0.0,2*jnp.pi]))]\n",
    "\n",
    "for fun, ran, name in zip(functions, ranges, names):\n",
    "    X_train, Y_train = optimizertesting.create_training_data_2D(seed, num_gridpoints, ran, noise, fun)\n",
    "\n",
    "    grid1 = jnp.linspace(*ran[0],100)\n",
    "    grid2 = jnp.linspace(*ran[1],100)\n",
    "    grid = jnp.array(jnp.meshgrid(grid1, grid1)).reshape(2,-1).T\n",
    "\n",
    "    log_dict[name] = {}\n",
    "\n",
    "    for optimizer in optimizers:\n",
    "        print(f\"Optimizer {optimizer}\")\n",
    "        logger = Logger(optimizer)\n",
    "\n",
    "        means, stds = optimizertesting.create_test_data_2D(X_train=X_train, Y_train=Y_train, num_f_vals=num_f_vals, num_d_vals=num_d_vals,\n",
    "                                                logger=logger, kernel=kernel, param_bounds=param_bounds, param_shape=param_shape, noise=noise, optimizer=optimizer,\n",
    "                                                iters=iters_per_optimizer, evalgrid=grid, seed=int(time.time()))\n",
    "        \n",
    "        jnp.savez(f\"./prediction_files/{name}means{optimizer}\", *means)\n",
    "        jnp.savez(f\"./prediction_files/{name}stds{optimizer}\", *stds)\n",
    "        log_dict[name][optimizer] = logger.iters_list"
   ]
  },
  {
   "cell_type": "code",
   "execution_count": 20,
   "metadata": {},
   "outputs": [],
   "source": [
    "# means = mean_dict[\"SLSQP\"]\n",
    "# plt.pcolormesh(grid1, grid2, means[0].reshape(len(grid1), len(grid2)))\n",
    "# plt.colorbar()"
   ]
  },
  {
   "cell_type": "code",
   "execution_count": 21,
   "metadata": {},
   "outputs": [],
   "source": [
    "# plt.pcolormesh(grid1, grid2, Y_train[:,0].reshape(100,100))# - means[0].reshape(len(grid1), len(grid2)))\n",
    "# plt.colorbar()"
   ]
  },
  {
   "cell_type": "code",
   "execution_count": 22,
   "metadata": {},
   "outputs": [],
   "source": [
    "# markers = [\"o\", \"x\", \"+\"]\n",
    "\n",
    "# for marker, (key, value) in zip(markers,log_dict.items()):\n",
    "#     for i,elem in enumerate(value):\n",
    "#         nums = jnp.arange(1,len(elem[1])+1)\n",
    "#         plt.scatter(nums, elem[1],label=f\"{key}$_{i}$\", marker=marker)\n",
    "\n",
    "# plt.legend()\n",
    "# plt.grid()"
   ]
  },
  {
   "cell_type": "code",
   "execution_count": null,
   "metadata": {},
   "outputs": [],
   "source": []
  }
 ],
 "metadata": {
  "kernelspec": {
   "display_name": "gpr",
   "language": "python",
   "name": "python3"
  },
  "language_info": {
   "codemirror_mode": {
    "name": "ipython",
    "version": 3
   },
   "file_extension": ".py",
   "mimetype": "text/x-python",
   "name": "python",
   "nbconvert_exporter": "python",
   "pygments_lexer": "ipython3",
   "version": "3.9.16"
  },
  "orig_nbformat": 4
 },
 "nbformat": 4,
 "nbformat_minor": 2
}
