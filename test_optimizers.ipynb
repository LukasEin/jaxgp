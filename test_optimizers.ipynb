{
 "cells": [
  {
   "cell_type": "code",
   "execution_count": 1,
   "metadata": {},
   "outputs": [],
   "source": [
    "import jax.numpy as jnp\n",
    "from jax import random\n",
    "import matplotlib.pyplot as plt\n",
    "import jaxgp.regression as gpr\n",
    "from jaxgp.kernels import RBF, Linear\n",
    "import time\n",
    "\n",
    "import testfunctions\n",
    "from jaxgp.utils import Logger"
   ]
  },
  {
   "attachments": {},
   "cell_type": "markdown",
   "metadata": {},
   "source": [
    "### 1D"
   ]
  },
  {
   "cell_type": "code",
   "execution_count": 2,
   "metadata": {},
   "outputs": [],
   "source": [
    "# from jax import vmap, jit, grad\n",
    "# sigma = 0.15\n",
    "\n",
    "# def f(x):\n",
    "#     return jnp.exp(-(x / sigma)**2) + 0.5*jnp.exp(-0.5*((x-0.5) / sigma)**2)\n",
    "\n",
    "# def df(x):\n",
    "#     return (-2*x*jnp.exp(-(x / sigma)**2) + -0.5*(x-0.5)*jnp.exp(-0.5*((x-0.5) / sigma)**2))/(sigma**2)"
   ]
  },
  {
   "cell_type": "code",
   "execution_count": 3,
   "metadata": {},
   "outputs": [],
   "source": [
    "# seed = 0\n",
    "\n",
    "# noise = 0.1\n",
    "# ranges = jnp.array([0.0, 1.0])\n",
    "# num_datapoints = 1000\n",
    "# X_train = jnp.linspace(*ranges, num_datapoints).reshape(-1,1)\n",
    "# y = f(X_train)\n",
    "# dy = df(X_train)\n",
    "# Y_train = jnp.hstack((y, dy))\n",
    "\n",
    "# iters_per_optimizer = 1\n",
    "\n",
    "# function_set_sizes = [1,]\n",
    "# # derivative_set_sizes = [2,5,7,10,12,15,20, 100]\n",
    "# derivative_set_sizes = [10,]\n",
    "\n",
    "# kernel = RBF()\n",
    "# param_shape = (2,)\n",
    "# param_bounds = (1e-3, 10.0)\n",
    "\n",
    "# grid = jnp.linspace(0,1,100).reshape(-1,1)"
   ]
  },
  {
   "cell_type": "code",
   "execution_count": 4,
   "metadata": {},
   "outputs": [],
   "source": [
    "# # key = random.PRNGKey(int(time.time()))\n",
    "# key = random.PRNGKey(0)\n",
    "\n",
    "# means = []\n",
    "# stds = []\n",
    "\n",
    "# for fun_vals in function_set_sizes:\n",
    "#     for der_vals in derivative_set_sizes:\n",
    "#         # logger for each pair of function vals and derivative vals\n",
    "#         logger = Logger(f\"f{fun_vals}d{der_vals}\")\n",
    "\n",
    "#         key, subkey = random.split(key)\n",
    "#         fun_perm = random.permutation(subkey, num_datapoints)[:fun_vals]\n",
    "#         key, subkey = random.split(key)\n",
    "#         d1_perm = random.permutation(subkey, num_datapoints)[:der_vals]\n",
    "\n",
    "#         X_fun = X_train[fun_perm]\n",
    "#         Y_fun = Y_train[fun_perm,0]\n",
    "#         X_d1 = X_train[d1_perm]\n",
    "#         Y_d1 = Y_train[d1_perm,1]\n",
    "\n",
    "#         X = jnp.vstack((X_fun, X_d1))\n",
    "#         Y = jnp.hstack((Y_fun, Y_d1))\n",
    "#         data_split = jnp.array([fun_vals, der_vals])\n",
    "\n",
    "#         for i in range(iters_per_optimizer):\n",
    "#             key, subkey = random.split(key)\n",
    "#             init_params = random.uniform(subkey, param_shape, minval=param_bounds[0], maxval=param_bounds[1])\n",
    "#             logger.log(f\"# iter {i+1}: init params {init_params}\")\n",
    "\n",
    "#             model = gpr.ExactGPR(kernel, init_params, noise, logger=logger)\n",
    "#             model.train(X, Y, data_split=data_split)\n",
    "#             m, s = model.eval(grid)\n",
    "#             means.append(m)\n",
    "#             stds.append(s)"
   ]
  },
  {
   "cell_type": "code",
   "execution_count": 5,
   "metadata": {},
   "outputs": [],
   "source": [
    "# plt.plot(X_train, Y_train[:,0])\n",
    "# for der,mean in zip(derivative_set_sizes,means):\n",
    "#     plt.plot(grid, mean, label=f\"{der} der obs\")\n",
    "\n",
    "# plt.grid()\n",
    "# plt.legend()"
   ]
  },
  {
   "attachments": {},
   "cell_type": "markdown",
   "metadata": {},
   "source": [
    "### 2D"
   ]
  },
  {
   "cell_type": "code",
   "execution_count": 6,
   "metadata": {},
   "outputs": [],
   "source": [
    "def function(x):\n",
    "    return jnp.sin(2*x[0] + x[1])"
   ]
  },
  {
   "cell_type": "code",
   "execution_count": 7,
   "metadata": {},
   "outputs": [
    {
     "name": "stderr",
     "output_type": "stream",
     "text": [
      "WARNING:jax._src.lib.xla_bridge:No GPU/TPU found, falling back to CPU. (Set TF_CPP_MIN_LOG_LEVEL=0 and rerun for more info.)\n"
     ]
    }
   ],
   "source": [
    "optimizers = [\"L-BFGS-B\", \"TNC\", \"SLSQP\"]#, \"Nelder-Mead\", \"Powell\", \"trust-constr\"]\n",
    "\n",
    "seed = 0\n",
    "num_gridpoints = jnp.array([100,100])\n",
    "num_datapoints = jnp.prod(num_gridpoints)\n",
    "noise = 0.1\n",
    "# ranges = (jnp.array([0,2*jnp.pi]),jnp.array([0,2*jnp.pi]))\n",
    "# ranges = (jnp.array([0.0,1.0]), jnp.array([0.0,1.0]))\n",
    "ranges = (jnp.array([-10.0,10.0]), jnp.array([-10.0,10.0]))\n",
    "fun = testfunctions.easom\n",
    "# fun = function\n",
    "\n",
    "X_train, Y_train = testfunctions.create_training_data_2D(seed, num_gridpoints, ranges, noise, fun)\n",
    "# X_train, Y_train = make_unique(X_train, Y_train)\n",
    "\n",
    "iters_per_optimizer = 5\n",
    "\n",
    "# function_set_sizes = [20,]\n",
    "# derivative_set_sizes = [100,]\n",
    "num_f_vals = 20\n",
    "num_d_vals = 100\n",
    "\n",
    "kernel = RBF(3)\n",
    "param_shape = (3,)\n",
    "param_bounds = (1e-3, 10.0)\n",
    "\n",
    "grid1 = jnp.linspace(*ranges[0],100)\n",
    "grid2 = jnp.linspace(*ranges[1],100)\n",
    "grid = jnp.array(jnp.meshgrid(grid1, grid1)).reshape(2,-1).T"
   ]
  },
  {
   "cell_type": "code",
   "execution_count": 8,
   "metadata": {},
   "outputs": [
    {
     "name": "stdout",
     "output_type": "stream",
     "text": [
      "Optimizer L-BFGS-B\n",
      "OptStep(params=DeviceArray([2.5785234 , 0.19087727, 9.847868  ], dtype=float32), state=ScipyMinimizeInfo(fun_val=DeviceArray(nan, dtype=float32, weak_type=True), success=False, status=2, iter_num=3))\n",
      "OptStep(params=DeviceArray([1.6674480e+01, 3.8448040e+00, 4.3957513e-03], dtype=float32), state=ScipyMinimizeInfo(fun_val=DeviceArray(0.04288135, dtype=float32, weak_type=True), success=False, status=2, iter_num=4))\n",
      "OptStep(params=DeviceArray([5.33071   , 0.25889212, 0.28406152], dtype=float32), state=ScipyMinimizeInfo(fun_val=DeviceArray(-0.00769728, dtype=float32, weak_type=True), success=True, status=0, iter_num=3))\n",
      "OptStep(params=DeviceArray([7.2952037 , 2.5956926 , 0.00810629], dtype=float32), state=ScipyMinimizeInfo(fun_val=DeviceArray(0.04288135, dtype=float32, weak_type=True), success=False, status=2, iter_num=3))\n",
      "OptStep(params=DeviceArray([9.332259  , 0.22247681, 5.3838544 ], dtype=float32), state=ScipyMinimizeInfo(fun_val=DeviceArray(nan, dtype=float32, weak_type=True), success=False, status=2, iter_num=1))\n",
      "Optimizer TNC\n",
      "OptStep(params=DeviceArray([9.801013, 8.28367 , 5.336074], dtype=float32), state=ScipyMinimizeInfo(fun_val=DeviceArray(0.46544275, dtype=float32, weak_type=True), success=False, status=4, iter_num=0))\n",
      "OptStep(params=DeviceArray([4.519249, 0.336568, 4.464251], dtype=float32), state=ScipyMinimizeInfo(fun_val=DeviceArray(0.31899717, dtype=float32, weak_type=True), success=False, status=4, iter_num=0))\n",
      "OptStep(params=DeviceArray([5.341159 , 1.3357685, 8.442119 ], dtype=float32), state=ScipyMinimizeInfo(fun_val=DeviceArray(0.43649915, dtype=float32, weak_type=True), success=False, status=4, iter_num=0))\n",
      "OptStep(params=DeviceArray([2.225938 , 7.1321096, 7.3183913], dtype=float32), state=ScipyMinimizeInfo(fun_val=DeviceArray(0.48249057, dtype=float32, weak_type=True), success=False, status=4, iter_num=0))\n",
      "OptStep(params=DeviceArray([7.244897, 3.143424, 5.436985], dtype=float32), state=ScipyMinimizeInfo(fun_val=DeviceArray(0.46171653, dtype=float32, weak_type=True), success=False, status=4, iter_num=0))\n",
      "Optimizer SLSQP\n"
     ]
    },
    {
     "name": "stderr",
     "output_type": "stream",
     "text": [
      "/home/lukas/miniconda3/envs/gpr/lib/python3.9/site-packages/scipy/optimize/_optimize.py:353: RuntimeWarning: Values in x were outside bounds during a minimize step, clipping to bounds\n",
      "  warnings.warn(\"Values in x were outside bounds during a \"\n"
     ]
    },
    {
     "name": "stdout",
     "output_type": "stream",
     "text": [
      "OptStep(params=DeviceArray([35.602722  ,  0.29179013,  0.32389456], dtype=float32), state=ScipyMinimizeInfo(fun_val=DeviceArray(-0.00523747, dtype=float32, weak_type=True), success=True, status=0, iter_num=27))\n"
     ]
    },
    {
     "name": "stderr",
     "output_type": "stream",
     "text": [
      "/home/lukas/miniconda3/envs/gpr/lib/python3.9/site-packages/scipy/optimize/_optimize.py:353: RuntimeWarning: Values in x were outside bounds during a minimize step, clipping to bounds\n",
      "  warnings.warn(\"Values in x were outside bounds during a \"\n"
     ]
    },
    {
     "name": "stdout",
     "output_type": "stream",
     "text": [
      "OptStep(params=DeviceArray([6.9703603, 0.2647971, 0.2926795], dtype=float32), state=ScipyMinimizeInfo(fun_val=DeviceArray(-0.0066677, dtype=float32, weak_type=True), success=True, status=0, iter_num=17))\n",
      "OptStep(params=DeviceArray([8.335126  , 0.26877102, 0.2968725 ], dtype=float32), state=ScipyMinimizeInfo(fun_val=DeviceArray(-0.00651614, dtype=float32, weak_type=True), success=True, status=0, iter_num=13))\n"
     ]
    },
    {
     "name": "stderr",
     "output_type": "stream",
     "text": [
      "/home/lukas/miniconda3/envs/gpr/lib/python3.9/site-packages/scipy/optimize/_optimize.py:353: RuntimeWarning: Values in x were outside bounds during a minimize step, clipping to bounds\n",
      "  warnings.warn(\"Values in x were outside bounds during a \"\n"
     ]
    },
    {
     "name": "stdout",
     "output_type": "stream",
     "text": [
      "OptStep(params=DeviceArray([9.2241211e+00, 6.4953718e+00, 1.0415661e-03], dtype=float32), state=ScipyMinimizeInfo(fun_val=DeviceArray(nan, dtype=float32, weak_type=True), success=False, status=5, iter_num=8))\n"
     ]
    },
    {
     "name": "stderr",
     "output_type": "stream",
     "text": [
      "/home/lukas/miniconda3/envs/gpr/lib/python3.9/site-packages/scipy/optimize/_optimize.py:353: RuntimeWarning: Values in x were outside bounds during a minimize step, clipping to bounds\n",
      "  warnings.warn(\"Values in x were outside bounds during a \"\n"
     ]
    },
    {
     "name": "stdout",
     "output_type": "stream",
     "text": [
      "OptStep(params=DeviceArray([1.3904447e+01, 1.4240475e+00, 1.1542806e-03], dtype=float32), state=ScipyMinimizeInfo(fun_val=DeviceArray(0.04759384, dtype=float32, weak_type=True), success=True, status=0, iter_num=35))\n",
      "Optimizer L-BFGS-B\n",
      "OptStep(params=DeviceArray([3.9300039e+04, 1.9133825e+00, 1.7792225e+00], dtype=float32), state=ScipyMinimizeInfo(fun_val=DeviceArray(0.02259879, dtype=float32, weak_type=True), success=True, status=0, iter_num=45))\n",
      "OptStep(params=DeviceArray([3.7392465e+04, 1.8879951e+00, 1.7356806e+00], dtype=float32), state=ScipyMinimizeInfo(fun_val=DeviceArray(1839.8052, dtype=float32, weak_type=True), success=False, status=2, iter_num=47))\n",
      "OptStep(params=DeviceArray([3.9675902e+04, 1.9322805e+00, 1.8654354e+00], dtype=float32), state=ScipyMinimizeInfo(fun_val=DeviceArray(0.02303417, dtype=float32, weak_type=True), success=True, status=0, iter_num=44))\n",
      "OptStep(params=DeviceArray([4.5022598e+04, 2.0201643e+00, 1.7197578e+00], dtype=float32), state=ScipyMinimizeInfo(fun_val=DeviceArray(1839.8052, dtype=float32, weak_type=True), success=False, status=2, iter_num=40))\n",
      "OptStep(params=DeviceArray([4.5574516e+04, 1.9155056e+00, 1.8156943e+00], dtype=float32), state=ScipyMinimizeInfo(fun_val=DeviceArray(1839.8052, dtype=float32, weak_type=True), success=False, status=2, iter_num=45))\n",
      "Optimizer TNC\n",
      "OptStep(params=DeviceArray([4.7721528e+03, 1.0899583e+00, 1.0446763e+00], dtype=float32), state=ScipyMinimizeInfo(fun_val=DeviceArray(0.05038089, dtype=float32, weak_type=True), success=True, status=1, iter_num=80))\n",
      "OptStep(params=DeviceArray([9.1940605e+03, 1.1797702e+00, 1.2463334e+00], dtype=float32), state=ScipyMinimizeInfo(fun_val=DeviceArray(0.03973926, dtype=float32, weak_type=True), success=True, status=1, iter_num=29))\n",
      "OptStep(params=DeviceArray([9.5859443e+03, 1.2588410e+00, 1.2257526e+00], dtype=float32), state=ScipyMinimizeInfo(fun_val=DeviceArray(0.03897933, dtype=float32, weak_type=True), success=True, status=1, iter_num=45))\n",
      "OptStep(params=DeviceArray([5.1110073e+03, 1.1170037e+00, 1.0445478e+00], dtype=float32), state=ScipyMinimizeInfo(fun_val=DeviceArray(0.04902735, dtype=float32, weak_type=True), success=True, status=1, iter_num=24))\n",
      "OptStep(params=DeviceArray([8.2947559e+03, 1.2548462e+00, 1.2223774e+00], dtype=float32), state=ScipyMinimizeInfo(fun_val=DeviceArray(0.04101784, dtype=float32, weak_type=True), success=True, status=1, iter_num=27))\n",
      "Optimizer SLSQP\n"
     ]
    },
    {
     "name": "stderr",
     "output_type": "stream",
     "text": [
      "/home/lukas/miniconda3/envs/gpr/lib/python3.9/site-packages/scipy/optimize/_optimize.py:353: RuntimeWarning: Values in x were outside bounds during a minimize step, clipping to bounds\n",
      "  warnings.warn(\"Values in x were outside bounds during a \"\n"
     ]
    },
    {
     "name": "stdout",
     "output_type": "stream",
     "text": [
      "OptStep(params=DeviceArray([4.3589250e+04, 1.9451047e+00, 1.8775799e+00], dtype=float32), state=ScipyMinimizeInfo(fun_val=DeviceArray(0.02713756, dtype=float32, weak_type=True), success=True, status=0, iter_num=63))\n",
      "OptStep(params=DeviceArray([7.8941909e+03, 1.4872869e+00, 9.3453419e-01], dtype=float32), state=ScipyMinimizeInfo(fun_val=DeviceArray(0.04953266, dtype=float32, weak_type=True), success=True, status=0, iter_num=50))\n",
      "OptStep(params=DeviceArray([4.0807938e+04, 1.7037868e+00, 1.6513672e+00], dtype=float32), state=ScipyMinimizeInfo(fun_val=DeviceArray(0.02699636, dtype=float32, weak_type=True), success=True, status=0, iter_num=61))\n"
     ]
    },
    {
     "name": "stderr",
     "output_type": "stream",
     "text": [
      "/home/lukas/miniconda3/envs/gpr/lib/python3.9/site-packages/scipy/optimize/_optimize.py:353: RuntimeWarning: Values in x were outside bounds during a minimize step, clipping to bounds\n",
      "  warnings.warn(\"Values in x were outside bounds during a \"\n"
     ]
    },
    {
     "name": "stdout",
     "output_type": "stream",
     "text": [
      "OptStep(params=DeviceArray([3.3448062e+04, 2.0250490e+00, 1.7714679e+00], dtype=float32), state=ScipyMinimizeInfo(fun_val=DeviceArray(0.03034214, dtype=float32, weak_type=True), success=True, status=0, iter_num=61))\n"
     ]
    },
    {
     "name": "stderr",
     "output_type": "stream",
     "text": [
      "/home/lukas/miniconda3/envs/gpr/lib/python3.9/site-packages/scipy/optimize/_optimize.py:353: RuntimeWarning: Values in x were outside bounds during a minimize step, clipping to bounds\n",
      "  warnings.warn(\"Values in x were outside bounds during a \"\n"
     ]
    },
    {
     "name": "stdout",
     "output_type": "stream",
     "text": [
      "OptStep(params=DeviceArray([2.8899617e+04, 1.4387120e+00, 1.8033046e+00], dtype=float32), state=ScipyMinimizeInfo(fun_val=DeviceArray(0.03101959, dtype=float32, weak_type=True), success=True, status=0, iter_num=49))\n",
      "Optimizer L-BFGS-B\n",
      "OptStep(params=DeviceArray([1.0000000e-03, 1.2542922e+01, 1.3687934e+01], dtype=float32), state=ScipyMinimizeInfo(fun_val=DeviceArray(-0.01947524, dtype=float32, weak_type=True), success=True, status=0, iter_num=2))\n",
      "OptStep(params=DeviceArray([1.0000000e-03, 1.4876664e+01, 1.7322828e+01], dtype=float32), state=ScipyMinimizeInfo(fun_val=DeviceArray(-0.01947638, dtype=float32, weak_type=True), success=True, status=0, iter_num=5))\n",
      "OptStep(params=DeviceArray([1.0000000e-03, 1.5993348e+01, 1.3142067e+01], dtype=float32), state=ScipyMinimizeInfo(fun_val=DeviceArray(-0.01947742, dtype=float32, weak_type=True), success=True, status=0, iter_num=6))\n",
      "OptStep(params=DeviceArray([1.0000000e-03, 1.3602646e+01, 1.0580169e+01], dtype=float32), state=ScipyMinimizeInfo(fun_val=DeviceArray(-0.01947627, dtype=float32, weak_type=True), success=True, status=0, iter_num=9))\n",
      "OptStep(params=DeviceArray([1.0000000e-03, 1.0935986e+01, 1.3923040e+01], dtype=float32), state=ScipyMinimizeInfo(fun_val=DeviceArray(-0.01947393, dtype=float32, weak_type=True), success=True, status=0, iter_num=8))\n",
      "Optimizer TNC\n",
      "OptStep(params=DeviceArray([1.0000000e-03, 3.4480923e+01, 5.8433723e+00], dtype=float32), state=ScipyMinimizeInfo(fun_val=DeviceArray(-0.01960325, dtype=float32, weak_type=True), success=True, status=0, iter_num=7))\n",
      "OptStep(params=DeviceArray([1.0000000e-03, 4.2952892e+01, 5.9448843e+00], dtype=float32), state=ScipyMinimizeInfo(fun_val=DeviceArray(-0.01960363, dtype=float32, weak_type=True), success=True, status=0, iter_num=6))\n",
      "OptStep(params=DeviceArray([1.0000000e-03, 2.4062206e+01, 5.7937579e+00], dtype=float32), state=ScipyMinimizeInfo(fun_val=DeviceArray(-0.01960217, dtype=float32, weak_type=True), success=True, status=0, iter_num=2))\n",
      "OptStep(params=DeviceArray([1.000000e-03, 3.731341e+01, 5.930179e+00], dtype=float32), state=ScipyMinimizeInfo(fun_val=DeviceArray(-0.0196034, dtype=float32, weak_type=True), success=True, status=0, iter_num=3))\n",
      "OptStep(params=DeviceArray([1.0000000e-03, 1.8906998e+01, 5.6849418e+00], dtype=float32), state=ScipyMinimizeInfo(fun_val=DeviceArray(-0.019601, dtype=float32, weak_type=True), success=True, status=1, iter_num=5))\n",
      "Optimizer SLSQP\n",
      "OptStep(params=DeviceArray([7.0087595, 4.733945 , 9.99242  ], dtype=float32), state=ScipyMinimizeInfo(fun_val=DeviceArray(-0.01216911, dtype=float32, weak_type=True), success=True, status=0, iter_num=1))\n",
      "OptStep(params=DeviceArray([1.9477278, 9.221405 , 7.199487 ], dtype=float32), state=ScipyMinimizeInfo(fun_val=DeviceArray(-0.0131724, dtype=float32, weak_type=True), success=True, status=0, iter_num=1))\n",
      "OptStep(params=DeviceArray([2.6724691, 9.648707 , 9.694109 ], dtype=float32), state=ScipyMinimizeInfo(fun_val=DeviceArray(-0.01326071, dtype=float32, weak_type=True), success=True, status=0, iter_num=1))\n",
      "OptStep(params=DeviceArray([1.0000000e-03, 3.7097940e+02, 2.2185051e+01], dtype=float32), state=ScipyMinimizeInfo(fun_val=DeviceArray(-0.01440247, dtype=float32, weak_type=True), success=True, status=0, iter_num=21))\n",
      "OptStep(params=DeviceArray([1.0000000e-03, 3.3729064e+00, 6.1693807e+00], dtype=float32), state=ScipyMinimizeInfo(fun_val=DeviceArray(-0.01442475, dtype=float32, weak_type=True), success=True, status=0, iter_num=11))\n",
      "Optimizer L-BFGS-B\n",
      "OptStep(params=DeviceArray([31.95417   ,  0.61084634,  0.66045064], dtype=float32), state=ScipyMinimizeInfo(fun_val=DeviceArray(0.02369757, dtype=float32, weak_type=True), success=True, status=0, iter_num=20))\n",
      "OptStep(params=DeviceArray([31.93891   ,  0.61082035,  0.66047794], dtype=float32), state=ScipyMinimizeInfo(fun_val=DeviceArray(0.02369758, dtype=float32, weak_type=True), success=True, status=0, iter_num=25))\n",
      "OptStep(params=DeviceArray([31.98534   ,  0.61041504,  0.6609411 ], dtype=float32), state=ScipyMinimizeInfo(fun_val=DeviceArray(0.02369756, dtype=float32, weak_type=True), success=True, status=0, iter_num=35))\n",
      "OptStep(params=DeviceArray([31.95589   ,  0.6108842 ,  0.66051954], dtype=float32), state=ScipyMinimizeInfo(fun_val=DeviceArray(0.02369755, dtype=float32, weak_type=True), success=True, status=0, iter_num=24))\n",
      "OptStep(params=DeviceArray([31.93757  ,  0.6108581,  0.6604539], dtype=float32), state=ScipyMinimizeInfo(fun_val=DeviceArray(0.02369756, dtype=float32, weak_type=True), success=True, status=0, iter_num=29))\n",
      "Optimizer TNC\n",
      "OptStep(params=DeviceArray([32.714787 ,  0.5889481,  0.6609377], dtype=float32), state=ScipyMinimizeInfo(fun_val=DeviceArray(0.02395756, dtype=float32, weak_type=True), success=True, status=1, iter_num=29))\n",
      "OptStep(params=DeviceArray([33.004288 ,  0.5908654,  0.6611651], dtype=float32), state=ScipyMinimizeInfo(fun_val=DeviceArray(0.02395742, dtype=float32, weak_type=True), success=True, status=1, iter_num=29))\n",
      "OptStep(params=DeviceArray([32.967934 ,  0.5900202,  0.6612751], dtype=float32), state=ScipyMinimizeInfo(fun_val=DeviceArray(0.02395744, dtype=float32, weak_type=True), success=True, status=1, iter_num=15))\n",
      "OptStep(params=DeviceArray([33.083553  ,  0.5904512 ,  0.66133255], dtype=float32), state=ScipyMinimizeInfo(fun_val=DeviceArray(0.02395741, dtype=float32, weak_type=True), success=True, status=1, iter_num=25))\n",
      "OptStep(params=DeviceArray([32.909927 ,  0.5898692,  0.6608286], dtype=float32), state=ScipyMinimizeInfo(fun_val=DeviceArray(0.02395741, dtype=float32, weak_type=True), success=True, status=1, iter_num=23))\n",
      "Optimizer SLSQP\n",
      "OptStep(params=DeviceArray([16.354113 ,  0.6409701,  0.4450551], dtype=float32), state=ScipyMinimizeInfo(fun_val=DeviceArray(0.0249852, dtype=float32, weak_type=True), success=True, status=0, iter_num=19))\n",
      "OptStep(params=DeviceArray([13.848325 ,  0.7352336,  0.2773415], dtype=float32), state=ScipyMinimizeInfo(fun_val=DeviceArray(0.02629723, dtype=float32, weak_type=True), success=True, status=0, iter_num=19))\n",
      "OptStep(params=DeviceArray([17.306314  ,  0.5540351 ,  0.49189854], dtype=float32), state=ScipyMinimizeInfo(fun_val=DeviceArray(0.02474694, dtype=float32, weak_type=True), success=True, status=0, iter_num=19))\n"
     ]
    },
    {
     "name": "stderr",
     "output_type": "stream",
     "text": [
      "/home/lukas/miniconda3/envs/gpr/lib/python3.9/site-packages/scipy/optimize/_optimize.py:353: RuntimeWarning: Values in x were outside bounds during a minimize step, clipping to bounds\n",
      "  warnings.warn(\"Values in x were outside bounds during a \"\n"
     ]
    },
    {
     "name": "stdout",
     "output_type": "stream",
     "text": [
      "OptStep(params=DeviceArray([5.4677520e+00, 3.7830917e-03, 4.0537810e+00], dtype=float32), state=ScipyMinimizeInfo(fun_val=DeviceArray(nan, dtype=float32, weak_type=True), success=False, status=5, iter_num=6))\n",
      "OptStep(params=DeviceArray([8.606932  , 0.43384108, 0.43289024], dtype=float32), state=ScipyMinimizeInfo(fun_val=DeviceArray(0.02640835, dtype=float32, weak_type=True), success=True, status=0, iter_num=16))\n",
      "Optimizer L-BFGS-B\n",
      "OptStep(params=DeviceArray([3.451057 , 1.0369728, 1.9948887], dtype=float32), state=ScipyMinimizeInfo(fun_val=DeviceArray(-0.01255879, dtype=float32, weak_type=True), success=True, status=0, iter_num=28))\n",
      "OptStep(params=DeviceArray([6.9718456, 1.1301186, 2.1355572], dtype=float32), state=ScipyMinimizeInfo(fun_val=DeviceArray(-0.01249889, dtype=float32, weak_type=True), success=True, status=0, iter_num=14))\n",
      "OptStep(params=DeviceArray([3.307057 , 1.0306666, 1.9868425], dtype=float32), state=ScipyMinimizeInfo(fun_val=DeviceArray(-0.01255854, dtype=float32, weak_type=True), success=True, status=0, iter_num=9))\n",
      "OptStep(params=DeviceArray([3.4622934, 1.0383106, 1.9931072], dtype=float32), state=ScipyMinimizeInfo(fun_val=DeviceArray(-0.01255882, dtype=float32, weak_type=True), success=True, status=0, iter_num=31))\n",
      "OptStep(params=DeviceArray([6.9856267, 1.1290877, 2.1398106], dtype=float32), state=ScipyMinimizeInfo(fun_val=DeviceArray(-0.01249861, dtype=float32, weak_type=True), success=True, status=0, iter_num=10))\n",
      "Optimizer TNC\n",
      "OptStep(params=DeviceArray([2.426075 , 0.9687868, 1.8670609], dtype=float32), state=ScipyMinimizeInfo(fun_val=DeviceArray(-0.01247482, dtype=float32, weak_type=True), success=True, status=1, iter_num=19))\n",
      "OptStep(params=DeviceArray([2.4510844, 0.9734399, 1.8619919], dtype=float32), state=ScipyMinimizeInfo(fun_val=DeviceArray(-0.01247483, dtype=float32, weak_type=True), success=True, status=1, iter_num=27))\n",
      "OptStep(params=DeviceArray([6.1842394, 6.2160196, 6.066396 ], dtype=float32), state=ScipyMinimizeInfo(fun_val=DeviceArray(0.5784914, dtype=float32, weak_type=True), success=False, status=4, iter_num=0))\n",
      "OptStep(params=DeviceArray([2.415306 , 0.9712134, 1.8598902], dtype=float32), state=ScipyMinimizeInfo(fun_val=DeviceArray(-0.01247493, dtype=float32, weak_type=True), success=True, status=1, iter_num=19))\n",
      "OptStep(params=DeviceArray([2.4255364 , 0.96917325, 1.8676832 ], dtype=float32), state=ScipyMinimizeInfo(fun_val=DeviceArray(-0.01247486, dtype=float32, weak_type=True), success=True, status=1, iter_num=12))\n",
      "Optimizer SLSQP\n",
      "OptStep(params=DeviceArray([0.9534165 , 0.89325017, 1.6047465 ], dtype=float32), state=ScipyMinimizeInfo(fun_val=DeviceArray(-0.01137805, dtype=float32, weak_type=True), success=True, status=0, iter_num=16))\n",
      "OptStep(params=DeviceArray([9.657117 , 1.1830665, 2.1085248], dtype=float32), state=ScipyMinimizeInfo(fun_val=DeviceArray(-0.01143398, dtype=float32, weak_type=True), success=True, status=0, iter_num=24))\n",
      "OptStep(params=DeviceArray([8.580289 , 1.1692952, 2.0853882], dtype=float32), state=ScipyMinimizeInfo(fun_val=DeviceArray(-0.01146366, dtype=float32, weak_type=True), success=True, status=0, iter_num=25))\n",
      "OptStep(params=DeviceArray([8.381369 , 1.1674002, 2.078232 ], dtype=float32), state=ScipyMinimizeInfo(fun_val=DeviceArray(-0.01146948, dtype=float32, weak_type=True), success=True, status=0, iter_num=16))\n"
     ]
    },
    {
     "name": "stderr",
     "output_type": "stream",
     "text": [
      "/home/lukas/miniconda3/envs/gpr/lib/python3.9/site-packages/scipy/optimize/_optimize.py:353: RuntimeWarning: Values in x were outside bounds during a minimize step, clipping to bounds\n",
      "  warnings.warn(\"Values in x were outside bounds during a \"\n"
     ]
    },
    {
     "name": "stdout",
     "output_type": "stream",
     "text": [
      "OptStep(params=DeviceArray([1.5181316, 0.9568531, 1.7020385], dtype=float32), state=ScipyMinimizeInfo(fun_val=DeviceArray(-0.01153281, dtype=float32, weak_type=True), success=True, status=0, iter_num=21))\n"
     ]
    }
   ],
   "source": [
    "log_dict = {}\n",
    "\n",
    "names = [\"franke\", \"himmelblau\", \"easom\", \"ackley\", \"sin\"]\n",
    "functions = [testfunctions.franke, testfunctions.himmelblau, testfunctions.easom, testfunctions.ackley, function]\n",
    "ranges = [(jnp.array([0.0,1.0]), jnp.array([0.0,1.0])), \n",
    "          (jnp.array([-5.0,5.0]), jnp.array([-5.0,5.0])),\n",
    "          (jnp.array([-10.0,10.0]), jnp.array([-10.0,10.0])),\n",
    "          (jnp.array([-5.0,5.0]), jnp.array([-5.0,5.0])),\n",
    "          (jnp.array([0.0,2*jnp.pi]), jnp.array([0.0,2*jnp.pi]))]\n",
    "\n",
    "for fun, ran, name in zip(functions, ranges, names):\n",
    "    X_train, Y_train = testfunctions.create_training_data_2D(seed, num_gridpoints, ran, noise, fun)\n",
    "\n",
    "    log_dict[name] = {}\n",
    "\n",
    "    for optimizer in optimizers:\n",
    "        print(f\"Optimizer {optimizer}\")\n",
    "        logger = Logger(optimizer)\n",
    "\n",
    "        means, stds = testfunctions.test_optimizer(X_train=X_train, Y_train=Y_train, num_f_vals=num_f_vals, num_d_vals=num_d_vals,\n",
    "                                                logger=logger, kernel=kernel, param_bounds=param_bounds, param_shape=param_shape, noise=noise, optimizer=optimizer,\n",
    "                                                iters=iters_per_optimizer, evalgrid=grid, seed=int(time.time()))\n",
    "        \n",
    "        jnp.savez(f\"./prediction_files/{name}means{optimizer}\", *means)\n",
    "        jnp.savez(f\"./prediction_files/{name}std{optimizer}\", *stds)\n",
    "        log_dict[name][optimizer] = logger.iters_list"
   ]
  },
  {
   "cell_type": "code",
   "execution_count": 9,
   "metadata": {},
   "outputs": [],
   "source": [
    "# means = mean_dict[\"SLSQP\"]\n",
    "# plt.pcolormesh(grid1, grid2, means[0].reshape(len(grid1), len(grid2)))\n",
    "# plt.colorbar()"
   ]
  },
  {
   "cell_type": "code",
   "execution_count": 10,
   "metadata": {},
   "outputs": [],
   "source": [
    "# plt.pcolormesh(grid1, grid2, Y_train[:,0].reshape(100,100))# - means[0].reshape(len(grid1), len(grid2)))\n",
    "# plt.colorbar()"
   ]
  },
  {
   "cell_type": "code",
   "execution_count": 11,
   "metadata": {},
   "outputs": [
    {
     "data": {
      "image/png": "[encoded data removed]",
      "text/plain": [
       "<Figure size 640x480 with 1 Axes>"
      ]
     },
     "metadata": {},
     "output_type": "display_data"
    }
   ],
   "source": [
    "markers = [\"o\", \"x\", \"+\"]\n",
    "\n",
    "for marker, (key, value) in zip(markers,log_dict.items()):\n",
    "    for i,elem in enumerate(value):\n",
    "        nums = jnp.arange(1,len(elem[1])+1)\n",
    "        plt.scatter(nums, elem[1],label=f\"{key}$_{i}$\", marker=marker)\n",
    "\n",
    "plt.legend()\n",
    "plt.grid()"
   ]
  },
  {
   "cell_type": "code",
   "execution_count": null,
   "metadata": {},
   "outputs": [],
   "source": []
  }
 ],
 "metadata": {
  "kernelspec": {
   "display_name": "gpr",
   "language": "python",
   "name": "python3"
  },
  "language_info": {
   "codemirror_mode": {
    "name": "ipython",
    "version": 3
   },
   "file_extension": ".py",
   "mimetype": "text/x-python",
   "name": "python",
   "nbconvert_exporter": "python",
   "pygments_lexer": "ipython3",
   "version": "3.9.16"
  },
  "orig_nbformat": 4
 },
 "nbformat": 4,
 "nbformat_minor": 2
}
