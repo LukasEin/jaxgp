{
 "cells": [
  {
   "cell_type": "code",
   "execution_count": 13,
   "metadata": {},
   "outputs": [],
   "source": [
    "import jax.numpy as jnp\n",
    "from jax import random\n",
    "import matplotlib.pyplot as plt\n",
    "import jaxgp.regression as gpr\n",
    "from jaxgp.kernels import RBF, Linear\n",
    "\n",
    "import testfunctions\n",
    "from jaxgp.utils import Logger"
   ]
  },
  {
   "cell_type": "code",
   "execution_count": 14,
   "metadata": {},
   "outputs": [],
   "source": [
    "def function(x):\n",
    "    return jnp.sin(2*x[0] + x[1])"
   ]
  },
  {
   "cell_type": "code",
   "execution_count": 15,
   "metadata": {},
   "outputs": [],
   "source": [
    "def make_unique(X, Y):\n",
    "    index1 = jnp.unique(X[:,0],return_index=True)[1]\n",
    "    temp = X[index1]\n",
    "    index2 = jnp.unique(temp[:,1], return_index=True)[1]\n",
    "    return X[index2], Y[index2]"
   ]
  },
  {
   "cell_type": "code",
   "execution_count": 16,
   "metadata": {},
   "outputs": [],
   "source": [
    "optimizers = [\"Nelder-Mead\", \"L-BFGS-B\", \"TNC\", \"SLSQP\", \"Powell\", \"trust-constr\"]\n",
    "\n",
    "seed = 0\n",
    "num_gridpoints = jnp.array([100,100])\n",
    "num_datapoints = jnp.prod(num_gridpoints)\n",
    "noise = 0.0\n",
    "ranges = (jnp.array([0,2*jnp.pi]),jnp.array([0,2*jnp.pi]))\n",
    "# fun = testfunctions.franke\n",
    "fun = function\n",
    "\n",
    "X_train, Y_train = testfunctions.create_training_data_2D(seed, num_gridpoints, ranges, noise, fun)\n",
    "# X_train, Y_train = make_unique(X_train, Y_train)\n",
    "\n",
    "iters_per_optimizer = 1\n",
    "\n",
    "# function_set_sizes = [1, 5, 10, 50, 100]\n",
    "function_set_sizes = [10,]\n",
    "# derivative_set_sizes = [10, 50, 100, 500, 1000, 2000, 5000]\n",
    "derivative_set_sizes = [100,]\n",
    "\n",
    "kernel = RBF()\n",
    "param_shape = (2,)\n",
    "param_bounds = (1e-3, 10.0)\n",
    "\n",
    "grids = jnp.linspace(0,1,100)\n",
    "grid = jnp.array(jnp.meshgrid(grids, grids)).reshape(2,-1).T"
   ]
  },
  {
   "cell_type": "code",
   "execution_count": 20,
   "metadata": {},
   "outputs": [
    {
     "name": "stdout",
     "output_type": "stream",
     "text": [
      "OptStep(params=DeviceArray([1., 1.], dtype=float32), state=ScipyMinimizeInfo(fun_val=DeviceArray(nan, dtype=float32, weak_type=True), success=False, status=2, iter_num=0))\n"
     ]
    }
   ],
   "source": [
    "key = random.PRNGKey(-101)\n",
    "\n",
    "means = []\n",
    "stds = []\n",
    "\n",
    "for fun_vals in function_set_sizes:\n",
    "    for der_vals in derivative_set_sizes:\n",
    "        # logger for each pair of function vals and derivative vals\n",
    "        logger = Logger(f\"f{fun_vals}d{der_vals}\")\n",
    "\n",
    "        key, subkey = random.split(key)\n",
    "        fun_perm = random.permutation(subkey, num_datapoints)[:fun_vals]\n",
    "        key, subkey = random.split(key)\n",
    "        d1_perm = random.permutation(subkey, num_datapoints)[:der_vals]\n",
    "        key, subkey = random.split(key)\n",
    "        d2_perm = random.permutation(subkey, num_datapoints)[:der_vals]\n",
    "\n",
    "        X_fun = X_train[fun_perm]\n",
    "        Y_fun = Y_train[fun_perm,0]\n",
    "        X_d1 = X_train[d1_perm]\n",
    "        Y_d1 = Y_train[d1_perm,1]\n",
    "        X_d2 = X_train[d2_perm]\n",
    "        Y_d2 = Y_train[d2_perm,2]\n",
    "\n",
    "        X = jnp.vstack((X_fun, X_d1, X_d2))\n",
    "        Y = jnp.hstack((Y_fun, Y_d1, Y_d2))\n",
    "        data_split = jnp.array([function_set_sizes, derivative_set_sizes, derivative_set_sizes])\n",
    "\n",
    "        for i in range(iters_per_optimizer):\n",
    "            key, subkey = random.split(key)\n",
    "            init_params = random.uniform(subkey, param_shape, minval=param_bounds[0], maxval=param_bounds[1])\n",
    "            init_params = jnp.array([1.0, 1.0])\n",
    "\n",
    "            model = gpr.ExactGPR(kernel, init_params, noise)\n",
    "            model.train(X, Y, data_split=data_split)\n",
    "            m, s = model.eval(grid)\n",
    "            means.append(m)\n",
    "            stds.append(s)"
   ]
  },
  {
   "cell_type": "code",
   "execution_count": 18,
   "metadata": {},
   "outputs": [
    {
     "data": {
      "text/plain": [
       "<matplotlib.collections.QuadMesh at 0x7f8fac4c3dc0>"
      ]
     },
     "execution_count": 18,
     "metadata": {},
     "output_type": "execute_result"
    },
    {
     "data": {
      "image/png": "[encoded data removed]",
      "text/plain": [
       "<Figure size 640x480 with 1 Axes>"
      ]
     },
     "metadata": {},
     "output_type": "display_data"
    }
   ],
   "source": [
    "plt.pcolormesh(Y_train[:,2].reshape(100,100))"
   ]
  },
  {
   "cell_type": "code",
   "execution_count": 19,
   "metadata": {},
   "outputs": [
    {
     "ename": "IndexError",
     "evalue": "list index out of range",
     "output_type": "error",
     "traceback": [
      "\u001b[0;31m---------------------------------------------------------------------------\u001b[0m",
      "\u001b[0;31mIndexError\u001b[0m                                Traceback (most recent call last)",
      "Cell \u001b[0;32mIn[19], line 1\u001b[0m\n\u001b[0;32m----> 1\u001b[0m mean \u001b[39m=\u001b[39m means[\u001b[39m0\u001b[39;49m]\u001b[39m.\u001b[39mreshape(\u001b[39m100\u001b[39m,\u001b[39m100\u001b[39m)\n\u001b[1;32m      2\u001b[0m std \u001b[39m=\u001b[39m stds[\u001b[39m0\u001b[39m]\u001b[39m.\u001b[39mreshape(\u001b[39m100\u001b[39m,\u001b[39m100\u001b[39m)\n\u001b[1;32m      4\u001b[0m plt\u001b[39m.\u001b[39mpcolormesh(grids, grids, mean)\n",
      "\u001b[0;31mIndexError\u001b[0m: list index out of range"
     ]
    }
   ],
   "source": [
    "mean = means[0].reshape(100,100)\n",
    "std = stds[0].reshape(100,100)\n",
    "\n",
    "plt.pcolormesh(grids, grids, mean)\n",
    "\n",
    "print(means)"
   ]
  },
  {
   "attachments": {},
   "cell_type": "markdown",
   "metadata": {},
   "source": [
    "### tangent plotting helper"
   ]
  },
  {
   "cell_type": "code",
   "execution_count": null,
   "metadata": {},
   "outputs": [],
   "source": [
    "def plot_tangent(ax,x0, y0, dy0):\n",
    "    x = jnp.linspace(x0-0.1, x0+0.1,2)\n",
    "    tangent = dy0*(x - x0) + y0\n",
    "\n",
    "    ax.plot(x, tangent,ls=\"--\", color=\"red\")"
   ]
  }
 ],
 "metadata": {
  "kernelspec": {
   "display_name": "gpr",
   "language": "python",
   "name": "python3"
  },
  "language_info": {
   "codemirror_mode": {
    "name": "ipython",
    "version": 3
   },
   "file_extension": ".py",
   "mimetype": "text/x-python",
   "name": "python",
   "nbconvert_exporter": "python",
   "pygments_lexer": "ipython3",
   "version": "3.9.16"
  },
  "orig_nbformat": 4
 },
 "nbformat": 4,
 "nbformat_minor": 2
}
