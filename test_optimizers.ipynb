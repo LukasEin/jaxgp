{
 "cells": [
  {
   "cell_type": "code",
   "execution_count": 1,
   "metadata": {},
   "outputs": [],
   "source": [
    "import jax.numpy as jnp\n",
    "from jax import random\n",
    "import matplotlib.pyplot as plt\n",
    "import jaxgp.regression as gpr\n",
    "from jaxgp.kernels import RBF, Linear\n",
    "import time\n",
    "\n",
    "from jaxgp.tests import testfunctions, optimizertesting\n",
    "from jaxgp.utils import Logger"
   ]
  },
  {
   "attachments": {},
   "cell_type": "markdown",
   "metadata": {},
   "source": [
    "### 1D"
   ]
  },
  {
   "cell_type": "code",
   "execution_count": 2,
   "metadata": {},
   "outputs": [],
   "source": [
    "# from jax import vmap, jit, grad\n",
    "# sigma = 0.15\n",
    "\n",
    "# def f(x):\n",
    "#     return jnp.exp(-(x / sigma)**2) + 0.5*jnp.exp(-0.5*((x-0.5) / sigma)**2)\n",
    "\n",
    "# def df(x):\n",
    "#     return (-2*x*jnp.exp(-(x / sigma)**2) + -0.5*(x-0.5)*jnp.exp(-0.5*((x-0.5) / sigma)**2))/(sigma**2)"
   ]
  },
  {
   "cell_type": "code",
   "execution_count": 3,
   "metadata": {},
   "outputs": [],
   "source": [
    "# seed = 0\n",
    "\n",
    "# noise = 0.1\n",
    "# ranges = jnp.array([0.0, 1.0])\n",
    "# num_datapoints = 1000\n",
    "# X_train = jnp.linspace(*ranges, num_datapoints).reshape(-1,1)\n",
    "# y = f(X_train)\n",
    "# dy = df(X_train)\n",
    "# Y_train = jnp.hstack((y, dy))\n",
    "\n",
    "# iters_per_optimizer = 1\n",
    "\n",
    "# function_set_sizes = [1,]\n",
    "# # derivative_set_sizes = [2,5,7,10,12,15,20, 100]\n",
    "# derivative_set_sizes = [10,]\n",
    "\n",
    "# kernel = RBF()\n",
    "# param_shape = (2,)\n",
    "# param_bounds = (1e-3, 10.0)\n",
    "\n",
    "# grid = jnp.linspace(0,1,100).reshape(-1,1)"
   ]
  },
  {
   "cell_type": "code",
   "execution_count": 4,
   "metadata": {},
   "outputs": [],
   "source": [
    "# # key = random.PRNGKey(int(time.time()))\n",
    "# key = random.PRNGKey(0)\n",
    "\n",
    "# means = []\n",
    "# stds = []\n",
    "\n",
    "# for fun_vals in function_set_sizes:\n",
    "#     for der_vals in derivative_set_sizes:\n",
    "#         # logger for each pair of function vals and derivative vals\n",
    "#         logger = Logger(f\"f{fun_vals}d{der_vals}\")\n",
    "\n",
    "#         key, subkey = random.split(key)\n",
    "#         fun_perm = random.permutation(subkey, num_datapoints)[:fun_vals]\n",
    "#         key, subkey = random.split(key)\n",
    "#         d1_perm = random.permutation(subkey, num_datapoints)[:der_vals]\n",
    "\n",
    "#         X_fun = X_train[fun_perm]\n",
    "#         Y_fun = Y_train[fun_perm,0]\n",
    "#         X_d1 = X_train[d1_perm]\n",
    "#         Y_d1 = Y_train[d1_perm,1]\n",
    "\n",
    "#         X = jnp.vstack((X_fun, X_d1))\n",
    "#         Y = jnp.hstack((Y_fun, Y_d1))\n",
    "#         data_split = jnp.array([fun_vals, der_vals])\n",
    "\n",
    "#         for i in range(iters_per_optimizer):\n",
    "#             key, subkey = random.split(key)\n",
    "#             init_params = random.uniform(subkey, param_shape, minval=param_bounds[0], maxval=param_bounds[1])\n",
    "#             logger.log(f\"# iter {i+1}: init params {init_params}\")\n",
    "\n",
    "#             model = gpr.ExactGPR(kernel, init_params, noise, logger=logger)\n",
    "#             model.train(X, Y, data_split=data_split)\n",
    "#             m, s = model.eval(grid)\n",
    "#             means.append(m)\n",
    "#             stds.append(s)"
   ]
  },
  {
   "cell_type": "code",
   "execution_count": 5,
   "metadata": {},
   "outputs": [],
   "source": [
    "# plt.plot(X_train, Y_train[:,0])\n",
    "# for der,mean in zip(derivative_set_sizes,means):\n",
    "#     plt.plot(grid, mean, label=f\"{der} der obs\")\n",
    "\n",
    "# plt.grid()\n",
    "# plt.legend()"
   ]
  },
  {
   "attachments": {},
   "cell_type": "markdown",
   "metadata": {},
   "source": [
    "### 2D"
   ]
  },
  {
   "cell_type": "code",
   "execution_count": 6,
   "metadata": {},
   "outputs": [
    {
     "name": "stderr",
     "output_type": "stream",
     "text": [
      "WARNING:jax._src.lib.xla_bridge:No GPU/TPU found, falling back to CPU. (Set TF_CPP_MIN_LOG_LEVEL=0 and rerun for more info.)\n"
     ]
    }
   ],
   "source": [
    "optimizers = [\"L-BFGS-B\", \"TNC\", \"SLSQP\"]#, \"Nelder-Mead\", \"Powell\", \"trust-constr\"]\n",
    "\n",
    "seed = 0\n",
    "num_gridpoints = jnp.array([100,100])\n",
    "noise = 0.1\n",
    "\n",
    "iters_per_optimizer = 5\n",
    "\n",
    "num_f_vals = 20\n",
    "num_d_vals = 100\n",
    "\n",
    "kernel = RBF(3)\n",
    "param_shape = (3,)\n",
    "param_bounds = (1e-3, 10.0)\n",
    "\n",
    "names = [\"franke\", \"himmelblau\", \"easom\", \"ackley\", \"sin\"]\n",
    "\n",
    "functions = [testfunctions.franke, testfunctions.himmelblau, testfunctions.easom, testfunctions.ackley, testfunctions.sin2d]\n",
    "\n",
    "ranges = [(jnp.array([0.0,1.0]), jnp.array([0.0,1.0])), \n",
    "          (jnp.array([-5.0,5.0]), jnp.array([-5.0,5.0])),\n",
    "          (jnp.array([-10.0,10.0]), jnp.array([-10.0,10.0])),\n",
    "          (jnp.array([-5.0,5.0]), jnp.array([-5.0,5.0])),\n",
    "          (jnp.array([0.0,2*jnp.pi]), jnp.array([0.0,2*jnp.pi]))]"
   ]
  },
  {
   "cell_type": "code",
   "execution_count": 7,
   "metadata": {},
   "outputs": [
    {
     "name": "stdout",
     "output_type": "stream",
     "text": [
      "Optimizer L-BFGS-B\n",
      "OptStep(params=DeviceArray([2.23045   , 0.00472059, 1.7149965 ], dtype=float32), state=ScipyMinimizeInfo(fun_val=DeviceArray(0.04816936, dtype=float32, weak_type=True), success=False, status=2, iter_num=4))\n",
      "OptStep(params=DeviceArray([6.60373  , 5.1392326, 4.512196 ], dtype=float32), state=ScipyMinimizeInfo(fun_val=DeviceArray(nan, dtype=float32, weak_type=True), success=False, status=2, iter_num=1))\n",
      "OptStep(params=DeviceArray([1.9545201, 2.8604324, 9.469266 ], dtype=float32), state=ScipyMinimizeInfo(fun_val=DeviceArray(nan, dtype=float32, weak_type=True), success=False, status=2, iter_num=1))\n",
      "OptStep(params=DeviceArray([0.05640938, 0.17249379, 0.18599904], dtype=float32), state=ScipyMinimizeInfo(fun_val=DeviceArray(-0.00995476, dtype=float32, weak_type=True), success=True, status=0, iter_num=35))\n",
      "OptStep(params=DeviceArray([0.05659522, 0.17261857, 0.18595403], dtype=float32), state=ScipyMinimizeInfo(fun_val=DeviceArray(-0.00995474, dtype=float32, weak_type=True), success=True, status=0, iter_num=22))\n",
      "Optimizer TNC\n",
      "OptStep(params=DeviceArray([1.5601345 , 0.21172477, 0.25148228], dtype=float32), state=ScipyMinimizeInfo(fun_val=DeviceArray(-0.00754217, dtype=float32, weak_type=True), success=True, status=1, iter_num=17))\n",
      "OptStep(params=DeviceArray([6.6016564, 5.141676 , 4.5267787], dtype=float32), state=ScipyMinimizeInfo(fun_val=DeviceArray(0.48883823, dtype=float32, weak_type=True), success=False, status=4, iter_num=0))\n",
      "OptStep(params=DeviceArray([1.9464571, 2.8730962, 9.473273 ], dtype=float32), state=ScipyMinimizeInfo(fun_val=DeviceArray(0.5199218, dtype=float32, weak_type=True), success=False, status=4, iter_num=0))\n",
      "OptStep(params=DeviceArray([1.8067602 , 0.21947347, 0.24594137], dtype=float32), state=ScipyMinimizeInfo(fun_val=DeviceArray(-0.00738613, dtype=float32, weak_type=True), success=True, status=1, iter_num=10))\n",
      "OptStep(params=DeviceArray([4.0928645, 4.8248897, 7.503754 ], dtype=float32), state=ScipyMinimizeInfo(fun_val=DeviceArray(0.51155424, dtype=float32, weak_type=True), success=False, status=4, iter_num=0))\n",
      "Optimizer SLSQP\n"
     ]
    },
    {
     "name": "stderr",
     "output_type": "stream",
     "text": [
      "/home/lukas/programs/miniconda3/envs/gpr/lib/python3.9/site-packages/scipy/optimize/_optimize.py:353: RuntimeWarning: Values in x were outside bounds during a minimize step, clipping to bounds\n",
      "  warnings.warn(\"Values in x were outside bounds during a \"\n"
     ]
    },
    {
     "name": "stdout",
     "output_type": "stream",
     "text": [
      "OptStep(params=DeviceArray([4.065389  , 0.22623837, 0.27375183], dtype=float32), state=ScipyMinimizeInfo(fun_val=DeviceArray(-0.00661219, dtype=float32, weak_type=True), success=True, status=0, iter_num=22))\n",
      "OptStep(params=DeviceArray([7.2513051e+00, 4.2896104e+00, 1.0000409e-03], dtype=float32), state=ScipyMinimizeInfo(fun_val=DeviceArray(0.08589158, dtype=float32, weak_type=True), success=True, status=0, iter_num=15))\n",
      "OptStep(params=DeviceArray([10.37277   ,  0.23910096,  0.30040205], dtype=float32), state=ScipyMinimizeInfo(fun_val=DeviceArray(-0.00570711, dtype=float32, weak_type=True), success=True, status=0, iter_num=28))\n"
     ]
    },
    {
     "name": "stderr",
     "output_type": "stream",
     "text": [
      "/home/lukas/programs/miniconda3/envs/gpr/lib/python3.9/site-packages/scipy/optimize/_optimize.py:353: RuntimeWarning: Values in x were outside bounds during a minimize step, clipping to bounds\n",
      "  warnings.warn(\"Values in x were outside bounds during a \"\n"
     ]
    },
    {
     "name": "stdout",
     "output_type": "stream",
     "text": [
      "OptStep(params=DeviceArray([1.7960374 , 0.21284683, 0.25875872], dtype=float32), state=ScipyMinimizeInfo(fun_val=DeviceArray(-0.00740362, dtype=float32, weak_type=True), success=True, status=0, iter_num=23))\n",
      "OptStep(params=DeviceArray([8.348418  , 0.234449  , 0.29010585], dtype=float32), state=ScipyMinimizeInfo(fun_val=DeviceArray(-0.00592399, dtype=float32, weak_type=True), success=True, status=0, iter_num=20))\n",
      "Optimizer L-BFGS-B\n",
      "OptStep(params=DeviceArray([1.6405825e+05, 7.8267550e-01, 1.7141486e+00], dtype=float32), state=ScipyMinimizeInfo(fun_val=DeviceArray(1007.90796, dtype=float32, weak_type=True), success=False, status=2, iter_num=45))\n",
      "OptStep(params=DeviceArray([9.1564287e+03, 1.4574616e+00, 1.1052717e+00], dtype=float32), state=ScipyMinimizeInfo(fun_val=DeviceArray(0.04119701, dtype=float32, weak_type=True), success=True, status=0, iter_num=43))\n",
      "OptStep(params=DeviceArray([4.9652340e+04, 2.0925639e+00, 1.8790216e+00], dtype=float32), state=ScipyMinimizeInfo(fun_val=DeviceArray(0.0229448, dtype=float32, weak_type=True), success=True, status=0, iter_num=46))\n",
      "OptStep(params=DeviceArray([3.1111320e+04, 3.1280849e+00, 1.0461408e+00], dtype=float32), state=ScipyMinimizeInfo(fun_val=DeviceArray(1007.90796, dtype=float32, weak_type=True), success=False, status=2, iter_num=42))\n",
      "OptStep(params=DeviceArray([4.6234121e+04, 2.1491745e+00, 1.5883377e+00], dtype=float32), state=ScipyMinimizeInfo(fun_val=DeviceArray(0.02351453, dtype=float32, weak_type=True), success=True, status=0, iter_num=46))\n",
      "Optimizer TNC\n",
      "OptStep(params=DeviceArray([3.0382678e+03, 4.4137043e-01, 3.2318962e-01], dtype=float32), state=ScipyMinimizeInfo(fun_val=DeviceArray(0.06219432, dtype=float32, weak_type=True), success=True, status=1, iter_num=41))\n",
      "OptStep(params=DeviceArray([2.7042126e+03, 4.2154780e-01, 3.0876383e-01], dtype=float32), state=ScipyMinimizeInfo(fun_val=DeviceArray(0.0627987, dtype=float32, weak_type=True), success=True, status=1, iter_num=32))\n",
      "OptStep(params=DeviceArray([3.8832622e+03, 1.1726182e+00, 7.5328481e-01], dtype=float32), state=ScipyMinimizeInfo(fun_val=DeviceArray(0.05604111, dtype=float32, weak_type=True), success=True, status=1, iter_num=38))\n",
      "OptStep(params=DeviceArray([4.2913774e+03, 1.1962090e+00, 8.0247128e-01], dtype=float32), state=ScipyMinimizeInfo(fun_val=DeviceArray(0.05413499, dtype=float32, weak_type=True), success=True, status=1, iter_num=63))\n",
      "OptStep(params=DeviceArray([3.3819275e+03, 4.6297032e-01, 3.4292996e-01], dtype=float32), state=ScipyMinimizeInfo(fun_val=DeviceArray(0.06168791, dtype=float32, weak_type=True), success=True, status=1, iter_num=36))\n",
      "Optimizer SLSQP\n"
     ]
    },
    {
     "name": "stderr",
     "output_type": "stream",
     "text": [
      "/home/lukas/programs/miniconda3/envs/gpr/lib/python3.9/site-packages/scipy/optimize/_optimize.py:353: RuntimeWarning: Values in x were outside bounds during a minimize step, clipping to bounds\n",
      "  warnings.warn(\"Values in x were outside bounds during a \"\n"
     ]
    },
    {
     "name": "stdout",
     "output_type": "stream",
     "text": [
      "OptStep(params=DeviceArray([5.5783980e+04, 1.3214015e+00, 2.2304313e+00], dtype=float32), state=ScipyMinimizeInfo(fun_val=DeviceArray(0.02980136, dtype=float32, weak_type=True), success=True, status=0, iter_num=71))\n"
     ]
    },
    {
     "name": "stderr",
     "output_type": "stream",
     "text": [
      "/home/lukas/programs/miniconda3/envs/gpr/lib/python3.9/site-packages/scipy/optimize/_optimize.py:353: RuntimeWarning: Values in x were outside bounds during a minimize step, clipping to bounds\n",
      "  warnings.warn(\"Values in x were outside bounds during a \"\n"
     ]
    },
    {
     "name": "stdout",
     "output_type": "stream",
     "text": [
      "OptStep(params=DeviceArray([5.3032859e+04, 2.1602213e+00, 1.8084600e+00], dtype=float32), state=ScipyMinimizeInfo(fun_val=DeviceArray(0.02244621, dtype=float32, weak_type=True), success=True, status=0, iter_num=53))\n",
      "OptStep(params=DeviceArray([1.2160872e+04, 1.6055245e+00, 1.3892554e+00], dtype=float32), state=ScipyMinimizeInfo(fun_val=DeviceArray(0.03829974, dtype=float32, weak_type=True), success=True, status=0, iter_num=48))\n",
      "OptStep(params=DeviceArray([2.6937516e+04, 1.9858868e+00, 1.5146710e+00], dtype=float32), state=ScipyMinimizeInfo(fun_val=DeviceArray(0.02845846, dtype=float32, weak_type=True), success=True, status=0, iter_num=57))\n"
     ]
    },
    {
     "name": "stderr",
     "output_type": "stream",
     "text": [
      "/home/lukas/programs/miniconda3/envs/gpr/lib/python3.9/site-packages/scipy/optimize/_optimize.py:353: RuntimeWarning: Values in x were outside bounds during a minimize step, clipping to bounds\n",
      "  warnings.warn(\"Values in x were outside bounds during a \"\n"
     ]
    },
    {
     "name": "stdout",
     "output_type": "stream",
     "text": [
      "OptStep(params=DeviceArray([5.0511141e+04, 1.6226079e+00, 2.0065863e+00], dtype=float32), state=ScipyMinimizeInfo(fun_val=DeviceArray(0.02490635, dtype=float32, weak_type=True), success=True, status=0, iter_num=70))\n",
      "Optimizer L-BFGS-B\n",
      "OptStep(params=DeviceArray([1.0000000e-03, 1.8376694e+00, 3.0539138e+00], dtype=float32), state=ScipyMinimizeInfo(fun_val=DeviceArray(-0.01841114, dtype=float32, weak_type=True), success=True, status=0, iter_num=3))\n",
      "OptStep(params=DeviceArray([1.0000000e-03, 1.2628883e+01, 8.7673626e+00], dtype=float32), state=ScipyMinimizeInfo(fun_val=DeviceArray(-0.01840635, dtype=float32, weak_type=True), success=True, status=0, iter_num=4))\n",
      "OptStep(params=DeviceArray([1.0000000e-03, 4.4411592e+00, 9.9893131e+00], dtype=float32), state=ScipyMinimizeInfo(fun_val=DeviceArray(-0.01841373, dtype=float32, weak_type=True), success=True, status=0, iter_num=2))\n",
      "OptStep(params=DeviceArray([2.3833700e-03, 2.5391786e+00, 7.2206664e-01], dtype=float32), state=ScipyMinimizeInfo(fun_val=DeviceArray(-0.0187084, dtype=float32, weak_type=True), success=True, status=0, iter_num=26))\n",
      "OptStep(params=DeviceArray([1.0000000e-03, 8.9882784e+00, 1.0646618e+01], dtype=float32), state=ScipyMinimizeInfo(fun_val=DeviceArray(-0.01840755, dtype=float32, weak_type=True), success=True, status=0, iter_num=3))\n",
      "Optimizer TNC\n",
      "OptStep(params=DeviceArray([1.0000000e-03, 2.2368088e+00, 3.5499769e-01], dtype=float32), state=ScipyMinimizeInfo(fun_val=DeviceArray(-0.01869802, dtype=float32, weak_type=True), success=True, status=1, iter_num=6))\n",
      "OptStep(params=DeviceArray([1.7332435e-03, 1.1268520e+01, 1.5064005e+00], dtype=float32), state=ScipyMinimizeInfo(fun_val=DeviceArray(-0.0184998, dtype=float32, weak_type=True), success=True, status=1, iter_num=7))\n",
      "OptStep(params=DeviceArray([2.3877972e-03, 2.5385194e+00, 7.1999180e-01], dtype=float32), state=ScipyMinimizeInfo(fun_val=DeviceArray(-0.0187084, dtype=float32, weak_type=True), success=True, status=1, iter_num=12))\n",
      "OptStep(params=DeviceArray([1.3344194e-03, 4.6911597e+00, 3.8312962e+00], dtype=float32), state=ScipyMinimizeInfo(fun_val=DeviceArray(-0.01842683, dtype=float32, weak_type=True), success=True, status=1, iter_num=3))\n",
      "OptStep(params=DeviceArray([2.2452527e-03, 6.1924658e+00, 1.1018202e+00], dtype=float32), state=ScipyMinimizeInfo(fun_val=DeviceArray(-0.0185523, dtype=float32, weak_type=True), success=True, status=1, iter_num=8))\n",
      "Optimizer SLSQP\n",
      "OptStep(params=DeviceArray([1.0000000e-03, 1.8374349e+00, 3.0537012e+00], dtype=float32), state=ScipyMinimizeInfo(fun_val=DeviceArray(-0.01841114, dtype=float32, weak_type=True), success=True, status=0, iter_num=4))\n",
      "OptStep(params=DeviceArray([6.6016564, 5.141676 , 4.5267787], dtype=float32), state=ScipyMinimizeInfo(fun_val=DeviceArray(-0.01522417, dtype=float32, weak_type=True), success=True, status=0, iter_num=1))\n",
      "OptStep(params=DeviceArray([1.9464571, 2.8730962, 9.473273 ], dtype=float32), state=ScipyMinimizeInfo(fun_val=DeviceArray(-0.01588015, dtype=float32, weak_type=True), success=True, status=0, iter_num=1))\n",
      "OptStep(params=DeviceArray([1.0000000e-03, 3.8127463e+00, 3.8694222e+00], dtype=float32), state=ScipyMinimizeInfo(fun_val=DeviceArray(-0.01842268, dtype=float32, weak_type=True), success=True, status=0, iter_num=7))\n",
      "OptStep(params=DeviceArray([4.0928645, 4.8248897, 7.503754 ], dtype=float32), state=ScipyMinimizeInfo(fun_val=DeviceArray(-0.01604834, dtype=float32, weak_type=True), success=True, status=0, iter_num=1))\n",
      "Optimizer L-BFGS-B\n",
      "OptStep(params=DeviceArray([32.38364  ,  0.6110049,  0.5719467], dtype=float32), state=ScipyMinimizeInfo(fun_val=DeviceArray(0.02449785, dtype=float32, weak_type=True), success=True, status=0, iter_num=30))\n",
      "OptStep(params=DeviceArray([32.345577  ,  0.61058956,  0.57185686], dtype=float32), state=ScipyMinimizeInfo(fun_val=DeviceArray(0.02449784, dtype=float32, weak_type=True), success=True, status=0, iter_num=26))\n",
      "OptStep(params=DeviceArray([32.423313 ,  0.6110506,  0.5720688], dtype=float32), state=ScipyMinimizeInfo(fun_val=DeviceArray(0.02449781, dtype=float32, weak_type=True), success=True, status=0, iter_num=27))\n",
      "OptStep(params=DeviceArray([32.434544  ,  0.61110604,  0.57205075], dtype=float32), state=ScipyMinimizeInfo(fun_val=DeviceArray(0.02449783, dtype=float32, weak_type=True), success=True, status=0, iter_num=26))\n",
      "OptStep(params=DeviceArray([32.385937  ,  0.6110375 ,  0.57199204], dtype=float32), state=ScipyMinimizeInfo(fun_val=DeviceArray(0.02449781, dtype=float32, weak_type=True), success=True, status=0, iter_num=34))\n",
      "Optimizer TNC\n",
      "OptStep(params=DeviceArray([32.142124  ,  0.6097264 ,  0.57202345], dtype=float32), state=ScipyMinimizeInfo(fun_val=DeviceArray(0.02449794, dtype=float32, weak_type=True), success=True, status=1, iter_num=31))\n",
      "OptStep(params=DeviceArray([32.44306   ,  0.61113214,  0.5720535 ], dtype=float32), state=ScipyMinimizeInfo(fun_val=DeviceArray(0.0244978, dtype=float32, weak_type=True), success=True, status=1, iter_num=21))\n",
      "OptStep(params=DeviceArray([24.785002 ,  0.6155675,  0.5361039], dtype=float32), state=ScipyMinimizeInfo(fun_val=DeviceArray(0.02466633, dtype=float32, weak_type=True), success=False, status=4, iter_num=22))\n",
      "OptStep(params=DeviceArray([32.195015  ,  0.6101272 ,  0.57160085], dtype=float32), state=ScipyMinimizeInfo(fun_val=DeviceArray(0.02449787, dtype=float32, weak_type=True), success=True, status=1, iter_num=26))\n",
      "OptStep(params=DeviceArray([38.648224 ,  0.6268522,  0.5810841], dtype=float32), state=ScipyMinimizeInfo(fun_val=DeviceArray(0.02454141, dtype=float32, weak_type=True), success=True, status=1, iter_num=19))\n",
      "Optimizer SLSQP\n",
      "OptStep(params=DeviceArray([8.935957  , 0.8407566 , 0.19932613], dtype=float32), state=ScipyMinimizeInfo(fun_val=DeviceArray(0.03054486, dtype=float32, weak_type=True), success=True, status=0, iter_num=29))\n",
      "OptStep(params=DeviceArray([33.939754 ,  0.6151099,  0.574155 ], dtype=float32), state=ScipyMinimizeInfo(fun_val=DeviceArray(0.02450086, dtype=float32, weak_type=True), success=True, status=0, iter_num=35))\n"
     ]
    },
    {
     "name": "stderr",
     "output_type": "stream",
     "text": [
      "/home/lukas/programs/miniconda3/envs/gpr/lib/python3.9/site-packages/scipy/optimize/_optimize.py:353: RuntimeWarning: Values in x were outside bounds during a minimize step, clipping to bounds\n",
      "  warnings.warn(\"Values in x were outside bounds during a \"\n"
     ]
    },
    {
     "name": "stdout",
     "output_type": "stream",
     "text": [
      "OptStep(params=DeviceArray([10.629956  ,  0.13444114,  0.7127485 ], dtype=float32), state=ScipyMinimizeInfo(fun_val=DeviceArray(0.03179427, dtype=float32, weak_type=True), success=True, status=0, iter_num=20))\n",
      "OptStep(params=DeviceArray([13.430107  ,  0.5041728 ,  0.55817354], dtype=float32), state=ScipyMinimizeInfo(fun_val=DeviceArray(0.02616107, dtype=float32, weak_type=True), success=True, status=0, iter_num=19))\n"
     ]
    },
    {
     "name": "stderr",
     "output_type": "stream",
     "text": [
      "/home/lukas/programs/miniconda3/envs/gpr/lib/python3.9/site-packages/scipy/optimize/_optimize.py:353: RuntimeWarning: Values in x were outside bounds during a minimize step, clipping to bounds\n",
      "  warnings.warn(\"Values in x were outside bounds during a \"\n"
     ]
    },
    {
     "name": "stdout",
     "output_type": "stream",
     "text": [
      "OptStep(params=DeviceArray([32.310745  ,  0.6106403 ,  0.57224613], dtype=float32), state=ScipyMinimizeInfo(fun_val=DeviceArray(0.02449788, dtype=float32, weak_type=True), success=True, status=0, iter_num=37))\n",
      "Optimizer L-BFGS-B\n",
      "OptStep(params=DeviceArray([3.1312258, 1.0200009, 1.9426328], dtype=float32), state=ScipyMinimizeInfo(fun_val=DeviceArray(-0.01300928, dtype=float32, weak_type=True), success=True, status=0, iter_num=18))\n",
      "OptStep(params=DeviceArray([3.1582277, 1.0213368, 1.9430212], dtype=float32), state=ScipyMinimizeInfo(fun_val=DeviceArray(-0.01300928, dtype=float32, weak_type=True), success=True, status=0, iter_num=23))\n",
      "OptStep(params=DeviceArray([1.9576967, 2.825579 , 9.46759  ], dtype=float32), state=ScipyMinimizeInfo(fun_val=DeviceArray(nan, dtype=float32, weak_type=True), success=False, status=2, iter_num=1))\n",
      "OptStep(params=DeviceArray([3.0297546, 1.0172181, 1.9320233], dtype=float32), state=ScipyMinimizeInfo(fun_val=DeviceArray(-0.01300904, dtype=float32, weak_type=True), success=True, status=0, iter_num=16))\n",
      "OptStep(params=DeviceArray([4.095729 , 4.8132286, 7.499909 ], dtype=float32), state=ScipyMinimizeInfo(fun_val=DeviceArray(nan, dtype=float32, weak_type=True), success=False, status=2, iter_num=1))\n",
      "Optimizer TNC\n",
      "OptStep(params=DeviceArray([2.9484503, 1.0135645, 1.9240717], dtype=float32), state=ScipyMinimizeInfo(fun_val=DeviceArray(-0.01300868, dtype=float32, weak_type=True), success=True, status=1, iter_num=18))\n",
      "OptStep(params=DeviceArray([3.1757495, 1.0201182, 1.9482824], dtype=float32), state=ScipyMinimizeInfo(fun_val=DeviceArray(-0.0130093, dtype=float32, weak_type=True), success=True, status=1, iter_num=18))\n",
      "OptStep(params=DeviceArray([1.9464571, 2.8730962, 9.473273 ], dtype=float32), state=ScipyMinimizeInfo(fun_val=DeviceArray(0.5036579, dtype=float32, weak_type=True), success=False, status=4, iter_num=0))\n",
      "OptStep(params=DeviceArray([3.1091049, 1.0112733, 1.9578056], dtype=float32), state=ScipyMinimizeInfo(fun_val=DeviceArray(-0.01300844, dtype=float32, weak_type=True), success=True, status=1, iter_num=16))\n",
      "OptStep(params=DeviceArray([3.3756902, 1.0282856, 1.9624974], dtype=float32), state=ScipyMinimizeInfo(fun_val=DeviceArray(-0.01300882, dtype=float32, weak_type=True), success=True, status=1, iter_num=24))\n",
      "Optimizer SLSQP\n",
      "OptStep(params=DeviceArray([1.446056 , 0.9376325, 1.7142675], dtype=float32), state=ScipyMinimizeInfo(fun_val=DeviceArray(-0.01291119, dtype=float32, weak_type=True), success=True, status=0, iter_num=16))\n",
      "OptStep(params=DeviceArray([7.1380954, 1.1048491, 2.1434333], dtype=float32), state=ScipyMinimizeInfo(fun_val=DeviceArray(-0.01292223, dtype=float32, weak_type=True), success=True, status=0, iter_num=8))\n",
      "OptStep(params=DeviceArray([8.766649 , 1.1269348, 2.1895468], dtype=float32), state=ScipyMinimizeInfo(fun_val=DeviceArray(-0.01287541, dtype=float32, weak_type=True), success=True, status=0, iter_num=27))\n",
      "OptStep(params=DeviceArray([1.5964075, 0.9469612, 1.7517903], dtype=float32), state=ScipyMinimizeInfo(fun_val=DeviceArray(-0.01293607, dtype=float32, weak_type=True), success=True, status=0, iter_num=11))\n"
     ]
    },
    {
     "name": "stderr",
     "output_type": "stream",
     "text": [
      "/home/lukas/programs/miniconda3/envs/gpr/lib/python3.9/site-packages/scipy/optimize/_optimize.py:353: RuntimeWarning: Values in x were outside bounds during a minimize step, clipping to bounds\n",
      "  warnings.warn(\"Values in x were outside bounds during a \"\n"
     ]
    },
    {
     "name": "stdout",
     "output_type": "stream",
     "text": [
      "OptStep(params=DeviceArray([3.4138694, 1.0300044, 1.9654449], dtype=float32), state=ScipyMinimizeInfo(fun_val=DeviceArray(-0.01300842, dtype=float32, weak_type=True), success=True, status=0, iter_num=26))\n"
     ]
    }
   ],
   "source": [
    "optimizertesting.create_optimizer_data(functions, ranges, names, optimizers, num_gridpoints, noise, seed, num_f_vals, \n",
    "                                       num_d_vals, kernel, param_bounds, param_shape, iters_per_optimizer, \"./prediction_files\")"
   ]
  },
  {
   "cell_type": "code",
   "execution_count": 8,
   "metadata": {},
   "outputs": [],
   "source": [
    "# log_dict = {}\n",
    "\n",
    "# names = [\"franke\", \"himmelblau\", \"easom\", \"ackley\", \"sin\"]\n",
    "# functions = [testfunctions.franke, testfunctions.himmelblau, testfunctions.easom, testfunctions.ackley, testfunctions.sin2d]\n",
    "# ranges = [(jnp.array([0.0,1.0]), jnp.array([0.0,1.0])), \n",
    "#           (jnp.array([-5.0,5.0]), jnp.array([-5.0,5.0])),\n",
    "#           (jnp.array([-10.0,10.0]), jnp.array([-10.0,10.0])),\n",
    "#           (jnp.array([-5.0,5.0]), jnp.array([-5.0,5.0])),\n",
    "#           (jnp.array([0.0,2*jnp.pi]), jnp.array([0.0,2*jnp.pi]))]\n",
    "\n",
    "# for fun, ran, name in zip(functions, ranges, names):\n",
    "#     X_train, Y_train = optimizertesting.create_training_data_2D(seed, num_gridpoints, ran, noise, fun)\n",
    "\n",
    "#     grid1 = jnp.linspace(*ran[0],100)\n",
    "#     grid2 = jnp.linspace(*ran[1],100)\n",
    "#     grid = jnp.array(jnp.meshgrid(grid1, grid1)).reshape(2,-1).T\n",
    "\n",
    "#     log_dict[name] = {}\n",
    "\n",
    "#     for optimizer in optimizers:\n",
    "#         print(f\"Optimizer {optimizer}\")\n",
    "#         logger = Logger(optimizer)\n",
    "\n",
    "#         means, stds = optimizertesting.create_test_data_2D(X_train=X_train, Y_train=Y_train, num_f_vals=num_f_vals, num_d_vals=num_d_vals,\n",
    "#                                                 logger=logger, kernel=kernel, param_bounds=param_bounds, param_shape=param_shape, noise=noise, optimizer=optimizer,\n",
    "#                                                 iters=iters_per_optimizer, evalgrid=grid, seed=int(time.time()))\n",
    "        \n",
    "#         jnp.savez(f\"./prediction_files/{name}means{optimizer}\", *means)\n",
    "#         jnp.savez(f\"./prediction_files/{name}stds{optimizer}\", *stds)\n",
    "#         log_dict[name][optimizer] = logger.iters_list"
   ]
  },
  {
   "cell_type": "code",
   "execution_count": 9,
   "metadata": {},
   "outputs": [],
   "source": [
    "# means = mean_dict[\"SLSQP\"]\n",
    "# plt.pcolormesh(grid1, grid2, means[0].reshape(len(grid1), len(grid2)))\n",
    "# plt.colorbar()"
   ]
  },
  {
   "cell_type": "code",
   "execution_count": 10,
   "metadata": {},
   "outputs": [],
   "source": [
    "# plt.pcolormesh(grid1, grid2, Y_train[:,0].reshape(100,100))# - means[0].reshape(len(grid1), len(grid2)))\n",
    "# plt.colorbar()"
   ]
  },
  {
   "cell_type": "code",
   "execution_count": 11,
   "metadata": {},
   "outputs": [],
   "source": [
    "# markers = [\"o\", \"x\", \"+\"]\n",
    "\n",
    "# for marker, (key, value) in zip(markers,log_dict.items()):\n",
    "#     for i,elem in enumerate(value):\n",
    "#         nums = jnp.arange(1,len(elem[1])+1)\n",
    "#         plt.scatter(nums, elem[1],label=f\"{key}$_{i}$\", marker=marker)\n",
    "\n",
    "# plt.legend()\n",
    "# plt.grid()"
   ]
  },
  {
   "cell_type": "code",
   "execution_count": null,
   "metadata": {},
   "outputs": [],
   "source": []
  }
 ],
 "metadata": {
  "kernelspec": {
   "display_name": "gpr",
   "language": "python",
   "name": "python3"
  },
  "language_info": {
   "codemirror_mode": {
    "name": "ipython",
    "version": 3
   },
   "file_extension": ".py",
   "mimetype": "text/x-python",
   "name": "python",
   "nbconvert_exporter": "python",
   "pygments_lexer": "ipython3",
   "version": "3.9.16"
  },
  "orig_nbformat": 4
 },
 "nbformat": 4,
 "nbformat_minor": 2
}
