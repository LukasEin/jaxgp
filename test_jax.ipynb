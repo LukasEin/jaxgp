{
 "cells": [
  {
   "cell_type": "code",
   "execution_count": 1,
   "metadata": {},
   "outputs": [],
   "source": [
    "import jax.numpy as jnp"
   ]
  },
  {
   "cell_type": "code",
   "execution_count": 6,
   "metadata": {},
   "outputs": [],
   "source": [
    "a = jnp.arange(5,45,2).reshape(10,2)\n",
    "b = jnp.arange(0,20).reshape(10,2)"
   ]
  },
  {
   "cell_type": "code",
   "execution_count": 8,
   "metadata": {},
   "outputs": [
    {
     "ename": "ValueError",
     "evalue": "Arguments to jax.numpy.meshgrid must be 1D, got shapes [(10, 2), (10, 2)]",
     "output_type": "error",
     "traceback": [
      "\u001b[0;31m---------------------------------------------------------------------------\u001b[0m",
      "\u001b[0;31mValueError\u001b[0m                                Traceback (most recent call last)",
      "Cell \u001b[0;32mIn[8], line 1\u001b[0m\n\u001b[0;32m----> 1\u001b[0m xs, ys \u001b[39m=\u001b[39m jnp\u001b[39m.\u001b[39;49mmeshgrid(a,b,sparse\u001b[39m=\u001b[39;49m\u001b[39mTrue\u001b[39;49;00m)\n",
      "File \u001b[0;32m~/miniconda3/envs/gpr/lib/python3.9/site-packages/jax/_src/numpy/lax_numpy.py:2416\u001b[0m, in \u001b[0;36mmeshgrid\u001b[0;34m(copy, sparse, indexing, *xi)\u001b[0m\n\u001b[1;32m   2414\u001b[0m   \u001b[39mraise\u001b[39;00m \u001b[39mValueError\u001b[39;00m(\u001b[39mf\u001b[39m\u001b[39m\"\u001b[39m\u001b[39mValid values for indexing are \u001b[39m\u001b[39m'\u001b[39m\u001b[39mxy\u001b[39m\u001b[39m'\u001b[39m\u001b[39m and \u001b[39m\u001b[39m'\u001b[39m\u001b[39mij\u001b[39m\u001b[39m'\u001b[39m\u001b[39m, got \u001b[39m\u001b[39m{\u001b[39;00mindexing\u001b[39m}\u001b[39;00m\u001b[39m\"\u001b[39m)\n\u001b[1;32m   2415\u001b[0m \u001b[39mif\u001b[39;00m _any(a\u001b[39m.\u001b[39mndim \u001b[39m!=\u001b[39m \u001b[39m1\u001b[39m \u001b[39mfor\u001b[39;00m a \u001b[39min\u001b[39;00m args):\n\u001b[0;32m-> 2416\u001b[0m   \u001b[39mraise\u001b[39;00m \u001b[39mValueError\u001b[39;00m(\u001b[39m\"\u001b[39m\u001b[39mArguments to jax.numpy.meshgrid must be 1D, got shapes \u001b[39m\u001b[39m\"\u001b[39m\n\u001b[1;32m   2417\u001b[0m                    \u001b[39mf\u001b[39m\u001b[39m\"\u001b[39m\u001b[39m{\u001b[39;00m[a\u001b[39m.\u001b[39mshape \u001b[39mfor\u001b[39;00m a \u001b[39min\u001b[39;00m args]\u001b[39m}\u001b[39;00m\u001b[39m\"\u001b[39m)\n\u001b[1;32m   2418\u001b[0m \u001b[39mif\u001b[39;00m indexing \u001b[39m==\u001b[39m \u001b[39m\"\u001b[39m\u001b[39mxy\u001b[39m\u001b[39m\"\u001b[39m \u001b[39mand\u001b[39;00m \u001b[39mlen\u001b[39m(args) \u001b[39m>\u001b[39m\u001b[39m=\u001b[39m \u001b[39m2\u001b[39m:\n\u001b[1;32m   2419\u001b[0m   args[\u001b[39m0\u001b[39m], args[\u001b[39m1\u001b[39m] \u001b[39m=\u001b[39m args[\u001b[39m1\u001b[39m], args[\u001b[39m0\u001b[39m]\n",
      "\u001b[0;31mValueError\u001b[0m: Arguments to jax.numpy.meshgrid must be 1D, got shapes [(10, 2), (10, 2)]"
     ]
    }
   ],
   "source": [
    "xs, ys = jnp.meshgrid(a,b,sparse=True)"
   ]
  },
  {
   "cell_type": "code",
   "execution_count": null,
   "metadata": {},
   "outputs": [],
   "source": []
  }
 ],
 "metadata": {
  "kernelspec": {
   "display_name": "gpr",
   "language": "python",
   "name": "python3"
  },
  "language_info": {
   "codemirror_mode": {
    "name": "ipython",
    "version": 3
   },
   "file_extension": ".py",
   "mimetype": "text/x-python",
   "name": "python",
   "nbconvert_exporter": "python",
   "pygments_lexer": "ipython3",
   "version": "3.9.16"
  },
  "orig_nbformat": 4
 },
 "nbformat": 4,
 "nbformat_minor": 2
}
