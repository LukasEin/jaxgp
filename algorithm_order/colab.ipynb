{
 "cells": [
  {
   "cell_type": "code",
   "execution_count": null,
   "metadata": {},
   "outputs": [],
   "source": [
    "import jax.numpy as jnp\n",
    "from jax import random, jit"
   ]
  },
  {
   "cell_type": "code",
   "execution_count": null,
   "metadata": {},
   "outputs": [],
   "source": [
    "! git clone https://github.com/LukasEin/jaxgp.git"
   ]
  },
  {
   "cell_type": "code",
   "execution_count": null,
   "metadata": {},
   "outputs": [],
   "source": [
    "! pip install jaxopt"
   ]
  },
  {
   "cell_type": "code",
   "execution_count": null,
   "metadata": {},
   "outputs": [],
   "source": [
    "from timeit import repeat, timeit\n",
    "\n",
    "from jaxgp.jaxgp.covar import full_covariance_matrix, sparse_covariance_matrix\n",
    "from jaxgp.jaxgp.kernels import RBF\n",
    "\n",
    "\n",
    "def fun(x, noise=0.0, key = random.PRNGKey(0)):\n",
    "    return (x[:,0]**2 + x[:,1] - 11)**2 / 800.0 + (x[:,0] + x[:,1]**2 -7)**2 / 800.0 + random.normal(key,(len(x),), dtype=jnp.float32)*noise\n",
    "\n",
    "def grad(x, noise=0.0, key = random.PRNGKey(0)):\n",
    "    dx1 = 4 * (x[:,0]**2 + x[:,1] - 11) * x[:,0] + 2 * (x[:,0] + x[:,1]**2 -7)\n",
    "    dx2 = 2 * (x[:,0]**2 + x[:,1] - 11) + 4 * (x[:,0] + x[:,1]**2 -7) * x[:,1]\n",
    "\n",
    "    return jnp.vstack((dx1, dx2)).T / 800.0 + random.normal(key,x.shape, dtype=jnp.float32)*noise\n",
    "\n",
    "# Constants\n",
    "BOUNDS = jnp.array([-5.0, 5.0])\n",
    "NUM_F_VALS = 1\n",
    "KERNEL = RBF()\n",
    "KERNEL_PARAMS = jnp.ones(2)*jnp.log(2)\n",
    "NOISE = 0.02\n",
    "\n",
    "# Number of repeats in test\n",
    "REPEAT = 10\n",
    "\n",
    "def _train_data(num_d_vals):\n",
    "    # initial seed for the pseudo random key generation\n",
    "    seed = 3\n",
    "\n",
    "    # create new keys and randomly sample the above interval for training features\n",
    "    key, subkey = random.split(random.PRNGKey(seed))\n",
    "    x_func = random.uniform(subkey, (NUM_F_VALS, 2), minval=BOUNDS[0], maxval=BOUNDS[1])\n",
    "    key, subkey = random.split(key)\n",
    "    x_der = random.uniform(subkey, (num_d_vals,2), minval=BOUNDS[0], maxval=BOUNDS[1])\n",
    "\n",
    "    X_split = [x_func,x_der]\n",
    "\n",
    "    key, subkey = random.split(key)\n",
    "    y_func = fun(x_func, NOISE, subkey)\n",
    "    key, subkey = random.split(key)\n",
    "    y_der = grad(x_der, NOISE, subkey)\n",
    "\n",
    "    Y_train = jnp.hstack((y_func, y_der.reshape(-1)))\n",
    "\n",
    "    return X_split, Y_train\n",
    "\n",
    "def ref_from_data(X_split, num_ref_points):\n",
    "    key = random.PRNGKey(0)\n",
    "    key, subkey = random.split(key)\n",
    "    X_ref_rand = random.permutation(subkey, jnp.vstack(X_split))[:num_ref_points]\n",
    "\n",
    "    return X_ref_rand\n",
    "\n",
    "def full_timing(point_list):\n",
    "    times = []\n",
    "\n",
    "    for num in point_list:\n",
    "        X_train, Y_train = _train_data(num)\n",
    "\n",
    "        def test():\n",
    "            X = jit(full_covariance_matrix)(X_train, Y_train, KERNEL, KERNEL_PARAMS, NOISE)\n",
    "\n",
    "        times.append(repeat(test, number=REPEAT)[1:])\n",
    "\n",
    "    times = jnp.array(times) / REPEAT\n",
    "    avg_times = jnp.mean(times, axis=1)\n",
    "    std_times = jnp.std(times, axis=1)\n",
    "    jnp.save(f\"./data/full_time_{point_list}\", jnp.vstack((jnp.array(point_list), avg_times, std_times)))\n",
    "\n",
    "def sparse_timing_fixed_ref(point_list, num_ref_points):\n",
    "    times = []\n",
    "\n",
    "    for num in point_list:\n",
    "        X_train, Y_train = _train_data(num)\n",
    "        X_ref = ref_from_data(X_train, num_ref_points)\n",
    "\n",
    "        def test():\n",
    "            X = jit(sparse_covariance_matrix)(X_train, Y_train, X_ref, KERNEL, KERNEL_PARAMS, NOISE)\n",
    "\n",
    "        times.append(repeat(test, number=REPEAT)[1:])\n",
    "\n",
    "    times = jnp.array(times) / REPEAT\n",
    "    avg_times = jnp.mean(times, axis=1)\n",
    "    std_times = jnp.std(times, axis=1)\n",
    "    jnp.save(f\"./data/sparse_time_{point_list}_ref{num_ref_points}\", jnp.vstack((jnp.array(point_list), avg_times, std_times)))\n",
    "\n",
    "def sparse_timing_fixed_max(ref_points_list, num_data):\n",
    "    X_train, Y_train = _train_data(num_data)\n",
    "    times = []\n",
    "\n",
    "    for num_ref_points in ref_points_list:\n",
    "        X_ref = ref_from_data(X_train, num_ref_points)\n",
    "\n",
    "        def test():\n",
    "            X = jit(sparse_covariance_matrix)(X_train, Y_train, X_ref, KERNEL, KERNEL_PARAMS, NOISE)\n",
    "\n",
    "        times.append(repeat(test, number=REPEAT)[1:])\n",
    "\n",
    "    times = jnp.array(times) / REPEAT\n",
    "    avg_times = jnp.mean(times, axis=1)\n",
    "    std_times = jnp.std(times, axis=1)\n",
    "    jnp.save(f\"./data/sparse_time_{ref_points_list}_max{num_data}\", jnp.vstack((jnp.array(ref_points_list), avg_times, std_times)))"
   ]
  },
  {
   "cell_type": "code",
   "execution_count": null,
   "metadata": {},
   "outputs": [],
   "source": [
    "! mkdir ./data"
   ]
  },
  {
   "cell_type": "code",
   "execution_count": null,
   "metadata": {},
   "outputs": [],
   "source": [
    "point_list = [128, 256, 512, 1024, 2048, 4096, 8192]"
   ]
  },
  {
   "cell_type": "code",
   "execution_count": null,
   "metadata": {},
   "outputs": [],
   "source": [
    "full_timing(point_list)"
   ]
  },
  {
   "cell_type": "code",
   "execution_count": null,
   "metadata": {},
   "outputs": [],
   "source": [
    "point_list = [128, 256, 512, 1024, 2048, 4096, 8192, 16384, 32768, 65536, 131072]"
   ]
  },
  {
   "cell_type": "code",
   "execution_count": null,
   "metadata": {},
   "outputs": [],
   "source": [
    "sparse_timing_fixed_ref(point_list, num_ref_points=32)"
   ]
  },
  {
   "cell_type": "code",
   "execution_count": null,
   "metadata": {},
   "outputs": [],
   "source": [
    "point_list = [512, 1024, 2048, 4096, 8192, 16384]"
   ]
  },
  {
   "cell_type": "code",
   "execution_count": null,
   "metadata": {},
   "outputs": [],
   "source": [
    "sparse_timing_fixed_max(point_list, 16384)"
   ]
  },
  {
   "cell_type": "code",
   "execution_count": null,
   "metadata": {},
   "outputs": [],
   "source": [
    "! zip -r data.zip data/ "
   ]
  }
 ],
 "metadata": {
  "kernelspec": {
   "display_name": "gpr",
   "language": "python",
   "name": "python3"
  },
  "language_info": {
   "codemirror_mode": {
    "name": "ipython",
    "version": 3
   },
   "file_extension": ".py",
   "mimetype": "text/x-python",
   "name": "python",
   "nbconvert_exporter": "python",
   "pygments_lexer": "ipython3",
   "version": "3.9.16"
  },
  "orig_nbformat": 4
 },
 "nbformat": 4,
 "nbformat_minor": 2
}
