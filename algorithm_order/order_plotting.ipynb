{
 "cells": [
  {
   "cell_type": "code",
   "execution_count": null,
   "metadata": {},
   "outputs": [],
   "source": [
    "import jax.numpy as jnp\n",
    "\n",
    "import matplotlib.pyplot as plt\n",
    "\n",
    "from sklearn.linear_model import LinearRegression\n",
    "from sklearn.preprocessing import PolynomialFeatures"
   ]
  },
  {
   "attachments": {},
   "cell_type": "markdown",
   "metadata": {},
   "source": [
    "## Full Kernel"
   ]
  },
  {
   "cell_type": "code",
   "execution_count": null,
   "metadata": {},
   "outputs": [],
   "source": [
    "order = 3"
   ]
  },
  {
   "cell_type": "code",
   "execution_count": null,
   "metadata": {},
   "outputs": [],
   "source": [
    "def plot_data(full):\n",
    "    if full == True:\n",
    "        n_datapoints_1 = jnp.arange(1,50)*10\n",
    "        n_datapoints_2 = jnp.arange(500, 1001, 100)\n",
    "        n_datapoints_3 = jnp.arange(1200, 3000, 200)\n",
    "        avg_times_1 = jnp.load(\"full_time_10_500_10.npy\")\n",
    "        avg_times_2 = jnp.load(\"full_time_500_1001_100.npy\")\n",
    "        avg_times_3 = jnp.load(\"full_time_1200_3000_200.npy\")\n",
    "\n",
    "        n_datapoints = jnp.hstack((n_datapoints_1, n_datapoints_2, n_datapoints_3))\n",
    "        avg_times = jnp.hstack((avg_times_1, avg_times_2, avg_times_3))\n",
    "    else:\n",
    "        n_datapoints_1 = jnp.arange(1,50)*10\n",
    "        n_datapoints_2 = jnp.arange(500, 1001, 100)\n",
    "        n_datapoints_3 = jnp.arange(1200, 3000, 200)\n",
    "        avg_times_1 = jnp.load(\"sparse_time_10_500_10.npy\")\n",
    "        avg_times_2 = jnp.load(\"sparse_time_500_1001_100.npy\")\n",
    "        avg_times_3 = jnp.load(\"sparse_time_1200_3000_200.npy\")\n",
    "\n",
    "        n_datapoints = jnp.hstack((n_datapoints_1, n_datapoints_2, n_datapoints_3))\n",
    "        avg_times = jnp.hstack((avg_times_1, avg_times_2, avg_times_3))\n",
    "    \n",
    "    return n_datapoints, avg_times"
   ]
  },
  {
   "cell_type": "code",
   "execution_count": null,
   "metadata": {},
   "outputs": [],
   "source": [
    "n_dp_full, avg_full = plot_data(True)\n",
    "\n",
    "lm = LinearRegression()\n",
    "lm.fit(n_dp_full.reshape(-1,1), avg_full**(1/order))\n",
    "line_full = lm.predict(n_dp_full.reshape(-1,1))\n",
    "\n",
    "print(lm.score(n_dp_full.reshape(-1,1), avg_full**(1/order)))"
   ]
  },
  {
   "cell_type": "code",
   "execution_count": null,
   "metadata": {},
   "outputs": [],
   "source": [
    "\n",
    "n_dp_sparse, avg_sparse = plot_data(False)\n",
    "\n",
    "lm = LinearRegression()\n",
    "lm.fit(n_dp_sparse.reshape(-1,1), avg_sparse**(1/order))\n",
    "line_sparse = lm.predict(n_dp_sparse.reshape(-1,1))\n",
    "\n",
    "print(lm.score(n_dp_sparse.reshape(-1,1), avg_sparse**(1/order)))"
   ]
  },
  {
   "cell_type": "code",
   "execution_count": null,
   "metadata": {},
   "outputs": [],
   "source": [
    "fig, ax = plt.subplots(1, 2, figsize=(9,4))\n",
    "\n",
    "ax[0].plot(n_dp_full,avg_full, label=\"avg_time\")\n",
    "ax[0].plot(n_dp_full, line_full**order, label=\"$\\mathcal{O}(n^\"+f\"{order})$\")\n",
    "ax[0].plot(n_dp_sparse,avg_sparse, label=\"avg_time\")\n",
    "ax[0].plot(n_dp_sparse, line_sparse**order, label=\"$\\mathcal{O}(n^\"+f\"{order})$\")\n",
    "\n",
    "ax[1].plot(n_dp_full,avg_full**(1/order), label=\"avg_time$^{(1/\"+f\"{order}\"+\")}$\")\n",
    "ax[1].plot(n_dp_full, line_full, label=\"$\\mathcal{O}(n^\"+f\"{order})\"+\"^{(1/\"+f\"{order}\"+\")}$\")\n",
    "ax[1].plot(n_dp_sparse,avg_sparse**(1/order), label=\"avg_time$^{(1/\"+f\"{order}\"+\")}$\")\n",
    "ax[1].plot(n_dp_sparse, line_sparse, label=\"$\\mathcal{O}(n^\"+f\"{order})\"+\"^{(1/\"+f\"{order}\"+\")}$\")\n",
    "\n",
    "for i in range(2):\n",
    "    ax[i].grid()\n",
    "    ax[i].set_xlabel(\"num datapoints\")\n",
    "    ax[i].legend()\n",
    "\n",
    "ax[0].set_ylabel(\"average inversion time [s]\")"
   ]
  },
  {
   "cell_type": "code",
   "execution_count": null,
   "metadata": {},
   "outputs": [],
   "source": []
  }
 ],
 "metadata": {
  "kernelspec": {
   "display_name": "gpr",
   "language": "python",
   "name": "python3"
  },
  "language_info": {
   "codemirror_mode": {
    "name": "ipython",
    "version": 3
   },
   "file_extension": ".py",
   "mimetype": "text/x-python",
   "name": "python",
   "nbconvert_exporter": "python",
   "pygments_lexer": "ipython3",
   "version": "3.9.16"
  },
  "orig_nbformat": 4
 },
 "nbformat": 4,
 "nbformat_minor": 2
}
