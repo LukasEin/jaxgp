{
 "cells": [
  {
   "cell_type": "code",
   "execution_count": null,
   "metadata": {},
   "outputs": [],
   "source": [
    "import jax.numpy as jnp\n",
    "\n",
    "import matplotlib.pyplot as plt\n",
    "\n",
    "from sklearn.linear_model import LinearRegression"
   ]
  },
  {
   "cell_type": "code",
   "execution_count": null,
   "metadata": {},
   "outputs": [],
   "source": [
    "def forward(x):\n",
    "    return jnp.sign(x)*jnp.abs(x)**(1/3)\n",
    "\n",
    "def inverse(x):\n",
    "    return x**3\n",
    "\n",
    "from matplotlib.scale import FuncScale"
   ]
  },
  {
   "attachments": {},
   "cell_type": "markdown",
   "metadata": {},
   "source": [
    "## Compare full with different levels of sparsification"
   ]
  },
  {
   "cell_type": "code",
   "execution_count": null,
   "metadata": {},
   "outputs": [],
   "source": [
    "start_ind = 5\n",
    "\n",
    "full = jnp.load(\"./data/full_time_[128, 256, 512, 1024, 2048, 4096, 8192].npy\")\n",
    "\n",
    "dp = full[0]\n",
    "t_mean = full[1]\n",
    "t_std = full[2]\n",
    "\n",
    "lm = LinearRegression()\n",
    "log_dp = jnp.log(dp[start_ind:])\n",
    "log_t_full = jnp.log(t_mean[start_ind:])\n",
    "\n",
    "lm.fit(log_dp.reshape(-1,1), log_t_full.reshape(-1,1))\n",
    "print(lm.coef_, lm.intercept_)\n",
    "\n",
    "def line(x):\n",
    "    log_x = jnp.log(x).reshape(-1,1)\n",
    "    return jnp.exp(lm.predict(log_x) - 0.3)\n",
    "\n",
    "line_full = line(dp[2:]).reshape(-1)"
   ]
  },
  {
   "cell_type": "code",
   "execution_count": null,
   "metadata": {},
   "outputs": [],
   "source": [
    "plt.plot(dp, t_mean, \"b\", lw=0.5, marker=\"x\", label=\"full model\")\n",
    "plt.fill_between(dp, t_mean-t_std, t_mean+t_std, color=\"b\", alpha=0.2)\n",
    "plt.plot(dp[2:], line_full, \"k--\", label=\"$\\mathcal{O}(N^3)$\")\n",
    "\n",
    "\n",
    "plt.xlabel(\"N number of training points\")\n",
    "plt.ylabel(\"runtime prior creation and inversion\")\n",
    "plt.xscale(\"log\")\n",
    "plt.yscale(\"log\")\n",
    "plt.grid()\n",
    "plt.legend()"
   ]
  },
  {
   "cell_type": "code",
   "execution_count": null,
   "metadata": {},
   "outputs": [],
   "source": [
    "start_ind = 5\n",
    "\n",
    "sparse = jnp.load(\"./data/sparse_time_[128, 256, 512, 1024, 2048, 4096, 8192, 16384, 32768, 65536, 131072, 262144]_ref512.npy\")\n",
    "\n",
    "dp = sparse[0,2:]\n",
    "t_mean = sparse[1,2:]\n",
    "t_std = sparse[2,2:]\n",
    "\n",
    "lm = LinearRegression()\n",
    "log_dp = jnp.log(dp[start_ind:])\n",
    "log_t_sparse = jnp.log(t_mean[start_ind:])\n",
    "\n",
    "lm.fit(log_dp.reshape(-1,1), log_t_sparse.reshape(-1,1))\n",
    "print(lm.coef_, lm.intercept_)\n",
    "\n",
    "def line(x):\n",
    "    log_x = jnp.log(x).reshape(-1,1)\n",
    "    return jnp.exp(lm.predict(log_x) - 0.3)\n",
    "\n",
    "line_sparse = line(dp[2:]).reshape(-1)"
   ]
  },
  {
   "cell_type": "code",
   "execution_count": null,
   "metadata": {},
   "outputs": [],
   "source": [
    "plt.plot(dp, t_mean, \"r--\", marker=\"x\", label=\"M = 512\")\n",
    "plt.fill_between(dp, t_mean-t_std, t_mean+t_std, color=\"r\", alpha=0.2)\n",
    "plt.plot(dp[2:], line_sparse, \"k--\", label=\"$\\mathcal{O}(N)$\")\n",
    "\n",
    "\n",
    "plt.xlabel(\"N number of training points\")\n",
    "plt.ylabel(\"runtime prior creation and inversion\")\n",
    "plt.xscale(\"log\")\n",
    "plt.yscale(\"log\")\n",
    "plt.grid()\n",
    "plt.legend()"
   ]
  },
  {
   "cell_type": "code",
   "execution_count": null,
   "metadata": {},
   "outputs": [],
   "source": [
    "start_ind = 3\n",
    "\n",
    "sparse_fixed = jnp.load(\"./data/sparse_time_[512, 1024, 2048, 4096, 8192, 16384]_max16384.npy\")\n",
    "\n",
    "dp = sparse_fixed[0]\n",
    "t_mean = sparse_fixed[1]\n",
    "t_std = sparse_fixed[2]\n",
    "\n",
    "lm = LinearRegression()\n",
    "log_dp = jnp.log(dp[start_ind:])\n",
    "log_t_sparse_fixed = jnp.log(t_mean[start_ind:])\n",
    "\n",
    "lm.fit(log_dp.reshape(-1,1), log_t_sparse_fixed.reshape(-1,1))\n",
    "print(lm.coef_, lm.intercept_)\n",
    "\n",
    "def line(x):\n",
    "    log_x = jnp.log(x).reshape(-1,1)\n",
    "    return jnp.exp(lm.predict(log_x) - 0.3)\n",
    "\n",
    "line_sparse_fixed = line(dp[0:]).reshape(-1)"
   ]
  },
  {
   "cell_type": "code",
   "execution_count": null,
   "metadata": {},
   "outputs": [],
   "source": [
    "plt.plot(dp, t_mean, \"g--\", marker=\"x\", label=\"$N=16384$\")\n",
    "plt.fill_between(dp, t_mean-t_std, t_mean+t_std, color=\"g\", alpha=0.2)\n",
    "plt.plot(dp[0:], line_sparse_fixed, \"k--\", label=\"$\\mathcal{O}(N)$\")\n",
    "\n",
    "plt.xlabel(\"M number of reference points\")\n",
    "plt.ylabel(\"runtime prior creation and inversion\")\n",
    "plt.xscale(\"log\")\n",
    "plt.yscale(\"log\")\n",
    "plt.grid()\n",
    "plt.legend()"
   ]
  },
  {
   "cell_type": "code",
   "execution_count": null,
   "metadata": {},
   "outputs": [],
   "source": [
    "# full_m = full[1] - jnp.min(full[1]) + 1e-4\n",
    "# sparse_m = sparse[1,2:] - jnp.min(sparse[1,2:]) + 1e-4\n",
    "# sparse_fixed_m = sparse_fixed[1] - jnp.min(sparse_fixed[1]) + 1e-4\n",
    "\n",
    "full_m = full[1] / jnp.linalg.norm(full[1])\n",
    "sparse_m = sparse[1,2:] / jnp.linalg.norm(sparse[1,2:])\n",
    "sparse_fixed_m = sparse_fixed[1] / jnp.linalg.norm(sparse_fixed[1])"
   ]
  },
  {
   "cell_type": "code",
   "execution_count": null,
   "metadata": {},
   "outputs": [],
   "source": [
    "plt.plot(full[0], full[1], \"b--\", marker=\"x\", label=\"full model\")\n",
    "plt.fill_between(full[0], full[1]-full[2], full[1]+full[2], color=\"b\", alpha=0.2)\n",
    "plt.plot(full[0,2:], line_full, \"c--\", lw=0.8, label=\"$\\mathcal{O}(N^3)$\")\n",
    "\n",
    "plt.plot(sparse[0,2:], sparse[1,2:], \"r--\", marker=\"x\", label=\"sparse/fixed M\")\n",
    "plt.fill_between(sparse[0,2:], sparse[1,2:]-sparse[2,2:], sparse[1,2:]+sparse[2,2:], color=\"r\", alpha=0.2)\n",
    "plt.plot(sparse[0,4:], line_sparse, \"m--\", lw=0.8, label=\"$\\mathcal{O}(N)$\")\n",
    "\n",
    "plt.plot(sparse_fixed[0], sparse_fixed[1], \"g--\", marker=\"x\", label=\"sparse/fixed N\")\n",
    "plt.fill_between(sparse_fixed[0], sparse_fixed[1]-sparse_fixed[2], sparse_fixed[1]+sparse_fixed[2], color=\"g\", alpha=0.2)\n",
    "plt.plot(sparse_fixed[0], line_sparse_fixed, \"y--\", lw=0.8, label=\"$\\mathcal{O}(M^2)$\")\n",
    "\n",
    "# plt.plot(full[0], full_m, \"b--\", marker=\"x\")\n",
    "# plt.fill_between(full[0], full_m-full[2], full_m+full[2], color=\"b\", alpha=0.2)\n",
    "\n",
    "# plt.plot(sparse[0,2:], sparse_m, \"r--\", marker=\"x\")\n",
    "# plt.fill_between(sparse[0,2:], sparse_m-sparse[2,2:], sparse_m+sparse[2,2:], color=\"r\", alpha=0.2)\n",
    "\n",
    "# plt.plot(sparse_fixed[0], sparse_fixed_m, \"g--\", marker=\"x\")\n",
    "# plt.fill_between(sparse_fixed[0], sparse_fixed_m-sparse_fixed[2], sparse_fixed_m+sparse_fixed[2], color=\"g\", alpha=0.2)\n",
    "\n",
    "\n",
    "plt.xscale(\"log\")\n",
    "plt.yscale(\"log\")\n",
    "plt.grid()\n",
    "plt.legend()"
   ]
  },
  {
   "cell_type": "code",
   "execution_count": null,
   "metadata": {},
   "outputs": [],
   "source": []
  }
 ],
 "metadata": {
  "kernelspec": {
   "display_name": "gpr",
   "language": "python",
   "name": "python3"
  },
  "language_info": {
   "codemirror_mode": {
    "name": "ipython",
    "version": 3
   },
   "file_extension": ".py",
   "mimetype": "text/x-python",
   "name": "python",
   "nbconvert_exporter": "python",
   "pygments_lexer": "ipython3",
   "version": "3.9.16"
  },
  "orig_nbformat": 4
 },
 "nbformat": 4,
 "nbformat_minor": 2
}
