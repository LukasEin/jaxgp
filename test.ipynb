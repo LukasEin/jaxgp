{
 "cells": [
  {
   "cell_type": "code",
   "execution_count": 1,
   "metadata": {},
   "outputs": [],
   "source": [
    "import jax.numpy as jnp\n",
    "from jaxgp._src.utils import full_covariance_matrix\n",
    "from jaxgp.kernels import RBF"
   ]
  },
  {
   "cell_type": "code",
   "execution_count": 4,
   "metadata": {},
   "outputs": [],
   "source": [
    "X = [jnp.ones(5), jnp.zeros(5)]\n",
    "kernel = RBF()\n",
    "params = jnp.array([1.0, 1.0])"
   ]
  },
  {
   "cell_type": "code",
   "execution_count": 5,
   "metadata": {},
   "outputs": [
    {
     "ename": "IndexError",
     "evalue": "Too many indices for array: 1 non-None/Ellipsis indices for dim 0.",
     "output_type": "error",
     "traceback": [
      "\u001b[0;31m---------------------------------------------------------------------------\u001b[0m",
      "\u001b[0;31mIndexError\u001b[0m                                Traceback (most recent call last)",
      "Cell \u001b[0;32mIn[5], line 1\u001b[0m\n\u001b[0;32m----> 1\u001b[0m full_covariance_matrix(X, kernel, params)\n",
      "    \u001b[0;31m[... skipping hidden 11 frame]\u001b[0m\n",
      "File \u001b[0;32m~/ISTA/PhaseIntegration/jaxgp/_src/utils.py:87\u001b[0m, in \u001b[0;36mfull_covariance_matrix\u001b[0;34m(X_split, kernel, params)\u001b[0m\n\u001b[1;32m     85\u001b[0m K_NN \u001b[39m=\u001b[39m _CovMatrix_Kernel(X_split[\u001b[39m0\u001b[39m], X_split[\u001b[39m0\u001b[39m], kernel, params\u001b[39m=\u001b[39mparams[\u001b[39m1\u001b[39m:])\n\u001b[1;32m     86\u001b[0m \u001b[39mfor\u001b[39;00m i,elem \u001b[39min\u001b[39;00m \u001b[39menumerate\u001b[39m(X_split[\u001b[39m1\u001b[39m:]):\n\u001b[0;32m---> 87\u001b[0m     K_mix \u001b[39m=\u001b[39m _CovMatrix_Grad(X_split[\u001b[39m0\u001b[39;49m], elem, kernel, params\u001b[39m=\u001b[39;49mparams[\u001b[39m1\u001b[39;49m:], index\u001b[39m=\u001b[39;49mi)\n\u001b[1;32m     88\u001b[0m     K_NN \u001b[39m=\u001b[39m jnp\u001b[39m.\u001b[39mconcatenate((K_NN,K_mix),axis\u001b[39m=\u001b[39m\u001b[39m1\u001b[39m)\n\u001b[1;32m     90\u001b[0m \u001b[39mfor\u001b[39;00m i,elem_1 \u001b[39min\u001b[39;00m \u001b[39menumerate\u001b[39m(X_split[\u001b[39m1\u001b[39m:]):\n",
      "File \u001b[0;32m~/ISTA/PhaseIntegration/jaxgp/_src/utils.py:61\u001b[0m, in \u001b[0;36m_CovMatrix_Grad\u001b[0;34m(X1, X2, kernel, params, index)\u001b[0m\n\u001b[1;32m     59\u001b[0m func \u001b[39m=\u001b[39m \u001b[39mlambda\u001b[39;00m v1, v2: kernel\u001b[39m.\u001b[39mgrad2(v1, v2, index, params) \n\u001b[1;32m     60\u001b[0m func \u001b[39m=\u001b[39m vmap(vmap(func, in_axes\u001b[39m=\u001b[39m(\u001b[39mNone\u001b[39;00m,\u001b[39m0\u001b[39m)), in_axes\u001b[39m=\u001b[39m(\u001b[39m0\u001b[39m,\u001b[39mNone\u001b[39;00m))\n\u001b[0;32m---> 61\u001b[0m \u001b[39mreturn\u001b[39;00m func(X1, X2)\n",
      "    \u001b[0;31m[... skipping hidden 6 frame]\u001b[0m\n",
      "File \u001b[0;32m~/ISTA/PhaseIntegration/jaxgp/_src/utils.py:59\u001b[0m, in \u001b[0;36m_CovMatrix_Grad.<locals>.<lambda>\u001b[0;34m(v1, v2)\u001b[0m\n\u001b[1;32m     45\u001b[0m \u001b[39mdef\u001b[39;00m \u001b[39m_CovMatrix_Grad\u001b[39m(X1: Array, X2: Array, kernel: BaseKernel, params: Array, index: \u001b[39mint\u001b[39m) \u001b[39m-\u001b[39m\u001b[39m>\u001b[39m Array:\n\u001b[1;32m     46\u001b[0m     \u001b[39m'''\u001b[39;00m\n\u001b[1;32m     47\u001b[0m \u001b[39m        X1.shape = (N1, n_features)\u001b[39;00m\n\u001b[1;32m     48\u001b[0m \u001b[39m        X2.shape = (N2, n_features)\u001b[39;00m\n\u001b[0;32m   (...)\u001b[0m\n\u001b[1;32m     57\u001b[0m \u001b[39m        representing derivative values of the target function.\u001b[39;00m\n\u001b[1;32m     58\u001b[0m \u001b[39m    '''\u001b[39;00m\n\u001b[0;32m---> 59\u001b[0m     func \u001b[39m=\u001b[39m \u001b[39mlambda\u001b[39;00m v1, v2: kernel\u001b[39m.\u001b[39;49mgrad2(v1, v2, index, params) \n\u001b[1;32m     60\u001b[0m     func \u001b[39m=\u001b[39m vmap(vmap(func, in_axes\u001b[39m=\u001b[39m(\u001b[39mNone\u001b[39;00m,\u001b[39m0\u001b[39m)), in_axes\u001b[39m=\u001b[39m(\u001b[39m0\u001b[39m,\u001b[39mNone\u001b[39;00m))\n\u001b[1;32m     61\u001b[0m     \u001b[39mreturn\u001b[39;00m func(X1, X2)\n",
      "File \u001b[0;32m~/ISTA/PhaseIntegration/jaxgp/_src/kernels.py:40\u001b[0m, in \u001b[0;36mBaseKernel.grad2\u001b[0;34m(self, x1, x2, index, params)\u001b[0m\n\u001b[1;32m     30\u001b[0m \u001b[39mdef\u001b[39;00m \u001b[39mgrad2\u001b[39m(\u001b[39mself\u001b[39m, x1, x2, index, params):\n\u001b[1;32m     31\u001b[0m     \u001b[39m'''\u001b[39;00m\n\u001b[1;32m     32\u001b[0m \u001b[39m        returns the derivative of the Kernel w.r.t x2[index]\u001b[39;00m\n\u001b[1;32m     33\u001b[0m \u001b[39m        x1.shape = (n_features,)\u001b[39;00m\n\u001b[0;32m   (...)\u001b[0m\n\u001b[1;32m     38\u001b[0m \u001b[39m            error if not given\u001b[39;00m\n\u001b[1;32m     39\u001b[0m \u001b[39m    '''\u001b[39;00m\n\u001b[0;32m---> 40\u001b[0m     \u001b[39mreturn\u001b[39;00m \u001b[39mself\u001b[39;49m\u001b[39m.\u001b[39;49m_df(x1, x2, params)[index]\n",
      "    \u001b[0;31m[... skipping hidden 1 frame]\u001b[0m\n",
      "File \u001b[0;32m~/miniconda3/envs/gpr/lib/python3.9/site-packages/jax/_src/numpy/lax_numpy.py:3816\u001b[0m, in \u001b[0;36m_rewriting_take\u001b[0;34m(arr, idx, indices_are_sorted, unique_indices, mode, fill_value)\u001b[0m\n\u001b[1;32m   3813\u001b[0m       \u001b[39mreturn\u001b[39;00m lax\u001b[39m.\u001b[39mdynamic_index_in_dim(arr, idx, keepdims\u001b[39m=\u001b[39m\u001b[39mFalse\u001b[39;00m)\n\u001b[1;32m   3815\u001b[0m treedef, static_idx, dynamic_idx \u001b[39m=\u001b[39m _split_index_for_jit(idx, arr\u001b[39m.\u001b[39mshape)\n\u001b[0;32m-> 3816\u001b[0m \u001b[39mreturn\u001b[39;00m _gather(arr, treedef, static_idx, dynamic_idx, indices_are_sorted,\n\u001b[1;32m   3817\u001b[0m                unique_indices, mode, fill_value)\n",
      "File \u001b[0;32m~/miniconda3/envs/gpr/lib/python3.9/site-packages/jax/_src/numpy/lax_numpy.py:3825\u001b[0m, in \u001b[0;36m_gather\u001b[0;34m(arr, treedef, static_idx, dynamic_idx, indices_are_sorted, unique_indices, mode, fill_value)\u001b[0m\n\u001b[1;32m   3822\u001b[0m \u001b[39mdef\u001b[39;00m \u001b[39m_gather\u001b[39m(arr, treedef, static_idx, dynamic_idx, indices_are_sorted,\n\u001b[1;32m   3823\u001b[0m             unique_indices, mode, fill_value):\n\u001b[1;32m   3824\u001b[0m   idx \u001b[39m=\u001b[39m _merge_static_and_dynamic_indices(treedef, static_idx, dynamic_idx)\n\u001b[0;32m-> 3825\u001b[0m   indexer \u001b[39m=\u001b[39m _index_to_gather(shape(arr), idx)  \u001b[39m# shared with _scatter_update\u001b[39;00m\n\u001b[1;32m   3826\u001b[0m   y \u001b[39m=\u001b[39m arr\n\u001b[1;32m   3828\u001b[0m   \u001b[39mif\u001b[39;00m fill_value \u001b[39mis\u001b[39;00m \u001b[39mnot\u001b[39;00m \u001b[39mNone\u001b[39;00m:\n",
      "File \u001b[0;32m~/miniconda3/envs/gpr/lib/python3.9/site-packages/jax/_src/numpy/lax_numpy.py:3926\u001b[0m, in \u001b[0;36m_index_to_gather\u001b[0;34m(x_shape, idx, normalize_indices)\u001b[0m\n\u001b[1;32m   3924\u001b[0m \u001b[39mdef\u001b[39;00m \u001b[39m_index_to_gather\u001b[39m(x_shape, idx, normalize_indices\u001b[39m=\u001b[39m\u001b[39mTrue\u001b[39;00m):\n\u001b[1;32m   3925\u001b[0m   \u001b[39m# Remove ellipses and add trailing slice(None)s.\u001b[39;00m\n\u001b[0;32m-> 3926\u001b[0m   idx \u001b[39m=\u001b[39m _canonicalize_tuple_index(\u001b[39mlen\u001b[39;49m(x_shape), idx)\n\u001b[1;32m   3928\u001b[0m   \u001b[39m# Check for advanced indexing:\u001b[39;00m\n\u001b[1;32m   3929\u001b[0m   \u001b[39m# https://docs.scipy.org/doc/numpy/reference/arrays.indexing.html#advanced-indexing\u001b[39;00m\n\u001b[1;32m   3930\u001b[0m \n\u001b[1;32m   3931\u001b[0m   \u001b[39m# Do the advanced indexing axes appear contiguously? If not, NumPy semantics\u001b[39;00m\n\u001b[1;32m   3932\u001b[0m   \u001b[39m# move the advanced axes to the front.\u001b[39;00m\n\u001b[1;32m   3933\u001b[0m   advanced_axes_are_contiguous \u001b[39m=\u001b[39m \u001b[39mFalse\u001b[39;00m\n",
      "File \u001b[0;32m~/miniconda3/envs/gpr/lib/python3.9/site-packages/jax/_src/numpy/lax_numpy.py:4259\u001b[0m, in \u001b[0;36m_canonicalize_tuple_index\u001b[0;34m(arr_ndim, idx, array_name)\u001b[0m\n\u001b[1;32m   4257\u001b[0m len_without_none \u001b[39m=\u001b[39m _sum(\u001b[39m1\u001b[39m \u001b[39mfor\u001b[39;00m e \u001b[39min\u001b[39;00m idx \u001b[39mif\u001b[39;00m e \u001b[39mis\u001b[39;00m \u001b[39mnot\u001b[39;00m \u001b[39mNone\u001b[39;00m \u001b[39mand\u001b[39;00m e \u001b[39mis\u001b[39;00m \u001b[39mnot\u001b[39;00m \u001b[39mEllipsis\u001b[39m)\n\u001b[1;32m   4258\u001b[0m \u001b[39mif\u001b[39;00m len_without_none \u001b[39m>\u001b[39m arr_ndim:\n\u001b[0;32m-> 4259\u001b[0m   \u001b[39mraise\u001b[39;00m \u001b[39mIndexError\u001b[39;00m(\n\u001b[1;32m   4260\u001b[0m       \u001b[39mf\u001b[39m\u001b[39m\"\u001b[39m\u001b[39mToo many indices for \u001b[39m\u001b[39m{\u001b[39;00marray_name\u001b[39m}\u001b[39;00m\u001b[39m: \u001b[39m\u001b[39m{\u001b[39;00mlen_without_none\u001b[39m}\u001b[39;00m\u001b[39m \u001b[39m\u001b[39m\"\u001b[39m\n\u001b[1;32m   4261\u001b[0m       \u001b[39mf\u001b[39m\u001b[39m\"\u001b[39m\u001b[39mnon-None/Ellipsis indices for dim \u001b[39m\u001b[39m{\u001b[39;00marr_ndim\u001b[39m}\u001b[39;00m\u001b[39m.\u001b[39m\u001b[39m\"\u001b[39m)\n\u001b[1;32m   4262\u001b[0m ellipses \u001b[39m=\u001b[39m (i \u001b[39mfor\u001b[39;00m i, elt \u001b[39min\u001b[39;00m \u001b[39menumerate\u001b[39m(idx) \u001b[39mif\u001b[39;00m elt \u001b[39mis\u001b[39;00m \u001b[39mEllipsis\u001b[39m)\n\u001b[1;32m   4263\u001b[0m ellipsis_index \u001b[39m=\u001b[39m \u001b[39mnext\u001b[39m(ellipses, \u001b[39mNone\u001b[39;00m)\n",
      "\u001b[0;31mIndexError\u001b[0m: Too many indices for array: 1 non-None/Ellipsis indices for dim 0."
     ]
    }
   ],
   "source": [
    "full_covariance_matrix(X, kernel, params)"
   ]
  },
  {
   "cell_type": "code",
   "execution_count": null,
   "metadata": {},
   "outputs": [],
   "source": []
  }
 ],
 "metadata": {
  "kernelspec": {
   "display_name": "gpr",
   "language": "python",
   "name": "python3"
  },
  "language_info": {
   "codemirror_mode": {
    "name": "ipython",
    "version": 3
   },
   "file_extension": ".py",
   "mimetype": "text/x-python",
   "name": "python",
   "nbconvert_exporter": "python",
   "pygments_lexer": "ipython3",
   "version": "3.9.16"
  },
  "orig_nbformat": 4
 },
 "nbformat": 4,
 "nbformat_minor": 2
}
