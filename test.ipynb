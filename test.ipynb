{
 "cells": [
  {
   "cell_type": "code",
   "execution_count": 6,
   "metadata": {},
   "outputs": [],
   "source": [
    "from jaxopt import ScipyBoundedMinimize\n",
    "import jax.numpy as jnp"
   ]
  },
  {
   "cell_type": "code",
   "execution_count": 21,
   "metadata": {},
   "outputs": [],
   "source": [
    "def f(x):\n",
    "    return jnp.sum(x[0]**2) + x[1]"
   ]
  },
  {
   "cell_type": "code",
   "execution_count": 24,
   "metadata": {},
   "outputs": [],
   "source": [
    "bounds = ((jnp.array([-1,1]), 0.5), (jnp.array([-0.1,2]), jnp.inf))\n",
    "bounds = ((-1.0, 0.5), (1.0, jnp.inf))\n",
    "\n",
    "x_init = (jnp.array([0.5, 1.5]), 200.0)"
   ]
  },
  {
   "cell_type": "code",
   "execution_count": 25,
   "metadata": {},
   "outputs": [
    {
     "ename": "ValueError",
     "evalue": "operands could not be broadcast together with remapped shapes [original->remapped]: (2,)  and requested shape (3,)",
     "output_type": "error",
     "traceback": [
      "\u001b[0;31m---------------------------------------------------------------------------\u001b[0m",
      "\u001b[0;31mValueError\u001b[0m                                Traceback (most recent call last)",
      "Cell \u001b[0;32mIn[25], line 2\u001b[0m\n\u001b[1;32m      1\u001b[0m solver \u001b[39m=\u001b[39m ScipyBoundedMinimize(fun\u001b[39m=\u001b[39mf)\n\u001b[0;32m----> 2\u001b[0m solver\u001b[39m.\u001b[39;49mrun(x_init, bounds)\n",
      "File \u001b[0;32m~/miniconda3/envs/gpr/lib/python3.9/site-packages/jaxopt/_src/implicit_diff.py:251\u001b[0m, in \u001b[0;36m_custom_root.<locals>.wrapped_solver_fun\u001b[0;34m(*args, **kwargs)\u001b[0m\n\u001b[1;32m    249\u001b[0m args, kwargs \u001b[39m=\u001b[39m _signature_bind(solver_fun_signature, \u001b[39m*\u001b[39margs, \u001b[39m*\u001b[39m\u001b[39m*\u001b[39mkwargs)\n\u001b[1;32m    250\u001b[0m keys, vals \u001b[39m=\u001b[39m \u001b[39mlist\u001b[39m(kwargs\u001b[39m.\u001b[39mkeys()), \u001b[39mlist\u001b[39m(kwargs\u001b[39m.\u001b[39mvalues())\n\u001b[0;32m--> 251\u001b[0m \u001b[39mreturn\u001b[39;00m make_custom_vjp_solver_fun(solver_fun, keys)(\u001b[39m*\u001b[39;49margs, \u001b[39m*\u001b[39;49mvals)\n",
      "    \u001b[0;31m[... skipping hidden 5 frame]\u001b[0m\n",
      "File \u001b[0;32m~/miniconda3/envs/gpr/lib/python3.9/site-packages/jaxopt/_src/implicit_diff.py:207\u001b[0m, in \u001b[0;36m_custom_root.<locals>.make_custom_vjp_solver_fun.<locals>.solver_fun_flat\u001b[0;34m(*flat_args)\u001b[0m\n\u001b[1;32m    204\u001b[0m \u001b[39m@jax\u001b[39m\u001b[39m.\u001b[39mcustom_vjp\n\u001b[1;32m    205\u001b[0m \u001b[39mdef\u001b[39;00m \u001b[39msolver_fun_flat\u001b[39m(\u001b[39m*\u001b[39mflat_args):\n\u001b[1;32m    206\u001b[0m   args, kwargs \u001b[39m=\u001b[39m _extract_kwargs(kwarg_keys, flat_args)\n\u001b[0;32m--> 207\u001b[0m   \u001b[39mreturn\u001b[39;00m solver_fun(\u001b[39m*\u001b[39;49margs, \u001b[39m*\u001b[39;49m\u001b[39m*\u001b[39;49mkwargs)\n",
      "File \u001b[0;32m~/miniconda3/envs/gpr/lib/python3.9/site-packages/jaxopt/_src/scipy_wrappers.py:402\u001b[0m, in \u001b[0;36mScipyBoundedMinimize.run\u001b[0;34m(self, init_params, bounds, *args, **kwargs)\u001b[0m\n\u001b[1;32m    386\u001b[0m \u001b[39mdef\u001b[39;00m \u001b[39mrun\u001b[39m(\u001b[39mself\u001b[39m,\n\u001b[1;32m    387\u001b[0m         init_params: Any,\n\u001b[1;32m    388\u001b[0m         bounds: Optional[Any],\n\u001b[1;32m    389\u001b[0m         \u001b[39m*\u001b[39margs,\n\u001b[1;32m    390\u001b[0m         \u001b[39m*\u001b[39m\u001b[39m*\u001b[39mkwargs) \u001b[39m-\u001b[39m\u001b[39m>\u001b[39m base\u001b[39m.\u001b[39mOptStep:\n\u001b[1;32m    391\u001b[0m   \u001b[39m\"\"\"Runs the solver.\u001b[39;00m\n\u001b[1;32m    392\u001b[0m \n\u001b[1;32m    393\u001b[0m \u001b[39m  Args:\u001b[39;00m\n\u001b[0;32m   (...)\u001b[0m\n\u001b[1;32m    400\u001b[0m \u001b[39m    (params, info).\u001b[39;00m\n\u001b[1;32m    401\u001b[0m \u001b[39m  \"\"\"\u001b[39;00m\n\u001b[0;32m--> 402\u001b[0m   \u001b[39mreturn\u001b[39;00m \u001b[39mself\u001b[39;49m\u001b[39m.\u001b[39;49m_run(init_params, bounds, \u001b[39m*\u001b[39;49margs, \u001b[39m*\u001b[39;49m\u001b[39m*\u001b[39;49mkwargs)\n",
      "File \u001b[0;32m~/miniconda3/envs/gpr/lib/python3.9/site-packages/jaxopt/_src/scipy_wrappers.py:306\u001b[0m, in \u001b[0;36mScipyMinimize._run\u001b[0;34m(self, init_params, bounds, *args, **kwargs)\u001b[0m\n\u001b[1;32m    302\u001b[0m \u001b[39mif\u001b[39;00m bounds \u001b[39mis\u001b[39;00m \u001b[39mnot\u001b[39;00m \u001b[39mNone\u001b[39;00m:\n\u001b[1;32m    303\u001b[0m   bounds \u001b[39m=\u001b[39m osp\u001b[39m.\u001b[39moptimize\u001b[39m.\u001b[39mBounds(lb\u001b[39m=\u001b[39mjnp_to_onp(bounds[\u001b[39m0\u001b[39m], \u001b[39mself\u001b[39m\u001b[39m.\u001b[39mdtype),\n\u001b[1;32m    304\u001b[0m                                ub\u001b[39m=\u001b[39mjnp_to_onp(bounds[\u001b[39m1\u001b[39m], \u001b[39mself\u001b[39m\u001b[39m.\u001b[39mdtype))\n\u001b[0;32m--> 306\u001b[0m res \u001b[39m=\u001b[39m osp\u001b[39m.\u001b[39;49moptimize\u001b[39m.\u001b[39;49mminimize(scipy_fun, jnp_to_onp(init_params, \u001b[39mself\u001b[39;49m\u001b[39m.\u001b[39;49mdtype),\n\u001b[1;32m    307\u001b[0m                             jac\u001b[39m=\u001b[39;49m\u001b[39mTrue\u001b[39;49;00m,\n\u001b[1;32m    308\u001b[0m                             tol\u001b[39m=\u001b[39;49m\u001b[39mself\u001b[39;49m\u001b[39m.\u001b[39;49mtol,\n\u001b[1;32m    309\u001b[0m                             bounds\u001b[39m=\u001b[39;49mbounds,\n\u001b[1;32m    310\u001b[0m                             method\u001b[39m=\u001b[39;49m\u001b[39mself\u001b[39;49m\u001b[39m.\u001b[39;49mmethod,\n\u001b[1;32m    311\u001b[0m                             callback\u001b[39m=\u001b[39;49mscipy_callback,\n\u001b[1;32m    312\u001b[0m                             options\u001b[39m=\u001b[39;49m\u001b[39mself\u001b[39;49m\u001b[39m.\u001b[39;49moptions)\n\u001b[1;32m    314\u001b[0m params \u001b[39m=\u001b[39m tree_util\u001b[39m.\u001b[39mtree_map(jnp\u001b[39m.\u001b[39masarray, onp_to_jnp(res\u001b[39m.\u001b[39mx))\n\u001b[1;32m    315\u001b[0m info \u001b[39m=\u001b[39m ScipyMinimizeInfo(fun_val\u001b[39m=\u001b[39mjnp\u001b[39m.\u001b[39masarray(res\u001b[39m.\u001b[39mfun),\n\u001b[1;32m    316\u001b[0m                          success\u001b[39m=\u001b[39mres\u001b[39m.\u001b[39msuccess,\n\u001b[1;32m    317\u001b[0m                          status\u001b[39m=\u001b[39mres\u001b[39m.\u001b[39mstatus,\n\u001b[1;32m    318\u001b[0m                          iter_num\u001b[39m=\u001b[39mres\u001b[39m.\u001b[39mnit)\n",
      "File \u001b[0;32m~/miniconda3/envs/gpr/lib/python3.9/site-packages/scipy/optimize/_minimize.py:681\u001b[0m, in \u001b[0;36mminimize\u001b[0;34m(fun, x0, args, method, jac, hess, hessp, bounds, constraints, tol, callback, options)\u001b[0m\n\u001b[1;32m    677\u001b[0m                 \u001b[39mif\u001b[39;00m callable(con\u001b[39m.\u001b[39mget(\u001b[39m'\u001b[39m\u001b[39mjac\u001b[39m\u001b[39m'\u001b[39m, \u001b[39mNone\u001b[39;00m)):\n\u001b[1;32m    678\u001b[0m                     con[\u001b[39m'\u001b[39m\u001b[39mjac\u001b[39m\u001b[39m'\u001b[39m] \u001b[39m=\u001b[39m _remove_from_func(con[\u001b[39m'\u001b[39m\u001b[39mjac\u001b[39m\u001b[39m'\u001b[39m], i_fixed,\n\u001b[1;32m    679\u001b[0m                                                    x_fixed, min_dim\u001b[39m=\u001b[39m\u001b[39m2\u001b[39m,\n\u001b[1;32m    680\u001b[0m                                                    remove\u001b[39m=\u001b[39m\u001b[39m1\u001b[39m)\n\u001b[0;32m--> 681\u001b[0m     bounds \u001b[39m=\u001b[39m standardize_bounds(bounds, x0, meth)\n\u001b[1;32m    683\u001b[0m \u001b[39mif\u001b[39;00m meth \u001b[39m==\u001b[39m \u001b[39m'\u001b[39m\u001b[39mnelder-mead\u001b[39m\u001b[39m'\u001b[39m:\n\u001b[1;32m    684\u001b[0m     res \u001b[39m=\u001b[39m _minimize_neldermead(fun, x0, args, callback, bounds\u001b[39m=\u001b[39mbounds,\n\u001b[1;32m    685\u001b[0m                                \u001b[39m*\u001b[39m\u001b[39m*\u001b[39moptions)\n",
      "File \u001b[0;32m~/miniconda3/envs/gpr/lib/python3.9/site-packages/scipy/optimize/_minimize.py:969\u001b[0m, in \u001b[0;36mstandardize_bounds\u001b[0;34m(bounds, x0, meth)\u001b[0m\n\u001b[1;32m    967\u001b[0m \u001b[39melif\u001b[39;00m meth \u001b[39min\u001b[39;00m (\u001b[39m'\u001b[39m\u001b[39ml-bfgs-b\u001b[39m\u001b[39m'\u001b[39m, \u001b[39m'\u001b[39m\u001b[39mtnc\u001b[39m\u001b[39m'\u001b[39m, \u001b[39m'\u001b[39m\u001b[39mslsqp\u001b[39m\u001b[39m'\u001b[39m, \u001b[39m'\u001b[39m\u001b[39mold\u001b[39m\u001b[39m'\u001b[39m):\n\u001b[1;32m    968\u001b[0m     \u001b[39mif\u001b[39;00m \u001b[39misinstance\u001b[39m(bounds, Bounds):\n\u001b[0;32m--> 969\u001b[0m         bounds \u001b[39m=\u001b[39m new_bounds_to_old(bounds\u001b[39m.\u001b[39;49mlb, bounds\u001b[39m.\u001b[39;49mub, x0\u001b[39m.\u001b[39;49mshape[\u001b[39m0\u001b[39;49m])\n\u001b[1;32m    970\u001b[0m \u001b[39mreturn\u001b[39;00m bounds\n",
      "File \u001b[0;32m~/miniconda3/envs/gpr/lib/python3.9/site-packages/scipy/optimize/_constraints.py:398\u001b[0m, in \u001b[0;36mnew_bounds_to_old\u001b[0;34m(lb, ub, n)\u001b[0m\n\u001b[1;32m    389\u001b[0m \u001b[39mdef\u001b[39;00m \u001b[39mnew_bounds_to_old\u001b[39m(lb, ub, n):\n\u001b[1;32m    390\u001b[0m     \u001b[39m\"\"\"Convert the new bounds representation to the old one.\u001b[39;00m\n\u001b[1;32m    391\u001b[0m \n\u001b[1;32m    392\u001b[0m \u001b[39m    The new representation is a tuple (lb, ub) and the old one is a list\u001b[39;00m\n\u001b[0;32m   (...)\u001b[0m\n\u001b[1;32m    396\u001b[0m \u001b[39m    None.\u001b[39;00m\n\u001b[1;32m    397\u001b[0m \u001b[39m    \"\"\"\u001b[39;00m\n\u001b[0;32m--> 398\u001b[0m     lb \u001b[39m=\u001b[39m np\u001b[39m.\u001b[39;49mbroadcast_to(lb, n)\n\u001b[1;32m    399\u001b[0m     ub \u001b[39m=\u001b[39m np\u001b[39m.\u001b[39mbroadcast_to(ub, n)\n\u001b[1;32m    401\u001b[0m     lb \u001b[39m=\u001b[39m [\u001b[39mfloat\u001b[39m(x) \u001b[39mif\u001b[39;00m x \u001b[39m>\u001b[39m \u001b[39m-\u001b[39mnp\u001b[39m.\u001b[39minf \u001b[39melse\u001b[39;00m \u001b[39mNone\u001b[39;00m \u001b[39mfor\u001b[39;00m x \u001b[39min\u001b[39;00m lb]\n",
      "File \u001b[0;32m<__array_function__ internals>:180\u001b[0m, in \u001b[0;36mbroadcast_to\u001b[0;34m(*args, **kwargs)\u001b[0m\n",
      "File \u001b[0;32m~/miniconda3/envs/gpr/lib/python3.9/site-packages/numpy/lib/stride_tricks.py:413\u001b[0m, in \u001b[0;36mbroadcast_to\u001b[0;34m(array, shape, subok)\u001b[0m\n\u001b[1;32m    367\u001b[0m \u001b[39m@array_function_dispatch\u001b[39m(_broadcast_to_dispatcher, module\u001b[39m=\u001b[39m\u001b[39m'\u001b[39m\u001b[39mnumpy\u001b[39m\u001b[39m'\u001b[39m)\n\u001b[1;32m    368\u001b[0m \u001b[39mdef\u001b[39;00m \u001b[39mbroadcast_to\u001b[39m(array, shape, subok\u001b[39m=\u001b[39m\u001b[39mFalse\u001b[39;00m):\n\u001b[1;32m    369\u001b[0m     \u001b[39m\"\"\"Broadcast an array to a new shape.\u001b[39;00m\n\u001b[1;32m    370\u001b[0m \n\u001b[1;32m    371\u001b[0m \u001b[39m    Parameters\u001b[39;00m\n\u001b[0;32m   (...)\u001b[0m\n\u001b[1;32m    411\u001b[0m \u001b[39m           [1, 2, 3]])\u001b[39;00m\n\u001b[1;32m    412\u001b[0m \u001b[39m    \"\"\"\u001b[39;00m\n\u001b[0;32m--> 413\u001b[0m     \u001b[39mreturn\u001b[39;00m _broadcast_to(array, shape, subok\u001b[39m=\u001b[39;49msubok, readonly\u001b[39m=\u001b[39;49m\u001b[39mTrue\u001b[39;49;00m)\n",
      "File \u001b[0;32m~/miniconda3/envs/gpr/lib/python3.9/site-packages/numpy/lib/stride_tricks.py:349\u001b[0m, in \u001b[0;36m_broadcast_to\u001b[0;34m(array, shape, subok, readonly)\u001b[0m\n\u001b[1;32m    346\u001b[0m     \u001b[39mraise\u001b[39;00m \u001b[39mValueError\u001b[39;00m(\u001b[39m'\u001b[39m\u001b[39mall elements of broadcast shape must be non-\u001b[39m\u001b[39m'\u001b[39m\n\u001b[1;32m    347\u001b[0m                      \u001b[39m'\u001b[39m\u001b[39mnegative\u001b[39m\u001b[39m'\u001b[39m)\n\u001b[1;32m    348\u001b[0m extras \u001b[39m=\u001b[39m []\n\u001b[0;32m--> 349\u001b[0m it \u001b[39m=\u001b[39m np\u001b[39m.\u001b[39;49mnditer(\n\u001b[1;32m    350\u001b[0m     (array,), flags\u001b[39m=\u001b[39;49m[\u001b[39m'\u001b[39;49m\u001b[39mmulti_index\u001b[39;49m\u001b[39m'\u001b[39;49m, \u001b[39m'\u001b[39;49m\u001b[39mrefs_ok\u001b[39;49m\u001b[39m'\u001b[39;49m, \u001b[39m'\u001b[39;49m\u001b[39mzerosize_ok\u001b[39;49m\u001b[39m'\u001b[39;49m] \u001b[39m+\u001b[39;49m extras,\n\u001b[1;32m    351\u001b[0m     op_flags\u001b[39m=\u001b[39;49m[\u001b[39m'\u001b[39;49m\u001b[39mreadonly\u001b[39;49m\u001b[39m'\u001b[39;49m], itershape\u001b[39m=\u001b[39;49mshape, order\u001b[39m=\u001b[39;49m\u001b[39m'\u001b[39;49m\u001b[39mC\u001b[39;49m\u001b[39m'\u001b[39;49m)\n\u001b[1;32m    352\u001b[0m \u001b[39mwith\u001b[39;00m it:\n\u001b[1;32m    353\u001b[0m     \u001b[39m# never really has writebackifcopy semantics\u001b[39;00m\n\u001b[1;32m    354\u001b[0m     broadcast \u001b[39m=\u001b[39m it\u001b[39m.\u001b[39mitviews[\u001b[39m0\u001b[39m]\n",
      "\u001b[0;31mValueError\u001b[0m: operands could not be broadcast together with remapped shapes [original->remapped]: (2,)  and requested shape (3,)"
     ]
    }
   ],
   "source": [
    "solver = ScipyBoundedMinimize(fun=f)\n",
    "solver.run(x_init, bounds)"
   ]
  },
  {
   "cell_type": "code",
   "execution_count": null,
   "metadata": {},
   "outputs": [],
   "source": []
  }
 ],
 "metadata": {
  "kernelspec": {
   "display_name": "gpr",
   "language": "python",
   "name": "python3"
  },
  "language_info": {
   "codemirror_mode": {
    "name": "ipython",
    "version": 3
   },
   "file_extension": ".py",
   "mimetype": "text/x-python",
   "name": "python",
   "nbconvert_exporter": "python",
   "pygments_lexer": "ipython3",
   "version": "3.9.16"
  },
  "orig_nbformat": 4
 },
 "nbformat": 4,
 "nbformat_minor": 2
}
