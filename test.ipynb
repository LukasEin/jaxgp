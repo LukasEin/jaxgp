{
 "cells": [
  {
   "cell_type": "code",
   "execution_count": 19,
   "metadata": {},
   "outputs": [],
   "source": [
    "import jax.numpy as jnp\n",
    "from jax import vmap\n",
    "\n",
    "from jaxgp.utils import _CovMatrixDD, _CovMatrixFD, _CovMatrixFF\n",
    "from jaxgp.kernels import RBF"
   ]
  },
  {
   "cell_type": "code",
   "execution_count": 20,
   "metadata": {},
   "outputs": [],
   "source": [
    "x1 = jnp.zeros((5,1))\n",
    "x2 = jnp.zeros((5,2))\n",
    "x3 = jnp.zeros((5,3))\n",
    "x4 = jnp.zeros((5,4))\n",
    "\n",
    "params = jnp.array((1.0, 1.0))\n",
    "kernel = RBF()"
   ]
  },
  {
   "cell_type": "code",
   "execution_count": 21,
   "metadata": {},
   "outputs": [
    {
     "name": "stdout",
     "output_type": "stream",
     "text": [
      "(5, 5) (5, 5) (5, 5) (5, 5)\n"
     ]
    }
   ],
   "source": [
    "ff1d = _CovMatrixFF(x1, x1, kernel,params)\n",
    "ff2d = _CovMatrixFF(x2, x2, kernel,params)\n",
    "ff3d = _CovMatrixFF(x3, x3, kernel,params)\n",
    "ff4d = _CovMatrixFF(x4, x4, kernel,params)\n",
    "\n",
    "print(ff1d.shape, ff2d.shape, ff3d.shape, ff4d.shape)"
   ]
  },
  {
   "cell_type": "code",
   "execution_count": 22,
   "metadata": {},
   "outputs": [
    {
     "name": "stdout",
     "output_type": "stream",
     "text": [
      "(5, 5, 1) (5, 5, 2) (5, 5, 3) (5, 5, 4)\n",
      "(5, 5) (5, 10) (5, 15) (5, 20)\n"
     ]
    }
   ],
   "source": [
    "fd1d = _CovMatrixFD(x1, x1, kernel,params)\n",
    "fd2d = _CovMatrixFD(x2, x2, kernel,params)\n",
    "fd3d = _CovMatrixFD(x3, x3, kernel,params)\n",
    "fd4d = _CovMatrixFD(x4, x4, kernel,params)\n",
    "\n",
    "print(fd1d.shape, fd2d.shape, fd3d.shape, fd4d.shape)\n",
    "\n",
    "fd1d = vmap(jnp.ravel, in_axes=0)(_CovMatrixFD(x1, x1, kernel,params))\n",
    "fd2d = vmap(jnp.ravel, in_axes=0)(_CovMatrixFD(x2, x2, kernel,params))\n",
    "fd3d = vmap(jnp.ravel, in_axes=0)(_CovMatrixFD(x3, x3, kernel,params))\n",
    "fd4d = vmap(jnp.ravel, in_axes=0)(_CovMatrixFD(x4, x4, kernel,params))\n",
    "\n",
    "print(fd1d.shape, fd2d.shape, fd3d.shape, fd4d.shape)"
   ]
  },
  {
   "cell_type": "code",
   "execution_count": 23,
   "metadata": {},
   "outputs": [
    {
     "name": "stdout",
     "output_type": "stream",
     "text": [
      "(5, 5, 1, 1) (5, 5, 2, 2) (5, 5, 3, 3) (5, 5, 4, 4)\n",
      "(5, 5) (10, 10) (15, 15) (20, 20)\n"
     ]
    }
   ],
   "source": [
    "dd1d = _CovMatrixDD(x1, x1, kernel,params)\n",
    "dd2d = _CovMatrixDD(x2, x2, kernel,params)\n",
    "dd3d = _CovMatrixDD(x3, x3, kernel,params)\n",
    "dd4d = _CovMatrixDD(x4, x4, kernel,params)\n",
    "\n",
    "print(dd1d.shape, dd2d.shape, dd3d.shape, dd4d.shape)\n",
    "\n",
    "dd1d = jnp.hstack(jnp.hstack((*_CovMatrixDD(x1, x1, kernel, params),)))\n",
    "dd2d = jnp.hstack(jnp.hstack((*_CovMatrixDD(x2, x2, kernel, params),)))\n",
    "dd3d = jnp.hstack(jnp.hstack((*_CovMatrixDD(x3, x3, kernel, params),)))\n",
    "dd4d = jnp.hstack(jnp.hstack((*_CovMatrixDD(x4, x4, kernel, params),)))\n",
    "\n",
    "print(dd1d.shape, dd2d.shape, dd3d.shape, dd4d.shape)"
   ]
  }
 ],
 "metadata": {
  "kernelspec": {
   "display_name": "gpr",
   "language": "python",
   "name": "python3"
  },
  "language_info": {
   "codemirror_mode": {
    "name": "ipython",
    "version": 3
   },
   "file_extension": ".py",
   "mimetype": "text/x-python",
   "name": "python",
   "nbconvert_exporter": "python",
   "pygments_lexer": "ipython3",
   "version": "3.9.16"
  },
  "orig_nbformat": 4
 },
 "nbformat": 4,
 "nbformat_minor": 2
}
