{
 "cells": [
  {
   "attachments": {},
   "cell_type": "markdown",
   "metadata": {},
   "source": [
    "## Tests on deprecated 1D code"
   ]
  },
  {
   "cell_type": "code",
   "execution_count": null,
   "metadata": {},
   "outputs": [],
   "source": [
    "# model = gpr.sparseGPR(kernel,num_datapoints,num_derivpoints,referencegrid,sparse_method=\"ppa\",noise_var=noise**2)\n",
    "# model.fit(X_data,Y_data)\n",
    "# (means_ppa, stds_ppa) = model.predict(grid,True)\n",
    "\n",
    "# model = gpr.sparseGPR(kernel,num_datapoints,num_derivpoints,referencegrid,sparse_method=\"sor\",noise_var=noise**2)\n",
    "# model.fit(X_data,Y_data)\n",
    "# (means_sor, stds_sor) = model.predict(grid,True)\n",
    "\n",
    "# model = gpr.sparseGPR(gpr.RBF_1D(1.5),num_datapoints,num_derivpoints,referencegrid,sparse_method=\"ny\",noise_var=noise**2)\n",
    "# model.fit(X_data,Y_data)\n",
    "# (means_ny, stds_ny) = model.predict(grid,True)"
   ]
  },
  {
   "cell_type": "code",
   "execution_count": null,
   "metadata": {},
   "outputs": [],
   "source": [
    "# plt.plot(grid,means_ppa,label=\"ppa\")\n",
    "# plt.fill_between(grid,means_ppa-stds_ppa,means_ppa+stds_ppa,alpha=0.5)\n",
    "# plt.plot(grid,means_sor,label=\"sor\")\n",
    "# plt.fill_between(grid,means_sor-stds_sor,means_sor+stds_sor,alpha=0.5)\n",
    "# plt.plot(grid,means_ny,label=\"ny\")\n",
    "# plt.fill_between(grid,means_ny-stds_ny,means_ny+stds_ny,alpha=0.5)\n",
    "# plt.plot(grid,func(grid),color=\"grey\",ls=\"--\",label=\"sin(x)\")\n",
    "# plt.scatter(datagrid,data_values,color=\"r\",label=\"function values\")\n",
    "# plt.grid()\n",
    "# plt.legend()"
   ]
  }
 ],
 "metadata": {
  "language_info": {
   "name": "python"
  },
  "orig_nbformat": 4
 },
 "nbformat": 4,
 "nbformat_minor": 2
}
