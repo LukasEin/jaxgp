{
 "cells": [
  {
   "cell_type": "code",
   "execution_count": 121,
   "metadata": {},
   "outputs": [],
   "source": [
    "import numpy as np\n",
    "import matplotlib.pyplot as plt\n",
    "from scipy.linalg import solve\n",
    "from jax import random"
   ]
  },
  {
   "cell_type": "code",
   "execution_count": 122,
   "metadata": {},
   "outputs": [],
   "source": [
    "def RBF(x1,x2,*,length_scale=1.0):\n",
    "    return np.exp(-0.5/length_scale**2 * (x1-x2)**2)\n",
    "\n",
    "def dRBF(x1,x2,*,length_scale=1.0):\n",
    "    return -(x1-x2)/length_scale**2 * RBF(x1,x2,length_scale=length_scale)\n",
    "\n",
    "def ddRBF(x1,x2,*,length_scale=1.0):\n",
    "    return (1 - (x1-x2)**2 / length_scale**2) / length_scale**2 * RBF(x1,x2,length_scale=length_scale)\n",
    "\n",
    "def covMatrix(reference_points,data_points,*,length_scale=1.0):\n",
    "    xs,ys = np.meshgrid(data_points,reference_points,sparse=True)\n",
    "    mat = RBF(xs,ys,length_scale=length_scale)\n",
    "    \n",
    "    return mat\n",
    "\n",
    "def dcovMatrix(reference_points,data_points,*,length_scale=1.0):\n",
    "    xs,ys = np.meshgrid(data_points,reference_points,sparse=True)\n",
    "    mat = dRBF(xs,ys,length_scale=length_scale)\n",
    "    \n",
    "    return mat\n",
    "\n",
    "def ddcovMatrix(reference_points,data_points,*,length_scale=1.0):\n",
    "    xs,ys = np.meshgrid(data_points,reference_points,sparse=True)\n",
    "    mat = ddRBF(xs,ys,length_scale=length_scale)\n",
    "    \n",
    "    return mat\n",
    "\n",
    "def sigmaMatrix(sigma_sq,*,size=0):\n",
    "    if np.isscalar(sigma_sq):\n",
    "        return np.eye(size) / sigma_sq\n",
    "    \n",
    "    return np.diag(1 / sigma_sq)"
   ]
  },
  {
   "cell_type": "code",
   "execution_count": 123,
   "metadata": {},
   "outputs": [],
   "source": [
    "key = random.PRNGKey(0)\n",
    "\n",
    "def func(x,noise=0.0):\n",
    "    return np.sin(x) + noise*random.normal(key, x.shape)\n",
    "\n",
    "def grad_func(x,noise=0.0):\n",
    "    return np.cos(x) + noise*random.normal(key, x.shape)"
   ]
  },
  {
   "cell_type": "markdown",
   "metadata": {},
   "source": [
    "## Sparse GPR"
   ]
  },
  {
   "cell_type": "code",
   "execution_count": 124,
   "metadata": {},
   "outputs": [],
   "source": [
    "# bounds = np.array([0.0, np.pi])\n",
    "\n",
    "# noise = 0.1\n",
    "\n",
    "# length_scale = 1.0\n",
    "\n",
    "# num_reference_points = 10\n",
    "# referencegrid = np.linspace(*bounds,num_reference_points)\n",
    "\n",
    "# num_datapoints = 15\n",
    "# datagrid = np.random.uniform(*bounds,num_datapoints)\n",
    "# data_values = func(datagrid,noise)\n",
    "# derivative_values = grad_func(datagrid,noise)\n",
    "\n",
    "# num_gridpoints = 101\n",
    "# grid = np.linspace(*bounds,num_gridpoints)"
   ]
  },
  {
   "cell_type": "code",
   "execution_count": 125,
   "metadata": {},
   "outputs": [],
   "source": [
    "# K_MM = covMatrix(reference_points=referencegrid,data_points=referencegrid,length_scale=length_scale)\n",
    "# K_MN = covMatrix(reference_points=referencegrid,data_points=datagrid,length_scale=length_scale)\n",
    "# DK_MN = dcovMatrix(reference_points=referencegrid,data_points=datagrid,length_scale=length_scale)\n",
    "# LK = np.concatenate((K_MN,DK_MN),axis=1)\n",
    "\n",
    "# S_big = sigmaMatrix(noise**2,size=2*num_datapoints)\n",
    "# S_small = sigmaMatrix(noise**2,size=num_datapoints)\n",
    "# values = np.concatenate((data_values,derivative_values))"
   ]
  },
  {
   "cell_type": "code",
   "execution_count": 126,
   "metadata": {},
   "outputs": [],
   "source": [
    "# matrix = K_MM + LK@S_big@LK.T\n",
    "# vector = LK@S_big@values\n",
    "# # vector = LK@values\n",
    "# coeff_mix = solve(matrix,vector)\n",
    "\n",
    "# matrix = K_MM + DK_MN@S_small@DK_MN.T\n",
    "# vector = DK_MN@S_small@derivative_values\n",
    "# # vector = DK_MN@derivative_values\n",
    "# coeff_der = solve(matrix,vector)\n",
    "\n",
    "# matrix = K_MM + K_MN@S_small@K_MN.T\n",
    "# vector = K_MN@S_small@data_values\n",
    "# # vector = K_MN@data_values\n",
    "# coeff_val = solve(matrix,vector)\n",
    "\n",
    "# pred_mix = [coeff_mix@RBF(x,referencegrid) for x in grid]\n",
    "# pred_der = [coeff_der@RBF(x,referencegrid) for x in grid]\n",
    "# pred_val = [coeff_val@RBF(x,referencegrid) for x in grid]"
   ]
  },
  {
   "cell_type": "code",
   "execution_count": 127,
   "metadata": {},
   "outputs": [],
   "source": [
    "# f, ax = plt.subplots(1,3,figsize=(15, 5))\n",
    "# for i in range(3):\n",
    "#     ax[i].plot(grid,func(grid),\"k--\",label=\"true\")\n",
    "#     ax[i].vlines(referencegrid,0,1,ls=\"--\",colors=\"grey\",lw=0.5,transform=ax[i].get_xaxis_transform(),label=\"ref grid\")\n",
    "#     ax[i].grid()\n",
    "#     ax[i].scatter(datagrid,data_values,c=\"r\")\n",
    "# ax[0].plot(grid,pred_mix,c=\"b\",label=\"mixed\")\n",
    "# ax[1].plot(grid,pred_der,c=\"b\",label=\"derivatives\")\n",
    "# ax[2].plot(grid,pred_val,c=\"b\",label=\"func_evals\")\n",
    "# ax[0].set_title(\"derivatives + function evals\")\n",
    "# ax[1].set_title(\"derivatives\")\n",
    "# ax[2].set_title(\"function evals\")"
   ]
  },
  {
   "cell_type": "markdown",
   "metadata": {},
   "source": [
    "## Full GPR for 1 function value and N derivative values"
   ]
  },
  {
   "cell_type": "code",
   "execution_count": 128,
   "metadata": {},
   "outputs": [],
   "source": [
    "bounds = np.array([0.0, 2*np.pi])\n",
    "\n",
    "noise = 0.1\n",
    "\n",
    "length_scale = 1.0\n",
    "\n",
    "num_derivpoints = 9\n",
    "derivgrid = np.linspace(*bounds,num_derivpoints)\n",
    "derivative_values = grad_func(derivgrid,noise)\n",
    "num_datapoints = 2\n",
    "datagrid = np.linspace(*bounds,num_datapoints)\n",
    "data_values = func(datagrid,noise)\n",
    "\n",
    "fullgrid = np.zeros(num_datapoints+num_derivpoints)\n",
    "full_values = np.zeros(num_datapoints+num_derivpoints)\n",
    "fullgrid[:num_datapoints] = datagrid\n",
    "fullgrid[num_datapoints:] = derivgrid\n",
    "full_values[:num_datapoints] = data_values\n",
    "full_values[num_datapoints:] = derivative_values\n",
    "\n",
    "num_gridpoints = 101\n",
    "grid = np.linspace(*bounds,num_gridpoints)"
   ]
  },
  {
   "cell_type": "code",
   "execution_count": 129,
   "metadata": {},
   "outputs": [
    {
     "name": "stdout",
     "output_type": "stream",
     "text": [
      "[0.         6.28318531 0.         0.78539816 1.57079633 2.35619449\n",
      " 3.14159265 3.92699082 4.71238898 5.49778714 6.28318531]\n"
     ]
    }
   ],
   "source": [
    "print(fullgrid)"
   ]
  },
  {
   "cell_type": "code",
   "execution_count": 130,
   "metadata": {},
   "outputs": [],
   "source": [
    "KV = covMatrix(fullgrid[:num_datapoints],fullgrid[:num_datapoints],length_scale=length_scale)\n",
    "KD = ddcovMatrix(fullgrid[num_datapoints:],fullgrid[num_datapoints:],length_scale=length_scale)\n",
    "KM = dcovMatrix(fullgrid[:num_datapoints],fullgrid[num_datapoints:],length_scale=length_scale)\n",
    "\n",
    "K_NN = np.zeros((num_datapoints+num_derivpoints,)*2)\n",
    "K_NN[:num_datapoints,:num_datapoints] = KV\n",
    "K_NN[num_datapoints:,num_datapoints:] = KD\n",
    "K_NN[:num_datapoints,num_datapoints:] = KM\n",
    "K_NN[num_datapoints:,:num_datapoints] = KM.T"
   ]
  },
  {
   "cell_type": "code",
   "execution_count": 131,
   "metadata": {},
   "outputs": [],
   "source": [
    "invert_mat = K_NN + np.eye(num_datapoints+num_derivpoints)*noise**2\n",
    "pred_coeff = solve(invert_mat,full_values)\n",
    "\n",
    "prediction = np.zeros_like(grid)\n",
    "vars = np.zeros_like(grid)\n",
    "\n",
    "K_M = []\n",
    "\n",
    "k_vec = np.zeros(num_datapoints+num_derivpoints)\n",
    "\n",
    "for i,x in enumerate(grid):\n",
    "    k_vec[:num_datapoints] = RBF(datagrid,x)\n",
    "    k_vec[num_datapoints:] = dRBF(derivgrid,x)\n",
    "\n",
    "    K_M.append(k_vec)\n",
    "\n",
    "    prediction[i] = pred_coeff@k_vec\n",
    "    vars[i] = RBF(x,x) + noise**2 - k_vec@solve(invert_mat,k_vec)"
   ]
  },
  {
   "cell_type": "code",
   "execution_count": 132,
   "metadata": {},
   "outputs": [
    {
     "name": "stdout",
     "output_type": "stream",
     "text": [
      "[ 2.67528799e-09  1.00000000e+00  1.68093302e-08  1.50234090e-06\n",
      "  7.09801741e-05  1.75944827e-03  2.25939679e-02  1.46786163e-01\n",
      "  4.57436206e-01  5.76955803e-01 -0.00000000e+00]\n"
     ]
    }
   ],
   "source": [
    "K_M = np.array(K_M)\n",
    "print(K_M[0])"
   ]
  },
  {
   "cell_type": "markdown",
   "metadata": {},
   "source": [
    "derivgrid must be in first position since the measured values are those from derivatives and dRBF was defined as the derivative w.r. to the first argument!!!"
   ]
  },
  {
   "cell_type": "code",
   "execution_count": 133,
   "metadata": {},
   "outputs": [],
   "source": [
    "def slope(x,xref,yref,grad):\n",
    "    return grad*(x-xref) + yref"
   ]
  },
  {
   "cell_type": "code",
   "execution_count": 134,
   "metadata": {},
   "outputs": [
    {
     "data": {
      "text/plain": [
       "<matplotlib.legend.Legend at 0x7faee00f5190>"
      ]
     },
     "execution_count": 134,
     "metadata": {},
     "output_type": "execute_result"
    },
    {
     "data": {
      "image/png": "[encoded data removed]",
      "text/plain": [
       "<Figure size 640x480 with 1 Axes>"
      ]
     },
     "metadata": {},
     "output_type": "display_data"
    }
   ],
   "source": [
    "stds = np.sqrt(vars)\n",
    "\n",
    "plt.plot(grid,prediction,\"b\",label=\"prediction\")\n",
    "plt.fill_between(grid,prediction-2*stds,prediction+2*stds,alpha=0.5,color=\"b\",label=\"95% conf\")\n",
    "plt.scatter(datagrid,data_values,color=\"r\")\n",
    "for xref in derivgrid:\n",
    "    slope_range = np.linspace(xref-0.2,xref+0.2,5)\n",
    "    plt.plot(slope_range,slope(slope_range,xref,func(xref),grad_func(xref)),\"r\")\n",
    "    plt.scatter(xref,func(xref),s=80,facecolors=\"none\",edgecolors=\"r\")\n",
    "plt.plot(grid,func(grid),\"r--\",label=\"true func\")\n",
    "plt.grid()\n",
    "plt.legend()"
   ]
  },
  {
   "attachments": {},
   "cell_type": "markdown",
   "metadata": {},
   "source": [
    "## Tests on deprecated 1D code"
   ]
  },
  {
   "cell_type": "code",
   "execution_count": 135,
   "metadata": {},
   "outputs": [],
   "source": [
    "# model = gpr.sparseGPR(kernel,num_datapoints,num_derivpoints,referencegrid,sparse_method=\"ppa\",noise_var=noise**2)\n",
    "# model.fit(X_data,Y_data)\n",
    "# (means_ppa, stds_ppa) = model.predict(grid,True)\n",
    "\n",
    "# model = gpr.sparseGPR(kernel,num_datapoints,num_derivpoints,referencegrid,sparse_method=\"sor\",noise_var=noise**2)\n",
    "# model.fit(X_data,Y_data)\n",
    "# (means_sor, stds_sor) = model.predict(grid,True)\n",
    "\n",
    "# model = gpr.sparseGPR(gpr.RBF_1D(1.5),num_datapoints,num_derivpoints,referencegrid,sparse_method=\"ny\",noise_var=noise**2)\n",
    "# model.fit(X_data,Y_data)\n",
    "# (means_ny, stds_ny) = model.predict(grid,True)"
   ]
  },
  {
   "cell_type": "code",
   "execution_count": 136,
   "metadata": {},
   "outputs": [],
   "source": [
    "# plt.plot(grid,means_ppa,label=\"ppa\")\n",
    "# plt.fill_between(grid,means_ppa-stds_ppa,means_ppa+stds_ppa,alpha=0.5)\n",
    "# plt.plot(grid,means_sor,label=\"sor\")\n",
    "# plt.fill_between(grid,means_sor-stds_sor,means_sor+stds_sor,alpha=0.5)\n",
    "# plt.plot(grid,means_ny,label=\"ny\")\n",
    "# plt.fill_between(grid,means_ny-stds_ny,means_ny+stds_ny,alpha=0.5)\n",
    "# plt.plot(grid,func(grid),color=\"grey\",ls=\"--\",label=\"sin(x)\")\n",
    "# plt.scatter(datagrid,data_values,color=\"r\",label=\"function values\")\n",
    "# plt.grid()\n",
    "# plt.legend()"
   ]
  }
 ],
 "metadata": {
  "kernelspec": {
   "display_name": "gpr",
   "language": "python",
   "name": "python3"
  },
  "language_info": {
   "codemirror_mode": {
    "name": "ipython",
    "version": 3
   },
   "file_extension": ".py",
   "mimetype": "text/x-python",
   "name": "python",
   "nbconvert_exporter": "python",
   "pygments_lexer": "ipython3",
   "version": "3.9.16"
  },
  "orig_nbformat": 4
 },
 "nbformat": 4,
 "nbformat_minor": 2
}
